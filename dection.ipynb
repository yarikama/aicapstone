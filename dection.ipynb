{
 "cells": [
  {
   "cell_type": "code",
   "execution_count": 4,
   "id": "c9e5d352",
   "metadata": {},
   "outputs": [],
   "source": [
    "import mediapipe as mp\n",
    "import torch\n",
    "import numpy as np\n",
    "import cv2\n",
    "import math\n",
    "import matplotlib.pyplot as plt\n",
    "import os\n",
    "from time import time\n",
    "from tqdm import tqdm"
   ]
  },
  {
   "cell_type": "code",
   "execution_count": 5,
   "id": "f233655a",
   "metadata": {},
   "outputs": [
    {
     "name": "stderr",
     "output_type": "stream",
     "text": [
      "/home/yarikama/anaconda3/envs/pytorch3.9/lib/python3.9/site-packages/torch/cuda/__init__.py:141: UserWarning: CUDA initialization: CUDA unknown error - this may be due to an incorrectly set up environment, e.g. changing env variable CUDA_VISIBLE_DEVICES after program start. Setting the available devices to be zero. (Triggered internally at /opt/conda/conda-bld/pytorch_1708025847094/work/c10/cuda/CUDAFunctions.cpp:108.)\n",
      "  return torch._C._cuda_getDeviceCount() > 0\n"
     ]
    }
   ],
   "source": [
    "device = torch.device(\"cuda\" if torch.cuda.is_available() else \"cpu\")"
   ]
  },
  {
   "cell_type": "code",
   "execution_count": 6,
   "id": "c5c112a2",
   "metadata": {},
   "outputs": [],
   "source": [
    "mp_pose = mp.solutions.pose\n",
    "mp_drawing = mp.solutions.drawing_utils"
   ]
  },
  {
   "cell_type": "code",
   "execution_count": 7,
   "id": "d0afd863",
   "metadata": {},
   "outputs": [
    {
     "name": "stdout",
     "output_type": "stream",
     "text": [
      "total 10860\n",
      "drwxrwxr-x 12 yarikama yarikama    4096 Mar 14 15:36 \u001b[0m\u001b[01;34m.\u001b[0m/\n",
      "drwxr-xr-x 14 yarikama yarikama    4096 Mar 14 13:46 \u001b[01;34m..\u001b[0m/\n",
      "drwxrwxr-x  2 yarikama yarikama    4096 Mar 14 09:44 \u001b[01;34mbenchpress_raw\u001b[0m/\n",
      "-rw-rw-r--  1 yarikama yarikama 5479376 Mar 14 01:06 best.80.h5\n",
      "-rw-rw-r--  1 yarikama yarikama 5495339 Mar 14 01:06 best_80.keras\n",
      "drwxrwxr-x  5 yarikama yarikama    4096 Mar 14 09:53 \u001b[01;34mdata100\u001b[0m/\n",
      "drwxrwxr-x  5 yarikama yarikama    4096 Mar 14 09:53 \u001b[01;34mdata120\u001b[0m/\n",
      "drwxrwxr-x  5 yarikama yarikama    4096 Mar 14 09:53 \u001b[01;34mdata150\u001b[0m/\n",
      "drwxrwxr-x  5 yarikama yarikama    4096 Mar 14 09:53 \u001b[01;34mdata70\u001b[0m/\n",
      "drwxrwxr-x  5 yarikama yarikama    4096 Mar 14 09:53 \u001b[01;34mdata_backup\u001b[0m/\n",
      "drwxrwxr-x  2 yarikama yarikama    4096 Mar 14 09:47 \u001b[01;34mdeadlift_raw\u001b[0m/\n",
      "-rw-rw-r--  1 yarikama yarikama   93292 Mar 13 14:35 dection.ipynb\n",
      "drwxrwxr-x  4 yarikama yarikama    4096 Mar 14 15:44 \u001b[01;34mlogs\u001b[0m/\n",
      "drwxrwxr-x  3 yarikama yarikama    4096 Mar 13 21:48 \u001b[01;34mLogs\u001b[0m/\n",
      "drwxrwxr-x  2 yarikama yarikama    4096 Mar 14 09:49 \u001b[01;34msquat_raw\u001b[0m/\n"
     ]
    },
    {
     "name": "stderr",
     "output_type": "stream",
     "text": [
      "/home/yarikama/anaconda3/envs/pytorch3.9/lib/python3.9/pty.py:85: RuntimeWarning: os.fork() was called. os.fork() is incompatible with multithreaded code, and JAX is multithreaded, so this will likely lead to a deadlock.\n",
      "  pid, fd = os.forkpty()\n"
     ]
    }
   ],
   "source": [
    "%ls -al"
   ]
  },
  {
   "cell_type": "code",
   "execution_count": 8,
   "id": "8c980d74",
   "metadata": {},
   "outputs": [],
   "source": [
    "# Deadlift 0, Squat 1, BenchPress 2\n",
    "labels = ['deadlift', 'squat', 'benchpress']\n",
    "LABEL_DICT = {labels[i]: i for i in range(len(labels))}"
   ]
  },
  {
   "cell_type": "markdown",
   "id": "8273a3e5",
   "metadata": {},
   "source": [
    "# 將每個影片處理成資料集 (角度、人體關鍵點)"
   ]
  },
  {
   "cell_type": "markdown",
   "id": "39cc04be",
   "metadata": {},
   "source": [
    "## 三維角度計算"
   ]
  },
  {
   "cell_type": "code",
   "execution_count": 9,
   "id": "8e53ea37",
   "metadata": {},
   "outputs": [],
   "source": [
    "def calculateAngle(landmark1, landmark2, landmark3):\n",
    "    x1, y1, z1 = landmark1.x, landmark1.y, landmark1.z\n",
    "    x2, y2, z2 = landmark2.x, landmark2.y, landmark2.z\n",
    "    x3, y3, z3 = landmark3.x, landmark3.y, landmark3.z\n",
    "\n",
    "    # 計算兩個邊向量\n",
    "    vec1 = [x1 - x2, y1 - y2, z1 - z2]\n",
    "    vec2 = [x3 - x2, y3 - y2, z3 - z2]\n",
    "\n",
    "    # 計算向量長度\n",
    "    length1 = math.sqrt(vec1[0]**2 + vec1[1]**2 + vec1[2]**2)\n",
    "    length2 = math.sqrt(vec2[0]**2 + vec2[1]**2 + vec2[2]**2)\n",
    "\n",
    "    # 計算點乘\n",
    "    dotProduct = vec1[0]*vec2[0] + vec1[1]*vec2[1] + vec1[2]*vec2[2]\n",
    "\n",
    "    # 計算夾角(弧度制)\n",
    "    angleRad = math.acos(dotProduct / (length1 * length2))\n",
    "\n",
    "    # 將弧度制轉換為角度制\n",
    "    angleDegree = math.degrees(angleRad)\n",
    "\n",
    "    if angleDegree < 0:\n",
    "        angleDegree += 360\n",
    "\n",
    "    return angleDegree"
   ]
  },
  {
   "cell_type": "markdown",
   "id": "599595a0",
   "metadata": {},
   "source": [
    "## 人體大關節角度（非監督模型用）"
   ]
  },
  {
   "cell_type": "code",
   "execution_count": 10,
   "id": "acf9c61c",
   "metadata": {},
   "outputs": [],
   "source": [
    "def getPostureAngles(landmarks):    \n",
    "\n",
    "    left_elbow_angle = calculateAngle(landmarks[mp_pose.PoseLandmark.LEFT_SHOULDER.value],\n",
    "                                      landmarks[mp_pose.PoseLandmark.LEFT_ELBOW.value],\n",
    "                                      landmarks[mp_pose.PoseLandmark.LEFT_WRIST.value])\n",
    "    \n",
    "    right_elbow_angle = calculateAngle(landmarks[mp_pose.PoseLandmark.RIGHT_SHOULDER.value],\n",
    "                                       landmarks[mp_pose.PoseLandmark.RIGHT_ELBOW.value],\n",
    "                                       landmarks[mp_pose.PoseLandmark.RIGHT_WRIST.value])   \n",
    "    \n",
    "    left_shoulder_angle = calculateAngle(landmarks[mp_pose.PoseLandmark.LEFT_ELBOW.value],\n",
    "                                         landmarks[mp_pose.PoseLandmark.LEFT_SHOULDER.value],\n",
    "                                         landmarks[mp_pose.PoseLandmark.LEFT_HIP.value])\n",
    "\n",
    "    right_shoulder_angle = calculateAngle(landmarks[mp_pose.PoseLandmark.RIGHT_HIP.value],\n",
    "                                          landmarks[mp_pose.PoseLandmark.RIGHT_SHOULDER.value],\n",
    "                                          landmarks[mp_pose.PoseLandmark.RIGHT_ELBOW.value])\n",
    "\n",
    "    left_knee_angle = calculateAngle(landmarks[mp_pose.PoseLandmark.LEFT_HIP.value],\n",
    "                                     landmarks[mp_pose.PoseLandmark.LEFT_KNEE.value],\n",
    "                                     landmarks[mp_pose.PoseLandmark.LEFT_ANKLE.value])\n",
    "\n",
    "    right_knee_angle = calculateAngle(landmarks[mp_pose.PoseLandmark.RIGHT_HIP.value],\n",
    "                                      landmarks[mp_pose.PoseLandmark.RIGHT_KNEE.value],\n",
    "                                      landmarks[mp_pose.PoseLandmark.RIGHT_ANKLE.value])\n",
    "    \n",
    "    angles = np.array([left_elbow_angle, right_elbow_angle, left_shoulder_angle, right_shoulder_angle, left_knee_angle, right_knee_angle])    \n",
    "    \n",
    "    return angles"
   ]
  },
  {
   "cell_type": "markdown",
   "id": "d7dea2cc",
   "metadata": {},
   "source": [
    "## 對每一個影片拆分成frame 100的片段，在進行姿勢辨識"
   ]
  },
  {
   "cell_type": "code",
   "execution_count": 11,
   "id": "9af8191d",
   "metadata": {},
   "outputs": [],
   "source": [
    "def constructDatasetFromVideo(video, pose, label, dataPath, videoIndex, sliceLength=100):\n",
    "    \n",
    "    # 讀取影片\n",
    "    cap = cv2.VideoCapture(video)\n",
    "    \n",
    "    # 取得影片的總幀數，加快處理速度\n",
    "    totalFrameNumber = int(cap.get(cv2.CAP_PROP_FRAME_COUNT))\n",
    "    \n",
    "    # 32 個 （x, y, z）和 1 個 label\n",
    "    print(f\"video: {video} label: {label} total frame number: {totalFrameNumber}\")\n",
    "\n",
    "    # 將影片分割成多個片段\n",
    "    sliceVideoFrame = list(range(sliceLength, totalFrameNumber, sliceLength))\n",
    "    \n",
    "    # 對片段中的每張frame進行處理\n",
    "    for sliceIndex in range(len(sliceVideoFrame)):\n",
    "         \n",
    "        # 一個片段有 sliceLength 張frame\n",
    "        video_data_points = np.zeros((sliceLength, 33 * 4))\n",
    "        video_data_angles = np.zeros((sliceLength, 6))\n",
    "        \n",
    "        # 對每個frame進行處理\n",
    "        for frameNumber in tqdm(range(sliceLength), desc=f\"video {videoIndex} slice {sliceIndex}\"):\n",
    "            \n",
    "            ret, frame = cap.read()\n",
    "            \n",
    "            if not ret:\n",
    "                break\n",
    "            \n",
    "            # 跳過某些前面暖身的片段\n",
    "            if sliceIndex == 0:\n",
    "                continue\n",
    "            \n",
    "            frameResults = pose.process(cv2.cvtColor(frame, cv2.COLOR_BGR2RGB))\n",
    "\n",
    "            # 紀錄每個frame的pose\n",
    "            if frameResults.pose_landmarks:\n",
    "                video_data_angles[frameNumber] = getPostureAngles(frameResults.pose_landmarks.landmark)\n",
    "                for i in range(33):\n",
    "                    poseValue = frameResults.pose_landmarks.landmark[mp_pose.PoseLandmark(i).value]\n",
    "                    video_data_points[frameNumber][i * 3] = poseValue.x\n",
    "                    video_data_points[frameNumber][i * 3 + 1] = poseValue.y\n",
    "                    video_data_points[frameNumber][i * 3 + 2] = poseValue.z\n",
    "                    video_data_points[frameNumber][i * 3 + 3] = poseValue.visibility\n",
    "            \n",
    "        # 跳過某些前面暖身的片段\n",
    "        if sliceIndex == 0:\n",
    "            continue\n",
    "        # 將每個片段的資料存入檔案\n",
    "        else:\n",
    "            np.save(f\"{dataPath}/{label}/points/{videoIndex}_{sliceIndex}_points.npy\", video_data_points)\n",
    "            np.save(f\"{dataPath}/{label}/angles/{videoIndex}_{sliceIndex}_angles.npy\", video_data_angles)\n",
    "\n",
    "    cap.release()"
   ]
  },
  {
   "cell_type": "markdown",
   "id": "6d2616b5",
   "metadata": {},
   "source": [
    "# 創立資料夾"
   ]
  },
  {
   "cell_type": "code",
   "execution_count": 12,
   "id": "ebac2081",
   "metadata": {},
   "outputs": [],
   "source": [
    "sliceL = [70, 100, 120, 150]\n",
    "\n",
    "for i in sliceL:\n",
    "    dataPath = \"data\" + str(i)\n",
    "\n",
    "    if not os.path.exists(dataPath):\n",
    "        os.makedirs(dataPath)\n",
    "        \n",
    "    for label in labels:\n",
    "        if not os.path.exists(f\"{dataPath}/{label}\"):\n",
    "            os.makedirs(f\"{dataPath}/{label}\")\n",
    "            os.makedirs(f\"{dataPath}/{label}/points\")\n",
    "            os.makedirs(f\"{dataPath}/{label}/angles\")"
   ]
  },
  {
   "cell_type": "code",
   "execution_count": 13,
   "id": "66c04b3b",
   "metadata": {},
   "outputs": [
    {
     "name": "stdout",
     "output_type": "stream",
     "text": [
      "data70\n",
      "data100\n",
      "data120\n",
      "data150\n"
     ]
    }
   ],
   "source": [
    "sliceL = [70, 100, 120, 150]\n",
    "\n",
    "for i in sliceL:\n",
    "    dataPath = \"data\" + str(i)\n",
    "    print(dataPath)"
   ]
  },
  {
   "cell_type": "markdown",
   "id": "4fc2fb0b",
   "metadata": {},
   "source": [
    "# 處理每個影片並歸類"
   ]
  },
  {
   "cell_type": "code",
   "execution_count": 424,
   "id": "c9809bd4",
   "metadata": {},
   "outputs": [
    {
     "name": "stderr",
     "output_type": "stream",
     "text": [
      "I0000 00:00:1710381262.084410  900098 gl_context_egl.cc:85] Successfully initialized EGL. Major : 1 Minor: 5\n",
      "I0000 00:00:1710381262.346450 1461868 gl_context.cc:357] GL version: 3.2 (OpenGL ES 3.2 NVIDIA 525.147.05), renderer: NVIDIA GeForce RTX 3060/PCIe/SSE2\n"
     ]
    },
    {
     "name": "stdout",
     "output_type": "stream",
     "text": [
      "video: deadlift_raw/180 KG Deadlift 10 Reps by a 15 year old.mp4 label: deadlift total frame number: 1268\n"
     ]
    },
    {
     "name": "stderr",
     "output_type": "stream",
     "text": [
      "video 0 slice 0: 100%|██████████| 70/70 [00:00<00:00, 130.53it/s]\n",
      "video 0 slice 1: 100%|██████████| 70/70 [00:03<00:00, 19.02it/s]\n",
      "video 0 slice 2: 100%|██████████| 70/70 [00:03<00:00, 20.95it/s]\n",
      "video 0 slice 3: 100%|██████████| 70/70 [00:03<00:00, 21.03it/s]\n",
      "video 0 slice 4: 100%|██████████| 70/70 [00:03<00:00, 20.80it/s]\n",
      "video 0 slice 5: 100%|██████████| 70/70 [00:03<00:00, 21.47it/s]\n",
      "video 0 slice 6: 100%|██████████| 70/70 [00:03<00:00, 21.10it/s]\n",
      "video 0 slice 7: 100%|██████████| 70/70 [00:03<00:00, 21.40it/s]\n",
      "video 0 slice 8: 100%|██████████| 70/70 [00:03<00:00, 21.45it/s]\n",
      "video 0 slice 9: 100%|██████████| 70/70 [00:03<00:00, 21.49it/s]\n",
      "video 0 slice 10: 100%|██████████| 70/70 [00:03<00:00, 21.43it/s]\n",
      "video 0 slice 11: 100%|██████████| 70/70 [00:03<00:00, 21.60it/s]\n",
      "video 0 slice 12: 100%|██████████| 70/70 [00:03<00:00, 21.46it/s]\n",
      "video 0 slice 13: 100%|██████████| 70/70 [00:03<00:00, 21.28it/s]\n",
      "video 0 slice 14: 100%|██████████| 70/70 [00:03<00:00, 21.27it/s]\n",
      "video 0 slice 15: 100%|██████████| 70/70 [00:03<00:00, 21.55it/s]\n",
      "video 0 slice 16: 100%|██████████| 70/70 [00:03<00:00, 21.42it/s]\n",
      "video 0 slice 17: 100%|██████████| 70/70 [00:03<00:00, 21.56it/s]\n"
     ]
    },
    {
     "name": "stdout",
     "output_type": "stream",
     "text": [
      "video: deadlift_raw/180 KG Deadlift 10 Reps by a 15 year old.mp4 label: deadlift total frame number: 1268\n"
     ]
    },
    {
     "name": "stderr",
     "output_type": "stream",
     "text": [
      "video 0 slice 0: 100%|██████████| 100/100 [00:00<00:00, 218.04it/s]\n",
      "video 0 slice 1: 100%|██████████| 100/100 [00:04<00:00, 21.50it/s]\n",
      "video 0 slice 2: 100%|██████████| 100/100 [00:04<00:00, 21.54it/s]\n",
      "video 0 slice 3: 100%|██████████| 100/100 [00:04<00:00, 21.39it/s]\n",
      "video 0 slice 4: 100%|██████████| 100/100 [00:04<00:00, 21.54it/s]\n",
      "video 0 slice 5: 100%|██████████| 100/100 [00:04<00:00, 21.45it/s]\n",
      "video 0 slice 6: 100%|██████████| 100/100 [00:04<00:00, 21.35it/s]\n",
      "video 0 slice 7: 100%|██████████| 100/100 [00:04<00:00, 21.37it/s]\n",
      "video 0 slice 8: 100%|██████████| 100/100 [00:04<00:00, 21.36it/s]\n",
      "video 0 slice 9: 100%|██████████| 100/100 [00:04<00:00, 21.26it/s]\n",
      "video 0 slice 10: 100%|██████████| 100/100 [00:04<00:00, 21.57it/s]\n",
      "video 0 slice 11: 100%|██████████| 100/100 [00:04<00:00, 21.52it/s]\n"
     ]
    },
    {
     "name": "stdout",
     "output_type": "stream",
     "text": [
      "video: deadlift_raw/180 KG Deadlift 10 Reps by a 15 year old.mp4 label: deadlift total frame number: 1268\n"
     ]
    },
    {
     "name": "stderr",
     "output_type": "stream",
     "text": [
      "video 0 slice 0: 100%|██████████| 120/120 [00:00<00:00, 206.36it/s]\n",
      "video 0 slice 1: 100%|██████████| 120/120 [00:05<00:00, 21.52it/s]\n",
      "video 0 slice 2: 100%|██████████| 120/120 [00:05<00:00, 21.56it/s]\n",
      "video 0 slice 3: 100%|██████████| 120/120 [00:05<00:00, 21.30it/s]\n",
      "video 0 slice 4: 100%|██████████| 120/120 [00:05<00:00, 21.23it/s]\n",
      "video 0 slice 5: 100%|██████████| 120/120 [00:05<00:00, 21.28it/s]\n",
      "video 0 slice 6: 100%|██████████| 120/120 [00:05<00:00, 21.44it/s]\n",
      "video 0 slice 7: 100%|██████████| 120/120 [00:05<00:00, 21.48it/s]\n",
      "video 0 slice 8: 100%|██████████| 120/120 [00:05<00:00, 21.42it/s]\n",
      "video 0 slice 9: 100%|██████████| 120/120 [00:05<00:00, 21.56it/s]\n"
     ]
    },
    {
     "name": "stdout",
     "output_type": "stream",
     "text": [
      "video: deadlift_raw/180 KG Deadlift 10 Reps by a 15 year old.mp4 label: deadlift total frame number: 1268\n"
     ]
    },
    {
     "name": "stderr",
     "output_type": "stream",
     "text": [
      "video 0 slice 0: 100%|██████████| 150/150 [00:00<00:00, 249.59it/s]\n",
      "video 0 slice 1: 100%|██████████| 150/150 [00:06<00:00, 21.59it/s]\n",
      "video 0 slice 2: 100%|██████████| 150/150 [00:06<00:00, 21.54it/s]\n",
      "video 0 slice 3: 100%|██████████| 150/150 [00:06<00:00, 21.50it/s]\n",
      "video 0 slice 4: 100%|██████████| 150/150 [00:07<00:00, 21.41it/s]\n",
      "video 0 slice 5: 100%|██████████| 150/150 [00:06<00:00, 21.57it/s]\n",
      "video 0 slice 6: 100%|██████████| 150/150 [00:06<00:00, 21.62it/s]\n",
      "video 0 slice 7: 100%|██████████| 150/150 [00:07<00:00, 21.33it/s]\n"
     ]
    },
    {
     "name": "stdout",
     "output_type": "stream",
     "text": [
      "video: deadlift_raw/Bradley Martyn _ 405lb deadlift for 20 _ RAW.mp4 label: deadlift total frame number: 1697\n"
     ]
    },
    {
     "name": "stderr",
     "output_type": "stream",
     "text": [
      "video 1 slice 0: 100%|██████████| 70/70 [00:00<00:00, 114.62it/s]\n",
      "video 1 slice 1: 100%|██████████| 70/70 [00:03<00:00, 21.60it/s]\n",
      "video 1 slice 2: 100%|██████████| 70/70 [00:03<00:00, 21.68it/s]\n",
      "video 1 slice 3: 100%|██████████| 70/70 [00:03<00:00, 21.56it/s]\n",
      "video 1 slice 4: 100%|██████████| 70/70 [00:03<00:00, 21.60it/s]\n",
      "video 1 slice 5: 100%|██████████| 70/70 [00:03<00:00, 21.64it/s]\n",
      "video 1 slice 6: 100%|██████████| 70/70 [00:03<00:00, 21.64it/s]\n",
      "video 1 slice 7: 100%|██████████| 70/70 [00:03<00:00, 21.62it/s]\n",
      "video 1 slice 8: 100%|██████████| 70/70 [00:03<00:00, 21.41it/s]\n",
      "video 1 slice 9: 100%|██████████| 70/70 [00:03<00:00, 21.62it/s]\n",
      "video 1 slice 10: 100%|██████████| 70/70 [00:03<00:00, 21.64it/s]\n",
      "video 1 slice 11: 100%|██████████| 70/70 [00:03<00:00, 21.52it/s]\n",
      "video 1 slice 12: 100%|██████████| 70/70 [00:03<00:00, 21.60it/s]\n",
      "video 1 slice 13: 100%|██████████| 70/70 [00:03<00:00, 21.63it/s]\n",
      "video 1 slice 14: 100%|██████████| 70/70 [00:03<00:00, 21.61it/s]\n",
      "video 1 slice 15: 100%|██████████| 70/70 [00:03<00:00, 21.59it/s]\n",
      "video 1 slice 16: 100%|██████████| 70/70 [00:03<00:00, 21.18it/s]\n",
      "video 1 slice 17: 100%|██████████| 70/70 [00:03<00:00, 21.49it/s]\n",
      "video 1 slice 18: 100%|██████████| 70/70 [00:03<00:00, 21.64it/s]\n",
      "video 1 slice 19: 100%|██████████| 70/70 [00:03<00:00, 21.62it/s]\n",
      "video 1 slice 20: 100%|██████████| 70/70 [00:03<00:00, 21.56it/s]\n",
      "video 1 slice 21: 100%|██████████| 70/70 [00:03<00:00, 21.56it/s]\n",
      "video 1 slice 22: 100%|██████████| 70/70 [00:03<00:00, 21.52it/s]\n",
      "video 1 slice 23: 100%|██████████| 70/70 [00:03<00:00, 21.56it/s]\n"
     ]
    },
    {
     "name": "stdout",
     "output_type": "stream",
     "text": [
      "video: deadlift_raw/Bradley Martyn _ 405lb deadlift for 20 _ RAW.mp4 label: deadlift total frame number: 1697\n"
     ]
    },
    {
     "name": "stderr",
     "output_type": "stream",
     "text": [
      "video 1 slice 0: 100%|██████████| 100/100 [00:00<00:00, 175.57it/s]\n",
      "video 1 slice 1: 100%|██████████| 100/100 [00:04<00:00, 21.63it/s]\n",
      "video 1 slice 2: 100%|██████████| 100/100 [00:04<00:00, 21.40it/s]\n",
      "video 1 slice 3: 100%|██████████| 100/100 [00:04<00:00, 21.65it/s]\n",
      "video 1 slice 4: 100%|██████████| 100/100 [00:04<00:00, 21.74it/s]\n",
      "video 1 slice 5: 100%|██████████| 100/100 [00:04<00:00, 21.65it/s]\n",
      "video 1 slice 6: 100%|██████████| 100/100 [00:04<00:00, 21.65it/s]\n",
      "video 1 slice 7: 100%|██████████| 100/100 [00:04<00:00, 21.70it/s]\n",
      "video 1 slice 8: 100%|██████████| 100/100 [00:04<00:00, 21.59it/s]\n",
      "video 1 slice 9: 100%|██████████| 100/100 [00:04<00:00, 21.44it/s]\n",
      "video 1 slice 10: 100%|██████████| 100/100 [00:04<00:00, 21.60it/s]\n",
      "video 1 slice 11: 100%|██████████| 100/100 [00:04<00:00, 21.59it/s]\n",
      "video 1 slice 12: 100%|██████████| 100/100 [00:04<00:00, 21.59it/s]\n",
      "video 1 slice 13: 100%|██████████| 100/100 [00:04<00:00, 21.67it/s]\n",
      "video 1 slice 14: 100%|██████████| 100/100 [00:04<00:00, 21.61it/s]\n",
      "video 1 slice 15: 100%|██████████| 100/100 [00:04<00:00, 21.49it/s]\n"
     ]
    },
    {
     "name": "stdout",
     "output_type": "stream",
     "text": [
      "video: deadlift_raw/Bradley Martyn _ 405lb deadlift for 20 _ RAW.mp4 label: deadlift total frame number: 1697\n"
     ]
    },
    {
     "name": "stderr",
     "output_type": "stream",
     "text": [
      "video 1 slice 0: 100%|██████████| 120/120 [00:00<00:00, 130.94it/s]\n",
      "video 1 slice 1: 100%|██████████| 120/120 [00:05<00:00, 21.62it/s]\n",
      "video 1 slice 2: 100%|██████████| 120/120 [00:05<00:00, 21.66it/s]\n",
      "video 1 slice 3: 100%|██████████| 120/120 [00:05<00:00, 21.63it/s]\n",
      "video 1 slice 4: 100%|██████████| 120/120 [00:05<00:00, 21.47it/s]\n",
      "video 1 slice 5: 100%|██████████| 120/120 [00:05<00:00, 21.00it/s]\n",
      "video 1 slice 6: 100%|██████████| 120/120 [00:05<00:00, 21.46it/s]\n",
      "video 1 slice 7: 100%|██████████| 120/120 [00:05<00:00, 21.63it/s]\n",
      "video 1 slice 8: 100%|██████████| 120/120 [00:05<00:00, 21.62it/s]\n",
      "video 1 slice 9: 100%|██████████| 120/120 [00:05<00:00, 21.67it/s]\n",
      "video 1 slice 10: 100%|██████████| 120/120 [00:05<00:00, 21.47it/s]\n",
      "video 1 slice 11: 100%|██████████| 120/120 [00:05<00:00, 21.63it/s]\n",
      "video 1 slice 12: 100%|██████████| 120/120 [00:05<00:00, 21.65it/s]\n",
      "video 1 slice 13: 100%|██████████| 120/120 [00:05<00:00, 21.60it/s]\n"
     ]
    },
    {
     "name": "stdout",
     "output_type": "stream",
     "text": [
      "video: deadlift_raw/Bradley Martyn _ 405lb deadlift for 20 _ RAW.mp4 label: deadlift total frame number: 1697\n"
     ]
    },
    {
     "name": "stderr",
     "output_type": "stream",
     "text": [
      "video 1 slice 0: 100%|██████████| 150/150 [00:00<00:00, 272.63it/s]\n",
      "video 1 slice 1: 100%|██████████| 150/150 [00:07<00:00, 21.39it/s]\n",
      "video 1 slice 2: 100%|██████████| 150/150 [00:06<00:00, 21.71it/s]\n",
      "video 1 slice 3: 100%|██████████| 150/150 [00:06<00:00, 21.63it/s]\n",
      "video 1 slice 4: 100%|██████████| 150/150 [00:06<00:00, 21.66it/s]\n",
      "video 1 slice 5: 100%|██████████| 150/150 [00:06<00:00, 21.70it/s]\n",
      "video 1 slice 6: 100%|██████████| 150/150 [00:06<00:00, 21.55it/s]\n",
      "video 1 slice 7: 100%|██████████| 150/150 [00:06<00:00, 21.71it/s]\n",
      "video 1 slice 8: 100%|██████████| 150/150 [00:06<00:00, 21.61it/s]\n",
      "video 1 slice 9: 100%|██████████| 150/150 [00:06<00:00, 21.67it/s]\n",
      "video 1 slice 10: 100%|██████████| 150/150 [00:06<00:00, 21.58it/s]\n"
     ]
    },
    {
     "name": "stdout",
     "output_type": "stream",
     "text": [
      "video: deadlift_raw/Deadlift 150 kg.mp4 label: deadlift total frame number: 290\n"
     ]
    },
    {
     "name": "stderr",
     "output_type": "stream",
     "text": [
      "video 2 slice 0: 100%|██████████| 70/70 [00:00<00:00, 766.35it/s]\n",
      "video 2 slice 1: 100%|██████████| 70/70 [00:03<00:00, 21.48it/s]\n",
      "video 2 slice 2: 100%|██████████| 70/70 [00:03<00:00, 21.57it/s]\n",
      "video 2 slice 3: 100%|██████████| 70/70 [00:03<00:00, 21.62it/s]\n"
     ]
    },
    {
     "name": "stdout",
     "output_type": "stream",
     "text": [
      "video: deadlift_raw/Deadlift 150 kg.mp4 label: deadlift total frame number: 290\n"
     ]
    },
    {
     "name": "stderr",
     "output_type": "stream",
     "text": [
      "video 2 slice 0: 100%|██████████| 100/100 [00:00<00:00, 912.82it/s]\n",
      "video 2 slice 1: 100%|██████████| 100/100 [00:04<00:00, 21.60it/s]\n"
     ]
    },
    {
     "name": "stdout",
     "output_type": "stream",
     "text": [
      "video: deadlift_raw/Deadlift 150 kg.mp4 label: deadlift total frame number: 290\n"
     ]
    },
    {
     "name": "stderr",
     "output_type": "stream",
     "text": [
      "video 2 slice 0: 100%|██████████| 120/120 [00:00<00:00, 914.46it/s]\n",
      "video 2 slice 1: 100%|██████████| 120/120 [00:05<00:00, 21.49it/s]\n"
     ]
    },
    {
     "name": "stdout",
     "output_type": "stream",
     "text": [
      "video: deadlift_raw/Deadlift 150 kg.mp4 label: deadlift total frame number: 290\n"
     ]
    },
    {
     "name": "stderr",
     "output_type": "stream",
     "text": [
      "video 2 slice 0: 100%|██████████| 150/150 [00:00<00:00, 1042.78it/s]\n"
     ]
    },
    {
     "name": "stdout",
     "output_type": "stream",
     "text": [
      "video: deadlift_raw/Deadlift 250kg 551 lbs for 10 Reps 30_10_20.mp4 label: deadlift total frame number: 1136\n"
     ]
    },
    {
     "name": "stderr",
     "output_type": "stream",
     "text": [
      "video 3 slice 0: 100%|██████████| 70/70 [00:00<00:00, 511.46it/s]\n",
      "video 3 slice 1: 100%|██████████| 70/70 [00:03<00:00, 21.86it/s]\n",
      "video 3 slice 2: 100%|██████████| 70/70 [00:03<00:00, 21.97it/s]\n",
      "video 3 slice 3: 100%|██████████| 70/70 [00:03<00:00, 22.04it/s]\n",
      "video 3 slice 4: 100%|██████████| 70/70 [00:03<00:00, 22.11it/s]\n",
      "video 3 slice 5: 100%|██████████| 70/70 [00:03<00:00, 22.13it/s]\n",
      "video 3 slice 6: 100%|██████████| 70/70 [00:03<00:00, 22.16it/s]\n",
      "video 3 slice 7: 100%|██████████| 70/70 [00:03<00:00, 21.89it/s]\n",
      "video 3 slice 8: 100%|██████████| 70/70 [00:03<00:00, 21.81it/s]\n",
      "video 3 slice 9: 100%|██████████| 70/70 [00:03<00:00, 22.11it/s]\n",
      "video 3 slice 10: 100%|██████████| 70/70 [00:03<00:00, 22.08it/s]\n",
      "video 3 slice 11: 100%|██████████| 70/70 [00:03<00:00, 22.08it/s]\n",
      "video 3 slice 12: 100%|██████████| 70/70 [00:03<00:00, 22.10it/s]\n",
      "video 3 slice 13: 100%|██████████| 70/70 [00:03<00:00, 22.06it/s]\n",
      "video 3 slice 14: 100%|██████████| 70/70 [00:03<00:00, 21.89it/s]\n",
      "video 3 slice 15: 100%|██████████| 70/70 [00:03<00:00, 22.12it/s]\n"
     ]
    },
    {
     "name": "stdout",
     "output_type": "stream",
     "text": [
      "video: deadlift_raw/Deadlift 250kg 551 lbs for 10 Reps 30_10_20.mp4 label: deadlift total frame number: 1136\n"
     ]
    },
    {
     "name": "stderr",
     "output_type": "stream",
     "text": [
      "video 3 slice 0: 100%|██████████| 100/100 [00:00<00:00, 758.40it/s]\n",
      "video 3 slice 1: 100%|██████████| 100/100 [00:04<00:00, 22.02it/s]\n",
      "video 3 slice 2: 100%|██████████| 100/100 [00:04<00:00, 22.07it/s]\n",
      "video 3 slice 3: 100%|██████████| 100/100 [00:04<00:00, 22.06it/s]\n",
      "video 3 slice 4: 100%|██████████| 100/100 [00:04<00:00, 22.04it/s]\n",
      "video 3 slice 5: 100%|██████████| 100/100 [00:04<00:00, 22.07it/s]\n",
      "video 3 slice 6: 100%|██████████| 100/100 [00:04<00:00, 21.82it/s]\n",
      "video 3 slice 7: 100%|██████████| 100/100 [00:04<00:00, 21.83it/s]\n",
      "video 3 slice 8: 100%|██████████| 100/100 [00:04<00:00, 22.06it/s]\n",
      "video 3 slice 9: 100%|██████████| 100/100 [00:04<00:00, 22.13it/s]\n",
      "video 3 slice 10: 100%|██████████| 100/100 [00:04<00:00, 22.10it/s]\n"
     ]
    },
    {
     "name": "stdout",
     "output_type": "stream",
     "text": [
      "video: deadlift_raw/Deadlift 250kg 551 lbs for 10 Reps 30_10_20.mp4 label: deadlift total frame number: 1136\n"
     ]
    },
    {
     "name": "stderr",
     "output_type": "stream",
     "text": [
      "video 3 slice 0: 100%|██████████| 120/120 [00:00<00:00, 567.73it/s]\n",
      "video 3 slice 1: 100%|██████████| 120/120 [00:05<00:00, 22.09it/s]\n",
      "video 3 slice 2: 100%|██████████| 120/120 [00:05<00:00, 21.92it/s]\n",
      "video 3 slice 3: 100%|██████████| 120/120 [00:05<00:00, 22.04it/s]\n",
      "video 3 slice 4: 100%|██████████| 120/120 [00:05<00:00, 22.01it/s]\n",
      "video 3 slice 5: 100%|██████████| 120/120 [00:05<00:00, 22.02it/s]\n",
      "video 3 slice 6: 100%|██████████| 120/120 [00:05<00:00, 22.03it/s]\n",
      "video 3 slice 7: 100%|██████████| 120/120 [00:05<00:00, 21.84it/s]\n",
      "video 3 slice 8: 100%|██████████| 120/120 [00:05<00:00, 22.09it/s]\n"
     ]
    },
    {
     "name": "stdout",
     "output_type": "stream",
     "text": [
      "video: deadlift_raw/Deadlift 250kg 551 lbs for 10 Reps 30_10_20.mp4 label: deadlift total frame number: 1136\n"
     ]
    },
    {
     "name": "stderr",
     "output_type": "stream",
     "text": [
      "video 3 slice 0: 100%|██████████| 150/150 [00:00<00:00, 1298.74it/s]\n",
      "video 3 slice 1: 100%|██████████| 150/150 [00:06<00:00, 22.08it/s]\n",
      "video 3 slice 2: 100%|██████████| 150/150 [00:06<00:00, 22.05it/s]\n",
      "video 3 slice 3: 100%|██████████| 150/150 [00:06<00:00, 21.94it/s]\n",
      "video 3 slice 4: 100%|██████████| 150/150 [00:06<00:00, 22.06it/s]\n",
      "video 3 slice 5: 100%|██████████| 150/150 [00:06<00:00, 22.04it/s]\n",
      "video 3 slice 6: 100%|██████████| 150/150 [00:06<00:00, 22.16it/s]\n"
     ]
    },
    {
     "name": "stdout",
     "output_type": "stream",
     "text": [
      "video: deadlift_raw/Deadlift 150 KG 🏋️ Convenational lift .mp4 label: deadlift total frame number: 202\n"
     ]
    },
    {
     "name": "stderr",
     "output_type": "stream",
     "text": [
      "video 4 slice 0: 100%|██████████| 70/70 [00:00<00:00, 1134.62it/s]\n",
      "video 4 slice 1: 100%|██████████| 70/70 [00:03<00:00, 22.06it/s]\n"
     ]
    },
    {
     "name": "stdout",
     "output_type": "stream",
     "text": [
      "video: deadlift_raw/Deadlift 150 KG 🏋️ Convenational lift .mp4 label: deadlift total frame number: 202\n"
     ]
    },
    {
     "name": "stderr",
     "output_type": "stream",
     "text": [
      "video 4 slice 0: 100%|██████████| 100/100 [00:00<00:00, 660.99it/s]\n",
      "video 4 slice 1: 100%|██████████| 100/100 [00:04<00:00, 22.24it/s]\n"
     ]
    },
    {
     "name": "stdout",
     "output_type": "stream",
     "text": [
      "video: deadlift_raw/Deadlift 150 KG 🏋️ Convenational lift .mp4 label: deadlift total frame number: 202\n"
     ]
    },
    {
     "name": "stderr",
     "output_type": "stream",
     "text": [
      "video 4 slice 0: 100%|██████████| 120/120 [00:00<00:00, 1237.66it/s]\n"
     ]
    },
    {
     "name": "stdout",
     "output_type": "stream",
     "text": [
      "video: deadlift_raw/Deadlift 150 KG 🏋️ Convenational lift .mp4 label: deadlift total frame number: 202\n"
     ]
    },
    {
     "name": "stderr",
     "output_type": "stream",
     "text": [
      "video 4 slice 0: 100%|██████████| 150/150 [00:00<00:00, 1248.41it/s]\n"
     ]
    },
    {
     "name": "stdout",
     "output_type": "stream",
     "text": [
      "video: deadlift_raw/220kg deadlift for 20 reps.mp4 label: deadlift total frame number: 2467\n"
     ]
    },
    {
     "name": "stderr",
     "output_type": "stream",
     "text": [
      "video 5 slice 0: 100%|██████████| 70/70 [00:00<00:00, 1155.54it/s]\n",
      "video 5 slice 1: 100%|██████████| 70/70 [00:03<00:00, 22.26it/s]\n",
      "video 5 slice 2: 100%|██████████| 70/70 [00:03<00:00, 22.29it/s]\n",
      "video 5 slice 3: 100%|██████████| 70/70 [00:03<00:00, 22.21it/s]\n",
      "video 5 slice 4: 100%|██████████| 70/70 [00:03<00:00, 22.28it/s]\n",
      "video 5 slice 5: 100%|██████████| 70/70 [00:03<00:00, 22.25it/s]\n",
      "video 5 slice 6: 100%|██████████| 70/70 [00:03<00:00, 22.00it/s]\n",
      "video 5 slice 7: 100%|██████████| 70/70 [00:03<00:00, 22.27it/s]\n",
      "video 5 slice 8: 100%|██████████| 70/70 [00:03<00:00, 22.23it/s]\n",
      "video 5 slice 9: 100%|██████████| 70/70 [00:03<00:00, 22.32it/s]\n",
      "video 5 slice 10: 100%|██████████| 70/70 [00:03<00:00, 22.30it/s]\n",
      "video 5 slice 11: 100%|██████████| 70/70 [00:03<00:00, 22.29it/s]\n",
      "video 5 slice 12: 100%|██████████| 70/70 [00:03<00:00, 22.37it/s]\n",
      "video 5 slice 13: 100%|██████████| 70/70 [00:03<00:00, 22.30it/s]\n",
      "video 5 slice 14: 100%|██████████| 70/70 [00:03<00:00, 22.30it/s]\n",
      "video 5 slice 15: 100%|██████████| 70/70 [00:03<00:00, 22.13it/s]\n",
      "video 5 slice 16: 100%|██████████| 70/70 [00:03<00:00, 22.31it/s]\n",
      "video 5 slice 17: 100%|██████████| 70/70 [00:03<00:00, 22.26it/s]\n",
      "video 5 slice 18: 100%|██████████| 70/70 [00:03<00:00, 22.34it/s]\n",
      "video 5 slice 19: 100%|██████████| 70/70 [00:03<00:00, 22.33it/s]\n",
      "video 5 slice 20: 100%|██████████| 70/70 [00:03<00:00, 22.16it/s]\n",
      "video 5 slice 21: 100%|██████████| 70/70 [00:03<00:00, 22.41it/s]\n",
      "video 5 slice 22: 100%|██████████| 70/70 [00:03<00:00, 22.28it/s]\n",
      "video 5 slice 23: 100%|██████████| 70/70 [00:03<00:00, 22.09it/s]\n",
      "video 5 slice 24: 100%|██████████| 70/70 [00:03<00:00, 22.34it/s]\n",
      "video 5 slice 25: 100%|██████████| 70/70 [00:03<00:00, 22.25it/s]\n",
      "video 5 slice 26: 100%|██████████| 70/70 [00:03<00:00, 22.37it/s]\n",
      "video 5 slice 27: 100%|██████████| 70/70 [00:03<00:00, 22.32it/s]\n",
      "video 5 slice 28: 100%|██████████| 70/70 [00:03<00:00, 22.29it/s]\n",
      "video 5 slice 29: 100%|██████████| 70/70 [00:03<00:00, 22.31it/s]\n",
      "video 5 slice 30: 100%|██████████| 70/70 [00:03<00:00, 22.36it/s]\n",
      "video 5 slice 31: 100%|██████████| 70/70 [00:03<00:00, 21.97it/s]\n",
      "video 5 slice 32: 100%|██████████| 70/70 [00:03<00:00, 22.28it/s]\n",
      "video 5 slice 33: 100%|██████████| 70/70 [00:03<00:00, 22.30it/s]\n",
      "video 5 slice 34: 100%|██████████| 70/70 [00:03<00:00, 22.37it/s]\n"
     ]
    },
    {
     "name": "stdout",
     "output_type": "stream",
     "text": [
      "video: deadlift_raw/220kg deadlift for 20 reps.mp4 label: deadlift total frame number: 2467\n"
     ]
    },
    {
     "name": "stderr",
     "output_type": "stream",
     "text": [
      "video 5 slice 0: 100%|██████████| 100/100 [00:00<00:00, 1342.36it/s]\n",
      "video 5 slice 1: 100%|██████████| 100/100 [00:04<00:00, 22.17it/s]\n",
      "video 5 slice 2: 100%|██████████| 100/100 [00:04<00:00, 22.09it/s]\n",
      "video 5 slice 3: 100%|██████████| 100/100 [00:04<00:00, 22.18it/s]\n",
      "video 5 slice 4: 100%|██████████| 100/100 [00:04<00:00, 22.23it/s]\n",
      "video 5 slice 5: 100%|██████████| 100/100 [00:04<00:00, 22.19it/s]\n",
      "video 5 slice 6: 100%|██████████| 100/100 [00:04<00:00, 22.29it/s]\n",
      "video 5 slice 7: 100%|██████████| 100/100 [00:04<00:00, 22.32it/s]\n",
      "video 5 slice 8: 100%|██████████| 100/100 [00:04<00:00, 22.28it/s]\n",
      "video 5 slice 9: 100%|██████████| 100/100 [00:04<00:00, 22.29it/s]\n",
      "video 5 slice 10: 100%|██████████| 100/100 [00:04<00:00, 22.15it/s]\n",
      "video 5 slice 11: 100%|██████████| 100/100 [00:04<00:00, 22.32it/s]\n",
      "video 5 slice 12: 100%|██████████| 100/100 [00:04<00:00, 22.24it/s]\n",
      "video 5 slice 13: 100%|██████████| 100/100 [00:04<00:00, 22.34it/s]\n",
      "video 5 slice 14: 100%|██████████| 100/100 [00:04<00:00, 22.35it/s]\n",
      "video 5 slice 15: 100%|██████████| 100/100 [00:04<00:00, 22.29it/s]\n",
      "video 5 slice 16: 100%|██████████| 100/100 [00:04<00:00, 22.08it/s]\n",
      "video 5 slice 17: 100%|██████████| 100/100 [00:04<00:00, 22.21it/s]\n",
      "video 5 slice 18: 100%|██████████| 100/100 [00:04<00:00, 22.15it/s]\n",
      "video 5 slice 19: 100%|██████████| 100/100 [00:04<00:00, 22.29it/s]\n",
      "video 5 slice 20: 100%|██████████| 100/100 [00:04<00:00, 22.35it/s]\n",
      "video 5 slice 21: 100%|██████████| 100/100 [00:04<00:00, 22.33it/s]\n",
      "video 5 slice 22: 100%|██████████| 100/100 [00:04<00:00, 22.26it/s]\n",
      "video 5 slice 23: 100%|██████████| 100/100 [00:04<00:00, 22.30it/s]\n"
     ]
    },
    {
     "name": "stdout",
     "output_type": "stream",
     "text": [
      "video: deadlift_raw/220kg deadlift for 20 reps.mp4 label: deadlift total frame number: 2467\n"
     ]
    },
    {
     "name": "stderr",
     "output_type": "stream",
     "text": [
      "video 5 slice 0: 100%|██████████| 120/120 [00:00<00:00, 978.25it/s]\n",
      "video 5 slice 1: 100%|██████████| 120/120 [00:05<00:00, 22.18it/s]\n",
      "video 5 slice 2: 100%|██████████| 120/120 [00:05<00:00, 22.33it/s]\n",
      "video 5 slice 3: 100%|██████████| 120/120 [00:05<00:00, 22.32it/s]\n",
      "video 5 slice 4: 100%|██████████| 120/120 [00:05<00:00, 22.32it/s]\n",
      "video 5 slice 5: 100%|██████████| 120/120 [00:05<00:00, 22.32it/s]\n",
      "video 5 slice 6: 100%|██████████| 120/120 [00:05<00:00, 22.24it/s]\n",
      "video 5 slice 7: 100%|██████████| 120/120 [00:05<00:00, 22.35it/s]\n",
      "video 5 slice 8: 100%|██████████| 120/120 [00:05<00:00, 22.34it/s]\n",
      "video 5 slice 9: 100%|██████████| 120/120 [00:05<00:00, 22.33it/s]\n",
      "video 5 slice 10: 100%|██████████| 120/120 [00:05<00:00, 22.34it/s]\n",
      "video 5 slice 11: 100%|██████████| 120/120 [00:05<00:00, 22.19it/s]\n",
      "video 5 slice 12: 100%|██████████| 120/120 [00:05<00:00, 22.39it/s]\n",
      "video 5 slice 13: 100%|██████████| 120/120 [00:05<00:00, 22.34it/s]\n",
      "video 5 slice 14: 100%|██████████| 120/120 [00:05<00:00, 22.29it/s]\n",
      "video 5 slice 15: 100%|██████████| 120/120 [00:05<00:00, 22.38it/s]\n",
      "video 5 slice 16: 100%|██████████| 120/120 [00:05<00:00, 22.14it/s]\n",
      "video 5 slice 17: 100%|██████████| 120/120 [00:05<00:00, 22.33it/s]\n",
      "video 5 slice 18: 100%|██████████| 120/120 [00:05<00:00, 22.32it/s]\n",
      "video 5 slice 19: 100%|██████████| 120/120 [00:05<00:00, 22.35it/s]\n"
     ]
    },
    {
     "name": "stdout",
     "output_type": "stream",
     "text": [
      "video: deadlift_raw/220kg deadlift for 20 reps.mp4 label: deadlift total frame number: 2467\n"
     ]
    },
    {
     "name": "stderr",
     "output_type": "stream",
     "text": [
      "video 5 slice 0: 100%|██████████| 150/150 [00:00<00:00, 1176.52it/s]\n",
      "video 5 slice 1: 100%|██████████| 150/150 [00:06<00:00, 22.23it/s]\n",
      "video 5 slice 2: 100%|██████████| 150/150 [00:06<00:00, 22.12it/s]\n",
      "video 5 slice 3: 100%|██████████| 150/150 [00:06<00:00, 22.22it/s]\n",
      "video 5 slice 4: 100%|██████████| 150/150 [00:06<00:00, 22.27it/s]\n",
      "video 5 slice 5: 100%|██████████| 150/150 [00:06<00:00, 22.31it/s]\n",
      "video 5 slice 6: 100%|██████████| 150/150 [00:06<00:00, 22.23it/s]\n",
      "video 5 slice 7: 100%|██████████| 150/150 [00:06<00:00, 22.32it/s]\n",
      "video 5 slice 8: 100%|██████████| 150/150 [00:06<00:00, 22.31it/s]\n",
      "video 5 slice 9: 100%|██████████| 150/150 [00:06<00:00, 22.32it/s]\n",
      "video 5 slice 10: 100%|██████████| 150/150 [00:06<00:00, 22.26it/s]\n",
      "video 5 slice 11: 100%|██████████| 150/150 [00:06<00:00, 22.31it/s]\n",
      "video 5 slice 12: 100%|██████████| 150/150 [00:06<00:00, 22.32it/s]\n",
      "video 5 slice 13: 100%|██████████| 150/150 [00:06<00:00, 22.35it/s]\n",
      "video 5 slice 14: 100%|██████████| 150/150 [00:06<00:00, 22.23it/s]\n",
      "video 5 slice 15: 100%|██████████| 150/150 [00:06<00:00, 22.31it/s]\n"
     ]
    },
    {
     "name": "stdout",
     "output_type": "stream",
     "text": [
      "video: deadlift_raw/Derek Poundstone 750lb Deadlift for 10 reps.mp4 label: deadlift total frame number: 2190\n"
     ]
    },
    {
     "name": "stderr",
     "output_type": "stream",
     "text": [
      "video 6 slice 0: 100%|██████████| 70/70 [00:00<00:00, 1348.82it/s]\n",
      "video 6 slice 1: 100%|██████████| 70/70 [00:02<00:00, 31.97it/s]\n",
      "video 6 slice 2: 100%|██████████| 70/70 [00:02<00:00, 26.70it/s]\n",
      "video 6 slice 3: 100%|██████████| 70/70 [00:01<00:00, 43.45it/s]\n",
      "video 6 slice 4: 100%|██████████| 70/70 [00:03<00:00, 22.62it/s]\n",
      "video 6 slice 5: 100%|██████████| 70/70 [00:03<00:00, 22.65it/s]\n",
      "video 6 slice 6: 100%|██████████| 70/70 [00:03<00:00, 22.73it/s]\n",
      "video 6 slice 7: 100%|██████████| 70/70 [00:03<00:00, 22.50it/s]\n",
      "video 6 slice 8: 100%|██████████| 70/70 [00:03<00:00, 22.76it/s]\n",
      "video 6 slice 9: 100%|██████████| 70/70 [00:03<00:00, 22.74it/s]\n",
      "video 6 slice 10: 100%|██████████| 70/70 [00:03<00:00, 22.74it/s]\n",
      "video 6 slice 11: 100%|██████████| 70/70 [00:03<00:00, 22.76it/s]\n",
      "video 6 slice 12: 100%|██████████| 70/70 [00:03<00:00, 22.80it/s]\n",
      "video 6 slice 13: 100%|██████████| 70/70 [00:03<00:00, 22.76it/s]\n",
      "video 6 slice 14: 100%|██████████| 70/70 [00:03<00:00, 22.81it/s]\n",
      "video 6 slice 15: 100%|██████████| 70/70 [00:03<00:00, 22.52it/s]\n",
      "video 6 slice 16: 100%|██████████| 70/70 [00:03<00:00, 22.80it/s]\n",
      "video 6 slice 17: 100%|██████████| 70/70 [00:03<00:00, 22.80it/s]\n",
      "video 6 slice 18: 100%|██████████| 70/70 [00:03<00:00, 22.83it/s]\n",
      "video 6 slice 19: 100%|██████████| 70/70 [00:03<00:00, 22.74it/s]\n",
      "video 6 slice 20: 100%|██████████| 70/70 [00:03<00:00, 22.77it/s]\n",
      "video 6 slice 21: 100%|██████████| 70/70 [00:03<00:00, 22.78it/s]\n",
      "video 6 slice 22: 100%|██████████| 70/70 [00:03<00:00, 22.75it/s]\n",
      "video 6 slice 23: 100%|██████████| 70/70 [00:03<00:00, 22.46it/s]\n",
      "video 6 slice 24: 100%|██████████| 70/70 [00:03<00:00, 22.73it/s]\n",
      "video 6 slice 25: 100%|██████████| 70/70 [00:03<00:00, 22.52it/s]\n",
      "video 6 slice 26: 100%|██████████| 70/70 [00:03<00:00, 22.77it/s]\n",
      "video 6 slice 27: 100%|██████████| 70/70 [00:03<00:00, 22.75it/s]\n",
      "video 6 slice 28: 100%|██████████| 70/70 [00:03<00:00, 22.83it/s]\n",
      "video 6 slice 29: 100%|██████████| 70/70 [00:03<00:00, 22.76it/s]\n",
      "video 6 slice 30: 100%|██████████| 70/70 [00:03<00:00, 22.55it/s]\n"
     ]
    },
    {
     "name": "stdout",
     "output_type": "stream",
     "text": [
      "video: deadlift_raw/Derek Poundstone 750lb Deadlift for 10 reps.mp4 label: deadlift total frame number: 2190\n"
     ]
    },
    {
     "name": "stderr",
     "output_type": "stream",
     "text": [
      "video 6 slice 0: 100%|██████████| 100/100 [00:00<00:00, 1493.21it/s]\n",
      "video 6 slice 1: 100%|██████████| 100/100 [00:03<00:00, 30.28it/s]\n",
      "video 6 slice 2: 100%|██████████| 100/100 [00:02<00:00, 34.04it/s]\n",
      "video 6 slice 3: 100%|██████████| 100/100 [00:04<00:00, 22.52it/s]\n",
      "video 6 slice 4: 100%|██████████| 100/100 [00:04<00:00, 22.71it/s]\n",
      "video 6 slice 5: 100%|██████████| 100/100 [00:04<00:00, 22.72it/s]\n",
      "video 6 slice 6: 100%|██████████| 100/100 [00:04<00:00, 22.79it/s]\n",
      "video 6 slice 7: 100%|██████████| 100/100 [00:04<00:00, 22.69it/s]\n",
      "video 6 slice 8: 100%|██████████| 100/100 [00:04<00:00, 22.73it/s]\n",
      "video 6 slice 9: 100%|██████████| 100/100 [00:04<00:00, 22.78it/s]\n",
      "video 6 slice 10: 100%|██████████| 100/100 [00:04<00:00, 22.60it/s]\n",
      "video 6 slice 11: 100%|██████████| 100/100 [00:04<00:00, 22.80it/s]\n",
      "video 6 slice 12: 100%|██████████| 100/100 [00:04<00:00, 22.80it/s]\n",
      "video 6 slice 13: 100%|██████████| 100/100 [00:04<00:00, 22.64it/s]\n",
      "video 6 slice 14: 100%|██████████| 100/100 [00:04<00:00, 22.75it/s]\n",
      "video 6 slice 15: 100%|██████████| 100/100 [00:04<00:00, 22.79it/s]\n",
      "video 6 slice 16: 100%|██████████| 100/100 [00:04<00:00, 22.60it/s]\n",
      "video 6 slice 17: 100%|██████████| 100/100 [00:04<00:00, 22.73it/s]\n",
      "video 6 slice 18: 100%|██████████| 100/100 [00:04<00:00, 22.78it/s]\n",
      "video 6 slice 19: 100%|██████████| 100/100 [00:04<00:00, 22.77it/s]\n",
      "video 6 slice 20: 100%|██████████| 100/100 [00:04<00:00, 22.75it/s]\n"
     ]
    },
    {
     "name": "stdout",
     "output_type": "stream",
     "text": [
      "video: deadlift_raw/Derek Poundstone 750lb Deadlift for 10 reps.mp4 label: deadlift total frame number: 2190\n"
     ]
    },
    {
     "name": "stderr",
     "output_type": "stream",
     "text": [
      "video 6 slice 0: 100%|██████████| 120/120 [00:00<00:00, 2121.59it/s]\n",
      "video 6 slice 1: 100%|██████████| 120/120 [00:03<00:00, 32.53it/s]\n",
      "video 6 slice 2: 100%|██████████| 120/120 [00:04<00:00, 25.80it/s]\n",
      "video 6 slice 3: 100%|██████████| 120/120 [00:05<00:00, 22.70it/s]\n",
      "video 6 slice 4: 100%|██████████| 120/120 [00:05<00:00, 22.78it/s]\n",
      "video 6 slice 5: 100%|██████████| 120/120 [00:05<00:00, 22.79it/s]\n",
      "video 6 slice 6: 100%|██████████| 120/120 [00:05<00:00, 22.74it/s]\n",
      "video 6 slice 7: 100%|██████████| 120/120 [00:05<00:00, 22.61it/s]\n",
      "video 6 slice 8: 100%|██████████| 120/120 [00:05<00:00, 22.81it/s]\n",
      "video 6 slice 9: 100%|██████████| 120/120 [00:05<00:00, 22.78it/s]\n",
      "video 6 slice 10: 100%|██████████| 120/120 [00:05<00:00, 22.77it/s]\n",
      "video 6 slice 11: 100%|██████████| 120/120 [00:05<00:00, 22.80it/s]\n",
      "video 6 slice 12: 100%|██████████| 120/120 [00:05<00:00, 22.60it/s]\n",
      "video 6 slice 13: 100%|██████████| 120/120 [00:05<00:00, 22.73it/s]\n",
      "video 6 slice 14: 100%|██████████| 120/120 [00:05<00:00, 22.81it/s]\n",
      "video 6 slice 15: 100%|██████████| 120/120 [00:05<00:00, 22.77it/s]\n",
      "video 6 slice 16: 100%|██████████| 120/120 [00:05<00:00, 22.78it/s]\n",
      "video 6 slice 17: 100%|██████████| 120/120 [00:05<00:00, 22.53it/s]\n"
     ]
    },
    {
     "name": "stdout",
     "output_type": "stream",
     "text": [
      "video: deadlift_raw/Derek Poundstone 750lb Deadlift for 10 reps.mp4 label: deadlift total frame number: 2190\n"
     ]
    },
    {
     "name": "stderr",
     "output_type": "stream",
     "text": [
      "video 6 slice 0: 100%|██████████| 150/150 [00:00<00:00, 2115.62it/s]\n",
      "video 6 slice 1: 100%|██████████| 150/150 [00:05<00:00, 29.75it/s]\n",
      "video 6 slice 2: 100%|██████████| 150/150 [00:06<00:00, 22.69it/s]\n",
      "video 6 slice 3: 100%|██████████| 150/150 [00:06<00:00, 22.74it/s]\n",
      "video 6 slice 4: 100%|██████████| 150/150 [00:06<00:00, 21.90it/s]\n",
      "video 6 slice 5: 100%|██████████| 150/150 [00:06<00:00, 22.61it/s]\n",
      "video 6 slice 6: 100%|██████████| 150/150 [00:06<00:00, 22.73it/s]\n",
      "video 6 slice 7: 100%|██████████| 150/150 [00:06<00:00, 22.78it/s]\n",
      "video 6 slice 8: 100%|██████████| 150/150 [00:06<00:00, 22.78it/s]\n",
      "video 6 slice 9: 100%|██████████| 150/150 [00:06<00:00, 22.67it/s]\n",
      "video 6 slice 10: 100%|██████████| 150/150 [00:06<00:00, 22.82it/s]\n",
      "video 6 slice 11: 100%|██████████| 150/150 [00:06<00:00, 22.78it/s]\n",
      "video 6 slice 12: 100%|██████████| 150/150 [00:06<00:00, 22.80it/s]\n",
      "video 6 slice 13: 100%|██████████| 150/150 [00:06<00:00, 22.62it/s]\n"
     ]
    },
    {
     "name": "stdout",
     "output_type": "stream",
     "text": [
      "video: deadlift_raw/200 kg Deadlift at 70 kg Bodyweight.mp4 label: deadlift total frame number: 696\n"
     ]
    },
    {
     "name": "stderr",
     "output_type": "stream",
     "text": [
      "video 7 slice 0: 100%|██████████| 70/70 [00:00<00:00, 869.66it/s]\n",
      "video 7 slice 1: 100%|██████████| 70/70 [00:03<00:00, 22.14it/s]\n",
      "video 7 slice 2: 100%|██████████| 70/70 [00:03<00:00, 22.15it/s]\n",
      "video 7 slice 3: 100%|██████████| 70/70 [00:03<00:00, 22.25it/s]\n",
      "video 7 slice 4: 100%|██████████| 70/70 [00:03<00:00, 22.21it/s]\n",
      "video 7 slice 5: 100%|██████████| 70/70 [00:03<00:00, 22.02it/s]\n",
      "video 7 slice 6: 100%|██████████| 70/70 [00:03<00:00, 22.15it/s]\n",
      "video 7 slice 7: 100%|██████████| 70/70 [00:03<00:00, 22.00it/s]\n",
      "video 7 slice 8: 100%|██████████| 70/70 [00:03<00:00, 22.24it/s]\n"
     ]
    },
    {
     "name": "stdout",
     "output_type": "stream",
     "text": [
      "video: deadlift_raw/200 kg Deadlift at 70 kg Bodyweight.mp4 label: deadlift total frame number: 696\n"
     ]
    },
    {
     "name": "stderr",
     "output_type": "stream",
     "text": [
      "video 7 slice 0: 100%|██████████| 100/100 [00:00<00:00, 934.35it/s]\n",
      "video 7 slice 1: 100%|██████████| 100/100 [00:04<00:00, 22.02it/s]\n",
      "video 7 slice 2: 100%|██████████| 100/100 [00:04<00:00, 21.96it/s]\n",
      "video 7 slice 3: 100%|██████████| 100/100 [00:04<00:00, 22.13it/s]\n",
      "video 7 slice 4: 100%|██████████| 100/100 [00:04<00:00, 22.16it/s]\n",
      "video 7 slice 5: 100%|██████████| 100/100 [00:04<00:00, 22.18it/s]\n"
     ]
    },
    {
     "name": "stdout",
     "output_type": "stream",
     "text": [
      "video: deadlift_raw/200 kg Deadlift at 70 kg Bodyweight.mp4 label: deadlift total frame number: 696\n"
     ]
    },
    {
     "name": "stderr",
     "output_type": "stream",
     "text": [
      "video 7 slice 0: 100%|██████████| 120/120 [00:00<00:00, 874.44it/s]\n",
      "video 7 slice 1: 100%|██████████| 120/120 [00:05<00:00, 22.19it/s]\n",
      "video 7 slice 2: 100%|██████████| 120/120 [00:05<00:00, 22.05it/s]\n",
      "video 7 slice 3: 100%|██████████| 120/120 [00:05<00:00, 22.25it/s]\n",
      "video 7 slice 4: 100%|██████████| 120/120 [00:05<00:00, 22.22it/s]\n"
     ]
    },
    {
     "name": "stdout",
     "output_type": "stream",
     "text": [
      "video: deadlift_raw/200 kg Deadlift at 70 kg Bodyweight.mp4 label: deadlift total frame number: 696\n"
     ]
    },
    {
     "name": "stderr",
     "output_type": "stream",
     "text": [
      "video 7 slice 0: 100%|██████████| 150/150 [00:00<00:00, 1164.38it/s]\n",
      "video 7 slice 1: 100%|██████████| 150/150 [00:06<00:00, 22.16it/s]\n",
      "video 7 slice 2: 100%|██████████| 150/150 [00:06<00:00, 22.11it/s]\n",
      "video 7 slice 3: 100%|██████████| 150/150 [00:06<00:00, 22.25it/s]\n"
     ]
    },
    {
     "name": "stdout",
     "output_type": "stream",
     "text": [
      "video: deadlift_raw/150KG DEADLIFT TRIPLE PR!.mp4 label: deadlift total frame number: 972\n"
     ]
    },
    {
     "name": "stderr",
     "output_type": "stream",
     "text": [
      "video 8 slice 0: 100%|██████████| 70/70 [00:00<00:00, 1014.28it/s]\n",
      "video 8 slice 1: 100%|██████████| 70/70 [00:03<00:00, 22.26it/s]\n",
      "video 8 slice 2: 100%|██████████| 70/70 [00:03<00:00, 22.35it/s]\n",
      "video 8 slice 3: 100%|██████████| 70/70 [00:03<00:00, 22.30it/s]\n",
      "video 8 slice 4: 100%|██████████| 70/70 [00:03<00:00, 22.26it/s]\n",
      "video 8 slice 5: 100%|██████████| 70/70 [00:03<00:00, 22.34it/s]\n",
      "video 8 slice 6: 100%|██████████| 70/70 [00:03<00:00, 22.27it/s]\n",
      "video 8 slice 7: 100%|██████████| 70/70 [00:03<00:00, 21.89it/s]\n",
      "video 8 slice 8: 100%|██████████| 70/70 [00:03<00:00, 22.28it/s]\n",
      "video 8 slice 9: 100%|██████████| 70/70 [00:03<00:00, 22.29it/s]\n",
      "video 8 slice 10: 100%|██████████| 70/70 [00:03<00:00, 22.26it/s]\n",
      "video 8 slice 11: 100%|██████████| 70/70 [00:03<00:00, 22.27it/s]\n",
      "video 8 slice 12: 100%|██████████| 70/70 [00:03<00:00, 22.22it/s]\n"
     ]
    },
    {
     "name": "stdout",
     "output_type": "stream",
     "text": [
      "video: deadlift_raw/150KG DEADLIFT TRIPLE PR!.mp4 label: deadlift total frame number: 972\n"
     ]
    },
    {
     "name": "stderr",
     "output_type": "stream",
     "text": [
      "video 8 slice 0: 100%|██████████| 100/100 [00:00<00:00, 1152.70it/s]\n",
      "video 8 slice 1: 100%|██████████| 100/100 [00:04<00:00, 22.17it/s]\n",
      "video 8 slice 2: 100%|██████████| 100/100 [00:04<00:00, 22.10it/s]\n",
      "video 8 slice 3: 100%|██████████| 100/100 [00:04<00:00, 22.30it/s]\n",
      "video 8 slice 4: 100%|██████████| 100/100 [00:04<00:00, 22.21it/s]\n",
      "video 8 slice 5: 100%|██████████| 100/100 [00:04<00:00, 22.28it/s]\n",
      "video 8 slice 6: 100%|██████████| 100/100 [00:04<00:00, 22.19it/s]\n",
      "video 8 slice 7: 100%|██████████| 100/100 [00:04<00:00, 22.24it/s]\n",
      "video 8 slice 8: 100%|██████████| 100/100 [00:04<00:00, 22.03it/s]\n"
     ]
    },
    {
     "name": "stdout",
     "output_type": "stream",
     "text": [
      "video: deadlift_raw/150KG DEADLIFT TRIPLE PR!.mp4 label: deadlift total frame number: 972\n"
     ]
    },
    {
     "name": "stderr",
     "output_type": "stream",
     "text": [
      "video 8 slice 0: 100%|██████████| 120/120 [00:00<00:00, 1091.16it/s]\n",
      "video 8 slice 1: 100%|██████████| 120/120 [00:05<00:00, 22.28it/s]\n",
      "video 8 slice 2: 100%|██████████| 120/120 [00:05<00:00, 22.29it/s]\n",
      "video 8 slice 3: 100%|██████████| 120/120 [00:05<00:00, 22.29it/s]\n",
      "video 8 slice 4: 100%|██████████| 120/120 [00:05<00:00, 22.11it/s]\n",
      "video 8 slice 5: 100%|██████████| 120/120 [00:05<00:00, 22.05it/s]\n",
      "video 8 slice 6: 100%|██████████| 120/120 [00:05<00:00, 22.20it/s]\n",
      "video 8 slice 7: 100%|██████████| 120/120 [00:05<00:00, 22.27it/s]\n"
     ]
    },
    {
     "name": "stdout",
     "output_type": "stream",
     "text": [
      "video: deadlift_raw/150KG DEADLIFT TRIPLE PR!.mp4 label: deadlift total frame number: 972\n"
     ]
    },
    {
     "name": "stderr",
     "output_type": "stream",
     "text": [
      "video 8 slice 0: 100%|██████████| 150/150 [00:00<00:00, 1285.23it/s]\n",
      "video 8 slice 1: 100%|██████████| 150/150 [00:06<00:00, 22.30it/s]\n",
      "video 8 slice 2: 100%|██████████| 150/150 [00:06<00:00, 22.25it/s]\n",
      "video 8 slice 3: 100%|██████████| 150/150 [00:07<00:00, 21.43it/s]\n",
      "video 8 slice 4: 100%|██████████| 150/150 [00:06<00:00, 21.57it/s]\n",
      "video 8 slice 5: 100%|██████████| 150/150 [00:06<00:00, 21.73it/s]\n"
     ]
    },
    {
     "name": "stdout",
     "output_type": "stream",
     "text": [
      "video: deadlift_raw/700x10 Deadlift.mp4 label: deadlift total frame number: 1344\n"
     ]
    },
    {
     "name": "stderr",
     "output_type": "stream",
     "text": [
      "video 9 slice 0: 100%|██████████| 70/70 [00:00<00:00, 1205.86it/s]\n",
      "video 9 slice 1: 100%|██████████| 70/70 [00:03<00:00, 22.23it/s]\n",
      "video 9 slice 2: 100%|██████████| 70/70 [00:03<00:00, 22.23it/s]\n",
      "video 9 slice 3: 100%|██████████| 70/70 [00:03<00:00, 21.93it/s]\n",
      "video 9 slice 4: 100%|██████████| 70/70 [00:03<00:00, 22.19it/s]\n",
      "video 9 slice 5: 100%|██████████| 70/70 [00:03<00:00, 22.25it/s]\n",
      "video 9 slice 6: 100%|██████████| 70/70 [00:03<00:00, 22.10it/s]\n",
      "video 9 slice 7: 100%|██████████| 70/70 [00:03<00:00, 22.24it/s]\n",
      "video 9 slice 8: 100%|██████████| 70/70 [00:03<00:00, 22.14it/s]\n",
      "video 9 slice 9: 100%|██████████| 70/70 [00:03<00:00, 22.25it/s]\n",
      "video 9 slice 10: 100%|██████████| 70/70 [00:03<00:00, 22.11it/s]\n",
      "video 9 slice 11: 100%|██████████| 70/70 [00:03<00:00, 22.02it/s]\n",
      "video 9 slice 12: 100%|██████████| 70/70 [00:03<00:00, 22.24it/s]\n",
      "video 9 slice 13: 100%|██████████| 70/70 [00:03<00:00, 22.28it/s]\n",
      "video 9 slice 14: 100%|██████████| 70/70 [00:03<00:00, 22.23it/s]\n",
      "video 9 slice 15: 100%|██████████| 70/70 [00:03<00:00, 22.23it/s]\n",
      "video 9 slice 16: 100%|██████████| 70/70 [00:03<00:00, 22.27it/s]\n",
      "video 9 slice 17: 100%|██████████| 70/70 [00:03<00:00, 22.25it/s]\n",
      "video 9 slice 18: 100%|██████████| 70/70 [00:03<00:00, 22.22it/s]\n"
     ]
    },
    {
     "name": "stdout",
     "output_type": "stream",
     "text": [
      "video: deadlift_raw/700x10 Deadlift.mp4 label: deadlift total frame number: 1344\n"
     ]
    },
    {
     "name": "stderr",
     "output_type": "stream",
     "text": [
      "video 9 slice 0: 100%|██████████| 100/100 [00:00<00:00, 1214.32it/s]\n",
      "video 9 slice 1: 100%|██████████| 100/100 [00:04<00:00, 21.97it/s]\n",
      "video 9 slice 2: 100%|██████████| 100/100 [00:04<00:00, 22.25it/s]\n",
      "video 9 slice 3: 100%|██████████| 100/100 [00:04<00:00, 22.19it/s]\n",
      "video 9 slice 4: 100%|██████████| 100/100 [00:04<00:00, 22.25it/s]\n",
      "video 9 slice 5: 100%|██████████| 100/100 [00:04<00:00, 22.17it/s]\n",
      "video 9 slice 6: 100%|██████████| 100/100 [00:04<00:00, 22.29it/s]\n",
      "video 9 slice 7: 100%|██████████| 100/100 [00:04<00:00, 22.08it/s]\n",
      "video 9 slice 8: 100%|██████████| 100/100 [00:04<00:00, 22.24it/s]\n",
      "video 9 slice 9: 100%|██████████| 100/100 [00:04<00:00, 22.25it/s]\n",
      "video 9 slice 10: 100%|██████████| 100/100 [00:04<00:00, 22.13it/s]\n",
      "video 9 slice 11: 100%|██████████| 100/100 [00:04<00:00, 22.25it/s]\n",
      "video 9 slice 12: 100%|██████████| 100/100 [00:04<00:00, 22.31it/s]\n"
     ]
    },
    {
     "name": "stdout",
     "output_type": "stream",
     "text": [
      "video: deadlift_raw/700x10 Deadlift.mp4 label: deadlift total frame number: 1344\n"
     ]
    },
    {
     "name": "stderr",
     "output_type": "stream",
     "text": [
      "video 9 slice 0: 100%|██████████| 120/120 [00:00<00:00, 911.55it/s]\n",
      "video 9 slice 1: 100%|██████████| 120/120 [00:05<00:00, 22.12it/s]\n",
      "video 9 slice 2: 100%|██████████| 120/120 [00:05<00:00, 22.23it/s]\n",
      "video 9 slice 3: 100%|██████████| 120/120 [00:05<00:00, 22.23it/s]\n",
      "video 9 slice 4: 100%|██████████| 120/120 [00:05<00:00, 22.32it/s]\n",
      "video 9 slice 5: 100%|██████████| 120/120 [00:05<00:00, 22.22it/s]\n",
      "video 9 slice 6: 100%|██████████| 120/120 [00:05<00:00, 22.11it/s]\n",
      "video 9 slice 7: 100%|██████████| 120/120 [00:05<00:00, 22.23it/s]\n",
      "video 9 slice 8: 100%|██████████| 120/120 [00:05<00:00, 22.17it/s]\n",
      "video 9 slice 9: 100%|██████████| 120/120 [00:05<00:00, 22.24it/s]\n",
      "video 9 slice 10: 100%|██████████| 120/120 [00:05<00:00, 22.16it/s]\n"
     ]
    },
    {
     "name": "stdout",
     "output_type": "stream",
     "text": [
      "video: deadlift_raw/700x10 Deadlift.mp4 label: deadlift total frame number: 1344\n"
     ]
    },
    {
     "name": "stderr",
     "output_type": "stream",
     "text": [
      "video 9 slice 0: 100%|██████████| 150/150 [00:00<00:00, 1215.50it/s]\n",
      "video 9 slice 1: 100%|██████████| 150/150 [00:06<00:00, 22.10it/s]\n",
      "video 9 slice 2: 100%|██████████| 150/150 [00:06<00:00, 22.26it/s]\n",
      "video 9 slice 3: 100%|██████████| 150/150 [00:06<00:00, 22.24it/s]\n",
      "video 9 slice 4: 100%|██████████| 150/150 [00:06<00:00, 22.23it/s]\n",
      "video 9 slice 5: 100%|██████████| 150/150 [00:06<00:00, 22.00it/s]\n",
      "video 9 slice 6: 100%|██████████| 150/150 [00:06<00:00, 22.19it/s]\n",
      "video 9 slice 7: 100%|██████████| 150/150 [00:06<00:00, 22.28it/s]\n"
     ]
    },
    {
     "name": "stdout",
     "output_type": "stream",
     "text": [
      "video: deadlift_raw/150kg deadlift - 5 reps.mp4 label: deadlift total frame number: 1445\n"
     ]
    },
    {
     "name": "stderr",
     "output_type": "stream",
     "text": [
      "video 10 slice 0: 100%|██████████| 70/70 [00:00<00:00, 1110.82it/s]\n",
      "video 10 slice 1: 100%|██████████| 70/70 [00:03<00:00, 22.12it/s]\n",
      "video 10 slice 2: 100%|██████████| 70/70 [00:03<00:00, 22.23it/s]\n",
      "video 10 slice 3: 100%|██████████| 70/70 [00:03<00:00, 22.28it/s]\n",
      "video 10 slice 4: 100%|██████████| 70/70 [00:03<00:00, 20.90it/s]\n",
      "video 10 slice 5: 100%|██████████| 70/70 [00:03<00:00, 22.33it/s]\n",
      "video 10 slice 6: 100%|██████████| 70/70 [00:03<00:00, 22.29it/s]\n",
      "video 10 slice 7: 100%|██████████| 70/70 [00:03<00:00, 22.34it/s]\n",
      "video 10 slice 8: 100%|██████████| 70/70 [00:03<00:00, 22.31it/s]\n",
      "video 10 slice 9: 100%|██████████| 70/70 [00:03<00:00, 22.29it/s]\n",
      "video 10 slice 10: 100%|██████████| 70/70 [00:03<00:00, 22.32it/s]\n",
      "video 10 slice 11: 100%|██████████| 70/70 [00:03<00:00, 22.33it/s]\n",
      "video 10 slice 12: 100%|██████████| 70/70 [00:03<00:00, 22.28it/s]\n",
      "video 10 slice 13: 100%|██████████| 70/70 [00:03<00:00, 22.08it/s]\n",
      "video 10 slice 14: 100%|██████████| 70/70 [00:03<00:00, 22.31it/s]\n",
      "video 10 slice 15: 100%|██████████| 70/70 [00:03<00:00, 22.33it/s]\n",
      "video 10 slice 16: 100%|██████████| 70/70 [00:03<00:00, 22.26it/s]\n",
      "video 10 slice 17: 100%|██████████| 70/70 [00:03<00:00, 22.29it/s]\n",
      "video 10 slice 18: 100%|██████████| 70/70 [00:03<00:00, 22.25it/s]\n",
      "video 10 slice 19: 100%|██████████| 70/70 [00:03<00:00, 22.33it/s]\n"
     ]
    },
    {
     "name": "stdout",
     "output_type": "stream",
     "text": [
      "video: deadlift_raw/150kg deadlift - 5 reps.mp4 label: deadlift total frame number: 1445\n"
     ]
    },
    {
     "name": "stderr",
     "output_type": "stream",
     "text": [
      "video 10 slice 0: 100%|██████████| 100/100 [00:00<00:00, 1335.20it/s]\n",
      "video 10 slice 1: 100%|██████████| 100/100 [00:04<00:00, 22.06it/s]\n",
      "video 10 slice 2: 100%|██████████| 100/100 [00:04<00:00, 22.30it/s]\n",
      "video 10 slice 3: 100%|██████████| 100/100 [00:04<00:00, 21.49it/s]\n",
      "video 10 slice 4: 100%|██████████| 100/100 [00:04<00:00, 22.27it/s]\n",
      "video 10 slice 5: 100%|██████████| 100/100 [00:04<00:00, 22.25it/s]\n",
      "video 10 slice 6: 100%|██████████| 100/100 [00:04<00:00, 22.34it/s]\n",
      "video 10 slice 7: 100%|██████████| 100/100 [00:04<00:00, 22.29it/s]\n",
      "video 10 slice 8: 100%|██████████| 100/100 [00:04<00:00, 22.13it/s]\n",
      "video 10 slice 9: 100%|██████████| 100/100 [00:04<00:00, 22.31it/s]\n",
      "video 10 slice 10: 100%|██████████| 100/100 [00:04<00:00, 22.34it/s]\n",
      "video 10 slice 11: 100%|██████████| 100/100 [00:04<00:00, 22.29it/s]\n",
      "video 10 slice 12: 100%|██████████| 100/100 [00:04<00:00, 22.32it/s]\n",
      "video 10 slice 13: 100%|██████████| 100/100 [00:04<00:00, 22.34it/s]\n"
     ]
    },
    {
     "name": "stdout",
     "output_type": "stream",
     "text": [
      "video: deadlift_raw/150kg deadlift - 5 reps.mp4 label: deadlift total frame number: 1445\n"
     ]
    },
    {
     "name": "stderr",
     "output_type": "stream",
     "text": [
      "video 10 slice 0: 100%|██████████| 120/120 [00:00<00:00, 775.41it/s]\n",
      "video 10 slice 1: 100%|██████████| 120/120 [00:05<00:00, 22.26it/s]\n",
      "video 10 slice 2: 100%|██████████| 120/120 [00:05<00:00, 21.60it/s]\n",
      "video 10 slice 3: 100%|██████████| 120/120 [00:05<00:00, 22.27it/s]\n",
      "video 10 slice 4: 100%|██████████| 120/120 [00:05<00:00, 22.37it/s]\n",
      "video 10 slice 5: 100%|██████████| 120/120 [00:05<00:00, 22.25it/s]\n",
      "video 10 slice 6: 100%|██████████| 120/120 [00:05<00:00, 22.06it/s]\n",
      "video 10 slice 7: 100%|██████████| 120/120 [00:05<00:00, 22.29it/s]\n",
      "video 10 slice 8: 100%|██████████| 120/120 [00:05<00:00, 22.26it/s]\n",
      "video 10 slice 9: 100%|██████████| 120/120 [00:05<00:00, 22.27it/s]\n",
      "video 10 slice 10: 100%|██████████| 120/120 [00:05<00:00, 22.29it/s]\n",
      "video 10 slice 11: 100%|██████████| 120/120 [00:05<00:00, 22.02it/s]\n"
     ]
    },
    {
     "name": "stdout",
     "output_type": "stream",
     "text": [
      "video: deadlift_raw/150kg deadlift - 5 reps.mp4 label: deadlift total frame number: 1445\n"
     ]
    },
    {
     "name": "stderr",
     "output_type": "stream",
     "text": [
      "video 10 slice 0: 100%|██████████| 150/150 [00:00<00:00, 1387.70it/s]\n",
      "video 10 slice 1: 100%|██████████| 150/150 [00:06<00:00, 22.24it/s]\n",
      "video 10 slice 2: 100%|██████████| 150/150 [00:06<00:00, 21.76it/s]\n",
      "video 10 slice 3: 100%|██████████| 150/150 [00:06<00:00, 22.26it/s]\n",
      "video 10 slice 4: 100%|██████████| 150/150 [00:06<00:00, 22.17it/s]\n",
      "video 10 slice 5: 100%|██████████| 150/150 [00:06<00:00, 22.28it/s]\n",
      "video 10 slice 6: 100%|██████████| 150/150 [00:06<00:00, 22.32it/s]\n",
      "video 10 slice 7: 100%|██████████| 150/150 [00:06<00:00, 22.26it/s]\n",
      "video 10 slice 8: 100%|██████████| 150/150 [00:06<00:00, 22.17it/s]\n"
     ]
    },
    {
     "name": "stdout",
     "output_type": "stream",
     "text": [
      "video: deadlift_raw/健身五個月，.mp4 label: deadlift total frame number: 418\n"
     ]
    },
    {
     "name": "stderr",
     "output_type": "stream",
     "text": [
      "video 11 slice 0: 100%|██████████| 70/70 [00:00<00:00, 1915.16it/s]\n",
      "video 11 slice 1: 100%|██████████| 70/70 [00:03<00:00, 22.54it/s]\n",
      "video 11 slice 2: 100%|██████████| 70/70 [00:03<00:00, 22.60it/s]\n",
      "video 11 slice 3: 100%|██████████| 70/70 [00:03<00:00, 22.58it/s]\n",
      "video 11 slice 4: 100%|██████████| 70/70 [00:03<00:00, 22.70it/s]\n"
     ]
    },
    {
     "name": "stdout",
     "output_type": "stream",
     "text": [
      "video: deadlift_raw/健身五個月，.mp4 label: deadlift total frame number: 418\n"
     ]
    },
    {
     "name": "stderr",
     "output_type": "stream",
     "text": [
      "video 11 slice 0: 100%|██████████| 100/100 [00:00<00:00, 2837.02it/s]\n",
      "video 11 slice 1: 100%|██████████| 100/100 [00:04<00:00, 22.64it/s]\n",
      "video 11 slice 2: 100%|██████████| 100/100 [00:04<00:00, 22.65it/s]\n",
      "video 11 slice 3: 100%|██████████| 100/100 [00:04<00:00, 22.51it/s]\n"
     ]
    },
    {
     "name": "stdout",
     "output_type": "stream",
     "text": [
      "video: deadlift_raw/健身五個月，.mp4 label: deadlift total frame number: 418\n"
     ]
    },
    {
     "name": "stderr",
     "output_type": "stream",
     "text": [
      "video 11 slice 0: 100%|██████████| 120/120 [00:00<00:00, 2413.55it/s]\n",
      "video 11 slice 1: 100%|██████████| 120/120 [00:05<00:00, 22.62it/s]\n",
      "video 11 slice 2: 100%|██████████| 120/120 [00:05<00:00, 22.64it/s]\n"
     ]
    },
    {
     "name": "stdout",
     "output_type": "stream",
     "text": [
      "video: deadlift_raw/健身五個月，.mp4 label: deadlift total frame number: 418\n"
     ]
    },
    {
     "name": "stderr",
     "output_type": "stream",
     "text": [
      "video 11 slice 0: 100%|██████████| 150/150 [00:00<00:00, 3494.55it/s]\n",
      "video 11 slice 1: 100%|██████████| 150/150 [00:06<00:00, 22.67it/s]\n"
     ]
    },
    {
     "name": "stdout",
     "output_type": "stream",
     "text": [
      "video: deadlift_raw/COULD YOU MANAGE THIS 300KG_661LBS X 10 REPS DEADLIFT.mp4 label: deadlift total frame number: 917\n"
     ]
    },
    {
     "name": "stderr",
     "output_type": "stream",
     "text": [
      "video 12 slice 0: 100%|██████████| 70/70 [00:00<00:00, 1118.39it/s]\n",
      "video 12 slice 1: 100%|██████████| 70/70 [00:03<00:00, 22.20it/s]\n",
      "video 12 slice 2: 100%|██████████| 70/70 [00:03<00:00, 21.73it/s]\n",
      "video 12 slice 3: 100%|██████████| 70/70 [00:03<00:00, 21.84it/s]\n",
      "video 12 slice 4: 100%|██████████| 70/70 [00:03<00:00, 22.02it/s]\n",
      "video 12 slice 5: 100%|██████████| 70/70 [00:03<00:00, 22.20it/s]\n",
      "video 12 slice 6: 100%|██████████| 70/70 [00:03<00:00, 22.18it/s]\n",
      "video 12 slice 7: 100%|██████████| 70/70 [00:03<00:00, 22.18it/s]\n",
      "video 12 slice 8: 100%|██████████| 70/70 [00:03<00:00, 22.12it/s]\n",
      "video 12 slice 9: 100%|██████████| 70/70 [00:03<00:00, 22.15it/s]\n",
      "video 12 slice 10: 100%|██████████| 70/70 [00:03<00:00, 21.89it/s]\n",
      "video 12 slice 11: 100%|██████████| 70/70 [00:03<00:00, 22.18it/s]\n",
      "video 12 slice 12: 100%|██████████| 70/70 [00:03<00:00, 22.16it/s]\n"
     ]
    },
    {
     "name": "stdout",
     "output_type": "stream",
     "text": [
      "video: deadlift_raw/COULD YOU MANAGE THIS 300KG_661LBS X 10 REPS DEADLIFT.mp4 label: deadlift total frame number: 917\n"
     ]
    },
    {
     "name": "stderr",
     "output_type": "stream",
     "text": [
      "video 12 slice 0: 100%|██████████| 100/100 [00:00<00:00, 1264.93it/s]\n",
      "video 12 slice 1: 100%|██████████| 100/100 [00:04<00:00, 22.23it/s]\n",
      "video 12 slice 2: 100%|██████████| 100/100 [00:04<00:00, 22.12it/s]\n",
      "video 12 slice 3: 100%|██████████| 100/100 [00:04<00:00, 22.21it/s]\n",
      "video 12 slice 4: 100%|██████████| 100/100 [00:04<00:00, 22.19it/s]\n",
      "video 12 slice 5: 100%|██████████| 100/100 [00:04<00:00, 22.06it/s]\n",
      "video 12 slice 6: 100%|██████████| 100/100 [00:04<00:00, 22.16it/s]\n",
      "video 12 slice 7: 100%|██████████| 100/100 [00:04<00:00, 22.15it/s]\n",
      "video 12 slice 8: 100%|██████████| 100/100 [00:04<00:00, 22.22it/s]\n"
     ]
    },
    {
     "name": "stdout",
     "output_type": "stream",
     "text": [
      "video: deadlift_raw/COULD YOU MANAGE THIS 300KG_661LBS X 10 REPS DEADLIFT.mp4 label: deadlift total frame number: 917\n"
     ]
    },
    {
     "name": "stderr",
     "output_type": "stream",
     "text": [
      "video 12 slice 0: 100%|██████████| 120/120 [00:00<00:00, 1188.70it/s]\n",
      "video 12 slice 1: 100%|██████████| 120/120 [00:05<00:00, 22.21it/s]\n",
      "video 12 slice 2: 100%|██████████| 120/120 [00:05<00:00, 22.03it/s]\n",
      "video 12 slice 3: 100%|██████████| 120/120 [00:05<00:00, 22.21it/s]\n",
      "video 12 slice 4: 100%|██████████| 120/120 [00:05<00:00, 22.14it/s]\n",
      "video 12 slice 5: 100%|██████████| 120/120 [00:05<00:00, 22.20it/s]\n",
      "video 12 slice 6: 100%|██████████| 120/120 [00:05<00:00, 22.19it/s]\n"
     ]
    },
    {
     "name": "stdout",
     "output_type": "stream",
     "text": [
      "video: deadlift_raw/COULD YOU MANAGE THIS 300KG_661LBS X 10 REPS DEADLIFT.mp4 label: deadlift total frame number: 917\n"
     ]
    },
    {
     "name": "stderr",
     "output_type": "stream",
     "text": [
      "video 12 slice 0: 100%|██████████| 150/150 [00:00<00:00, 1199.20it/s]\n",
      "video 12 slice 1: 100%|██████████| 150/150 [00:06<00:00, 22.08it/s]\n",
      "video 12 slice 2: 100%|██████████| 150/150 [00:06<00:00, 22.19it/s]\n",
      "video 12 slice 3: 100%|██████████| 150/150 [00:06<00:00, 22.16it/s]\n",
      "video 12 slice 4: 100%|██████████| 150/150 [00:06<00:00, 22.10it/s]\n",
      "video 12 slice 5: 100%|██████████| 150/150 [00:06<00:00, 22.04it/s]\n"
     ]
    },
    {
     "name": "stdout",
     "output_type": "stream",
     "text": [
      "video: deadlift_raw/200 KG DEADLIFT @ 73 KG BODYWEIGHT.mp4 label: deadlift total frame number: 285\n"
     ]
    },
    {
     "name": "stderr",
     "output_type": "stream",
     "text": [
      "video 13 slice 0: 100%|██████████| 70/70 [00:00<00:00, 943.58it/s]\n",
      "video 13 slice 1: 100%|██████████| 70/70 [00:03<00:00, 22.13it/s]\n",
      "video 13 slice 2: 100%|██████████| 70/70 [00:03<00:00, 22.09it/s]\n",
      "video 13 slice 3: 100%|██████████| 70/70 [00:03<00:00, 22.12it/s]\n"
     ]
    },
    {
     "name": "stdout",
     "output_type": "stream",
     "text": [
      "video: deadlift_raw/200 KG DEADLIFT @ 73 KG BODYWEIGHT.mp4 label: deadlift total frame number: 285\n"
     ]
    },
    {
     "name": "stderr",
     "output_type": "stream",
     "text": [
      "video 13 slice 0: 100%|██████████| 100/100 [00:00<00:00, 1036.14it/s]\n",
      "video 13 slice 1: 100%|██████████| 100/100 [00:04<00:00, 22.11it/s]\n"
     ]
    },
    {
     "name": "stdout",
     "output_type": "stream",
     "text": [
      "video: deadlift_raw/200 KG DEADLIFT @ 73 KG BODYWEIGHT.mp4 label: deadlift total frame number: 285\n"
     ]
    },
    {
     "name": "stderr",
     "output_type": "stream",
     "text": [
      "video 13 slice 0: 100%|██████████| 120/120 [00:00<00:00, 1057.16it/s]\n",
      "video 13 slice 1: 100%|██████████| 120/120 [00:05<00:00, 22.15it/s]\n"
     ]
    },
    {
     "name": "stdout",
     "output_type": "stream",
     "text": [
      "video: deadlift_raw/200 KG DEADLIFT @ 73 KG BODYWEIGHT.mp4 label: deadlift total frame number: 285\n"
     ]
    },
    {
     "name": "stderr",
     "output_type": "stream",
     "text": [
      "video 13 slice 0: 100%|██████████| 150/150 [00:00<00:00, 1109.12it/s]\n"
     ]
    },
    {
     "name": "stdout",
     "output_type": "stream",
     "text": [
      "video: deadlift_raw/200kg deadlift at 17 years old (70kg bw).mp4 label: deadlift total frame number: 415\n"
     ]
    },
    {
     "name": "stderr",
     "output_type": "stream",
     "text": [
      "video 14 slice 0: 100%|██████████| 70/70 [00:00<00:00, 661.01it/s]\n",
      "video 14 slice 1: 100%|██████████| 70/70 [00:03<00:00, 22.17it/s]\n",
      "video 14 slice 2: 100%|██████████| 70/70 [00:03<00:00, 22.16it/s]\n",
      "video 14 slice 3: 100%|██████████| 70/70 [00:03<00:00, 22.20it/s]\n",
      "video 14 slice 4: 100%|██████████| 70/70 [00:03<00:00, 22.16it/s]\n"
     ]
    },
    {
     "name": "stdout",
     "output_type": "stream",
     "text": [
      "video: deadlift_raw/200kg deadlift at 17 years old (70kg bw).mp4 label: deadlift total frame number: 415\n"
     ]
    },
    {
     "name": "stderr",
     "output_type": "stream",
     "text": [
      "video 14 slice 0: 100%|██████████| 100/100 [00:00<00:00, 1264.24it/s]\n",
      "video 14 slice 1: 100%|██████████| 100/100 [00:04<00:00, 22.03it/s]\n",
      "video 14 slice 2: 100%|██████████| 100/100 [00:04<00:00, 22.04it/s]\n",
      "video 14 slice 3: 100%|██████████| 100/100 [00:04<00:00, 22.12it/s]\n"
     ]
    },
    {
     "name": "stdout",
     "output_type": "stream",
     "text": [
      "video: deadlift_raw/200kg deadlift at 17 years old (70kg bw).mp4 label: deadlift total frame number: 415\n"
     ]
    },
    {
     "name": "stderr",
     "output_type": "stream",
     "text": [
      "video 14 slice 0: 100%|██████████| 120/120 [00:00<00:00, 1386.68it/s]\n",
      "video 14 slice 1: 100%|██████████| 120/120 [00:05<00:00, 22.07it/s]\n",
      "video 14 slice 2: 100%|██████████| 120/120 [00:05<00:00, 22.20it/s]\n"
     ]
    },
    {
     "name": "stdout",
     "output_type": "stream",
     "text": [
      "video: deadlift_raw/200kg deadlift at 17 years old (70kg bw).mp4 label: deadlift total frame number: 415\n"
     ]
    },
    {
     "name": "stderr",
     "output_type": "stream",
     "text": [
      "video 14 slice 0: 100%|██████████| 150/150 [00:00<00:00, 1429.29it/s]\n",
      "video 14 slice 1: 100%|██████████| 150/150 [00:06<00:00, 21.80it/s]\n"
     ]
    },
    {
     "name": "stdout",
     "output_type": "stream",
     "text": [
      "video: deadlift_raw/Deadlift 200kg_440lbs .mp4 label: deadlift total frame number: 267\n"
     ]
    },
    {
     "name": "stderr",
     "output_type": "stream",
     "text": [
      "video 15 slice 0: 100%|██████████| 70/70 [00:00<00:00, 2923.76it/s]\n",
      "video 15 slice 1: 100%|██████████| 70/70 [00:03<00:00, 22.54it/s]\n",
      "video 15 slice 2: 100%|██████████| 70/70 [00:03<00:00, 22.44it/s]\n"
     ]
    },
    {
     "name": "stdout",
     "output_type": "stream",
     "text": [
      "video: deadlift_raw/Deadlift 200kg_440lbs .mp4 label: deadlift total frame number: 267\n"
     ]
    },
    {
     "name": "stderr",
     "output_type": "stream",
     "text": [
      "video 15 slice 0: 100%|██████████| 100/100 [00:00<00:00, 3689.12it/s]\n",
      "video 15 slice 1: 100%|██████████| 100/100 [00:04<00:00, 22.33it/s]\n"
     ]
    },
    {
     "name": "stdout",
     "output_type": "stream",
     "text": [
      "video: deadlift_raw/Deadlift 200kg_440lbs .mp4 label: deadlift total frame number: 267\n"
     ]
    },
    {
     "name": "stderr",
     "output_type": "stream",
     "text": [
      "video 15 slice 0: 100%|██████████| 120/120 [00:00<00:00, 2398.70it/s]\n",
      "video 15 slice 1: 100%|██████████| 120/120 [00:05<00:00, 22.67it/s]\n"
     ]
    },
    {
     "name": "stdout",
     "output_type": "stream",
     "text": [
      "video: deadlift_raw/Deadlift 200kg_440lbs .mp4 label: deadlift total frame number: 267\n"
     ]
    },
    {
     "name": "stderr",
     "output_type": "stream",
     "text": [
      "video 15 slice 0: 100%|██████████| 150/150 [00:00<00:00, 4278.24it/s]\n"
     ]
    },
    {
     "name": "stdout",
     "output_type": "stream",
     "text": [
      "video: squat_raw/Frederick Luethcke - Back Squat - 151kg for 15 Reps.mp4 label: squat total frame number: 2114\n"
     ]
    },
    {
     "name": "stderr",
     "output_type": "stream",
     "text": [
      "video 0 slice 0: 100%|██████████| 70/70 [00:00<00:00, 621.82it/s]\n",
      "video 0 slice 1: 100%|██████████| 70/70 [00:03<00:00, 22.16it/s]\n",
      "video 0 slice 2: 100%|██████████| 70/70 [00:03<00:00, 22.14it/s]\n",
      "video 0 slice 3: 100%|██████████| 70/70 [00:03<00:00, 22.27it/s]\n",
      "video 0 slice 4: 100%|██████████| 70/70 [00:03<00:00, 22.38it/s]\n",
      "video 0 slice 5: 100%|██████████| 70/70 [00:03<00:00, 22.27it/s]\n",
      "video 0 slice 6: 100%|██████████| 70/70 [00:03<00:00, 22.31it/s]\n",
      "video 0 slice 7: 100%|██████████| 70/70 [00:03<00:00, 22.27it/s]\n",
      "video 0 slice 8: 100%|██████████| 70/70 [00:03<00:00, 22.21it/s]\n",
      "video 0 slice 9: 100%|██████████| 70/70 [00:03<00:00, 21.95it/s]\n",
      "video 0 slice 10: 100%|██████████| 70/70 [00:03<00:00, 22.26it/s]\n",
      "video 0 slice 11: 100%|██████████| 70/70 [00:03<00:00, 22.29it/s]\n",
      "video 0 slice 12: 100%|██████████| 70/70 [00:03<00:00, 22.30it/s]\n",
      "video 0 slice 13: 100%|██████████| 70/70 [00:03<00:00, 22.26it/s]\n",
      "video 0 slice 14: 100%|██████████| 70/70 [00:03<00:00, 22.32it/s]\n",
      "video 0 slice 15: 100%|██████████| 70/70 [00:03<00:00, 22.22it/s]\n",
      "video 0 slice 16: 100%|██████████| 70/70 [00:03<00:00, 22.30it/s]\n",
      "video 0 slice 17: 100%|██████████| 70/70 [00:03<00:00, 22.34it/s]\n",
      "video 0 slice 18: 100%|██████████| 70/70 [00:03<00:00, 21.91it/s]\n",
      "video 0 slice 19: 100%|██████████| 70/70 [00:03<00:00, 22.29it/s]\n",
      "video 0 slice 20: 100%|██████████| 70/70 [00:03<00:00, 22.28it/s]\n",
      "video 0 slice 21: 100%|██████████| 70/70 [00:03<00:00, 22.24it/s]\n",
      "video 0 slice 22: 100%|██████████| 70/70 [00:03<00:00, 22.29it/s]\n",
      "video 0 slice 23: 100%|██████████| 70/70 [00:03<00:00, 22.37it/s]\n",
      "video 0 slice 24: 100%|██████████| 70/70 [00:03<00:00, 22.29it/s]\n",
      "video 0 slice 25: 100%|██████████| 70/70 [00:03<00:00, 22.33it/s]\n",
      "video 0 slice 26: 100%|██████████| 70/70 [00:03<00:00, 22.08it/s]\n",
      "video 0 slice 27: 100%|██████████| 70/70 [00:03<00:00, 22.15it/s]\n",
      "video 0 slice 28: 100%|██████████| 70/70 [00:02<00:00, 26.58it/s]\n",
      "video 0 slice 29: 100%|██████████| 70/70 [00:00<00:00, 91.71it/s]\n"
     ]
    },
    {
     "name": "stdout",
     "output_type": "stream",
     "text": [
      "video: squat_raw/Frederick Luethcke - Back Squat - 151kg for 15 Reps.mp4 label: squat total frame number: 2114\n"
     ]
    },
    {
     "name": "stderr",
     "output_type": "stream",
     "text": [
      "video 0 slice 0: 100%|██████████| 100/100 [00:00<00:00, 1262.76it/s]\n",
      "video 0 slice 1: 100%|██████████| 100/100 [00:04<00:00, 22.27it/s]\n",
      "video 0 slice 2: 100%|██████████| 100/100 [00:04<00:00, 22.25it/s]\n",
      "video 0 slice 3: 100%|██████████| 100/100 [00:04<00:00, 22.30it/s]\n",
      "video 0 slice 4: 100%|██████████| 100/100 [00:04<00:00, 22.13it/s]\n",
      "video 0 slice 5: 100%|██████████| 100/100 [00:04<00:00, 22.31it/s]\n",
      "video 0 slice 6: 100%|██████████| 100/100 [00:04<00:00, 22.28it/s]\n",
      "video 0 slice 7: 100%|██████████| 100/100 [00:04<00:00, 22.30it/s]\n",
      "video 0 slice 8: 100%|██████████| 100/100 [00:04<00:00, 22.25it/s]\n",
      "video 0 slice 9: 100%|██████████| 100/100 [00:04<00:00, 22.27it/s]\n",
      "video 0 slice 10: 100%|██████████| 100/100 [00:04<00:00, 22.14it/s]\n",
      "video 0 slice 11: 100%|██████████| 100/100 [00:04<00:00, 22.27it/s]\n",
      "video 0 slice 12: 100%|██████████| 100/100 [00:04<00:00, 22.33it/s]\n",
      "video 0 slice 13: 100%|██████████| 100/100 [00:04<00:00, 22.26it/s]\n",
      "video 0 slice 14: 100%|██████████| 100/100 [00:04<00:00, 22.27it/s]\n",
      "video 0 slice 15: 100%|██████████| 100/100 [00:04<00:00, 22.31it/s]\n",
      "video 0 slice 16: 100%|██████████| 100/100 [00:04<00:00, 22.15it/s]\n",
      "video 0 slice 17: 100%|██████████| 100/100 [00:04<00:00, 22.29it/s]\n",
      "video 0 slice 18: 100%|██████████| 100/100 [00:04<00:00, 22.32it/s]\n",
      "video 0 slice 19: 100%|██████████| 100/100 [00:04<00:00, 22.32it/s]\n",
      "video 0 slice 20: 100%|██████████| 100/100 [00:01<00:00, 61.62it/s]\n"
     ]
    },
    {
     "name": "stdout",
     "output_type": "stream",
     "text": [
      "video: squat_raw/Frederick Luethcke - Back Squat - 151kg for 15 Reps.mp4 label: squat total frame number: 2114\n"
     ]
    },
    {
     "name": "stderr",
     "output_type": "stream",
     "text": [
      "video 0 slice 0: 100%|██████████| 120/120 [00:00<00:00, 1420.92it/s]\n",
      "video 0 slice 1: 100%|██████████| 120/120 [00:05<00:00, 22.22it/s]\n",
      "video 0 slice 2: 100%|██████████| 120/120 [00:05<00:00, 22.06it/s]\n",
      "video 0 slice 3: 100%|██████████| 120/120 [00:05<00:00, 22.26it/s]\n",
      "video 0 slice 4: 100%|██████████| 120/120 [00:05<00:00, 22.29it/s]\n",
      "video 0 slice 5: 100%|██████████| 120/120 [00:05<00:00, 22.22it/s]\n",
      "video 0 slice 6: 100%|██████████| 120/120 [00:05<00:00, 22.27it/s]\n",
      "video 0 slice 7: 100%|██████████| 120/120 [00:05<00:00, 22.15it/s]\n",
      "video 0 slice 8: 100%|██████████| 120/120 [00:05<00:00, 22.31it/s]\n",
      "video 0 slice 9: 100%|██████████| 120/120 [00:05<00:00, 22.30it/s]\n",
      "video 0 slice 10: 100%|██████████| 120/120 [00:05<00:00, 22.30it/s]\n",
      "video 0 slice 11: 100%|██████████| 120/120 [00:05<00:00, 22.33it/s]\n",
      "video 0 slice 12: 100%|██████████| 120/120 [00:05<00:00, 22.27it/s]\n",
      "video 0 slice 13: 100%|██████████| 120/120 [00:05<00:00, 22.23it/s]\n",
      "video 0 slice 14: 100%|██████████| 120/120 [00:05<00:00, 22.29it/s]\n",
      "video 0 slice 15: 100%|██████████| 120/120 [00:05<00:00, 22.32it/s]\n",
      "video 0 slice 16: 100%|██████████| 120/120 [00:04<00:00, 26.45it/s]\n"
     ]
    },
    {
     "name": "stdout",
     "output_type": "stream",
     "text": [
      "video: squat_raw/Frederick Luethcke - Back Squat - 151kg for 15 Reps.mp4 label: squat total frame number: 2114\n"
     ]
    },
    {
     "name": "stderr",
     "output_type": "stream",
     "text": [
      "video 0 slice 0: 100%|██████████| 150/150 [00:00<00:00, 1213.59it/s]\n",
      "video 0 slice 1: 100%|██████████| 150/150 [00:06<00:00, 22.11it/s]\n",
      "video 0 slice 2: 100%|██████████| 150/150 [00:06<00:00, 22.26it/s]\n",
      "video 0 slice 3: 100%|██████████| 150/150 [00:06<00:00, 22.16it/s]\n",
      "video 0 slice 4: 100%|██████████| 150/150 [00:06<00:00, 22.30it/s]\n",
      "video 0 slice 5: 100%|██████████| 150/150 [00:06<00:00, 22.27it/s]\n",
      "video 0 slice 6: 100%|██████████| 150/150 [00:06<00:00, 22.27it/s]\n",
      "video 0 slice 7: 100%|██████████| 150/150 [00:06<00:00, 22.23it/s]\n",
      "video 0 slice 8: 100%|██████████| 150/150 [00:06<00:00, 22.26it/s]\n",
      "video 0 slice 9: 100%|██████████| 150/150 [00:06<00:00, 22.28it/s]\n",
      "video 0 slice 10: 100%|██████████| 150/150 [00:06<00:00, 22.31it/s]\n",
      "video 0 slice 11: 100%|██████████| 150/150 [00:06<00:00, 22.24it/s]\n",
      "video 0 slice 12: 100%|██████████| 150/150 [00:06<00:00, 22.14it/s]\n",
      "video 0 slice 13: 100%|██████████| 150/150 [00:03<00:00, 39.09it/s]\n"
     ]
    },
    {
     "name": "stdout",
     "output_type": "stream",
     "text": [
      "video: squat_raw/100KG Squat for 9 Reps Beltless .mp4 label: squat total frame number: 950\n"
     ]
    },
    {
     "name": "stderr",
     "output_type": "stream",
     "text": [
      "video 1 slice 0: 100%|██████████| 70/70 [00:00<00:00, 980.42it/s]\n",
      "video 1 slice 1: 100%|██████████| 70/70 [00:03<00:00, 22.39it/s]\n",
      "video 1 slice 2: 100%|██████████| 70/70 [00:03<00:00, 22.48it/s]\n",
      "video 1 slice 3: 100%|██████████| 70/70 [00:03<00:00, 22.42it/s]\n",
      "video 1 slice 4: 100%|██████████| 70/70 [00:03<00:00, 22.42it/s]\n",
      "video 1 slice 5: 100%|██████████| 70/70 [00:03<00:00, 22.23it/s]\n",
      "video 1 slice 6: 100%|██████████| 70/70 [00:03<00:00, 22.44it/s]\n",
      "video 1 slice 7: 100%|██████████| 70/70 [00:03<00:00, 22.52it/s]\n",
      "video 1 slice 8: 100%|██████████| 70/70 [00:03<00:00, 22.47it/s]\n",
      "video 1 slice 9: 100%|██████████| 70/70 [00:03<00:00, 22.49it/s]\n",
      "video 1 slice 10: 100%|██████████| 70/70 [00:03<00:00, 22.44it/s]\n",
      "video 1 slice 11: 100%|██████████| 70/70 [00:03<00:00, 22.49it/s]\n",
      "video 1 slice 12: 100%|██████████| 70/70 [00:03<00:00, 22.35it/s]\n"
     ]
    },
    {
     "name": "stdout",
     "output_type": "stream",
     "text": [
      "video: squat_raw/100KG Squat for 9 Reps Beltless .mp4 label: squat total frame number: 950\n"
     ]
    },
    {
     "name": "stderr",
     "output_type": "stream",
     "text": [
      "video 1 slice 0: 100%|██████████| 100/100 [00:00<00:00, 1563.88it/s]\n",
      "video 1 slice 1: 100%|██████████| 100/100 [00:04<00:00, 22.30it/s]\n",
      "video 1 slice 2: 100%|██████████| 100/100 [00:04<00:00, 22.49it/s]\n",
      "video 1 slice 3: 100%|██████████| 100/100 [00:04<00:00, 22.48it/s]\n",
      "video 1 slice 4: 100%|██████████| 100/100 [00:04<00:00, 22.47it/s]\n",
      "video 1 slice 5: 100%|██████████| 100/100 [00:04<00:00, 22.46it/s]\n",
      "video 1 slice 6: 100%|██████████| 100/100 [00:04<00:00, 22.31it/s]\n",
      "video 1 slice 7: 100%|██████████| 100/100 [00:04<00:00, 22.32it/s]\n",
      "video 1 slice 8: 100%|██████████| 100/100 [00:04<00:00, 22.45it/s]\n"
     ]
    },
    {
     "name": "stdout",
     "output_type": "stream",
     "text": [
      "video: squat_raw/100KG Squat for 9 Reps Beltless .mp4 label: squat total frame number: 950\n"
     ]
    },
    {
     "name": "stderr",
     "output_type": "stream",
     "text": [
      "video 1 slice 0: 100%|██████████| 120/120 [00:00<00:00, 995.69it/s]\n",
      "video 1 slice 1: 100%|██████████| 120/120 [00:05<00:00, 22.50it/s]\n",
      "video 1 slice 2: 100%|██████████| 120/120 [00:05<00:00, 22.47it/s]\n",
      "video 1 slice 3: 100%|██████████| 120/120 [00:05<00:00, 22.45it/s]\n",
      "video 1 slice 4: 100%|██████████| 120/120 [00:05<00:00, 22.46it/s]\n",
      "video 1 slice 5: 100%|██████████| 120/120 [00:05<00:00, 22.32it/s]\n",
      "video 1 slice 6: 100%|██████████| 120/120 [00:05<00:00, 22.46it/s]\n"
     ]
    },
    {
     "name": "stdout",
     "output_type": "stream",
     "text": [
      "video: squat_raw/100KG Squat for 9 Reps Beltless .mp4 label: squat total frame number: 950\n"
     ]
    },
    {
     "name": "stderr",
     "output_type": "stream",
     "text": [
      "video 1 slice 0: 100%|██████████| 150/150 [00:00<00:00, 1940.35it/s]\n",
      "video 1 slice 1: 100%|██████████| 150/150 [00:06<00:00, 22.49it/s]\n",
      "video 1 slice 2: 100%|██████████| 150/150 [00:06<00:00, 22.49it/s]\n",
      "video 1 slice 3: 100%|██████████| 150/150 [00:06<00:00, 22.40it/s]\n",
      "video 1 slice 4: 100%|██████████| 150/150 [00:06<00:00, 22.47it/s]\n",
      "video 1 slice 5: 100%|██████████| 150/150 [00:06<00:00, 22.46it/s]\n"
     ]
    },
    {
     "name": "stdout",
     "output_type": "stream",
     "text": [
      "video: squat_raw/100 KG squat 8 reps RAW.mp4 label: squat total frame number: 1799\n"
     ]
    },
    {
     "name": "stderr",
     "output_type": "stream",
     "text": [
      "video 2 slice 0: 100%|██████████| 70/70 [00:00<00:00, 1269.62it/s]\n",
      "video 2 slice 1: 100%|██████████| 70/70 [00:03<00:00, 22.19it/s]\n",
      "video 2 slice 2: 100%|██████████| 70/70 [00:03<00:00, 22.21it/s]\n",
      "video 2 slice 3: 100%|██████████| 70/70 [00:03<00:00, 22.22it/s]\n",
      "video 2 slice 4: 100%|██████████| 70/70 [00:03<00:00, 21.92it/s]\n",
      "video 2 slice 5: 100%|██████████| 70/70 [00:03<00:00, 22.12it/s]\n",
      "video 2 slice 6: 100%|██████████| 70/70 [00:03<00:00, 22.13it/s]\n",
      "video 2 slice 7: 100%|██████████| 70/70 [00:03<00:00, 22.17it/s]\n",
      "video 2 slice 8: 100%|██████████| 70/70 [00:03<00:00, 22.16it/s]\n",
      "video 2 slice 9: 100%|██████████| 70/70 [00:03<00:00, 22.26it/s]\n",
      "video 2 slice 10: 100%|██████████| 70/70 [00:03<00:00, 22.17it/s]\n",
      "video 2 slice 11: 100%|██████████| 70/70 [00:03<00:00, 22.20it/s]\n",
      "video 2 slice 12: 100%|██████████| 70/70 [00:03<00:00, 22.00it/s]\n",
      "video 2 slice 13: 100%|██████████| 70/70 [00:03<00:00, 22.21it/s]\n",
      "video 2 slice 14: 100%|██████████| 70/70 [00:03<00:00, 22.07it/s]\n",
      "video 2 slice 15: 100%|██████████| 70/70 [00:03<00:00, 22.28it/s]\n",
      "video 2 slice 16: 100%|██████████| 70/70 [00:03<00:00, 22.23it/s]\n",
      "video 2 slice 17: 100%|██████████| 70/70 [00:03<00:00, 22.26it/s]\n",
      "video 2 slice 18: 100%|██████████| 70/70 [00:03<00:00, 22.26it/s]\n",
      "video 2 slice 19: 100%|██████████| 70/70 [00:03<00:00, 22.17it/s]\n",
      "video 2 slice 20: 100%|██████████| 70/70 [00:03<00:00, 22.04it/s]\n",
      "video 2 slice 21: 100%|██████████| 70/70 [00:03<00:00, 22.11it/s]\n",
      "video 2 slice 22: 100%|██████████| 70/70 [00:03<00:00, 22.10it/s]\n",
      "video 2 slice 23: 100%|██████████| 70/70 [00:03<00:00, 22.22it/s]\n",
      "video 2 slice 24: 100%|██████████| 70/70 [00:03<00:00, 22.21it/s]\n"
     ]
    },
    {
     "name": "stdout",
     "output_type": "stream",
     "text": [
      "video: squat_raw/100 KG squat 8 reps RAW.mp4 label: squat total frame number: 1799\n"
     ]
    },
    {
     "name": "stderr",
     "output_type": "stream",
     "text": [
      "video 2 slice 0: 100%|██████████| 100/100 [00:00<00:00, 1271.56it/s]\n",
      "video 2 slice 1: 100%|██████████| 100/100 [00:04<00:00, 22.25it/s]\n",
      "video 2 slice 2: 100%|██████████| 100/100 [00:04<00:00, 22.21it/s]\n",
      "video 2 slice 3: 100%|██████████| 100/100 [00:04<00:00, 22.03it/s]\n",
      "video 2 slice 4: 100%|██████████| 100/100 [00:04<00:00, 22.03it/s]\n",
      "video 2 slice 5: 100%|██████████| 100/100 [00:04<00:00, 22.24it/s]\n",
      "video 2 slice 6: 100%|██████████| 100/100 [00:04<00:00, 22.22it/s]\n",
      "video 2 slice 7: 100%|██████████| 100/100 [00:04<00:00, 22.16it/s]\n",
      "video 2 slice 8: 100%|██████████| 100/100 [00:04<00:00, 22.21it/s]\n",
      "video 2 slice 9: 100%|██████████| 100/100 [00:04<00:00, 22.26it/s]\n",
      "video 2 slice 10: 100%|██████████| 100/100 [00:04<00:00, 22.14it/s]\n",
      "video 2 slice 11: 100%|██████████| 100/100 [00:04<00:00, 22.11it/s]\n",
      "video 2 slice 12: 100%|██████████| 100/100 [00:04<00:00, 22.23it/s]\n",
      "video 2 slice 13: 100%|██████████| 100/100 [00:04<00:00, 22.16it/s]\n",
      "video 2 slice 14: 100%|██████████| 100/100 [00:04<00:00, 22.26it/s]\n",
      "video 2 slice 15: 100%|██████████| 100/100 [00:04<00:00, 22.21it/s]\n",
      "video 2 slice 16: 100%|██████████| 100/100 [00:04<00:00, 22.10it/s]\n"
     ]
    },
    {
     "name": "stdout",
     "output_type": "stream",
     "text": [
      "video: squat_raw/100 KG squat 8 reps RAW.mp4 label: squat total frame number: 1799\n"
     ]
    },
    {
     "name": "stderr",
     "output_type": "stream",
     "text": [
      "video 2 slice 0: 100%|██████████| 120/120 [00:00<00:00, 824.46it/s]\n",
      "video 2 slice 1: 100%|██████████| 120/120 [00:05<00:00, 22.26it/s]\n",
      "video 2 slice 2: 100%|██████████| 120/120 [00:05<00:00, 22.25it/s]\n",
      "video 2 slice 3: 100%|██████████| 120/120 [00:05<00:00, 22.22it/s]\n",
      "video 2 slice 4: 100%|██████████| 120/120 [00:05<00:00, 22.25it/s]\n",
      "video 2 slice 5: 100%|██████████| 120/120 [00:05<00:00, 22.22it/s]\n",
      "video 2 slice 6: 100%|██████████| 120/120 [00:05<00:00, 22.08it/s]\n",
      "video 2 slice 7: 100%|██████████| 120/120 [00:05<00:00, 22.26it/s]\n",
      "video 2 slice 8: 100%|██████████| 120/120 [00:05<00:00, 22.24it/s]\n",
      "video 2 slice 9: 100%|██████████| 120/120 [00:05<00:00, 22.22it/s]\n",
      "video 2 slice 10: 100%|██████████| 120/120 [00:05<00:00, 22.09it/s]\n",
      "video 2 slice 11: 100%|██████████| 120/120 [00:05<00:00, 22.06it/s]\n",
      "video 2 slice 12: 100%|██████████| 120/120 [00:05<00:00, 22.23it/s]\n",
      "video 2 slice 13: 100%|██████████| 120/120 [00:05<00:00, 22.23it/s]\n"
     ]
    },
    {
     "name": "stdout",
     "output_type": "stream",
     "text": [
      "video: squat_raw/100 KG squat 8 reps RAW.mp4 label: squat total frame number: 1799\n"
     ]
    },
    {
     "name": "stderr",
     "output_type": "stream",
     "text": [
      "video 2 slice 0: 100%|██████████| 150/150 [00:00<00:00, 1406.24it/s]\n",
      "video 2 slice 1: 100%|██████████| 150/150 [00:06<00:00, 22.22it/s]\n",
      "video 2 slice 2: 100%|██████████| 150/150 [00:06<00:00, 22.19it/s]\n",
      "video 2 slice 3: 100%|██████████| 150/150 [00:06<00:00, 22.06it/s]\n",
      "video 2 slice 4: 100%|██████████| 150/150 [00:06<00:00, 22.24it/s]\n",
      "video 2 slice 5: 100%|██████████| 150/150 [00:06<00:00, 22.25it/s]\n",
      "video 2 slice 6: 100%|██████████| 150/150 [00:06<00:00, 22.22it/s]\n",
      "video 2 slice 7: 100%|██████████| 150/150 [00:06<00:00, 22.12it/s]\n",
      "video 2 slice 8: 100%|██████████| 150/150 [00:06<00:00, 22.26it/s]\n",
      "video 2 slice 9: 100%|██████████| 150/150 [00:06<00:00, 22.26it/s]\n",
      "video 2 slice 10: 100%|██████████| 150/150 [00:06<00:00, 22.23it/s]\n"
     ]
    },
    {
     "name": "stdout",
     "output_type": "stream",
     "text": [
      "video: squat_raw/180kg Squat x 10reps.mp4 label: squat total frame number: 1402\n"
     ]
    },
    {
     "name": "stderr",
     "output_type": "stream",
     "text": [
      "video 3 slice 0: 100%|██████████| 70/70 [00:00<00:00, 992.42it/s]\n",
      "video 3 slice 1: 100%|██████████| 70/70 [00:03<00:00, 22.03it/s]\n",
      "video 3 slice 2: 100%|██████████| 70/70 [00:03<00:00, 22.24it/s]\n",
      "video 3 slice 3: 100%|██████████| 70/70 [00:03<00:00, 22.14it/s]\n",
      "video 3 slice 4: 100%|██████████| 70/70 [00:03<00:00, 22.29it/s]\n",
      "video 3 slice 5: 100%|██████████| 70/70 [00:03<00:00, 22.27it/s]\n",
      "video 3 slice 6: 100%|██████████| 70/70 [00:03<00:00, 22.23it/s]\n",
      "video 3 slice 7: 100%|██████████| 70/70 [00:03<00:00, 22.32it/s]\n",
      "video 3 slice 8: 100%|██████████| 70/70 [00:03<00:00, 22.18it/s]\n",
      "video 3 slice 9: 100%|██████████| 70/70 [00:03<00:00, 22.23it/s]\n",
      "video 3 slice 10: 100%|██████████| 70/70 [00:03<00:00, 21.83it/s]\n",
      "video 3 slice 11: 100%|██████████| 70/70 [00:03<00:00, 22.12it/s]\n",
      "video 3 slice 12: 100%|██████████| 70/70 [00:03<00:00, 22.24it/s]\n",
      "video 3 slice 13: 100%|██████████| 70/70 [00:03<00:00, 22.24it/s]\n",
      "video 3 slice 14: 100%|██████████| 70/70 [00:03<00:00, 22.21it/s]\n",
      "video 3 slice 15: 100%|██████████| 70/70 [00:03<00:00, 22.24it/s]\n",
      "video 3 slice 16: 100%|██████████| 70/70 [00:03<00:00, 22.22it/s]\n",
      "video 3 slice 17: 100%|██████████| 70/70 [00:03<00:00, 22.23it/s]\n",
      "video 3 slice 18: 100%|██████████| 70/70 [00:03<00:00, 22.00it/s]\n",
      "video 3 slice 19: 100%|██████████| 70/70 [00:03<00:00, 22.25it/s]\n"
     ]
    },
    {
     "name": "stdout",
     "output_type": "stream",
     "text": [
      "video: squat_raw/180kg Squat x 10reps.mp4 label: squat total frame number: 1402\n"
     ]
    },
    {
     "name": "stderr",
     "output_type": "stream",
     "text": [
      "video 3 slice 0: 100%|██████████| 100/100 [00:00<00:00, 1162.36it/s]\n",
      "video 3 slice 1: 100%|██████████| 100/100 [00:04<00:00, 22.20it/s]\n",
      "video 3 slice 2: 100%|██████████| 100/100 [00:04<00:00, 22.32it/s]\n",
      "video 3 slice 3: 100%|██████████| 100/100 [00:04<00:00, 22.29it/s]\n",
      "video 3 slice 4: 100%|██████████| 100/100 [00:04<00:00, 22.29it/s]\n",
      "video 3 slice 5: 100%|██████████| 100/100 [00:04<00:00, 22.08it/s]\n",
      "video 3 slice 6: 100%|██████████| 100/100 [00:04<00:00, 22.15it/s]\n",
      "video 3 slice 7: 100%|██████████| 100/100 [00:04<00:00, 22.21it/s]\n",
      "video 3 slice 8: 100%|██████████| 100/100 [00:04<00:00, 22.19it/s]\n",
      "video 3 slice 9: 100%|██████████| 100/100 [00:04<00:00, 22.20it/s]\n",
      "video 3 slice 10: 100%|██████████| 100/100 [00:04<00:00, 22.16it/s]\n",
      "video 3 slice 11: 100%|██████████| 100/100 [00:04<00:00, 22.05it/s]\n",
      "video 3 slice 12: 100%|██████████| 100/100 [00:04<00:00, 22.21it/s]\n",
      "video 3 slice 13: 100%|██████████| 100/100 [00:04<00:00, 22.23it/s]\n"
     ]
    },
    {
     "name": "stdout",
     "output_type": "stream",
     "text": [
      "video: squat_raw/180kg Squat x 10reps.mp4 label: squat total frame number: 1402\n"
     ]
    },
    {
     "name": "stderr",
     "output_type": "stream",
     "text": [
      "video 3 slice 0: 100%|██████████| 120/120 [00:00<00:00, 984.31it/s]\n",
      "video 3 slice 1: 100%|██████████| 120/120 [00:05<00:00, 22.22it/s]\n",
      "video 3 slice 2: 100%|██████████| 120/120 [00:05<00:00, 22.24it/s]\n",
      "video 3 slice 3: 100%|██████████| 120/120 [00:05<00:00, 22.09it/s]\n",
      "video 3 slice 4: 100%|██████████| 120/120 [00:05<00:00, 22.28it/s]\n",
      "video 3 slice 5: 100%|██████████| 120/120 [00:05<00:00, 22.26it/s]\n",
      "video 3 slice 6: 100%|██████████| 120/120 [00:05<00:00, 22.23it/s]\n",
      "video 3 slice 7: 100%|██████████| 120/120 [00:05<00:00, 22.24it/s]\n",
      "video 3 slice 8: 100%|██████████| 120/120 [00:05<00:00, 22.25it/s]\n",
      "video 3 slice 9: 100%|██████████| 120/120 [00:05<00:00, 22.11it/s]\n",
      "video 3 slice 10: 100%|██████████| 120/120 [00:05<00:00, 22.22it/s]\n"
     ]
    },
    {
     "name": "stdout",
     "output_type": "stream",
     "text": [
      "video: squat_raw/180kg Squat x 10reps.mp4 label: squat total frame number: 1402\n"
     ]
    },
    {
     "name": "stderr",
     "output_type": "stream",
     "text": [
      "video 3 slice 0: 100%|██████████| 150/150 [00:00<00:00, 1328.98it/s]\n",
      "video 3 slice 1: 100%|██████████| 150/150 [00:06<00:00, 22.24it/s]\n",
      "video 3 slice 2: 100%|██████████| 150/150 [00:06<00:00, 22.27it/s]\n",
      "video 3 slice 3: 100%|██████████| 150/150 [00:06<00:00, 22.15it/s]\n",
      "video 3 slice 4: 100%|██████████| 150/150 [00:06<00:00, 22.26it/s]\n",
      "video 3 slice 5: 100%|██████████| 150/150 [00:06<00:00, 22.26it/s]\n",
      "video 3 slice 6: 100%|██████████| 150/150 [00:06<00:00, 22.19it/s]\n",
      "video 3 slice 7: 100%|██████████| 150/150 [00:06<00:00, 22.15it/s]\n",
      "video 3 slice 8: 100%|██████████| 150/150 [00:06<00:00, 22.25it/s]\n"
     ]
    },
    {
     "name": "stdout",
     "output_type": "stream",
     "text": [
      "video: squat_raw/150kg_330lbs squat for 5 reps.mp4 label: squat total frame number: 1362\n"
     ]
    },
    {
     "name": "stderr",
     "output_type": "stream",
     "text": [
      "video 4 slice 0: 100%|██████████| 70/70 [00:00<00:00, 1285.81it/s]\n",
      "video 4 slice 1: 100%|██████████| 70/70 [00:03<00:00, 22.29it/s]\n",
      "video 4 slice 2: 100%|██████████| 70/70 [00:03<00:00, 22.27it/s]\n",
      "video 4 slice 3: 100%|██████████| 70/70 [00:03<00:00, 22.23it/s]\n",
      "video 4 slice 4: 100%|██████████| 70/70 [00:03<00:00, 22.15it/s]\n",
      "video 4 slice 5: 100%|██████████| 70/70 [00:03<00:00, 22.15it/s]\n",
      "video 4 slice 6: 100%|██████████| 70/70 [00:03<00:00, 22.00it/s]\n",
      "video 4 slice 7: 100%|██████████| 70/70 [00:03<00:00, 22.25it/s]\n",
      "video 4 slice 8: 100%|██████████| 70/70 [00:03<00:00, 22.25it/s]\n",
      "video 4 slice 9: 100%|██████████| 70/70 [00:03<00:00, 22.29it/s]\n",
      "video 4 slice 10: 100%|██████████| 70/70 [00:03<00:00, 22.11it/s]\n",
      "video 4 slice 11: 100%|██████████| 70/70 [00:03<00:00, 22.25it/s]\n",
      "video 4 slice 12: 100%|██████████| 70/70 [00:03<00:00, 22.27it/s]\n",
      "video 4 slice 13: 100%|██████████| 70/70 [00:03<00:00, 22.27it/s]\n",
      "video 4 slice 14: 100%|██████████| 70/70 [00:03<00:00, 22.32it/s]\n",
      "video 4 slice 15: 100%|██████████| 70/70 [00:03<00:00, 21.99it/s]\n",
      "video 4 slice 16: 100%|██████████| 70/70 [00:03<00:00, 22.34it/s]\n",
      "video 4 slice 17: 100%|██████████| 70/70 [00:03<00:00, 22.29it/s]\n",
      "video 4 slice 18: 100%|██████████| 70/70 [00:03<00:00, 22.27it/s]\n"
     ]
    },
    {
     "name": "stdout",
     "output_type": "stream",
     "text": [
      "video: squat_raw/150kg_330lbs squat for 5 reps.mp4 label: squat total frame number: 1362\n"
     ]
    },
    {
     "name": "stderr",
     "output_type": "stream",
     "text": [
      "video 4 slice 0: 100%|██████████| 100/100 [00:00<00:00, 1352.91it/s]\n",
      "video 4 slice 1: 100%|██████████| 100/100 [00:04<00:00, 22.34it/s]\n",
      "video 4 slice 2: 100%|██████████| 100/100 [00:04<00:00, 22.24it/s]\n",
      "video 4 slice 3: 100%|██████████| 100/100 [00:04<00:00, 22.20it/s]\n",
      "video 4 slice 4: 100%|██████████| 100/100 [00:04<00:00, 22.27it/s]\n",
      "video 4 slice 5: 100%|██████████| 100/100 [00:04<00:00, 22.29it/s]\n",
      "video 4 slice 6: 100%|██████████| 100/100 [00:04<00:00, 22.29it/s]\n",
      "video 4 slice 7: 100%|██████████| 100/100 [00:04<00:00, 22.32it/s]\n",
      "video 4 slice 8: 100%|██████████| 100/100 [00:04<00:00, 22.28it/s]\n",
      "video 4 slice 9: 100%|██████████| 100/100 [00:04<00:00, 22.29it/s]\n",
      "video 4 slice 10: 100%|██████████| 100/100 [00:04<00:00, 22.07it/s]\n",
      "video 4 slice 11: 100%|██████████| 100/100 [00:04<00:00, 22.31it/s]\n",
      "video 4 slice 12: 100%|██████████| 100/100 [00:04<00:00, 22.17it/s]\n"
     ]
    },
    {
     "name": "stdout",
     "output_type": "stream",
     "text": [
      "video: squat_raw/150kg_330lbs squat for 5 reps.mp4 label: squat total frame number: 1362\n"
     ]
    },
    {
     "name": "stderr",
     "output_type": "stream",
     "text": [
      "video 4 slice 0: 100%|██████████| 120/120 [00:00<00:00, 1313.47it/s]\n",
      "video 4 slice 1: 100%|██████████| 120/120 [00:05<00:00, 22.27it/s]\n",
      "video 4 slice 2: 100%|██████████| 120/120 [00:05<00:00, 22.27it/s]\n",
      "video 4 slice 3: 100%|██████████| 120/120 [00:05<00:00, 22.10it/s]\n",
      "video 4 slice 4: 100%|██████████| 120/120 [00:05<00:00, 22.26it/s]\n",
      "video 4 slice 5: 100%|██████████| 120/120 [00:05<00:00, 22.23it/s]\n",
      "video 4 slice 6: 100%|██████████| 120/120 [00:05<00:00, 22.31it/s]\n",
      "video 4 slice 7: 100%|██████████| 120/120 [00:05<00:00, 22.26it/s]\n",
      "video 4 slice 8: 100%|██████████| 120/120 [00:05<00:00, 22.17it/s]\n",
      "video 4 slice 9: 100%|██████████| 120/120 [00:05<00:00, 22.33it/s]\n",
      "video 4 slice 10: 100%|██████████| 120/120 [00:05<00:00, 22.24it/s]\n"
     ]
    },
    {
     "name": "stdout",
     "output_type": "stream",
     "text": [
      "video: squat_raw/150kg_330lbs squat for 5 reps.mp4 label: squat total frame number: 1362\n"
     ]
    },
    {
     "name": "stderr",
     "output_type": "stream",
     "text": [
      "video 4 slice 0: 100%|██████████| 150/150 [00:00<00:00, 1451.32it/s]\n",
      "video 4 slice 1: 100%|██████████| 150/150 [00:06<00:00, 22.25it/s]\n",
      "video 4 slice 2: 100%|██████████| 150/150 [00:06<00:00, 22.28it/s]\n",
      "video 4 slice 3: 100%|██████████| 150/150 [00:06<00:00, 22.13it/s]\n",
      "video 4 slice 4: 100%|██████████| 150/150 [00:06<00:00, 22.28it/s]\n",
      "video 4 slice 5: 100%|██████████| 150/150 [00:06<00:00, 22.29it/s]\n",
      "video 4 slice 6: 100%|██████████| 150/150 [00:06<00:00, 22.31it/s]\n",
      "video 4 slice 7: 100%|██████████| 150/150 [00:06<00:00, 22.20it/s]\n",
      "video 4 slice 8: 100%|██████████| 150/150 [00:06<00:00, 22.29it/s]\n"
     ]
    },
    {
     "name": "stdout",
     "output_type": "stream",
     "text": [
      "video: squat_raw/700lbs Squat. No belt or sleeves..mp4 label: squat total frame number: 1324\n"
     ]
    },
    {
     "name": "stderr",
     "output_type": "stream",
     "text": [
      "video 5 slice 0: 100%|██████████| 70/70 [00:00<00:00, 2472.70it/s]\n",
      "video 5 slice 1: 100%|██████████| 70/70 [00:03<00:00, 22.62it/s]\n",
      "video 5 slice 2: 100%|██████████| 70/70 [00:03<00:00, 22.62it/s]\n",
      "video 5 slice 3: 100%|██████████| 70/70 [00:03<00:00, 22.50it/s]\n",
      "video 5 slice 4: 100%|██████████| 70/70 [00:03<00:00, 22.61it/s]\n",
      "video 5 slice 5: 100%|██████████| 70/70 [00:03<00:00, 22.62it/s]\n",
      "video 5 slice 6: 100%|██████████| 70/70 [00:03<00:00, 22.39it/s]\n",
      "video 5 slice 7: 100%|██████████| 70/70 [00:03<00:00, 22.56it/s]\n",
      "video 5 slice 8: 100%|██████████| 70/70 [00:03<00:00, 22.70it/s]\n",
      "video 5 slice 9: 100%|██████████| 70/70 [00:03<00:00, 22.62it/s]\n",
      "video 5 slice 10: 100%|██████████| 70/70 [00:03<00:00, 22.66it/s]\n",
      "video 5 slice 11: 100%|██████████| 70/70 [00:03<00:00, 22.65it/s]\n",
      "video 5 slice 12: 100%|██████████| 70/70 [00:03<00:00, 22.41it/s]\n",
      "video 5 slice 13: 100%|██████████| 70/70 [00:03<00:00, 22.65it/s]\n",
      "video 5 slice 14: 100%|██████████| 70/70 [00:03<00:00, 22.61it/s]\n",
      "video 5 slice 15: 100%|██████████| 70/70 [00:03<00:00, 22.43it/s]\n",
      "video 5 slice 16: 100%|██████████| 70/70 [00:03<00:00, 22.62it/s]\n",
      "video 5 slice 17: 100%|██████████| 70/70 [00:03<00:00, 22.60it/s]\n"
     ]
    },
    {
     "name": "stdout",
     "output_type": "stream",
     "text": [
      "video: squat_raw/700lbs Squat. No belt or sleeves..mp4 label: squat total frame number: 1324\n"
     ]
    },
    {
     "name": "stderr",
     "output_type": "stream",
     "text": [
      "video 5 slice 0: 100%|██████████| 100/100 [00:00<00:00, 3714.37it/s]\n",
      "video 5 slice 1: 100%|██████████| 100/100 [00:04<00:00, 22.62it/s]\n",
      "video 5 slice 2: 100%|██████████| 100/100 [00:04<00:00, 22.60it/s]\n",
      "video 5 slice 3: 100%|██████████| 100/100 [00:04<00:00, 22.55it/s]\n",
      "video 5 slice 4: 100%|██████████| 100/100 [00:04<00:00, 22.46it/s]\n",
      "video 5 slice 5: 100%|██████████| 100/100 [00:04<00:00, 22.60it/s]\n",
      "video 5 slice 6: 100%|██████████| 100/100 [00:04<00:00, 22.62it/s]\n",
      "video 5 slice 7: 100%|██████████| 100/100 [00:04<00:00, 22.58it/s]\n",
      "video 5 slice 8: 100%|██████████| 100/100 [00:04<00:00, 22.62it/s]\n",
      "video 5 slice 9: 100%|██████████| 100/100 [00:04<00:00, 22.65it/s]\n",
      "video 5 slice 10: 100%|██████████| 100/100 [00:04<00:00, 22.51it/s]\n",
      "video 5 slice 11: 100%|██████████| 100/100 [00:04<00:00, 22.59it/s]\n",
      "video 5 slice 12: 100%|██████████| 100/100 [00:04<00:00, 22.64it/s]\n"
     ]
    },
    {
     "name": "stdout",
     "output_type": "stream",
     "text": [
      "video: squat_raw/700lbs Squat. No belt or sleeves..mp4 label: squat total frame number: 1324\n"
     ]
    },
    {
     "name": "stderr",
     "output_type": "stream",
     "text": [
      "video 5 slice 0: 100%|██████████| 120/120 [00:00<00:00, 2234.97it/s]\n",
      "video 5 slice 1: 100%|██████████| 120/120 [00:05<00:00, 22.67it/s]\n",
      "video 5 slice 2: 100%|██████████| 120/120 [00:05<00:00, 22.62it/s]\n",
      "video 5 slice 3: 100%|██████████| 120/120 [00:05<00:00, 22.67it/s]\n",
      "video 5 slice 4: 100%|██████████| 120/120 [00:05<00:00, 22.51it/s]\n",
      "video 5 slice 5: 100%|██████████| 120/120 [00:05<00:00, 22.62it/s]\n",
      "video 5 slice 6: 100%|██████████| 120/120 [00:05<00:00, 22.61it/s]\n",
      "video 5 slice 7: 100%|██████████| 120/120 [00:05<00:00, 22.66it/s]\n",
      "video 5 slice 8: 100%|██████████| 120/120 [00:05<00:00, 22.66it/s]\n",
      "video 5 slice 9: 100%|██████████| 120/120 [00:05<00:00, 22.49it/s]\n",
      "video 5 slice 10: 100%|██████████| 120/120 [00:05<00:00, 22.62it/s]\n"
     ]
    },
    {
     "name": "stdout",
     "output_type": "stream",
     "text": [
      "video: squat_raw/700lbs Squat. No belt or sleeves..mp4 label: squat total frame number: 1324\n"
     ]
    },
    {
     "name": "stderr",
     "output_type": "stream",
     "text": [
      "video 5 slice 0: 100%|██████████| 150/150 [00:00<00:00, 3809.19it/s]\n",
      "video 5 slice 1: 100%|██████████| 150/150 [00:06<00:00, 22.63it/s]\n",
      "video 5 slice 2: 100%|██████████| 150/150 [00:06<00:00, 22.63it/s]\n",
      "video 5 slice 3: 100%|██████████| 150/150 [00:06<00:00, 22.55it/s]\n",
      "video 5 slice 4: 100%|██████████| 150/150 [00:06<00:00, 22.64it/s]\n",
      "video 5 slice 5: 100%|██████████| 150/150 [00:06<00:00, 22.58it/s]\n",
      "video 5 slice 6: 100%|██████████| 150/150 [00:06<00:00, 22.61it/s]\n",
      "video 5 slice 7: 100%|██████████| 150/150 [00:06<00:00, 22.59it/s]\n"
     ]
    },
    {
     "name": "stdout",
     "output_type": "stream",
     "text": [
      "video: squat_raw/140 KG Squat 10 reps RPE 5.mp4 label: squat total frame number: 1195\n"
     ]
    },
    {
     "name": "stderr",
     "output_type": "stream",
     "text": [
      "video 6 slice 0: 100%|██████████| 70/70 [00:00<00:00, 607.91it/s]\n",
      "video 6 slice 1: 100%|██████████| 70/70 [00:03<00:00, 22.14it/s]\n",
      "video 6 slice 2: 100%|██████████| 70/70 [00:03<00:00, 22.25it/s]\n",
      "video 6 slice 3: 100%|██████████| 70/70 [00:03<00:00, 22.28it/s]\n",
      "video 6 slice 4: 100%|██████████| 70/70 [00:03<00:00, 22.22it/s]\n",
      "video 6 slice 5: 100%|██████████| 70/70 [00:03<00:00, 22.30it/s]\n",
      "video 6 slice 6: 100%|██████████| 70/70 [00:03<00:00, 22.15it/s]\n",
      "video 6 slice 7: 100%|██████████| 70/70 [00:03<00:00, 22.20it/s]\n",
      "video 6 slice 8: 100%|██████████| 70/70 [00:03<00:00, 22.22it/s]\n",
      "video 6 slice 9: 100%|██████████| 70/70 [00:03<00:00, 21.92it/s]\n",
      "video 6 slice 10: 100%|██████████| 70/70 [00:03<00:00, 22.17it/s]\n",
      "video 6 slice 11: 100%|██████████| 70/70 [00:03<00:00, 22.22it/s]\n",
      "video 6 slice 12: 100%|██████████| 70/70 [00:03<00:00, 22.19it/s]\n",
      "video 6 slice 13: 100%|██████████| 70/70 [00:03<00:00, 22.14it/s]\n",
      "video 6 slice 14: 100%|██████████| 70/70 [00:03<00:00, 22.10it/s]\n",
      "video 6 slice 15: 100%|██████████| 70/70 [00:03<00:00, 22.20it/s]\n",
      "video 6 slice 16: 100%|██████████| 70/70 [00:03<00:00, 22.17it/s]\n"
     ]
    },
    {
     "name": "stdout",
     "output_type": "stream",
     "text": [
      "video: squat_raw/140 KG Squat 10 reps RPE 5.mp4 label: squat total frame number: 1195\n"
     ]
    },
    {
     "name": "stderr",
     "output_type": "stream",
     "text": [
      "video 6 slice 0: 100%|██████████| 100/100 [00:00<00:00, 1386.29it/s]\n",
      "video 6 slice 1: 100%|██████████| 100/100 [00:04<00:00, 21.96it/s]\n",
      "video 6 slice 2: 100%|██████████| 100/100 [00:04<00:00, 21.82it/s]\n",
      "video 6 slice 3: 100%|██████████| 100/100 [00:04<00:00, 22.09it/s]\n",
      "video 6 slice 4: 100%|██████████| 100/100 [00:04<00:00, 22.23it/s]\n",
      "video 6 slice 5: 100%|██████████| 100/100 [00:04<00:00, 22.08it/s]\n",
      "video 6 slice 6: 100%|██████████| 100/100 [00:04<00:00, 22.25it/s]\n",
      "video 6 slice 7: 100%|██████████| 100/100 [00:04<00:00, 22.24it/s]\n",
      "video 6 slice 8: 100%|██████████| 100/100 [00:04<00:00, 22.08it/s]\n",
      "video 6 slice 9: 100%|██████████| 100/100 [00:04<00:00, 22.23it/s]\n",
      "video 6 slice 10: 100%|██████████| 100/100 [00:04<00:00, 22.28it/s]\n"
     ]
    },
    {
     "name": "stdout",
     "output_type": "stream",
     "text": [
      "video: squat_raw/140 KG Squat 10 reps RPE 5.mp4 label: squat total frame number: 1195\n"
     ]
    },
    {
     "name": "stderr",
     "output_type": "stream",
     "text": [
      "video 6 slice 0: 100%|██████████| 120/120 [00:00<00:00, 1260.51it/s]\n",
      "video 6 slice 1: 100%|██████████| 120/120 [00:05<00:00, 22.14it/s]\n",
      "video 6 slice 2: 100%|██████████| 120/120 [00:05<00:00, 22.27it/s]\n",
      "video 6 slice 3: 100%|██████████| 120/120 [00:05<00:00, 22.13it/s]\n",
      "video 6 slice 4: 100%|██████████| 120/120 [00:05<00:00, 22.23it/s]\n",
      "video 6 slice 5: 100%|██████████| 120/120 [00:05<00:00, 22.25it/s]\n",
      "video 6 slice 6: 100%|██████████| 120/120 [00:05<00:00, 22.19it/s]\n",
      "video 6 slice 7: 100%|██████████| 120/120 [00:05<00:00, 22.25it/s]\n",
      "video 6 slice 8: 100%|██████████| 120/120 [00:05<00:00, 22.28it/s]\n"
     ]
    },
    {
     "name": "stdout",
     "output_type": "stream",
     "text": [
      "video: squat_raw/140 KG Squat 10 reps RPE 5.mp4 label: squat total frame number: 1195\n"
     ]
    },
    {
     "name": "stderr",
     "output_type": "stream",
     "text": [
      "video 6 slice 0: 100%|██████████| 150/150 [00:00<00:00, 852.39it/s]\n",
      "video 6 slice 1: 100%|██████████| 150/150 [00:06<00:00, 22.10it/s]\n",
      "video 6 slice 2: 100%|██████████| 150/150 [00:06<00:00, 22.25it/s]\n",
      "video 6 slice 3: 100%|██████████| 150/150 [00:06<00:00, 22.25it/s]\n",
      "video 6 slice 4: 100%|██████████| 150/150 [00:06<00:00, 22.14it/s]\n",
      "video 6 slice 5: 100%|██████████| 150/150 [00:06<00:00, 22.15it/s]\n",
      "video 6 slice 6: 100%|██████████| 150/150 [00:06<00:00, 22.25it/s]\n"
     ]
    },
    {
     "name": "stdout",
     "output_type": "stream",
     "text": [
      "video: squat_raw/140kg squat 4 reps PR! - Road to a 4 plate squat.mp4 label: squat total frame number: 980\n"
     ]
    },
    {
     "name": "stderr",
     "output_type": "stream",
     "text": [
      "video 7 slice 0: 100%|██████████| 70/70 [00:00<00:00, 1171.24it/s]\n",
      "video 7 slice 1: 100%|██████████| 70/70 [00:03<00:00, 22.25it/s]\n",
      "video 7 slice 2: 100%|██████████| 70/70 [00:03<00:00, 22.28it/s]\n",
      "video 7 slice 3: 100%|██████████| 70/70 [00:03<00:00, 22.36it/s]\n",
      "video 7 slice 4: 100%|██████████| 70/70 [00:03<00:00, 22.26it/s]\n",
      "video 7 slice 5: 100%|██████████| 70/70 [00:03<00:00, 22.10it/s]\n",
      "video 7 slice 6: 100%|██████████| 70/70 [00:03<00:00, 22.21it/s]\n",
      "video 7 slice 7: 100%|██████████| 70/70 [00:03<00:00, 22.27it/s]\n",
      "video 7 slice 8: 100%|██████████| 70/70 [00:03<00:00, 22.31it/s]\n",
      "video 7 slice 9: 100%|██████████| 70/70 [00:03<00:00, 22.24it/s]\n",
      "video 7 slice 10: 100%|██████████| 70/70 [00:03<00:00, 22.25it/s]\n",
      "video 7 slice 11: 100%|██████████| 70/70 [00:03<00:00, 22.27it/s]\n",
      "video 7 slice 12: 100%|██████████| 70/70 [00:03<00:00, 22.26it/s]\n"
     ]
    },
    {
     "name": "stdout",
     "output_type": "stream",
     "text": [
      "video: squat_raw/140kg squat 4 reps PR! - Road to a 4 plate squat.mp4 label: squat total frame number: 980\n"
     ]
    },
    {
     "name": "stderr",
     "output_type": "stream",
     "text": [
      "video 7 slice 0: 100%|██████████| 100/100 [00:00<00:00, 1151.18it/s]\n",
      "video 7 slice 1: 100%|██████████| 100/100 [00:04<00:00, 22.11it/s]\n",
      "video 7 slice 2: 100%|██████████| 100/100 [00:04<00:00, 22.24it/s]\n",
      "video 7 slice 3: 100%|██████████| 100/100 [00:04<00:00, 22.32it/s]\n",
      "video 7 slice 4: 100%|██████████| 100/100 [00:04<00:00, 22.29it/s]\n",
      "video 7 slice 5: 100%|██████████| 100/100 [00:04<00:00, 22.28it/s]\n",
      "video 7 slice 6: 100%|██████████| 100/100 [00:04<00:00, 22.34it/s]\n",
      "video 7 slice 7: 100%|██████████| 100/100 [00:04<00:00, 22.08it/s]\n",
      "video 7 slice 8: 100%|██████████| 100/100 [00:04<00:00, 22.28it/s]\n"
     ]
    },
    {
     "name": "stdout",
     "output_type": "stream",
     "text": [
      "video: squat_raw/140kg squat 4 reps PR! - Road to a 4 plate squat.mp4 label: squat total frame number: 980\n"
     ]
    },
    {
     "name": "stderr",
     "output_type": "stream",
     "text": [
      "video 7 slice 0: 100%|██████████| 120/120 [00:00<00:00, 1153.41it/s]\n",
      "video 7 slice 1: 100%|██████████| 120/120 [00:05<00:00, 22.31it/s]\n",
      "video 7 slice 2: 100%|██████████| 120/120 [00:05<00:00, 22.33it/s]\n",
      "video 7 slice 3: 100%|██████████| 120/120 [00:05<00:00, 22.27it/s]\n",
      "video 7 slice 4: 100%|██████████| 120/120 [00:05<00:00, 22.13it/s]\n",
      "video 7 slice 5: 100%|██████████| 120/120 [00:05<00:00, 22.23it/s]\n",
      "video 7 slice 6: 100%|██████████| 120/120 [00:05<00:00, 22.11it/s]\n",
      "video 7 slice 7: 100%|██████████| 120/120 [00:05<00:00, 22.25it/s]\n"
     ]
    },
    {
     "name": "stdout",
     "output_type": "stream",
     "text": [
      "video: squat_raw/140kg squat 4 reps PR! - Road to a 4 plate squat.mp4 label: squat total frame number: 980\n"
     ]
    },
    {
     "name": "stderr",
     "output_type": "stream",
     "text": [
      "video 7 slice 0: 100%|██████████| 150/150 [00:00<00:00, 1327.00it/s]\n",
      "video 7 slice 1: 100%|██████████| 150/150 [00:06<00:00, 22.31it/s]\n",
      "video 7 slice 2: 100%|██████████| 150/150 [00:06<00:00, 22.21it/s]\n",
      "video 7 slice 3: 100%|██████████| 150/150 [00:06<00:00, 22.28it/s]\n",
      "video 7 slice 4: 100%|██████████| 150/150 [00:06<00:00, 22.27it/s]\n",
      "video 7 slice 5: 100%|██████████| 150/150 [00:06<00:00, 22.29it/s]\n"
     ]
    },
    {
     "name": "stdout",
     "output_type": "stream",
     "text": [
      "video: squat_raw/Back Squat 2x Body Weight 10 reps.mp4 label: squat total frame number: 1373\n"
     ]
    },
    {
     "name": "stderr",
     "output_type": "stream",
     "text": [
      "video 8 slice 0: 100%|██████████| 70/70 [00:00<00:00, 1380.53it/s]\n",
      "video 8 slice 1: 100%|██████████| 70/70 [00:03<00:00, 22.11it/s]\n",
      "video 8 slice 2: 100%|██████████| 70/70 [00:03<00:00, 21.72it/s]\n",
      "video 8 slice 3: 100%|██████████| 70/70 [00:03<00:00, 22.24it/s]\n",
      "video 8 slice 4: 100%|██████████| 70/70 [00:03<00:00, 22.26it/s]\n",
      "video 8 slice 5: 100%|██████████| 70/70 [00:03<00:00, 22.26it/s]\n",
      "video 8 slice 6: 100%|██████████| 70/70 [00:03<00:00, 22.24it/s]\n",
      "video 8 slice 7: 100%|██████████| 70/70 [00:03<00:00, 22.21it/s]\n",
      "video 8 slice 8: 100%|██████████| 70/70 [00:03<00:00, 22.19it/s]\n",
      "video 8 slice 9: 100%|██████████| 70/70 [00:03<00:00, 22.15it/s]\n",
      "video 8 slice 10: 100%|██████████| 70/70 [00:03<00:00, 21.99it/s]\n",
      "video 8 slice 11: 100%|██████████| 70/70 [00:03<00:00, 22.06it/s]\n",
      "video 8 slice 12: 100%|██████████| 70/70 [00:03<00:00, 22.26it/s]\n",
      "video 8 slice 13: 100%|██████████| 70/70 [00:03<00:00, 22.24it/s]\n",
      "video 8 slice 14: 100%|██████████| 70/70 [00:03<00:00, 22.30it/s]\n",
      "video 8 slice 15: 100%|██████████| 70/70 [00:03<00:00, 22.30it/s]\n",
      "video 8 slice 16: 100%|██████████| 70/70 [00:03<00:00, 22.22it/s]\n",
      "video 8 slice 17: 100%|██████████| 70/70 [00:03<00:00, 22.29it/s]\n",
      "video 8 slice 18: 100%|██████████| 70/70 [00:03<00:00, 22.27it/s]\n"
     ]
    },
    {
     "name": "stdout",
     "output_type": "stream",
     "text": [
      "video: squat_raw/Back Squat 2x Body Weight 10 reps.mp4 label: squat total frame number: 1373\n"
     ]
    },
    {
     "name": "stderr",
     "output_type": "stream",
     "text": [
      "video 8 slice 0: 100%|██████████| 100/100 [00:00<00:00, 835.75it/s]\n",
      "video 8 slice 1: 100%|██████████| 100/100 [00:04<00:00, 22.27it/s]\n",
      "video 8 slice 2: 100%|██████████| 100/100 [00:04<00:00, 22.29it/s]\n",
      "video 8 slice 3: 100%|██████████| 100/100 [00:04<00:00, 22.28it/s]\n",
      "video 8 slice 4: 100%|██████████| 100/100 [00:04<00:00, 22.31it/s]\n",
      "video 8 slice 5: 100%|██████████| 100/100 [00:04<00:00, 22.19it/s]\n",
      "video 8 slice 6: 100%|██████████| 100/100 [00:04<00:00, 22.23it/s]\n",
      "video 8 slice 7: 100%|██████████| 100/100 [00:04<00:00, 22.02it/s]\n",
      "video 8 slice 8: 100%|██████████| 100/100 [00:04<00:00, 22.25it/s]\n",
      "video 8 slice 9: 100%|██████████| 100/100 [00:04<00:00, 22.27it/s]\n",
      "video 8 slice 10: 100%|██████████| 100/100 [00:04<00:00, 22.23it/s]\n",
      "video 8 slice 11: 100%|██████████| 100/100 [00:04<00:00, 22.24it/s]\n",
      "video 8 slice 12: 100%|██████████| 100/100 [00:04<00:00, 22.35it/s]\n"
     ]
    },
    {
     "name": "stdout",
     "output_type": "stream",
     "text": [
      "video: squat_raw/Back Squat 2x Body Weight 10 reps.mp4 label: squat total frame number: 1373\n"
     ]
    },
    {
     "name": "stderr",
     "output_type": "stream",
     "text": [
      "video 8 slice 0: 100%|██████████| 120/120 [00:00<00:00, 835.53it/s]\n",
      "video 8 slice 1: 100%|██████████| 120/120 [00:05<00:00, 22.29it/s]\n",
      "video 8 slice 2: 100%|██████████| 120/120 [00:05<00:00, 22.26it/s]\n",
      "video 8 slice 3: 100%|██████████| 120/120 [00:05<00:00, 22.15it/s]\n",
      "video 8 slice 4: 100%|██████████| 120/120 [00:05<00:00, 22.26it/s]\n",
      "video 8 slice 5: 100%|██████████| 120/120 [00:05<00:00, 22.24it/s]\n",
      "video 8 slice 6: 100%|██████████| 120/120 [00:05<00:00, 22.12it/s]\n",
      "video 8 slice 7: 100%|██████████| 120/120 [00:05<00:00, 22.27it/s]\n",
      "video 8 slice 8: 100%|██████████| 120/120 [00:05<00:00, 22.24it/s]\n",
      "video 8 slice 9: 100%|██████████| 120/120 [00:05<00:00, 22.28it/s]\n",
      "video 8 slice 10: 100%|██████████| 120/120 [00:05<00:00, 22.25it/s]\n"
     ]
    },
    {
     "name": "stdout",
     "output_type": "stream",
     "text": [
      "video: squat_raw/Back Squat 2x Body Weight 10 reps.mp4 label: squat total frame number: 1373\n"
     ]
    },
    {
     "name": "stderr",
     "output_type": "stream",
     "text": [
      "video 8 slice 0: 100%|██████████| 150/150 [00:00<00:00, 1468.19it/s]\n",
      "video 8 slice 1: 100%|██████████| 150/150 [00:06<00:00, 22.20it/s]\n",
      "video 8 slice 2: 100%|██████████| 150/150 [00:06<00:00, 22.24it/s]\n",
      "video 8 slice 3: 100%|██████████| 150/150 [00:06<00:00, 22.27it/s]\n",
      "video 8 slice 4: 100%|██████████| 150/150 [00:06<00:00, 22.24it/s]\n",
      "video 8 slice 5: 100%|██████████| 150/150 [00:06<00:00, 22.18it/s]\n",
      "video 8 slice 6: 100%|██████████| 150/150 [00:06<00:00, 22.24it/s]\n",
      "video 8 slice 7: 100%|██████████| 150/150 [00:06<00:00, 22.29it/s]\n",
      "video 8 slice 8: 100%|██████████| 150/150 [00:06<00:00, 22.34it/s]\n"
     ]
    },
    {
     "name": "stdout",
     "output_type": "stream",
     "text": [
      "video: squat_raw/RAW  Squat  300kg x 6 reps _ 660 pounds.mp4 label: squat total frame number: 991\n"
     ]
    },
    {
     "name": "stderr",
     "output_type": "stream",
     "text": [
      "video 9 slice 0: 100%|██████████| 70/70 [00:00<00:00, 1532.41it/s]\n",
      "video 9 slice 1: 100%|██████████| 70/70 [00:03<00:00, 22.78it/s]\n",
      "video 9 slice 2: 100%|██████████| 70/70 [00:03<00:00, 22.48it/s]\n",
      "video 9 slice 3: 100%|██████████| 70/70 [00:03<00:00, 22.82it/s]\n",
      "video 9 slice 4: 100%|██████████| 70/70 [00:03<00:00, 22.71it/s]\n",
      "video 9 slice 5: 100%|██████████| 70/70 [00:03<00:00, 22.81it/s]\n",
      "video 9 slice 6: 100%|██████████| 70/70 [00:03<00:00, 22.80it/s]\n",
      "video 9 slice 7: 100%|██████████| 70/70 [00:03<00:00, 22.71it/s]\n",
      "video 9 slice 8: 100%|██████████| 70/70 [00:03<00:00, 22.82it/s]\n",
      "video 9 slice 9: 100%|██████████| 70/70 [00:03<00:00, 22.76it/s]\n",
      "video 9 slice 10: 100%|██████████| 70/70 [00:03<00:00, 22.62it/s]\n",
      "video 9 slice 11: 100%|██████████| 70/70 [00:02<00:00, 28.36it/s]\n",
      "video 9 slice 12: 100%|██████████| 70/70 [00:00<00:00, 89.22it/s]\n",
      "video 9 slice 13: 100%|██████████| 70/70 [00:01<00:00, 38.97it/s]\n"
     ]
    },
    {
     "name": "stdout",
     "output_type": "stream",
     "text": [
      "video: squat_raw/RAW  Squat  300kg x 6 reps _ 660 pounds.mp4 label: squat total frame number: 991\n"
     ]
    },
    {
     "name": "stderr",
     "output_type": "stream",
     "text": [
      "video 9 slice 0: 100%|██████████| 100/100 [00:00<00:00, 2322.02it/s]\n",
      "video 9 slice 1: 100%|██████████| 100/100 [00:04<00:00, 22.41it/s]\n",
      "video 9 slice 2: 100%|██████████| 100/100 [00:04<00:00, 22.78it/s]\n",
      "video 9 slice 3: 100%|██████████| 100/100 [00:04<00:00, 22.76it/s]\n",
      "video 9 slice 4: 100%|██████████| 100/100 [00:04<00:00, 22.80it/s]\n",
      "video 9 slice 5: 100%|██████████| 100/100 [00:04<00:00, 22.61it/s]\n",
      "video 9 slice 6: 100%|██████████| 100/100 [00:04<00:00, 22.70it/s]\n",
      "video 9 slice 7: 100%|██████████| 100/100 [00:04<00:00, 22.80it/s]\n",
      "video 9 slice 8: 100%|██████████| 100/100 [00:01<00:00, 56.95it/s]\n"
     ]
    },
    {
     "name": "stdout",
     "output_type": "stream",
     "text": [
      "video: squat_raw/RAW  Squat  300kg x 6 reps _ 660 pounds.mp4 label: squat total frame number: 991\n"
     ]
    },
    {
     "name": "stderr",
     "output_type": "stream",
     "text": [
      "video 9 slice 0: 100%|██████████| 120/120 [00:00<00:00, 1435.34it/s]\n",
      "video 9 slice 1: 100%|██████████| 120/120 [00:05<00:00, 22.77it/s]\n",
      "video 9 slice 2: 100%|██████████| 120/120 [00:05<00:00, 22.73it/s]\n",
      "video 9 slice 3: 100%|██████████| 120/120 [00:05<00:00, 22.69it/s]\n",
      "video 9 slice 4: 100%|██████████| 120/120 [00:05<00:00, 22.74it/s]\n",
      "video 9 slice 5: 100%|██████████| 120/120 [00:05<00:00, 22.77it/s]\n",
      "video 9 slice 6: 100%|██████████| 120/120 [00:04<00:00, 26.19it/s]\n",
      "video 9 slice 7: 100%|██████████| 120/120 [00:02<00:00, 58.58it/s]\n"
     ]
    },
    {
     "name": "stdout",
     "output_type": "stream",
     "text": [
      "video: squat_raw/RAW  Squat  300kg x 6 reps _ 660 pounds.mp4 label: squat total frame number: 991\n"
     ]
    },
    {
     "name": "stderr",
     "output_type": "stream",
     "text": [
      "video 9 slice 0: 100%|██████████| 150/150 [00:00<00:00, 3069.98it/s]\n",
      "video 9 slice 1: 100%|██████████| 150/150 [00:06<00:00, 22.66it/s]\n",
      "video 9 slice 2: 100%|██████████| 150/150 [00:06<00:00, 22.65it/s]\n",
      "video 9 slice 3: 100%|██████████| 150/150 [00:06<00:00, 22.82it/s]\n",
      "video 9 slice 4: 100%|██████████| 150/150 [00:06<00:00, 22.78it/s]\n",
      "video 9 slice 5: 100%|██████████| 150/150 [00:03<00:00, 37.64it/s]\n"
     ]
    },
    {
     "name": "stdout",
     "output_type": "stream",
     "text": [
      "video: squat_raw/Ray Williams (800 lbs) 5 reps.mp4 label: squat total frame number: 2193\n"
     ]
    },
    {
     "name": "stderr",
     "output_type": "stream",
     "text": [
      "video 10 slice 0: 100%|██████████| 70/70 [00:00<00:00, 1315.32it/s]\n",
      "video 10 slice 1: 100%|██████████| 70/70 [00:03<00:00, 21.93it/s]\n",
      "video 10 slice 2: 100%|██████████| 70/70 [00:03<00:00, 22.14it/s]\n",
      "video 10 slice 3: 100%|██████████| 70/70 [00:03<00:00, 21.97it/s]\n",
      "video 10 slice 4: 100%|██████████| 70/70 [00:03<00:00, 22.25it/s]\n",
      "video 10 slice 5: 100%|██████████| 70/70 [00:03<00:00, 22.08it/s]\n",
      "video 10 slice 6: 100%|██████████| 70/70 [00:03<00:00, 22.16it/s]\n",
      "video 10 slice 7: 100%|██████████| 70/70 [00:03<00:00, 22.30it/s]\n",
      "video 10 slice 8: 100%|██████████| 70/70 [00:03<00:00, 22.23it/s]\n",
      "video 10 slice 9: 100%|██████████| 70/70 [00:03<00:00, 22.11it/s]\n",
      "video 10 slice 10: 100%|██████████| 70/70 [00:03<00:00, 22.08it/s]\n",
      "video 10 slice 11: 100%|██████████| 70/70 [00:03<00:00, 22.15it/s]\n",
      "video 10 slice 12: 100%|██████████| 70/70 [00:03<00:00, 21.96it/s]\n",
      "video 10 slice 13: 100%|██████████| 70/70 [00:03<00:00, 22.25it/s]\n",
      "video 10 slice 14: 100%|██████████| 70/70 [00:03<00:00, 22.25it/s]\n",
      "video 10 slice 15: 100%|██████████| 70/70 [00:03<00:00, 22.26it/s]\n",
      "video 10 slice 16: 100%|██████████| 70/70 [00:03<00:00, 22.23it/s]\n",
      "video 10 slice 17: 100%|██████████| 70/70 [00:03<00:00, 22.24it/s]\n",
      "video 10 slice 18: 100%|██████████| 70/70 [00:03<00:00, 22.14it/s]\n",
      "video 10 slice 19: 100%|██████████| 70/70 [00:03<00:00, 22.20it/s]\n",
      "video 10 slice 20: 100%|██████████| 70/70 [00:03<00:00, 22.06it/s]\n",
      "video 10 slice 21: 100%|██████████| 70/70 [00:03<00:00, 22.14it/s]\n",
      "video 10 slice 22: 100%|██████████| 70/70 [00:03<00:00, 22.17it/s]\n",
      "video 10 slice 23: 100%|██████████| 70/70 [00:03<00:00, 22.21it/s]\n",
      "video 10 slice 24: 100%|██████████| 70/70 [00:03<00:00, 22.20it/s]\n",
      "video 10 slice 25: 100%|██████████| 70/70 [00:03<00:00, 22.17it/s]\n",
      "video 10 slice 26: 100%|██████████| 70/70 [00:03<00:00, 22.21it/s]\n",
      "video 10 slice 27: 100%|██████████| 70/70 [00:03<00:00, 22.02it/s]\n",
      "video 10 slice 28: 100%|██████████| 70/70 [00:03<00:00, 21.93it/s]\n",
      "video 10 slice 29: 100%|██████████| 70/70 [00:03<00:00, 22.19it/s]\n",
      "video 10 slice 30: 100%|██████████| 70/70 [00:03<00:00, 22.15it/s]\n"
     ]
    },
    {
     "name": "stdout",
     "output_type": "stream",
     "text": [
      "video: squat_raw/Ray Williams (800 lbs) 5 reps.mp4 label: squat total frame number: 2193\n"
     ]
    },
    {
     "name": "stderr",
     "output_type": "stream",
     "text": [
      "video 10 slice 0: 100%|██████████| 100/100 [00:00<00:00, 1432.22it/s]\n",
      "video 10 slice 1: 100%|██████████| 100/100 [00:04<00:00, 22.15it/s]\n",
      "video 10 slice 2: 100%|██████████| 100/100 [00:04<00:00, 22.19it/s]\n",
      "video 10 slice 3: 100%|██████████| 100/100 [00:04<00:00, 22.20it/s]\n",
      "video 10 slice 4: 100%|██████████| 100/100 [00:04<00:00, 22.08it/s]\n",
      "video 10 slice 5: 100%|██████████| 100/100 [00:04<00:00, 22.16it/s]\n",
      "video 10 slice 6: 100%|██████████| 100/100 [00:04<00:00, 22.24it/s]\n",
      "video 10 slice 7: 100%|██████████| 100/100 [00:04<00:00, 22.22it/s]\n",
      "video 10 slice 8: 100%|██████████| 100/100 [00:04<00:00, 22.23it/s]\n",
      "video 10 slice 9: 100%|██████████| 100/100 [00:04<00:00, 22.28it/s]\n",
      "video 10 slice 10: 100%|██████████| 100/100 [00:04<00:00, 22.03it/s]\n",
      "video 10 slice 11: 100%|██████████| 100/100 [00:04<00:00, 22.19it/s]\n",
      "video 10 slice 12: 100%|██████████| 100/100 [00:04<00:00, 22.25it/s]\n",
      "video 10 slice 13: 100%|██████████| 100/100 [00:04<00:00, 22.27it/s]\n",
      "video 10 slice 14: 100%|██████████| 100/100 [00:04<00:00, 22.22it/s]\n",
      "video 10 slice 15: 100%|██████████| 100/100 [00:04<00:00, 22.23it/s]\n",
      "video 10 slice 16: 100%|██████████| 100/100 [00:04<00:00, 22.12it/s]\n",
      "video 10 slice 17: 100%|██████████| 100/100 [00:04<00:00, 22.24it/s]\n",
      "video 10 slice 18: 100%|██████████| 100/100 [00:04<00:00, 22.19it/s]\n",
      "video 10 slice 19: 100%|██████████| 100/100 [00:04<00:00, 22.23it/s]\n",
      "video 10 slice 20: 100%|██████████| 100/100 [00:04<00:00, 22.21it/s]\n"
     ]
    },
    {
     "name": "stdout",
     "output_type": "stream",
     "text": [
      "video: squat_raw/Ray Williams (800 lbs) 5 reps.mp4 label: squat total frame number: 2193\n"
     ]
    },
    {
     "name": "stderr",
     "output_type": "stream",
     "text": [
      "video 10 slice 0: 100%|██████████| 120/120 [00:00<00:00, 1463.64it/s]\n",
      "video 10 slice 1: 100%|██████████| 120/120 [00:05<00:00, 22.24it/s]\n",
      "video 10 slice 2: 100%|██████████| 120/120 [00:05<00:00, 22.11it/s]\n",
      "video 10 slice 3: 100%|██████████| 120/120 [00:05<00:00, 22.13it/s]\n",
      "video 10 slice 4: 100%|██████████| 120/120 [00:05<00:00, 22.12it/s]\n",
      "video 10 slice 5: 100%|██████████| 120/120 [00:05<00:00, 22.23it/s]\n",
      "video 10 slice 6: 100%|██████████| 120/120 [00:05<00:00, 22.27it/s]\n",
      "video 10 slice 7: 100%|██████████| 120/120 [00:05<00:00, 22.13it/s]\n",
      "video 10 slice 8: 100%|██████████| 120/120 [00:05<00:00, 22.11it/s]\n",
      "video 10 slice 9: 100%|██████████| 120/120 [00:05<00:00, 22.17it/s]\n",
      "video 10 slice 10: 100%|██████████| 120/120 [00:05<00:00, 22.24it/s]\n",
      "video 10 slice 11: 100%|██████████| 120/120 [00:05<00:00, 22.25it/s]\n",
      "video 10 slice 12: 100%|██████████| 120/120 [00:05<00:00, 22.12it/s]\n",
      "video 10 slice 13: 100%|██████████| 120/120 [00:05<00:00, 22.17it/s]\n",
      "video 10 slice 14: 100%|██████████| 120/120 [00:05<00:00, 22.19it/s]\n",
      "video 10 slice 15: 100%|██████████| 120/120 [00:05<00:00, 22.18it/s]\n",
      "video 10 slice 16: 100%|██████████| 120/120 [00:05<00:00, 22.19it/s]\n",
      "video 10 slice 17: 100%|██████████| 120/120 [00:05<00:00, 22.04it/s]\n"
     ]
    },
    {
     "name": "stdout",
     "output_type": "stream",
     "text": [
      "video: squat_raw/Ray Williams (800 lbs) 5 reps.mp4 label: squat total frame number: 2193\n"
     ]
    },
    {
     "name": "stderr",
     "output_type": "stream",
     "text": [
      "video 10 slice 0: 100%|██████████| 150/150 [00:00<00:00, 1523.26it/s]\n",
      "video 10 slice 1: 100%|██████████| 150/150 [00:06<00:00, 22.13it/s]\n",
      "video 10 slice 2: 100%|██████████| 150/150 [00:06<00:00, 22.20it/s]\n",
      "video 10 slice 3: 100%|██████████| 150/150 [00:06<00:00, 22.11it/s]\n",
      "video 10 slice 4: 100%|██████████| 150/150 [00:06<00:00, 22.20it/s]\n",
      "video 10 slice 5: 100%|██████████| 150/150 [00:06<00:00, 22.16it/s]\n",
      "video 10 slice 6: 100%|██████████| 150/150 [00:06<00:00, 22.19it/s]\n",
      "video 10 slice 7: 100%|██████████| 150/150 [00:06<00:00, 22.26it/s]\n",
      "video 10 slice 8: 100%|██████████| 150/150 [00:06<00:00, 22.22it/s]\n",
      "video 10 slice 9: 100%|██████████| 150/150 [00:06<00:00, 22.14it/s]\n",
      "video 10 slice 10: 100%|██████████| 150/150 [00:06<00:00, 22.11it/s]\n",
      "video 10 slice 11: 100%|██████████| 150/150 [00:06<00:00, 22.21it/s]\n",
      "video 10 slice 12: 100%|██████████| 150/150 [00:06<00:00, 22.20it/s]\n",
      "video 10 slice 13: 100%|██████████| 150/150 [00:06<00:00, 22.19it/s]\n"
     ]
    },
    {
     "name": "stdout",
     "output_type": "stream",
     "text": [
      "video: squat_raw/Squat 100kg x 30 (20 rep squats and milk program).mp4 label: squat total frame number: 5243\n"
     ]
    },
    {
     "name": "stderr",
     "output_type": "stream",
     "text": [
      "video 11 slice 0: 100%|██████████| 70/70 [00:00<00:00, 1607.54it/s]\n",
      "video 11 slice 1: 100%|██████████| 70/70 [00:03<00:00, 22.06it/s]\n",
      "video 11 slice 2: 100%|██████████| 70/70 [00:03<00:00, 22.30it/s]\n",
      "video 11 slice 3: 100%|██████████| 70/70 [00:03<00:00, 22.33it/s]\n",
      "video 11 slice 4: 100%|██████████| 70/70 [00:03<00:00, 22.31it/s]\n",
      "video 11 slice 5: 100%|██████████| 70/70 [00:03<00:00, 22.31it/s]\n",
      "video 11 slice 6: 100%|██████████| 70/70 [00:03<00:00, 22.33it/s]\n",
      "video 11 slice 7: 100%|██████████| 70/70 [00:03<00:00, 22.16it/s]\n",
      "video 11 slice 8: 100%|██████████| 70/70 [00:03<00:00, 22.30it/s]\n",
      "video 11 slice 9: 100%|██████████| 70/70 [00:03<00:00, 22.03it/s]\n",
      "video 11 slice 10: 100%|██████████| 70/70 [00:03<00:00, 22.21it/s]\n",
      "video 11 slice 11: 100%|██████████| 70/70 [00:03<00:00, 22.37it/s]\n",
      "video 11 slice 12: 100%|██████████| 70/70 [00:03<00:00, 22.35it/s]\n",
      "video 11 slice 13: 100%|██████████| 70/70 [00:03<00:00, 22.27it/s]\n",
      "video 11 slice 14: 100%|██████████| 70/70 [00:03<00:00, 22.28it/s]\n",
      "video 11 slice 15: 100%|██████████| 70/70 [00:03<00:00, 22.33it/s]\n",
      "video 11 slice 16: 100%|██████████| 70/70 [00:03<00:00, 22.30it/s]\n",
      "video 11 slice 17: 100%|██████████| 70/70 [00:03<00:00, 22.31it/s]\n",
      "video 11 slice 18: 100%|██████████| 70/70 [00:03<00:00, 22.03it/s]\n",
      "video 11 slice 19: 100%|██████████| 70/70 [00:03<00:00, 22.36it/s]\n",
      "video 11 slice 20: 100%|██████████| 70/70 [00:03<00:00, 22.37it/s]\n",
      "video 11 slice 21: 100%|██████████| 70/70 [00:03<00:00, 22.25it/s]\n",
      "video 11 slice 22: 100%|██████████| 70/70 [00:03<00:00, 22.27it/s]\n",
      "video 11 slice 23: 100%|██████████| 70/70 [00:03<00:00, 22.36it/s]\n",
      "video 11 slice 24: 100%|██████████| 70/70 [00:03<00:00, 22.32it/s]\n",
      "video 11 slice 25: 100%|██████████| 70/70 [00:03<00:00, 22.28it/s]\n",
      "video 11 slice 26: 100%|██████████| 70/70 [00:03<00:00, 22.03it/s]\n",
      "video 11 slice 27: 100%|██████████| 70/70 [00:03<00:00, 22.33it/s]\n",
      "video 11 slice 28: 100%|██████████| 70/70 [00:03<00:00, 22.21it/s]\n",
      "video 11 slice 29: 100%|██████████| 70/70 [00:03<00:00, 22.29it/s]\n",
      "video 11 slice 30: 100%|██████████| 70/70 [00:03<00:00, 22.31it/s]\n",
      "video 11 slice 31: 100%|██████████| 70/70 [00:03<00:00, 22.32it/s]\n",
      "video 11 slice 32: 100%|██████████| 70/70 [00:03<00:00, 22.34it/s]\n",
      "video 11 slice 33: 100%|██████████| 70/70 [00:03<00:00, 22.32it/s]\n",
      "video 11 slice 34: 100%|██████████| 70/70 [00:03<00:00, 22.16it/s]\n",
      "video 11 slice 35: 100%|██████████| 70/70 [00:03<00:00, 22.32it/s]\n",
      "video 11 slice 36: 100%|██████████| 70/70 [00:03<00:00, 22.21it/s]\n",
      "video 11 slice 37: 100%|██████████| 70/70 [00:03<00:00, 22.25it/s]\n",
      "video 11 slice 38: 100%|██████████| 70/70 [00:03<00:00, 22.21it/s]\n",
      "video 11 slice 39: 100%|██████████| 70/70 [00:03<00:00, 22.40it/s]\n",
      "video 11 slice 40: 100%|██████████| 70/70 [00:03<00:00, 22.36it/s]\n",
      "video 11 slice 41: 100%|██████████| 70/70 [00:03<00:00, 22.03it/s]\n",
      "video 11 slice 42: 100%|██████████| 70/70 [00:03<00:00, 22.32it/s]\n",
      "video 11 slice 43: 100%|██████████| 70/70 [00:03<00:00, 22.34it/s]\n",
      "video 11 slice 44: 100%|██████████| 70/70 [00:03<00:00, 22.38it/s]\n",
      "video 11 slice 45: 100%|██████████| 70/70 [00:03<00:00, 22.25it/s]\n",
      "video 11 slice 46: 100%|██████████| 70/70 [00:03<00:00, 22.34it/s]\n",
      "video 11 slice 47: 100%|██████████| 70/70 [00:03<00:00, 22.36it/s]\n",
      "video 11 slice 48: 100%|██████████| 70/70 [00:03<00:00, 22.14it/s]\n",
      "video 11 slice 49: 100%|██████████| 70/70 [00:03<00:00, 22.36it/s]\n",
      "video 11 slice 50: 100%|██████████| 70/70 [00:03<00:00, 22.32it/s]\n",
      "video 11 slice 51: 100%|██████████| 70/70 [00:03<00:00, 22.24it/s]\n",
      "video 11 slice 52: 100%|██████████| 70/70 [00:03<00:00, 22.33it/s]\n",
      "video 11 slice 53: 100%|██████████| 70/70 [00:03<00:00, 22.35it/s]\n",
      "video 11 slice 54: 100%|██████████| 70/70 [00:03<00:00, 22.33it/s]\n",
      "video 11 slice 55: 100%|██████████| 70/70 [00:03<00:00, 22.09it/s]\n",
      "video 11 slice 56: 100%|██████████| 70/70 [00:03<00:00, 22.30it/s]\n",
      "video 11 slice 57: 100%|██████████| 70/70 [00:03<00:00, 22.25it/s]\n",
      "video 11 slice 58: 100%|██████████| 70/70 [00:03<00:00, 22.28it/s]\n",
      "video 11 slice 59: 100%|██████████| 70/70 [00:03<00:00, 22.23it/s]\n",
      "video 11 slice 60: 100%|██████████| 70/70 [00:03<00:00, 22.28it/s]\n",
      "video 11 slice 61: 100%|██████████| 70/70 [00:03<00:00, 22.24it/s]\n",
      "video 11 slice 62: 100%|██████████| 70/70 [00:03<00:00, 22.07it/s]\n",
      "video 11 slice 63: 100%|██████████| 70/70 [00:03<00:00, 22.32it/s]\n",
      "video 11 slice 64: 100%|██████████| 70/70 [00:03<00:00, 22.23it/s]\n",
      "video 11 slice 65: 100%|██████████| 70/70 [00:03<00:00, 22.30it/s]\n",
      "video 11 slice 66: 100%|██████████| 70/70 [00:03<00:00, 22.30it/s]\n",
      "video 11 slice 67: 100%|██████████| 70/70 [00:03<00:00, 22.32it/s]\n",
      "video 11 slice 68: 100%|██████████| 70/70 [00:03<00:00, 21.97it/s]\n",
      "video 11 slice 69: 100%|██████████| 70/70 [00:03<00:00, 22.26it/s]\n",
      "video 11 slice 70: 100%|██████████| 70/70 [00:03<00:00, 22.29it/s]\n",
      "video 11 slice 71: 100%|██████████| 70/70 [00:03<00:00, 22.38it/s]\n",
      "video 11 slice 72: 100%|██████████| 70/70 [00:03<00:00, 22.32it/s]\n",
      "video 11 slice 73: 100%|██████████| 70/70 [00:03<00:00, 22.24it/s]\n"
     ]
    },
    {
     "name": "stdout",
     "output_type": "stream",
     "text": [
      "video: squat_raw/Squat 100kg x 30 (20 rep squats and milk program).mp4 label: squat total frame number: 5243\n"
     ]
    },
    {
     "name": "stderr",
     "output_type": "stream",
     "text": [
      "video 11 slice 0: 100%|██████████| 100/100 [00:00<00:00, 1394.82it/s]\n",
      "video 11 slice 1: 100%|██████████| 100/100 [00:04<00:00, 22.33it/s]\n",
      "video 11 slice 2: 100%|██████████| 100/100 [00:04<00:00, 22.04it/s]\n",
      "video 11 slice 3: 100%|██████████| 100/100 [00:04<00:00, 22.28it/s]\n",
      "video 11 slice 4: 100%|██████████| 100/100 [00:04<00:00, 22.28it/s]\n",
      "video 11 slice 5: 100%|██████████| 100/100 [00:04<00:00, 22.31it/s]\n",
      "video 11 slice 6: 100%|██████████| 100/100 [00:04<00:00, 22.09it/s]\n",
      "video 11 slice 7: 100%|██████████| 100/100 [00:04<00:00, 22.28it/s]\n",
      "video 11 slice 8: 100%|██████████| 100/100 [00:04<00:00, 22.10it/s]\n",
      "video 11 slice 9: 100%|██████████| 100/100 [00:04<00:00, 22.31it/s]\n",
      "video 11 slice 10: 100%|██████████| 100/100 [00:04<00:00, 22.34it/s]\n",
      "video 11 slice 11: 100%|██████████| 100/100 [00:04<00:00, 22.33it/s]\n",
      "video 11 slice 12: 100%|██████████| 100/100 [00:04<00:00, 22.30it/s]\n",
      "video 11 slice 13: 100%|██████████| 100/100 [00:04<00:00, 22.38it/s]\n",
      "video 11 slice 14: 100%|██████████| 100/100 [00:04<00:00, 22.14it/s]\n",
      "video 11 slice 15: 100%|██████████| 100/100 [00:04<00:00, 22.33it/s]\n",
      "video 11 slice 16: 100%|██████████| 100/100 [00:04<00:00, 22.29it/s]\n",
      "video 11 slice 17: 100%|██████████| 100/100 [00:04<00:00, 22.24it/s]\n",
      "video 11 slice 18: 100%|██████████| 100/100 [00:04<00:00, 22.24it/s]\n",
      "video 11 slice 19: 100%|██████████| 100/100 [00:04<00:00, 22.37it/s]\n",
      "video 11 slice 20: 100%|██████████| 100/100 [00:04<00:00, 22.05it/s]\n",
      "video 11 slice 21: 100%|██████████| 100/100 [00:04<00:00, 22.29it/s]\n",
      "video 11 slice 22: 100%|██████████| 100/100 [00:04<00:00, 22.29it/s]\n",
      "video 11 slice 23: 100%|██████████| 100/100 [00:04<00:00, 22.33it/s]\n",
      "video 11 slice 24: 100%|██████████| 100/100 [00:04<00:00, 22.23it/s]\n",
      "video 11 slice 25: 100%|██████████| 100/100 [00:04<00:00, 22.21it/s]\n",
      "video 11 slice 26: 100%|██████████| 100/100 [00:04<00:00, 22.25it/s]\n",
      "video 11 slice 27: 100%|██████████| 100/100 [00:04<00:00, 22.27it/s]\n",
      "video 11 slice 28: 100%|██████████| 100/100 [00:04<00:00, 22.33it/s]\n",
      "video 11 slice 29: 100%|██████████| 100/100 [00:04<00:00, 22.31it/s]\n",
      "video 11 slice 30: 100%|██████████| 100/100 [00:04<00:00, 22.31it/s]\n",
      "video 11 slice 31: 100%|██████████| 100/100 [00:04<00:00, 22.16it/s]\n",
      "video 11 slice 32: 100%|██████████| 100/100 [00:04<00:00, 22.30it/s]\n",
      "video 11 slice 33: 100%|██████████| 100/100 [00:04<00:00, 22.39it/s]\n",
      "video 11 slice 34: 100%|██████████| 100/100 [00:04<00:00, 22.26it/s]\n",
      "video 11 slice 35: 100%|██████████| 100/100 [00:04<00:00, 22.40it/s]\n",
      "video 11 slice 36: 100%|██████████| 100/100 [00:04<00:00, 22.17it/s]\n",
      "video 11 slice 37: 100%|██████████| 100/100 [00:04<00:00, 22.36it/s]\n",
      "video 11 slice 38: 100%|██████████| 100/100 [00:04<00:00, 22.31it/s]\n",
      "video 11 slice 39: 100%|██████████| 100/100 [00:04<00:00, 22.30it/s]\n",
      "video 11 slice 40: 100%|██████████| 100/100 [00:04<00:00, 22.32it/s]\n",
      "video 11 slice 41: 100%|██████████| 100/100 [00:04<00:00, 22.31it/s]\n",
      "video 11 slice 42: 100%|██████████| 100/100 [00:04<00:00, 22.02it/s]\n",
      "video 11 slice 43: 100%|██████████| 100/100 [00:04<00:00, 22.31it/s]\n",
      "video 11 slice 44: 100%|██████████| 100/100 [00:04<00:00, 22.30it/s]\n",
      "video 11 slice 45: 100%|██████████| 100/100 [00:04<00:00, 22.33it/s]\n",
      "video 11 slice 46: 100%|██████████| 100/100 [00:04<00:00, 22.26it/s]\n",
      "video 11 slice 47: 100%|██████████| 100/100 [00:04<00:00, 22.09it/s]\n",
      "video 11 slice 48: 100%|██████████| 100/100 [00:04<00:00, 22.27it/s]\n",
      "video 11 slice 49: 100%|██████████| 100/100 [00:04<00:00, 22.33it/s]\n",
      "video 11 slice 50: 100%|██████████| 100/100 [00:04<00:00, 22.35it/s]\n",
      "video 11 slice 51: 100%|██████████| 100/100 [00:04<00:00, 22.32it/s]\n"
     ]
    },
    {
     "name": "stdout",
     "output_type": "stream",
     "text": [
      "video: squat_raw/Squat 100kg x 30 (20 rep squats and milk program).mp4 label: squat total frame number: 5243\n"
     ]
    },
    {
     "name": "stderr",
     "output_type": "stream",
     "text": [
      "video 11 slice 0: 100%|██████████| 120/120 [00:00<00:00, 764.37it/s]\n",
      "video 11 slice 1: 100%|██████████| 120/120 [00:05<00:00, 22.26it/s]\n",
      "video 11 slice 2: 100%|██████████| 120/120 [00:05<00:00, 22.33it/s]\n",
      "video 11 slice 3: 100%|██████████| 120/120 [00:05<00:00, 22.37it/s]\n",
      "video 11 slice 4: 100%|██████████| 120/120 [00:05<00:00, 22.36it/s]\n",
      "video 11 slice 5: 100%|██████████| 120/120 [00:05<00:00, 22.22it/s]\n",
      "video 11 slice 6: 100%|██████████| 120/120 [00:05<00:00, 22.16it/s]\n",
      "video 11 slice 7: 100%|██████████| 120/120 [00:05<00:00, 22.32it/s]\n",
      "video 11 slice 8: 100%|██████████| 120/120 [00:05<00:00, 22.27it/s]\n",
      "video 11 slice 9: 100%|██████████| 120/120 [00:05<00:00, 22.33it/s]\n",
      "video 11 slice 10: 100%|██████████| 120/120 [00:05<00:00, 22.10it/s]\n",
      "video 11 slice 11: 100%|██████████| 120/120 [00:05<00:00, 22.19it/s]\n",
      "video 11 slice 12: 100%|██████████| 120/120 [00:05<00:00, 22.32it/s]\n",
      "video 11 slice 13: 100%|██████████| 120/120 [00:05<00:00, 22.04it/s]\n",
      "video 11 slice 14: 100%|██████████| 120/120 [00:05<00:00, 22.31it/s]\n",
      "video 11 slice 15: 100%|██████████| 120/120 [00:05<00:00, 22.38it/s]\n",
      "video 11 slice 16: 100%|██████████| 120/120 [00:05<00:00, 22.24it/s]\n",
      "video 11 slice 17: 100%|██████████| 120/120 [00:05<00:00, 22.32it/s]\n",
      "video 11 slice 18: 100%|██████████| 120/120 [00:05<00:00, 22.37it/s]\n",
      "video 11 slice 19: 100%|██████████| 120/120 [00:05<00:00, 22.35it/s]\n",
      "video 11 slice 20: 100%|██████████| 120/120 [00:05<00:00, 22.30it/s]\n",
      "video 11 slice 21: 100%|██████████| 120/120 [00:05<00:00, 22.14it/s]\n",
      "video 11 slice 22: 100%|██████████| 120/120 [00:05<00:00, 22.35it/s]\n",
      "video 11 slice 23: 100%|██████████| 120/120 [00:05<00:00, 22.35it/s]\n",
      "video 11 slice 24: 100%|██████████| 120/120 [00:05<00:00, 22.34it/s]\n",
      "video 11 slice 25: 100%|██████████| 120/120 [00:05<00:00, 22.27it/s]\n",
      "video 11 slice 26: 100%|██████████| 120/120 [00:05<00:00, 22.21it/s]\n",
      "video 11 slice 27: 100%|██████████| 120/120 [00:05<00:00, 22.33it/s]\n",
      "video 11 slice 28: 100%|██████████| 120/120 [00:05<00:00, 22.34it/s]\n",
      "video 11 slice 29: 100%|██████████| 120/120 [00:05<00:00, 22.30it/s]\n",
      "video 11 slice 30: 100%|██████████| 120/120 [00:05<00:00, 22.23it/s]\n",
      "video 11 slice 31: 100%|██████████| 120/120 [00:05<00:00, 22.17it/s]\n",
      "video 11 slice 32: 100%|██████████| 120/120 [00:05<00:00, 22.34it/s]\n",
      "video 11 slice 33: 100%|██████████| 120/120 [00:05<00:00, 22.30it/s]\n",
      "video 11 slice 34: 100%|██████████| 120/120 [00:05<00:00, 22.35it/s]\n",
      "video 11 slice 35: 100%|██████████| 120/120 [00:05<00:00, 22.19it/s]\n",
      "video 11 slice 36: 100%|██████████| 120/120 [00:05<00:00, 22.32it/s]\n",
      "video 11 slice 37: 100%|██████████| 120/120 [00:05<00:00, 22.38it/s]\n",
      "video 11 slice 38: 100%|██████████| 120/120 [00:05<00:00, 22.29it/s]\n",
      "video 11 slice 39: 100%|██████████| 120/120 [00:05<00:00, 22.32it/s]\n",
      "video 11 slice 40: 100%|██████████| 120/120 [00:05<00:00, 22.22it/s]\n",
      "video 11 slice 41: 100%|██████████| 120/120 [00:05<00:00, 22.36it/s]\n",
      "video 11 slice 42: 100%|██████████| 120/120 [00:05<00:00, 22.32it/s]\n"
     ]
    },
    {
     "name": "stdout",
     "output_type": "stream",
     "text": [
      "video: squat_raw/Squat 100kg x 30 (20 rep squats and milk program).mp4 label: squat total frame number: 5243\n"
     ]
    },
    {
     "name": "stderr",
     "output_type": "stream",
     "text": [
      "video 11 slice 0: 100%|██████████| 150/150 [00:00<00:00, 1677.22it/s]\n",
      "video 11 slice 1: 100%|██████████| 150/150 [00:06<00:00, 22.31it/s]\n",
      "video 11 slice 2: 100%|██████████| 150/150 [00:06<00:00, 22.20it/s]\n",
      "video 11 slice 3: 100%|██████████| 150/150 [00:06<00:00, 22.31it/s]\n",
      "video 11 slice 4: 100%|██████████| 150/150 [00:06<00:00, 22.21it/s]\n",
      "video 11 slice 5: 100%|██████████| 150/150 [00:06<00:00, 22.29it/s]\n",
      "video 11 slice 6: 100%|██████████| 150/150 [00:06<00:00, 22.18it/s]\n",
      "video 11 slice 7: 100%|██████████| 150/150 [00:06<00:00, 22.31it/s]\n",
      "video 11 slice 8: 100%|██████████| 150/150 [00:06<00:00, 22.29it/s]\n",
      "video 11 slice 9: 100%|██████████| 150/150 [00:06<00:00, 22.30it/s]\n",
      "video 11 slice 10: 100%|██████████| 150/150 [00:06<00:00, 22.19it/s]\n",
      "video 11 slice 11: 100%|██████████| 150/150 [00:06<00:00, 22.31it/s]\n",
      "video 11 slice 12: 100%|██████████| 150/150 [00:06<00:00, 22.32it/s]\n",
      "video 11 slice 13: 100%|██████████| 150/150 [00:06<00:00, 22.33it/s]\n",
      "video 11 slice 14: 100%|██████████| 150/150 [00:06<00:00, 22.19it/s]\n",
      "video 11 slice 15: 100%|██████████| 150/150 [00:06<00:00, 22.32it/s]\n",
      "video 11 slice 16: 100%|██████████| 150/150 [00:06<00:00, 22.24it/s]\n",
      "video 11 slice 17: 100%|██████████| 150/150 [00:06<00:00, 22.31it/s]\n",
      "video 11 slice 18: 100%|██████████| 150/150 [00:06<00:00, 22.14it/s]\n",
      "video 11 slice 19: 100%|██████████| 150/150 [00:06<00:00, 22.30it/s]\n",
      "video 11 slice 20: 100%|██████████| 150/150 [00:06<00:00, 22.22it/s]\n",
      "video 11 slice 21: 100%|██████████| 150/150 [00:06<00:00, 22.28it/s]\n",
      "video 11 slice 22: 100%|██████████| 150/150 [00:06<00:00, 22.37it/s]\n",
      "video 11 slice 23: 100%|██████████| 150/150 [00:06<00:00, 22.30it/s]\n",
      "video 11 slice 24: 100%|██████████| 150/150 [00:06<00:00, 22.16it/s]\n",
      "video 11 slice 25: 100%|██████████| 150/150 [00:06<00:00, 22.30it/s]\n",
      "video 11 slice 26: 100%|██████████| 150/150 [00:06<00:00, 22.30it/s]\n",
      "video 11 slice 27: 100%|██████████| 150/150 [00:06<00:00, 22.34it/s]\n",
      "video 11 slice 28: 100%|██████████| 150/150 [00:06<00:00, 22.18it/s]\n",
      "video 11 slice 29: 100%|██████████| 150/150 [00:06<00:00, 22.32it/s]\n",
      "video 11 slice 30: 100%|██████████| 150/150 [00:06<00:00, 22.32it/s]\n",
      "video 11 slice 31: 100%|██████████| 150/150 [00:06<00:00, 22.19it/s]\n",
      "video 11 slice 32: 100%|██████████| 150/150 [00:06<00:00, 22.29it/s]\n",
      "video 11 slice 33: 100%|██████████| 150/150 [00:06<00:00, 22.34it/s]\n"
     ]
    },
    {
     "name": "stdout",
     "output_type": "stream",
     "text": [
      "video: squat_raw/深蹲 Squat 270公斤.mp4 label: squat total frame number: 244\n"
     ]
    },
    {
     "name": "stderr",
     "output_type": "stream",
     "text": [
      "video 12 slice 0: 100%|██████████| 70/70 [00:00<00:00, 1077.39it/s]\n",
      "video 12 slice 1: 100%|██████████| 70/70 [00:03<00:00, 22.56it/s]\n",
      "video 12 slice 2: 100%|██████████| 70/70 [00:03<00:00, 22.62it/s]\n"
     ]
    },
    {
     "name": "stdout",
     "output_type": "stream",
     "text": [
      "video: squat_raw/深蹲 Squat 270公斤.mp4 label: squat total frame number: 244\n"
     ]
    },
    {
     "name": "stderr",
     "output_type": "stream",
     "text": [
      "video 12 slice 0: 100%|██████████| 100/100 [00:00<00:00, 1191.57it/s]\n",
      "video 12 slice 1: 100%|██████████| 100/100 [00:04<00:00, 22.30it/s]\n"
     ]
    },
    {
     "name": "stdout",
     "output_type": "stream",
     "text": [
      "video: squat_raw/深蹲 Squat 270公斤.mp4 label: squat total frame number: 244\n"
     ]
    },
    {
     "name": "stderr",
     "output_type": "stream",
     "text": [
      "video 12 slice 0: 100%|██████████| 120/120 [00:00<00:00, 1461.25it/s]\n",
      "video 12 slice 1: 100%|██████████| 120/120 [00:05<00:00, 22.42it/s]\n"
     ]
    },
    {
     "name": "stdout",
     "output_type": "stream",
     "text": [
      "video: squat_raw/深蹲 Squat 270公斤.mp4 label: squat total frame number: 244\n"
     ]
    },
    {
     "name": "stderr",
     "output_type": "stream",
     "text": [
      "video 12 slice 0: 100%|██████████| 150/150 [00:00<00:00, 1752.82it/s]\n"
     ]
    },
    {
     "name": "stdout",
     "output_type": "stream",
     "text": [
      "video: benchpress_raw/臥推80公斤3下.mp4 label: benchpress total frame number: 486\n"
     ]
    },
    {
     "name": "stderr",
     "output_type": "stream",
     "text": [
      "video 0 slice 0: 100%|██████████| 70/70 [00:00<00:00, 3370.35it/s]\n",
      "video 0 slice 1: 100%|██████████| 70/70 [00:03<00:00, 22.58it/s]\n",
      "video 0 slice 2: 100%|██████████| 70/70 [00:03<00:00, 22.53it/s]\n",
      "video 0 slice 3: 100%|██████████| 70/70 [00:03<00:00, 22.57it/s]\n",
      "video 0 slice 4: 100%|██████████| 70/70 [00:03<00:00, 22.41it/s]\n",
      "video 0 slice 5: 100%|██████████| 70/70 [00:03<00:00, 22.28it/s]\n"
     ]
    },
    {
     "name": "stdout",
     "output_type": "stream",
     "text": [
      "video: benchpress_raw/臥推80公斤3下.mp4 label: benchpress total frame number: 486\n"
     ]
    },
    {
     "name": "stderr",
     "output_type": "stream",
     "text": [
      "video 0 slice 0: 100%|██████████| 100/100 [00:00<00:00, 3967.52it/s]\n",
      "video 0 slice 1: 100%|██████████| 100/100 [00:04<00:00, 22.63it/s]\n",
      "video 0 slice 2: 100%|██████████| 100/100 [00:04<00:00, 22.54it/s]\n",
      "video 0 slice 3: 100%|██████████| 100/100 [00:04<00:00, 22.63it/s]\n"
     ]
    },
    {
     "name": "stdout",
     "output_type": "stream",
     "text": [
      "video: benchpress_raw/臥推80公斤3下.mp4 label: benchpress total frame number: 486\n"
     ]
    },
    {
     "name": "stderr",
     "output_type": "stream",
     "text": [
      "video 0 slice 0: 100%|██████████| 120/120 [00:00<00:00, 2555.84it/s]\n",
      "video 0 slice 1: 100%|██████████| 120/120 [00:05<00:00, 22.62it/s]\n",
      "video 0 slice 2: 100%|██████████| 120/120 [00:05<00:00, 22.63it/s]\n",
      "video 0 slice 3: 100%|██████████| 120/120 [00:05<00:00, 22.49it/s]\n"
     ]
    },
    {
     "name": "stdout",
     "output_type": "stream",
     "text": [
      "video: benchpress_raw/臥推80公斤3下.mp4 label: benchpress total frame number: 486\n"
     ]
    },
    {
     "name": "stderr",
     "output_type": "stream",
     "text": [
      "video 0 slice 0: 100%|██████████| 150/150 [00:00<00:00, 3432.98it/s]\n",
      "video 0 slice 1: 100%|██████████| 150/150 [00:06<00:00, 22.57it/s]\n",
      "video 0 slice 2: 100%|██████████| 150/150 [00:06<00:00, 22.56it/s]\n"
     ]
    },
    {
     "name": "stdout",
     "output_type": "stream",
     "text": [
      "video: benchpress_raw/60KG Bench Press for 9 Reps (10th rep fail).mp4 label: benchpress total frame number: 937\n"
     ]
    },
    {
     "name": "stderr",
     "output_type": "stream",
     "text": [
      "video 1 slice 0: 100%|██████████| 70/70 [00:00<00:00, 1168.80it/s]\n",
      "video 1 slice 1: 100%|██████████| 70/70 [00:03<00:00, 22.40it/s]\n",
      "video 1 slice 2: 100%|██████████| 70/70 [00:03<00:00, 22.39it/s]\n",
      "video 1 slice 3: 100%|██████████| 70/70 [00:03<00:00, 22.24it/s]\n",
      "video 1 slice 4: 100%|██████████| 70/70 [00:03<00:00, 22.43it/s]\n",
      "video 1 slice 5: 100%|██████████| 70/70 [00:03<00:00, 22.36it/s]\n",
      "video 1 slice 6: 100%|██████████| 70/70 [00:03<00:00, 22.31it/s]\n",
      "video 1 slice 7: 100%|██████████| 70/70 [00:03<00:00, 22.36it/s]\n",
      "video 1 slice 8: 100%|██████████| 70/70 [00:03<00:00, 22.38it/s]\n",
      "video 1 slice 9: 100%|██████████| 70/70 [00:03<00:00, 22.37it/s]\n",
      "video 1 slice 10: 100%|██████████| 70/70 [00:03<00:00, 22.36it/s]\n",
      "video 1 slice 11: 100%|██████████| 70/70 [00:03<00:00, 22.38it/s]\n",
      "video 1 slice 12: 100%|██████████| 70/70 [00:03<00:00, 22.00it/s]\n"
     ]
    },
    {
     "name": "stdout",
     "output_type": "stream",
     "text": [
      "video: benchpress_raw/60KG Bench Press for 9 Reps (10th rep fail).mp4 label: benchpress total frame number: 937\n"
     ]
    },
    {
     "name": "stderr",
     "output_type": "stream",
     "text": [
      "video 1 slice 0: 100%|██████████| 100/100 [00:00<00:00, 1015.47it/s]\n",
      "video 1 slice 1: 100%|██████████| 100/100 [00:04<00:00, 22.34it/s]\n",
      "video 1 slice 2: 100%|██████████| 100/100 [00:04<00:00, 22.30it/s]\n",
      "video 1 slice 3: 100%|██████████| 100/100 [00:04<00:00, 22.34it/s]\n",
      "video 1 slice 4: 100%|██████████| 100/100 [00:04<00:00, 22.39it/s]\n",
      "video 1 slice 5: 100%|██████████| 100/100 [00:04<00:00, 22.22it/s]\n",
      "video 1 slice 6: 100%|██████████| 100/100 [00:04<00:00, 22.22it/s]\n",
      "video 1 slice 7: 100%|██████████| 100/100 [00:04<00:00, 22.41it/s]\n",
      "video 1 slice 8: 100%|██████████| 100/100 [00:04<00:00, 22.37it/s]\n"
     ]
    },
    {
     "name": "stdout",
     "output_type": "stream",
     "text": [
      "video: benchpress_raw/60KG Bench Press for 9 Reps (10th rep fail).mp4 label: benchpress total frame number: 937\n"
     ]
    },
    {
     "name": "stderr",
     "output_type": "stream",
     "text": [
      "video 1 slice 0: 100%|██████████| 120/120 [00:00<00:00, 1595.81it/s]\n",
      "video 1 slice 1: 100%|██████████| 120/120 [00:05<00:00, 22.36it/s]\n",
      "video 1 slice 2: 100%|██████████| 120/120 [00:05<00:00, 22.19it/s]\n",
      "video 1 slice 3: 100%|██████████| 120/120 [00:05<00:00, 22.25it/s]\n",
      "video 1 slice 4: 100%|██████████| 120/120 [00:05<00:00, 22.33it/s]\n",
      "video 1 slice 5: 100%|██████████| 120/120 [00:05<00:00, 22.36it/s]\n",
      "video 1 slice 6: 100%|██████████| 120/120 [00:05<00:00, 22.39it/s]\n"
     ]
    },
    {
     "name": "stdout",
     "output_type": "stream",
     "text": [
      "video: benchpress_raw/60KG Bench Press for 9 Reps (10th rep fail).mp4 label: benchpress total frame number: 937\n"
     ]
    },
    {
     "name": "stderr",
     "output_type": "stream",
     "text": [
      "video 1 slice 0: 100%|██████████| 150/150 [00:00<00:00, 1744.53it/s]\n",
      "video 1 slice 1: 100%|██████████| 150/150 [00:06<00:00, 22.22it/s]\n",
      "video 1 slice 2: 100%|██████████| 150/150 [00:06<00:00, 22.25it/s]\n",
      "video 1 slice 3: 100%|██████████| 150/150 [00:06<00:00, 22.34it/s]\n",
      "video 1 slice 4: 100%|██████████| 150/150 [00:06<00:00, 22.27it/s]\n",
      "video 1 slice 5: 100%|██████████| 150/150 [00:06<00:00, 22.39it/s]\n"
     ]
    },
    {
     "name": "stdout",
     "output_type": "stream",
     "text": [
      "video: benchpress_raw/225 Bench press for 10 reps.mp4 label: benchpress total frame number: 1036\n"
     ]
    },
    {
     "name": "stderr",
     "output_type": "stream",
     "text": [
      "video 2 slice 0: 100%|██████████| 70/70 [00:00<00:00, 3156.46it/s]\n",
      "video 2 slice 1: 100%|██████████| 70/70 [00:03<00:00, 22.54it/s]\n",
      "video 2 slice 2: 100%|██████████| 70/70 [00:03<00:00, 22.67it/s]\n",
      "video 2 slice 3: 100%|██████████| 70/70 [00:03<00:00, 22.61it/s]\n",
      "video 2 slice 4: 100%|██████████| 70/70 [00:03<00:00, 22.56it/s]\n",
      "video 2 slice 5: 100%|██████████| 70/70 [00:03<00:00, 22.52it/s]\n",
      "video 2 slice 6: 100%|██████████| 70/70 [00:03<00:00, 22.58it/s]\n",
      "video 2 slice 7: 100%|██████████| 70/70 [00:03<00:00, 22.30it/s]\n",
      "video 2 slice 8: 100%|██████████| 70/70 [00:03<00:00, 22.62it/s]\n",
      "video 2 slice 9: 100%|██████████| 70/70 [00:03<00:00, 22.61it/s]\n",
      "video 2 slice 10: 100%|██████████| 70/70 [00:03<00:00, 22.64it/s]\n",
      "video 2 slice 11: 100%|██████████| 70/70 [00:03<00:00, 22.62it/s]\n",
      "video 2 slice 12: 100%|██████████| 70/70 [00:03<00:00, 22.62it/s]\n",
      "video 2 slice 13: 100%|██████████| 70/70 [00:03<00:00, 22.44it/s]\n"
     ]
    },
    {
     "name": "stdout",
     "output_type": "stream",
     "text": [
      "video: benchpress_raw/225 Bench press for 10 reps.mp4 label: benchpress total frame number: 1036\n"
     ]
    },
    {
     "name": "stderr",
     "output_type": "stream",
     "text": [
      "video 2 slice 0: 100%|██████████| 100/100 [00:00<00:00, 3566.80it/s]\n",
      "video 2 slice 1: 100%|██████████| 100/100 [00:04<00:00, 22.49it/s]\n",
      "video 2 slice 2: 100%|██████████| 100/100 [00:04<00:00, 22.58it/s]\n",
      "video 2 slice 3: 100%|██████████| 100/100 [00:04<00:00, 22.64it/s]\n",
      "video 2 slice 4: 100%|██████████| 100/100 [00:04<00:00, 22.62it/s]\n",
      "video 2 slice 5: 100%|██████████| 100/100 [00:04<00:00, 22.60it/s]\n",
      "video 2 slice 6: 100%|██████████| 100/100 [00:04<00:00, 22.56it/s]\n",
      "video 2 slice 7: 100%|██████████| 100/100 [00:04<00:00, 22.57it/s]\n",
      "video 2 slice 8: 100%|██████████| 100/100 [00:04<00:00, 22.54it/s]\n",
      "video 2 slice 9: 100%|██████████| 100/100 [00:04<00:00, 22.54it/s]\n"
     ]
    },
    {
     "name": "stdout",
     "output_type": "stream",
     "text": [
      "video: benchpress_raw/225 Bench press for 10 reps.mp4 label: benchpress total frame number: 1036\n"
     ]
    },
    {
     "name": "stderr",
     "output_type": "stream",
     "text": [
      "video 2 slice 0: 100%|██████████| 120/120 [00:00<00:00, 3645.95it/s]\n",
      "video 2 slice 1: 100%|██████████| 120/120 [00:05<00:00, 22.62it/s]\n",
      "video 2 slice 2: 100%|██████████| 120/120 [00:05<00:00, 22.58it/s]\n",
      "video 2 slice 3: 100%|██████████| 120/120 [00:05<00:00, 22.55it/s]\n",
      "video 2 slice 4: 100%|██████████| 120/120 [00:05<00:00, 22.46it/s]\n",
      "video 2 slice 5: 100%|██████████| 120/120 [00:05<00:00, 22.61it/s]\n",
      "video 2 slice 6: 100%|██████████| 120/120 [00:05<00:00, 22.55it/s]\n",
      "video 2 slice 7: 100%|██████████| 120/120 [00:05<00:00, 22.63it/s]\n"
     ]
    },
    {
     "name": "stdout",
     "output_type": "stream",
     "text": [
      "video: benchpress_raw/225 Bench press for 10 reps.mp4 label: benchpress total frame number: 1036\n"
     ]
    },
    {
     "name": "stderr",
     "output_type": "stream",
     "text": [
      "video 2 slice 0: 100%|██████████| 150/150 [00:00<00:00, 3977.83it/s]\n",
      "video 2 slice 1: 100%|██████████| 150/150 [00:06<00:00, 22.60it/s]\n",
      "video 2 slice 2: 100%|██████████| 150/150 [00:06<00:00, 22.48it/s]\n",
      "video 2 slice 3: 100%|██████████| 150/150 [00:06<00:00, 22.61it/s]\n",
      "video 2 slice 4: 100%|██████████| 150/150 [00:06<00:00, 22.62it/s]\n",
      "video 2 slice 5: 100%|██████████| 150/150 [00:06<00:00, 22.59it/s]\n"
     ]
    },
    {
     "name": "stdout",
     "output_type": "stream",
     "text": [
      "video: benchpress_raw/120kg bench press 20 reps for 3 sets easy.mp4 label: benchpress total frame number: 1335\n"
     ]
    },
    {
     "name": "stderr",
     "output_type": "stream",
     "text": [
      "video 3 slice 0: 100%|██████████| 70/70 [00:00<00:00, 1317.33it/s]\n",
      "video 3 slice 1: 100%|██████████| 70/70 [00:03<00:00, 22.09it/s]\n",
      "video 3 slice 2: 100%|██████████| 70/70 [00:03<00:00, 22.38it/s]\n",
      "video 3 slice 3: 100%|██████████| 70/70 [00:03<00:00, 22.29it/s]\n",
      "video 3 slice 4: 100%|██████████| 70/70 [00:03<00:00, 22.40it/s]\n",
      "video 3 slice 5: 100%|██████████| 70/70 [00:03<00:00, 22.41it/s]\n",
      "video 3 slice 6: 100%|██████████| 70/70 [00:03<00:00, 22.44it/s]\n",
      "video 3 slice 7: 100%|██████████| 70/70 [00:03<00:00, 22.41it/s]\n",
      "video 3 slice 8: 100%|██████████| 70/70 [00:03<00:00, 22.46it/s]\n",
      "video 3 slice 9: 100%|██████████| 70/70 [00:03<00:00, 22.34it/s]\n",
      "video 3 slice 10: 100%|██████████| 70/70 [00:03<00:00, 22.17it/s]\n",
      "video 3 slice 11: 100%|██████████| 70/70 [00:03<00:00, 22.45it/s]\n",
      "video 3 slice 12: 100%|██████████| 70/70 [00:03<00:00, 22.43it/s]\n",
      "video 3 slice 13: 100%|██████████| 70/70 [00:03<00:00, 22.46it/s]\n",
      "video 3 slice 14: 100%|██████████| 70/70 [00:03<00:00, 22.44it/s]\n",
      "video 3 slice 15: 100%|██████████| 70/70 [00:03<00:00, 22.36it/s]\n",
      "video 3 slice 16: 100%|██████████| 70/70 [00:03<00:00, 22.43it/s]\n",
      "video 3 slice 17: 100%|██████████| 70/70 [00:03<00:00, 22.38it/s]\n",
      "video 3 slice 18: 100%|██████████| 70/70 [00:03<00:00, 22.29it/s]\n"
     ]
    },
    {
     "name": "stdout",
     "output_type": "stream",
     "text": [
      "video: benchpress_raw/120kg bench press 20 reps for 3 sets easy.mp4 label: benchpress total frame number: 1335\n"
     ]
    },
    {
     "name": "stderr",
     "output_type": "stream",
     "text": [
      "video 3 slice 0: 100%|██████████| 100/100 [00:00<00:00, 914.46it/s]\n",
      "video 3 slice 1: 100%|██████████| 100/100 [00:04<00:00, 22.38it/s]\n",
      "video 3 slice 2: 100%|██████████| 100/100 [00:04<00:00, 22.39it/s]\n",
      "video 3 slice 3: 100%|██████████| 100/100 [00:04<00:00, 22.40it/s]\n",
      "video 3 slice 4: 100%|██████████| 100/100 [00:04<00:00, 22.42it/s]\n",
      "video 3 slice 5: 100%|██████████| 100/100 [00:04<00:00, 22.42it/s]\n",
      "video 3 slice 6: 100%|██████████| 100/100 [00:04<00:00, 22.41it/s]\n",
      "video 3 slice 7: 100%|██████████| 100/100 [00:04<00:00, 22.28it/s]\n",
      "video 3 slice 8: 100%|██████████| 100/100 [00:04<00:00, 22.44it/s]\n",
      "video 3 slice 9: 100%|██████████| 100/100 [00:04<00:00, 22.39it/s]\n",
      "video 3 slice 10: 100%|██████████| 100/100 [00:04<00:00, 22.45it/s]\n",
      "video 3 slice 11: 100%|██████████| 100/100 [00:04<00:00, 22.43it/s]\n",
      "video 3 slice 12: 100%|██████████| 100/100 [00:04<00:00, 22.47it/s]\n"
     ]
    },
    {
     "name": "stdout",
     "output_type": "stream",
     "text": [
      "video: benchpress_raw/120kg bench press 20 reps for 3 sets easy.mp4 label: benchpress total frame number: 1335\n"
     ]
    },
    {
     "name": "stderr",
     "output_type": "stream",
     "text": [
      "video 3 slice 0: 100%|██████████| 120/120 [00:00<00:00, 2418.07it/s]\n",
      "video 3 slice 1: 100%|██████████| 120/120 [00:05<00:00, 22.23it/s]\n",
      "video 3 slice 2: 100%|██████████| 120/120 [00:05<00:00, 22.36it/s]\n",
      "video 3 slice 3: 100%|██████████| 120/120 [00:05<00:00, 22.39it/s]\n",
      "video 3 slice 4: 100%|██████████| 120/120 [00:05<00:00, 22.38it/s]\n",
      "video 3 slice 5: 100%|██████████| 120/120 [00:05<00:00, 22.43it/s]\n",
      "video 3 slice 6: 100%|██████████| 120/120 [00:05<00:00, 22.31it/s]\n",
      "video 3 slice 7: 100%|██████████| 120/120 [00:05<00:00, 22.31it/s]\n",
      "video 3 slice 8: 100%|██████████| 120/120 [00:05<00:00, 22.44it/s]\n",
      "video 3 slice 9: 100%|██████████| 120/120 [00:05<00:00, 22.40it/s]\n",
      "video 3 slice 10: 100%|██████████| 120/120 [00:05<00:00, 22.41it/s]\n"
     ]
    },
    {
     "name": "stdout",
     "output_type": "stream",
     "text": [
      "video: benchpress_raw/120kg bench press 20 reps for 3 sets easy.mp4 label: benchpress total frame number: 1335\n"
     ]
    },
    {
     "name": "stderr",
     "output_type": "stream",
     "text": [
      "video 3 slice 0: 100%|██████████| 150/150 [00:00<00:00, 2718.53it/s]\n",
      "video 3 slice 1: 100%|██████████| 150/150 [00:06<00:00, 22.39it/s]\n",
      "video 3 slice 2: 100%|██████████| 150/150 [00:06<00:00, 22.26it/s]\n",
      "video 3 slice 3: 100%|██████████| 150/150 [00:06<00:00, 22.40it/s]\n",
      "video 3 slice 4: 100%|██████████| 150/150 [00:06<00:00, 22.37it/s]\n",
      "video 3 slice 5: 100%|██████████| 150/150 [00:06<00:00, 22.37it/s]\n",
      "video 3 slice 6: 100%|██████████| 150/150 [00:06<00:00, 22.28it/s]\n",
      "video 3 slice 7: 100%|██████████| 150/150 [00:06<00:00, 22.46it/s]\n"
     ]
    },
    {
     "name": "stdout",
     "output_type": "stream",
     "text": [
      "video: benchpress_raw/Allen Baria - Bench Press 405 lbs X 25 reps 500 lbs X 10 reps (RAW).mp4 label: benchpress total frame number: 3928\n"
     ]
    },
    {
     "name": "stderr",
     "output_type": "stream",
     "text": [
      "video 4 slice 0: 100%|██████████| 70/70 [00:00<00:00, 2513.47it/s]\n",
      "video 4 slice 1: 100%|██████████| 70/70 [00:03<00:00, 22.73it/s]\n",
      "video 4 slice 2: 100%|██████████| 70/70 [00:03<00:00, 22.78it/s]\n",
      "video 4 slice 3: 100%|██████████| 70/70 [00:03<00:00, 22.81it/s]\n",
      "video 4 slice 4: 100%|██████████| 70/70 [00:03<00:00, 22.77it/s]\n",
      "video 4 slice 5: 100%|██████████| 70/70 [00:03<00:00, 22.75it/s]\n",
      "video 4 slice 6: 100%|██████████| 70/70 [00:03<00:00, 22.55it/s]\n",
      "video 4 slice 7: 100%|██████████| 70/70 [00:03<00:00, 22.66it/s]\n",
      "video 4 slice 8: 100%|██████████| 70/70 [00:03<00:00, 22.79it/s]\n",
      "video 4 slice 9: 100%|██████████| 70/70 [00:03<00:00, 22.79it/s]\n",
      "video 4 slice 10: 100%|██████████| 70/70 [00:03<00:00, 22.75it/s]\n",
      "video 4 slice 11: 100%|██████████| 70/70 [00:03<00:00, 22.71it/s]\n",
      "video 4 slice 12: 100%|██████████| 70/70 [00:03<00:00, 22.70it/s]\n",
      "video 4 slice 13: 100%|██████████| 70/70 [00:03<00:00, 22.78it/s]\n",
      "video 4 slice 14: 100%|██████████| 70/70 [00:03<00:00, 22.82it/s]\n",
      "video 4 slice 15: 100%|██████████| 70/70 [00:03<00:00, 22.53it/s]\n",
      "video 4 slice 16: 100%|██████████| 70/70 [00:03<00:00, 22.67it/s]\n",
      "video 4 slice 17: 100%|██████████| 70/70 [00:03<00:00, 22.76it/s]\n",
      "video 4 slice 18: 100%|██████████| 70/70 [00:03<00:00, 22.81it/s]\n",
      "video 4 slice 19: 100%|██████████| 70/70 [00:03<00:00, 22.68it/s]\n",
      "video 4 slice 20: 100%|██████████| 70/70 [00:03<00:00, 22.80it/s]\n",
      "video 4 slice 21: 100%|██████████| 70/70 [00:03<00:00, 22.77it/s]\n",
      "video 4 slice 22: 100%|██████████| 70/70 [00:03<00:00, 22.83it/s]\n",
      "video 4 slice 23: 100%|██████████| 70/70 [00:03<00:00, 22.60it/s]\n",
      "video 4 slice 24: 100%|██████████| 70/70 [00:03<00:00, 22.86it/s]\n",
      "video 4 slice 25: 100%|██████████| 70/70 [00:03<00:00, 22.83it/s]\n",
      "video 4 slice 26: 100%|██████████| 70/70 [00:03<00:00, 22.83it/s]\n",
      "video 4 slice 27: 100%|██████████| 70/70 [00:03<00:00, 22.77it/s]\n",
      "video 4 slice 28: 100%|██████████| 70/70 [00:03<00:00, 22.73it/s]\n",
      "video 4 slice 29: 100%|██████████| 70/70 [00:03<00:00, 22.82it/s]\n",
      "video 4 slice 30: 100%|██████████| 70/70 [00:03<00:00, 22.74it/s]\n",
      "video 4 slice 31: 100%|██████████| 70/70 [00:03<00:00, 22.46it/s]\n",
      "video 4 slice 32: 100%|██████████| 70/70 [00:03<00:00, 22.75it/s]\n",
      "video 4 slice 33: 100%|██████████| 70/70 [00:03<00:00, 22.75it/s]\n",
      "video 4 slice 34: 100%|██████████| 70/70 [00:03<00:00, 22.76it/s]\n",
      "video 4 slice 35: 100%|██████████| 70/70 [00:03<00:00, 22.80it/s]\n",
      "video 4 slice 36: 100%|██████████| 70/70 [00:03<00:00, 22.79it/s]\n",
      "video 4 slice 37: 100%|██████████| 70/70 [00:03<00:00, 22.81it/s]\n",
      "video 4 slice 38: 100%|██████████| 70/70 [00:03<00:00, 22.83it/s]\n",
      "video 4 slice 39: 100%|██████████| 70/70 [00:03<00:00, 22.48it/s]\n",
      "video 4 slice 40: 100%|██████████| 70/70 [00:03<00:00, 22.82it/s]\n",
      "video 4 slice 41: 100%|██████████| 70/70 [00:03<00:00, 22.71it/s]\n",
      "video 4 slice 42: 100%|██████████| 70/70 [00:03<00:00, 22.83it/s]\n",
      "video 4 slice 43: 100%|██████████| 70/70 [00:03<00:00, 22.60it/s]\n",
      "video 4 slice 44: 100%|██████████| 70/70 [00:03<00:00, 22.68it/s]\n",
      "video 4 slice 45: 100%|██████████| 70/70 [00:03<00:00, 22.85it/s]\n",
      "video 4 slice 46: 100%|██████████| 70/70 [00:03<00:00, 22.84it/s]\n",
      "video 4 slice 47: 100%|██████████| 70/70 [00:03<00:00, 22.53it/s]\n",
      "video 4 slice 48: 100%|██████████| 70/70 [00:03<00:00, 22.86it/s]\n",
      "video 4 slice 49: 100%|██████████| 70/70 [00:03<00:00, 22.80it/s]\n",
      "video 4 slice 50: 100%|██████████| 70/70 [00:03<00:00, 22.86it/s]\n",
      "video 4 slice 51: 100%|██████████| 70/70 [00:03<00:00, 22.67it/s]\n",
      "video 4 slice 52: 100%|██████████| 70/70 [00:03<00:00, 22.86it/s]\n",
      "video 4 slice 53: 100%|██████████| 70/70 [00:03<00:00, 22.88it/s]\n",
      "video 4 slice 54: 100%|██████████| 70/70 [00:03<00:00, 22.44it/s]\n",
      "video 4 slice 55: 100%|██████████| 70/70 [00:03<00:00, 22.79it/s]\n"
     ]
    },
    {
     "name": "stdout",
     "output_type": "stream",
     "text": [
      "video: benchpress_raw/Allen Baria - Bench Press 405 lbs X 25 reps 500 lbs X 10 reps (RAW).mp4 label: benchpress total frame number: 3928\n"
     ]
    },
    {
     "name": "stderr",
     "output_type": "stream",
     "text": [
      "video 4 slice 0: 100%|██████████| 100/100 [00:00<00:00, 8020.16it/s]\n",
      "video 4 slice 1: 100%|██████████| 100/100 [00:04<00:00, 22.76it/s]\n",
      "video 4 slice 2: 100%|██████████| 100/100 [00:04<00:00, 22.71it/s]\n",
      "video 4 slice 3: 100%|██████████| 100/100 [00:04<00:00, 22.73it/s]\n",
      "video 4 slice 4: 100%|██████████| 100/100 [00:04<00:00, 22.79it/s]\n",
      "video 4 slice 5: 100%|██████████| 100/100 [00:04<00:00, 22.65it/s]\n",
      "video 4 slice 6: 100%|██████████| 100/100 [00:04<00:00, 22.82it/s]\n",
      "video 4 slice 7: 100%|██████████| 100/100 [00:04<00:00, 22.82it/s]\n",
      "video 4 slice 8: 100%|██████████| 100/100 [00:04<00:00, 22.75it/s]\n",
      "video 4 slice 9: 100%|██████████| 100/100 [00:04<00:00, 22.74it/s]\n",
      "video 4 slice 10: 100%|██████████| 100/100 [00:04<00:00, 22.71it/s]\n",
      "video 4 slice 11: 100%|██████████| 100/100 [00:04<00:00, 22.43it/s]\n",
      "video 4 slice 12: 100%|██████████| 100/100 [00:04<00:00, 22.79it/s]\n",
      "video 4 slice 13: 100%|██████████| 100/100 [00:04<00:00, 22.81it/s]\n",
      "video 4 slice 14: 100%|██████████| 100/100 [00:04<00:00, 22.69it/s]\n",
      "video 4 slice 15: 100%|██████████| 100/100 [00:04<00:00, 22.79it/s]\n",
      "video 4 slice 16: 100%|██████████| 100/100 [00:04<00:00, 22.83it/s]\n",
      "video 4 slice 17: 100%|██████████| 100/100 [00:04<00:00, 22.81it/s]\n",
      "video 4 slice 18: 100%|██████████| 100/100 [00:04<00:00, 22.77it/s]\n",
      "video 4 slice 19: 100%|██████████| 100/100 [00:04<00:00, 22.78it/s]\n",
      "video 4 slice 20: 100%|██████████| 100/100 [00:04<00:00, 22.62it/s]\n",
      "video 4 slice 21: 100%|██████████| 100/100 [00:04<00:00, 22.73it/s]\n",
      "video 4 slice 22: 100%|██████████| 100/100 [00:04<00:00, 22.78it/s]\n",
      "video 4 slice 23: 100%|██████████| 100/100 [00:04<00:00, 22.73it/s]\n",
      "video 4 slice 24: 100%|██████████| 100/100 [00:04<00:00, 22.80it/s]\n",
      "video 4 slice 25: 100%|██████████| 100/100 [00:04<00:00, 22.77it/s]\n",
      "video 4 slice 26: 100%|██████████| 100/100 [00:04<00:00, 22.43it/s]\n",
      "video 4 slice 27: 100%|██████████| 100/100 [00:04<00:00, 22.81it/s]\n",
      "video 4 slice 28: 100%|██████████| 100/100 [00:04<00:00, 22.76it/s]\n",
      "video 4 slice 29: 100%|██████████| 100/100 [00:04<00:00, 22.71it/s]\n",
      "video 4 slice 30: 100%|██████████| 100/100 [00:04<00:00, 22.66it/s]\n",
      "video 4 slice 31: 100%|██████████| 100/100 [00:04<00:00, 22.79it/s]\n",
      "video 4 slice 32: 100%|██████████| 100/100 [00:04<00:00, 22.63it/s]\n",
      "video 4 slice 33: 100%|██████████| 100/100 [00:04<00:00, 22.81it/s]\n",
      "video 4 slice 34: 100%|██████████| 100/100 [00:04<00:00, 22.88it/s]\n",
      "video 4 slice 35: 100%|██████████| 100/100 [00:04<00:00, 22.83it/s]\n",
      "video 4 slice 36: 100%|██████████| 100/100 [00:04<00:00, 22.75it/s]\n",
      "video 4 slice 37: 100%|██████████| 100/100 [00:04<00:00, 22.65it/s]\n",
      "video 4 slice 38: 100%|██████████| 100/100 [00:04<00:00, 22.72it/s]\n"
     ]
    },
    {
     "name": "stdout",
     "output_type": "stream",
     "text": [
      "video: benchpress_raw/Allen Baria - Bench Press 405 lbs X 25 reps 500 lbs X 10 reps (RAW).mp4 label: benchpress total frame number: 3928\n"
     ]
    },
    {
     "name": "stderr",
     "output_type": "stream",
     "text": [
      "video 4 slice 0: 100%|██████████| 120/120 [00:00<00:00, 2193.40it/s]\n",
      "video 4 slice 1: 100%|██████████| 120/120 [00:05<00:00, 22.80it/s]\n",
      "video 4 slice 2: 100%|██████████| 120/120 [00:05<00:00, 22.76it/s]\n",
      "video 4 slice 3: 100%|██████████| 120/120 [00:05<00:00, 22.81it/s]\n",
      "video 4 slice 4: 100%|██████████| 120/120 [00:05<00:00, 22.68it/s]\n",
      "video 4 slice 5: 100%|██████████| 120/120 [00:05<00:00, 22.81it/s]\n",
      "video 4 slice 6: 100%|██████████| 120/120 [00:05<00:00, 22.82it/s]\n",
      "video 4 slice 7: 100%|██████████| 120/120 [00:05<00:00, 22.79it/s]\n",
      "video 4 slice 8: 100%|██████████| 120/120 [00:05<00:00, 22.80it/s]\n",
      "video 4 slice 9: 100%|██████████| 120/120 [00:05<00:00, 22.71it/s]\n",
      "video 4 slice 10: 100%|██████████| 120/120 [00:05<00:00, 22.64it/s]\n",
      "video 4 slice 11: 100%|██████████| 120/120 [00:05<00:00, 22.83it/s]\n",
      "video 4 slice 12: 100%|██████████| 120/120 [00:05<00:00, 22.78it/s]\n",
      "video 4 slice 13: 100%|██████████| 120/120 [00:05<00:00, 22.82it/s]\n",
      "video 4 slice 14: 100%|██████████| 120/120 [00:05<00:00, 22.79it/s]\n",
      "video 4 slice 15: 100%|██████████| 120/120 [00:05<00:00, 22.60it/s]\n",
      "video 4 slice 16: 100%|██████████| 120/120 [00:05<00:00, 22.72it/s]\n",
      "video 4 slice 17: 100%|██████████| 120/120 [00:05<00:00, 22.72it/s]\n",
      "video 4 slice 18: 100%|██████████| 120/120 [00:05<00:00, 22.75it/s]\n",
      "video 4 slice 19: 100%|██████████| 120/120 [00:05<00:00, 22.80it/s]\n",
      "video 4 slice 20: 100%|██████████| 120/120 [00:05<00:00, 22.66it/s]\n",
      "video 4 slice 21: 100%|██████████| 120/120 [00:05<00:00, 22.77it/s]\n",
      "video 4 slice 22: 100%|██████████| 120/120 [00:05<00:00, 22.63it/s]\n",
      "video 4 slice 23: 100%|██████████| 120/120 [00:05<00:00, 22.77it/s]\n",
      "video 4 slice 24: 100%|██████████| 120/120 [00:05<00:00, 22.79it/s]\n",
      "video 4 slice 25: 100%|██████████| 120/120 [00:05<00:00, 22.53it/s]\n",
      "video 4 slice 26: 100%|██████████| 120/120 [00:05<00:00, 22.80it/s]\n",
      "video 4 slice 27: 100%|██████████| 120/120 [00:05<00:00, 22.81it/s]\n",
      "video 4 slice 28: 100%|██████████| 120/120 [00:05<00:00, 22.83it/s]\n",
      "video 4 slice 29: 100%|██████████| 120/120 [00:05<00:00, 22.64it/s]\n",
      "video 4 slice 30: 100%|██████████| 120/120 [00:05<00:00, 22.86it/s]\n",
      "video 4 slice 31: 100%|██████████| 120/120 [00:05<00:00, 22.79it/s]\n"
     ]
    },
    {
     "name": "stdout",
     "output_type": "stream",
     "text": [
      "video: benchpress_raw/Allen Baria - Bench Press 405 lbs X 25 reps 500 lbs X 10 reps (RAW).mp4 label: benchpress total frame number: 3928\n"
     ]
    },
    {
     "name": "stderr",
     "output_type": "stream",
     "text": [
      "video 4 slice 0: 100%|██████████| 150/150 [00:00<00:00, 5051.47it/s]\n",
      "video 4 slice 1: 100%|██████████| 150/150 [00:06<00:00, 22.71it/s]\n",
      "video 4 slice 2: 100%|██████████| 150/150 [00:06<00:00, 22.58it/s]\n",
      "video 4 slice 3: 100%|██████████| 150/150 [00:06<00:00, 22.70it/s]\n",
      "video 4 slice 4: 100%|██████████| 150/150 [00:06<00:00, 22.71it/s]\n",
      "video 4 slice 5: 100%|██████████| 150/150 [00:06<00:00, 22.50it/s]\n",
      "video 4 slice 6: 100%|██████████| 150/150 [00:06<00:00, 22.76it/s]\n",
      "video 4 slice 7: 100%|██████████| 150/150 [00:06<00:00, 22.67it/s]\n",
      "video 4 slice 8: 100%|██████████| 150/150 [00:06<00:00, 22.84it/s]\n",
      "video 4 slice 9: 100%|██████████| 150/150 [00:06<00:00, 22.73it/s]\n",
      "video 4 slice 10: 100%|██████████| 150/150 [00:06<00:00, 22.82it/s]\n",
      "video 4 slice 11: 100%|██████████| 150/150 [00:06<00:00, 22.82it/s]\n",
      "video 4 slice 12: 100%|██████████| 150/150 [00:06<00:00, 22.76it/s]\n",
      "video 4 slice 13: 100%|██████████| 150/150 [00:06<00:00, 22.63it/s]\n",
      "video 4 slice 14: 100%|██████████| 150/150 [00:06<00:00, 22.79it/s]\n",
      "video 4 slice 15: 100%|██████████| 150/150 [00:06<00:00, 22.77it/s]\n",
      "video 4 slice 16: 100%|██████████| 150/150 [00:06<00:00, 22.75it/s]\n",
      "video 4 slice 17: 100%|██████████| 150/150 [00:06<00:00, 22.67it/s]\n",
      "video 4 slice 18: 100%|██████████| 150/150 [00:06<00:00, 22.83it/s]\n",
      "video 4 slice 19: 100%|██████████| 150/150 [00:06<00:00, 22.74it/s]\n",
      "video 4 slice 20: 100%|██████████| 150/150 [00:06<00:00, 22.70it/s]\n",
      "video 4 slice 21: 100%|██████████| 150/150 [00:06<00:00, 22.62it/s]\n",
      "video 4 slice 22: 100%|██████████| 150/150 [00:06<00:00, 22.79it/s]\n",
      "video 4 slice 23: 100%|██████████| 150/150 [00:06<00:00, 22.84it/s]\n",
      "video 4 slice 24: 100%|██████████| 150/150 [00:06<00:00, 22.85it/s]\n",
      "video 4 slice 25: 100%|██████████| 150/150 [00:06<00:00, 22.59it/s]\n"
     ]
    },
    {
     "name": "stdout",
     "output_type": "stream",
     "text": [
      "video: benchpress_raw/卧推｜ .mp4 label: benchpress total frame number: 582\n"
     ]
    },
    {
     "name": "stderr",
     "output_type": "stream",
     "text": [
      "video 5 slice 0: 100%|██████████| 70/70 [00:00<00:00, 1214.02it/s]\n",
      "video 5 slice 1: 100%|██████████| 70/70 [00:03<00:00, 22.11it/s]\n",
      "video 5 slice 2: 100%|██████████| 70/70 [00:03<00:00, 22.09it/s]\n",
      "video 5 slice 3: 100%|██████████| 70/70 [00:03<00:00, 22.11it/s]\n",
      "video 5 slice 4: 100%|██████████| 70/70 [00:03<00:00, 22.15it/s]\n",
      "video 5 slice 5: 100%|██████████| 70/70 [00:03<00:00, 21.97it/s]\n",
      "video 5 slice 6: 100%|██████████| 70/70 [00:03<00:00, 22.16it/s]\n",
      "video 5 slice 7: 100%|██████████| 70/70 [00:03<00:00, 21.96it/s]\n"
     ]
    },
    {
     "name": "stdout",
     "output_type": "stream",
     "text": [
      "video: benchpress_raw/卧推｜ .mp4 label: benchpress total frame number: 582\n"
     ]
    },
    {
     "name": "stderr",
     "output_type": "stream",
     "text": [
      "video 5 slice 0: 100%|██████████| 100/100 [00:00<00:00, 1258.95it/s]\n",
      "video 5 slice 1: 100%|██████████| 100/100 [00:04<00:00, 21.92it/s]\n",
      "video 5 slice 2: 100%|██████████| 100/100 [00:04<00:00, 22.05it/s]\n",
      "video 5 slice 3: 100%|██████████| 100/100 [00:04<00:00, 22.06it/s]\n",
      "video 5 slice 4: 100%|██████████| 100/100 [00:04<00:00, 22.05it/s]\n"
     ]
    },
    {
     "name": "stdout",
     "output_type": "stream",
     "text": [
      "video: benchpress_raw/卧推｜ .mp4 label: benchpress total frame number: 582\n"
     ]
    },
    {
     "name": "stderr",
     "output_type": "stream",
     "text": [
      "video 5 slice 0: 100%|██████████| 120/120 [00:00<00:00, 1344.95it/s]\n",
      "video 5 slice 1: 100%|██████████| 120/120 [00:05<00:00, 22.07it/s]\n",
      "video 5 slice 2: 100%|██████████| 120/120 [00:05<00:00, 22.02it/s]\n",
      "video 5 slice 3: 100%|██████████| 120/120 [00:05<00:00, 21.98it/s]\n"
     ]
    },
    {
     "name": "stdout",
     "output_type": "stream",
     "text": [
      "video: benchpress_raw/卧推｜ .mp4 label: benchpress total frame number: 582\n"
     ]
    },
    {
     "name": "stderr",
     "output_type": "stream",
     "text": [
      "video 5 slice 0: 100%|██████████| 150/150 [00:00<00:00, 1217.18it/s]\n",
      "video 5 slice 1: 100%|██████████| 150/150 [00:06<00:00, 22.07it/s]\n",
      "video 5 slice 2: 100%|██████████| 150/150 [00:06<00:00, 22.03it/s]\n"
     ]
    },
    {
     "name": "stdout",
     "output_type": "stream",
     "text": [
      "video: benchpress_raw/185lbs bench press for 20 reps.mp4 label: benchpress total frame number: 300\n"
     ]
    },
    {
     "name": "stderr",
     "output_type": "stream",
     "text": [
      "video 6 slice 0: 100%|██████████| 70/70 [00:00<00:00, 3178.54it/s]\n",
      "video 6 slice 1: 100%|██████████| 70/70 [00:03<00:00, 22.52it/s]\n",
      "video 6 slice 2: 100%|██████████| 70/70 [00:03<00:00, 22.63it/s]\n",
      "video 6 slice 3: 100%|██████████| 70/70 [00:03<00:00, 22.37it/s]\n"
     ]
    },
    {
     "name": "stdout",
     "output_type": "stream",
     "text": [
      "video: benchpress_raw/185lbs bench press for 20 reps.mp4 label: benchpress total frame number: 300\n"
     ]
    },
    {
     "name": "stderr",
     "output_type": "stream",
     "text": [
      "video 6 slice 0: 100%|██████████| 100/100 [00:00<00:00, 3331.72it/s]\n",
      "video 6 slice 1: 100%|██████████| 100/100 [00:04<00:00, 22.60it/s]\n"
     ]
    },
    {
     "name": "stdout",
     "output_type": "stream",
     "text": [
      "video: benchpress_raw/185lbs bench press for 20 reps.mp4 label: benchpress total frame number: 300\n"
     ]
    },
    {
     "name": "stderr",
     "output_type": "stream",
     "text": [
      "video 6 slice 0: 100%|██████████| 120/120 [00:00<00:00, 2893.22it/s]\n",
      "video 6 slice 1: 100%|██████████| 120/120 [00:05<00:00, 22.68it/s]\n"
     ]
    },
    {
     "name": "stdout",
     "output_type": "stream",
     "text": [
      "video: benchpress_raw/185lbs bench press for 20 reps.mp4 label: benchpress total frame number: 300\n"
     ]
    },
    {
     "name": "stderr",
     "output_type": "stream",
     "text": [
      "video 6 slice 0: 100%|██████████| 150/150 [00:00<00:00, 4024.45it/s]\n"
     ]
    },
    {
     "name": "stdout",
     "output_type": "stream",
     "text": [
      "video: benchpress_raw/120kg x 20 reps Bench Press.mp4 label: benchpress total frame number: 1752\n"
     ]
    },
    {
     "name": "stderr",
     "output_type": "stream",
     "text": [
      "video 7 slice 0: 100%|██████████| 70/70 [00:00<00:00, 1186.86it/s]\n",
      "video 7 slice 1: 100%|██████████| 70/70 [00:03<00:00, 22.00it/s]\n",
      "video 7 slice 2: 100%|██████████| 70/70 [00:03<00:00, 22.10it/s]\n",
      "video 7 slice 3: 100%|██████████| 70/70 [00:03<00:00, 21.85it/s]\n",
      "video 7 slice 4: 100%|██████████| 70/70 [00:03<00:00, 22.13it/s]\n",
      "video 7 slice 5: 100%|██████████| 70/70 [00:03<00:00, 22.17it/s]\n",
      "video 7 slice 6: 100%|██████████| 70/70 [00:03<00:00, 22.20it/s]\n",
      "video 7 slice 7: 100%|██████████| 70/70 [00:03<00:00, 22.04it/s]\n",
      "video 7 slice 8: 100%|██████████| 70/70 [00:03<00:00, 22.07it/s]\n",
      "video 7 slice 9: 100%|██████████| 70/70 [00:03<00:00, 22.14it/s]\n",
      "video 7 slice 10: 100%|██████████| 70/70 [00:03<00:00, 22.12it/s]\n",
      "video 7 slice 11: 100%|██████████| 70/70 [00:03<00:00, 22.15it/s]\n",
      "video 7 slice 12: 100%|██████████| 70/70 [00:03<00:00, 21.97it/s]\n",
      "video 7 slice 13: 100%|██████████| 70/70 [00:03<00:00, 22.12it/s]\n",
      "video 7 slice 14: 100%|██████████| 70/70 [00:03<00:00, 22.08it/s]\n",
      "video 7 slice 15: 100%|██████████| 70/70 [00:03<00:00, 22.13it/s]\n",
      "video 7 slice 16: 100%|██████████| 70/70 [00:03<00:00, 22.09it/s]\n",
      "video 7 slice 17: 100%|██████████| 70/70 [00:03<00:00, 22.16it/s]\n",
      "video 7 slice 18: 100%|██████████| 70/70 [00:03<00:00, 22.11it/s]\n",
      "video 7 slice 19: 100%|██████████| 70/70 [00:03<00:00, 21.96it/s]\n",
      "video 7 slice 20: 100%|██████████| 70/70 [00:03<00:00, 21.94it/s]\n",
      "video 7 slice 21: 100%|██████████| 70/70 [00:03<00:00, 22.11it/s]\n",
      "video 7 slice 22: 100%|██████████| 70/70 [00:03<00:00, 22.20it/s]\n",
      "video 7 slice 23: 100%|██████████| 70/70 [00:03<00:00, 22.22it/s]\n",
      "video 7 slice 24: 100%|██████████| 70/70 [00:03<00:00, 21.81it/s]\n"
     ]
    },
    {
     "name": "stdout",
     "output_type": "stream",
     "text": [
      "video: benchpress_raw/120kg x 20 reps Bench Press.mp4 label: benchpress total frame number: 1752\n"
     ]
    },
    {
     "name": "stderr",
     "output_type": "stream",
     "text": [
      "video 7 slice 0: 100%|██████████| 100/100 [00:00<00:00, 1332.17it/s]\n",
      "video 7 slice 1: 100%|██████████| 100/100 [00:04<00:00, 22.02it/s]\n",
      "video 7 slice 2: 100%|██████████| 100/100 [00:04<00:00, 22.06it/s]\n",
      "video 7 slice 3: 100%|██████████| 100/100 [00:04<00:00, 22.10it/s]\n",
      "video 7 slice 4: 100%|██████████| 100/100 [00:04<00:00, 22.16it/s]\n",
      "video 7 slice 5: 100%|██████████| 100/100 [00:04<00:00, 22.16it/s]\n",
      "video 7 slice 6: 100%|██████████| 100/100 [00:04<00:00, 21.95it/s]\n",
      "video 7 slice 7: 100%|██████████| 100/100 [00:04<00:00, 22.16it/s]\n",
      "video 7 slice 8: 100%|██████████| 100/100 [00:04<00:00, 22.11it/s]\n",
      "video 7 slice 9: 100%|██████████| 100/100 [00:04<00:00, 22.13it/s]\n",
      "video 7 slice 10: 100%|██████████| 100/100 [00:04<00:00, 22.12it/s]\n",
      "video 7 slice 11: 100%|██████████| 100/100 [00:04<00:00, 22.19it/s]\n",
      "video 7 slice 12: 100%|██████████| 100/100 [00:04<00:00, 22.12it/s]\n",
      "video 7 slice 13: 100%|██████████| 100/100 [00:04<00:00, 21.96it/s]\n",
      "video 7 slice 14: 100%|██████████| 100/100 [00:04<00:00, 22.14it/s]\n",
      "video 7 slice 15: 100%|██████████| 100/100 [00:04<00:00, 22.08it/s]\n",
      "video 7 slice 16: 100%|██████████| 100/100 [00:04<00:00, 22.19it/s]\n"
     ]
    },
    {
     "name": "stdout",
     "output_type": "stream",
     "text": [
      "video: benchpress_raw/120kg x 20 reps Bench Press.mp4 label: benchpress total frame number: 1752\n"
     ]
    },
    {
     "name": "stderr",
     "output_type": "stream",
     "text": [
      "video 7 slice 0: 100%|██████████| 120/120 [00:00<00:00, 1324.99it/s]\n",
      "video 7 slice 1: 100%|██████████| 120/120 [00:05<00:00, 22.02it/s]\n",
      "video 7 slice 2: 100%|██████████| 120/120 [00:05<00:00, 21.96it/s]\n",
      "video 7 slice 3: 100%|██████████| 120/120 [00:05<00:00, 22.14it/s]\n",
      "video 7 slice 4: 100%|██████████| 120/120 [00:05<00:00, 22.17it/s]\n",
      "video 7 slice 5: 100%|██████████| 120/120 [00:05<00:00, 22.10it/s]\n",
      "video 7 slice 6: 100%|██████████| 120/120 [00:05<00:00, 22.01it/s]\n",
      "video 7 slice 7: 100%|██████████| 120/120 [00:05<00:00, 22.04it/s]\n",
      "video 7 slice 8: 100%|██████████| 120/120 [00:05<00:00, 22.15it/s]\n",
      "video 7 slice 9: 100%|██████████| 120/120 [00:05<00:00, 22.06it/s]\n",
      "video 7 slice 10: 100%|██████████| 120/120 [00:05<00:00, 22.12it/s]\n",
      "video 7 slice 11: 100%|██████████| 120/120 [00:05<00:00, 22.01it/s]\n",
      "video 7 slice 12: 100%|██████████| 120/120 [00:05<00:00, 22.08it/s]\n",
      "video 7 slice 13: 100%|██████████| 120/120 [00:05<00:00, 21.96it/s]\n"
     ]
    },
    {
     "name": "stdout",
     "output_type": "stream",
     "text": [
      "video: benchpress_raw/120kg x 20 reps Bench Press.mp4 label: benchpress total frame number: 1752\n"
     ]
    },
    {
     "name": "stderr",
     "output_type": "stream",
     "text": [
      "video 7 slice 0: 100%|██████████| 150/150 [00:00<00:00, 1293.80it/s]\n",
      "video 7 slice 1: 100%|██████████| 150/150 [00:06<00:00, 22.10it/s]\n",
      "video 7 slice 2: 100%|██████████| 150/150 [00:06<00:00, 22.14it/s]\n",
      "video 7 slice 3: 100%|██████████| 150/150 [00:06<00:00, 22.19it/s]\n",
      "video 7 slice 4: 100%|██████████| 150/150 [00:06<00:00, 22.05it/s]\n",
      "video 7 slice 5: 100%|██████████| 150/150 [00:06<00:00, 22.16it/s]\n",
      "video 7 slice 6: 100%|██████████| 150/150 [00:06<00:00, 22.08it/s]\n",
      "video 7 slice 7: 100%|██████████| 150/150 [00:06<00:00, 22.16it/s]\n",
      "video 7 slice 8: 100%|██████████| 150/150 [00:06<00:00, 22.03it/s]\n",
      "video 7 slice 9: 100%|██████████| 150/150 [00:06<00:00, 22.12it/s]\n",
      "video 7 slice 10: 100%|██████████| 150/150 [00:06<00:00, 22.17it/s]\n"
     ]
    },
    {
     "name": "stdout",
     "output_type": "stream",
     "text": [
      "video: benchpress_raw/Bench Press 315 lbs 10 reps (body weight 205 lbs) BHS.mp4 label: benchpress total frame number: 831\n"
     ]
    },
    {
     "name": "stderr",
     "output_type": "stream",
     "text": [
      "video 8 slice 0: 100%|██████████| 70/70 [00:00<00:00, 2607.84it/s]\n",
      "video 8 slice 1: 100%|██████████| 70/70 [00:03<00:00, 22.49it/s]\n",
      "video 8 slice 2: 100%|██████████| 70/70 [00:03<00:00, 22.63it/s]\n",
      "video 8 slice 3: 100%|██████████| 70/70 [00:03<00:00, 22.36it/s]\n",
      "video 8 slice 4: 100%|██████████| 70/70 [00:03<00:00, 22.53it/s]\n",
      "video 8 slice 5: 100%|██████████| 70/70 [00:03<00:00, 22.55it/s]\n",
      "video 8 slice 6: 100%|██████████| 70/70 [00:03<00:00, 22.58it/s]\n",
      "video 8 slice 7: 100%|██████████| 70/70 [00:03<00:00, 22.47it/s]\n",
      "video 8 slice 8: 100%|██████████| 70/70 [00:03<00:00, 22.59it/s]\n",
      "video 8 slice 9: 100%|██████████| 70/70 [00:03<00:00, 22.61it/s]\n",
      "video 8 slice 10: 100%|██████████| 70/70 [00:03<00:00, 22.55it/s]\n"
     ]
    },
    {
     "name": "stdout",
     "output_type": "stream",
     "text": [
      "video: benchpress_raw/Bench Press 315 lbs 10 reps (body weight 205 lbs) BHS.mp4 label: benchpress total frame number: 831\n"
     ]
    },
    {
     "name": "stderr",
     "output_type": "stream",
     "text": [
      "video 8 slice 0: 100%|██████████| 100/100 [00:00<00:00, 3951.75it/s]\n",
      "video 8 slice 1: 100%|██████████| 100/100 [00:04<00:00, 22.45it/s]\n",
      "video 8 slice 2: 100%|██████████| 100/100 [00:04<00:00, 22.53it/s]\n",
      "video 8 slice 3: 100%|██████████| 100/100 [00:04<00:00, 22.61it/s]\n",
      "video 8 slice 4: 100%|██████████| 100/100 [00:04<00:00, 22.55it/s]\n",
      "video 8 slice 5: 100%|██████████| 100/100 [00:04<00:00, 22.59it/s]\n",
      "video 8 slice 6: 100%|██████████| 100/100 [00:04<00:00, 22.55it/s]\n",
      "video 8 slice 7: 100%|██████████| 100/100 [00:04<00:00, 22.53it/s]\n"
     ]
    },
    {
     "name": "stdout",
     "output_type": "stream",
     "text": [
      "video: benchpress_raw/Bench Press 315 lbs 10 reps (body weight 205 lbs) BHS.mp4 label: benchpress total frame number: 831\n"
     ]
    },
    {
     "name": "stderr",
     "output_type": "stream",
     "text": [
      "video 8 slice 0: 100%|██████████| 120/120 [00:00<00:00, 1335.09it/s]\n",
      "video 8 slice 1: 100%|██████████| 120/120 [00:05<00:00, 22.48it/s]\n",
      "video 8 slice 2: 100%|██████████| 120/120 [00:05<00:00, 22.58it/s]\n",
      "video 8 slice 3: 100%|██████████| 120/120 [00:05<00:00, 22.53it/s]\n",
      "video 8 slice 4: 100%|██████████| 120/120 [00:05<00:00, 22.52it/s]\n",
      "video 8 slice 5: 100%|██████████| 120/120 [00:05<00:00, 22.23it/s]\n"
     ]
    },
    {
     "name": "stdout",
     "output_type": "stream",
     "text": [
      "video: benchpress_raw/Bench Press 315 lbs 10 reps (body weight 205 lbs) BHS.mp4 label: benchpress total frame number: 831\n"
     ]
    },
    {
     "name": "stderr",
     "output_type": "stream",
     "text": [
      "video 8 slice 0: 100%|██████████| 150/150 [00:00<00:00, 4092.80it/s]\n",
      "video 8 slice 1: 100%|██████████| 150/150 [00:06<00:00, 22.58it/s]\n",
      "video 8 slice 2: 100%|██████████| 150/150 [00:06<00:00, 22.54it/s]\n",
      "video 8 slice 3: 100%|██████████| 150/150 [00:06<00:00, 22.59it/s]\n",
      "video 8 slice 4: 100%|██████████| 150/150 [00:06<00:00, 22.43it/s]\n"
     ]
    },
    {
     "name": "stdout",
     "output_type": "stream",
     "text": [
      "video: benchpress_raw/315 bench press for a million reps.mp4 label: benchpress total frame number: 655\n"
     ]
    },
    {
     "name": "stderr",
     "output_type": "stream",
     "text": [
      "video 9 slice 0: 100%|██████████| 70/70 [00:00<00:00, 1293.49it/s]\n",
      "video 9 slice 1: 100%|██████████| 70/70 [00:03<00:00, 22.01it/s]\n",
      "video 9 slice 2: 100%|██████████| 70/70 [00:03<00:00, 22.05it/s]\n",
      "video 9 slice 3: 100%|██████████| 70/70 [00:03<00:00, 22.06it/s]\n",
      "video 9 slice 4: 100%|██████████| 70/70 [00:03<00:00, 22.01it/s]\n",
      "video 9 slice 5: 100%|██████████| 70/70 [00:03<00:00, 21.95it/s]\n",
      "video 9 slice 6: 100%|██████████| 70/70 [00:03<00:00, 22.05it/s]\n",
      "video 9 slice 7: 100%|██████████| 70/70 [00:03<00:00, 22.15it/s]\n",
      "video 9 slice 8: 100%|██████████| 70/70 [00:03<00:00, 22.20it/s]\n"
     ]
    },
    {
     "name": "stdout",
     "output_type": "stream",
     "text": [
      "video: benchpress_raw/315 bench press for a million reps.mp4 label: benchpress total frame number: 655\n"
     ]
    },
    {
     "name": "stderr",
     "output_type": "stream",
     "text": [
      "video 9 slice 0: 100%|██████████| 100/100 [00:00<00:00, 765.40it/s]\n",
      "video 9 slice 1: 100%|██████████| 100/100 [00:04<00:00, 22.09it/s]\n",
      "video 9 slice 2: 100%|██████████| 100/100 [00:04<00:00, 22.11it/s]\n",
      "video 9 slice 3: 100%|██████████| 100/100 [00:04<00:00, 22.11it/s]\n",
      "video 9 slice 4: 100%|██████████| 100/100 [00:04<00:00, 22.12it/s]\n",
      "video 9 slice 5: 100%|██████████| 100/100 [00:04<00:00, 22.00it/s]\n"
     ]
    },
    {
     "name": "stdout",
     "output_type": "stream",
     "text": [
      "video: benchpress_raw/315 bench press for a million reps.mp4 label: benchpress total frame number: 655\n"
     ]
    },
    {
     "name": "stderr",
     "output_type": "stream",
     "text": [
      "video 9 slice 0: 100%|██████████| 120/120 [00:00<00:00, 1526.75it/s]\n",
      "video 9 slice 1: 100%|██████████| 120/120 [00:05<00:00, 22.01it/s]\n",
      "video 9 slice 2: 100%|██████████| 120/120 [00:05<00:00, 22.09it/s]\n",
      "video 9 slice 3: 100%|██████████| 120/120 [00:05<00:00, 22.13it/s]\n",
      "video 9 slice 4: 100%|██████████| 120/120 [00:05<00:00, 22.10it/s]\n"
     ]
    },
    {
     "name": "stdout",
     "output_type": "stream",
     "text": [
      "video: benchpress_raw/315 bench press for a million reps.mp4 label: benchpress total frame number: 655\n"
     ]
    },
    {
     "name": "stderr",
     "output_type": "stream",
     "text": [
      "video 9 slice 0: 100%|██████████| 150/150 [00:00<00:00, 1546.14it/s]\n",
      "video 9 slice 1: 100%|██████████| 150/150 [00:06<00:00, 22.00it/s]\n",
      "video 9 slice 2: 100%|██████████| 150/150 [00:06<00:00, 21.99it/s]\n",
      "video 9 slice 3: 100%|██████████| 150/150 [00:06<00:00, 22.09it/s]\n"
     ]
    },
    {
     "name": "stdout",
     "output_type": "stream",
     "text": [
      "video: benchpress_raw/315 x 20 bench (new pr).mp4 label: benchpress total frame number: 1680\n"
     ]
    },
    {
     "name": "stderr",
     "output_type": "stream",
     "text": [
      "video 10 slice 0: 100%|██████████| 70/70 [00:00<00:00, 5974.79it/s]\n",
      "video 10 slice 1: 100%|██████████| 70/70 [00:02<00:00, 26.20it/s]\n",
      "video 10 slice 2: 100%|██████████| 70/70 [00:03<00:00, 22.73it/s]\n",
      "video 10 slice 3: 100%|██████████| 70/70 [00:03<00:00, 22.81it/s]\n",
      "video 10 slice 4: 100%|██████████| 70/70 [00:03<00:00, 22.72it/s]\n",
      "video 10 slice 5: 100%|██████████| 70/70 [00:03<00:00, 22.78it/s]\n",
      "video 10 slice 6: 100%|██████████| 70/70 [00:03<00:00, 22.49it/s]\n",
      "video 10 slice 7: 100%|██████████| 70/70 [00:03<00:00, 22.69it/s]\n",
      "video 10 slice 8: 100%|██████████| 70/70 [00:03<00:00, 22.68it/s]\n",
      "video 10 slice 9: 100%|██████████| 70/70 [00:03<00:00, 22.65it/s]\n",
      "video 10 slice 10: 100%|██████████| 70/70 [00:03<00:00, 22.72it/s]\n",
      "video 10 slice 11: 100%|██████████| 70/70 [00:03<00:00, 22.67it/s]\n",
      "video 10 slice 12: 100%|██████████| 70/70 [00:03<00:00, 22.72it/s]\n",
      "video 10 slice 13: 100%|██████████| 70/70 [00:03<00:00, 22.70it/s]\n",
      "video 10 slice 14: 100%|██████████| 70/70 [00:03<00:00, 22.72it/s]\n",
      "video 10 slice 15: 100%|██████████| 70/70 [00:03<00:00, 22.43it/s]\n",
      "video 10 slice 16: 100%|██████████| 70/70 [00:03<00:00, 22.66it/s]\n",
      "video 10 slice 17: 100%|██████████| 70/70 [00:03<00:00, 22.66it/s]\n",
      "video 10 slice 18: 100%|██████████| 70/70 [00:03<00:00, 22.72it/s]\n",
      "video 10 slice 19: 100%|██████████| 70/70 [00:03<00:00, 22.71it/s]\n",
      "video 10 slice 20: 100%|██████████| 70/70 [00:03<00:00, 22.62it/s]\n",
      "video 10 slice 21: 100%|██████████| 70/70 [00:03<00:00, 22.68it/s]\n",
      "video 10 slice 22: 100%|██████████| 70/70 [00:03<00:00, 22.61it/s]\n"
     ]
    },
    {
     "name": "stdout",
     "output_type": "stream",
     "text": [
      "video: benchpress_raw/315 x 20 bench (new pr).mp4 label: benchpress total frame number: 1680\n"
     ]
    },
    {
     "name": "stderr",
     "output_type": "stream",
     "text": [
      "video 10 slice 0: 100%|██████████| 100/100 [00:00<00:00, 5265.72it/s]\n",
      "video 10 slice 1: 100%|██████████| 100/100 [00:04<00:00, 23.43it/s]\n",
      "video 10 slice 2: 100%|██████████| 100/100 [00:04<00:00, 22.74it/s]\n",
      "video 10 slice 3: 100%|██████████| 100/100 [00:04<00:00, 22.80it/s]\n",
      "video 10 slice 4: 100%|██████████| 100/100 [00:04<00:00, 22.77it/s]\n",
      "video 10 slice 5: 100%|██████████| 100/100 [00:04<00:00, 22.63it/s]\n",
      "video 10 slice 6: 100%|██████████| 100/100 [00:04<00:00, 22.69it/s]\n",
      "video 10 slice 7: 100%|██████████| 100/100 [00:04<00:00, 22.53it/s]\n",
      "video 10 slice 8: 100%|██████████| 100/100 [00:04<00:00, 22.73it/s]\n",
      "video 10 slice 9: 100%|██████████| 100/100 [00:04<00:00, 22.67it/s]\n",
      "video 10 slice 10: 100%|██████████| 100/100 [00:04<00:00, 22.39it/s]\n",
      "video 10 slice 11: 100%|██████████| 100/100 [00:04<00:00, 22.71it/s]\n",
      "video 10 slice 12: 100%|██████████| 100/100 [00:04<00:00, 22.70it/s]\n",
      "video 10 slice 13: 100%|██████████| 100/100 [00:04<00:00, 22.59it/s]\n",
      "video 10 slice 14: 100%|██████████| 100/100 [00:04<00:00, 22.68it/s]\n",
      "video 10 slice 15: 100%|██████████| 100/100 [00:04<00:00, 22.66it/s]\n"
     ]
    },
    {
     "name": "stdout",
     "output_type": "stream",
     "text": [
      "video: benchpress_raw/315 x 20 bench (new pr).mp4 label: benchpress total frame number: 1680\n"
     ]
    },
    {
     "name": "stderr",
     "output_type": "stream",
     "text": [
      "video 10 slice 0: 100%|██████████| 120/120 [00:00<00:00, 4225.11it/s]\n",
      "video 10 slice 1: 100%|██████████| 120/120 [00:05<00:00, 22.62it/s]\n",
      "video 10 slice 2: 100%|██████████| 120/120 [00:05<00:00, 22.70it/s]\n",
      "video 10 slice 3: 100%|██████████| 120/120 [00:05<00:00, 22.96it/s]\n",
      "video 10 slice 4: 100%|██████████| 120/120 [00:05<00:00, 22.56it/s]\n",
      "video 10 slice 5: 100%|██████████| 120/120 [00:05<00:00, 22.57it/s]\n",
      "video 10 slice 6: 100%|██████████| 120/120 [00:05<00:00, 22.60it/s]\n",
      "video 10 slice 7: 100%|██████████| 120/120 [00:05<00:00, 22.68it/s]\n",
      "video 10 slice 8: 100%|██████████| 120/120 [00:05<00:00, 22.68it/s]\n",
      "video 10 slice 9: 100%|██████████| 120/120 [00:05<00:00, 22.48it/s]\n",
      "video 10 slice 10: 100%|██████████| 120/120 [00:05<00:00, 22.41it/s]\n",
      "video 10 slice 11: 100%|██████████| 120/120 [00:05<00:00, 22.72it/s]\n",
      "video 10 slice 12: 100%|██████████| 120/120 [00:05<00:00, 22.69it/s]\n"
     ]
    },
    {
     "name": "stdout",
     "output_type": "stream",
     "text": [
      "video: benchpress_raw/315 x 20 bench (new pr).mp4 label: benchpress total frame number: 1680\n"
     ]
    },
    {
     "name": "stderr",
     "output_type": "stream",
     "text": [
      "video 10 slice 0: 100%|██████████| 150/150 [00:00<00:00, 5778.87it/s]\n",
      "video 10 slice 1: 100%|██████████| 150/150 [00:06<00:00, 22.67it/s]\n",
      "video 10 slice 2: 100%|██████████| 150/150 [00:06<00:00, 22.83it/s]\n",
      "video 10 slice 3: 100%|██████████| 150/150 [00:06<00:00, 22.74it/s]\n",
      "video 10 slice 4: 100%|██████████| 150/150 [00:06<00:00, 22.64it/s]\n",
      "video 10 slice 5: 100%|██████████| 150/150 [00:06<00:00, 22.62it/s]\n",
      "video 10 slice 6: 100%|██████████| 150/150 [00:06<00:00, 22.69it/s]\n",
      "video 10 slice 7: 100%|██████████| 150/150 [00:06<00:00, 22.61it/s]\n",
      "video 10 slice 8: 100%|██████████| 150/150 [00:06<00:00, 22.64it/s]\n",
      "video 10 slice 9: 100%|██████████| 150/150 [00:06<00:00, 22.70it/s]\n",
      "video 10 slice 10: 100%|██████████| 150/150 [00:06<00:00, 22.71it/s]\n"
     ]
    },
    {
     "name": "stdout",
     "output_type": "stream",
     "text": [
      "video: benchpress_raw/60 KG Bench Press 30 reps 15 years old.mp4 label: benchpress total frame number: 2271\n"
     ]
    },
    {
     "name": "stderr",
     "output_type": "stream",
     "text": [
      "video 11 slice 0: 100%|██████████| 70/70 [00:00<00:00, 1127.77it/s]\n",
      "video 11 slice 1: 100%|██████████| 70/70 [00:03<00:00, 21.95it/s]\n",
      "video 11 slice 2: 100%|██████████| 70/70 [00:03<00:00, 22.14it/s]\n",
      "video 11 slice 3: 100%|██████████| 70/70 [00:03<00:00, 22.16it/s]\n",
      "video 11 slice 4: 100%|██████████| 70/70 [00:03<00:00, 21.97it/s]\n",
      "video 11 slice 5: 100%|██████████| 70/70 [00:03<00:00, 22.08it/s]\n",
      "video 11 slice 6: 100%|██████████| 70/70 [00:03<00:00, 22.08it/s]\n",
      "video 11 slice 7: 100%|██████████| 70/70 [00:03<00:00, 22.09it/s]\n",
      "video 11 slice 8: 100%|██████████| 70/70 [00:03<00:00, 22.09it/s]\n",
      "video 11 slice 9: 100%|██████████| 70/70 [00:03<00:00, 21.99it/s]\n",
      "video 11 slice 10: 100%|██████████| 70/70 [00:03<00:00, 21.90it/s]\n",
      "video 11 slice 11: 100%|██████████| 70/70 [00:03<00:00, 22.15it/s]\n",
      "video 11 slice 12: 100%|██████████| 70/70 [00:03<00:00, 22.08it/s]\n",
      "video 11 slice 13: 100%|██████████| 70/70 [00:03<00:00, 22.17it/s]\n",
      "video 11 slice 14: 100%|██████████| 70/70 [00:03<00:00, 22.12it/s]\n",
      "video 11 slice 15: 100%|██████████| 70/70 [00:03<00:00, 22.05it/s]\n",
      "video 11 slice 16: 100%|██████████| 70/70 [00:03<00:00, 22.17it/s]\n",
      "video 11 slice 17: 100%|██████████| 70/70 [00:03<00:00, 22.13it/s]\n",
      "video 11 slice 18: 100%|██████████| 70/70 [00:03<00:00, 21.91it/s]\n",
      "video 11 slice 19: 100%|██████████| 70/70 [00:03<00:00, 22.21it/s]\n",
      "video 11 slice 20: 100%|██████████| 70/70 [00:03<00:00, 22.18it/s]\n",
      "video 11 slice 21: 100%|██████████| 70/70 [00:03<00:00, 22.12it/s]\n",
      "video 11 slice 22: 100%|██████████| 70/70 [00:03<00:00, 22.05it/s]\n",
      "video 11 slice 23: 100%|██████████| 70/70 [00:03<00:00, 22.14it/s]\n",
      "video 11 slice 24: 100%|██████████| 70/70 [00:03<00:00, 22.18it/s]\n",
      "video 11 slice 25: 100%|██████████| 70/70 [00:03<00:00, 22.15it/s]\n",
      "video 11 slice 26: 100%|██████████| 70/70 [00:03<00:00, 22.02it/s]\n",
      "video 11 slice 27: 100%|██████████| 70/70 [00:03<00:00, 22.13it/s]\n",
      "video 11 slice 28: 100%|██████████| 70/70 [00:03<00:00, 22.06it/s]\n",
      "video 11 slice 29: 100%|██████████| 70/70 [00:03<00:00, 22.10it/s]\n",
      "video 11 slice 30: 100%|██████████| 70/70 [00:03<00:00, 22.18it/s]\n",
      "video 11 slice 31: 100%|██████████| 70/70 [00:03<00:00, 22.15it/s]\n"
     ]
    },
    {
     "name": "stdout",
     "output_type": "stream",
     "text": [
      "video: benchpress_raw/60 KG Bench Press 30 reps 15 years old.mp4 label: benchpress total frame number: 2271\n"
     ]
    },
    {
     "name": "stderr",
     "output_type": "stream",
     "text": [
      "video 11 slice 0: 100%|██████████| 100/100 [00:00<00:00, 1355.50it/s]\n",
      "video 11 slice 1: 100%|██████████| 100/100 [00:04<00:00, 22.13it/s]\n",
      "video 11 slice 2: 100%|██████████| 100/100 [00:04<00:00, 21.93it/s]\n",
      "video 11 slice 3: 100%|██████████| 100/100 [00:04<00:00, 22.09it/s]\n",
      "video 11 slice 4: 100%|██████████| 100/100 [00:04<00:00, 22.14it/s]\n",
      "video 11 slice 5: 100%|██████████| 100/100 [00:04<00:00, 22.04it/s]\n",
      "video 11 slice 6: 100%|██████████| 100/100 [00:04<00:00, 22.15it/s]\n",
      "video 11 slice 7: 100%|██████████| 100/100 [00:04<00:00, 22.12it/s]\n",
      "video 11 slice 8: 100%|██████████| 100/100 [00:04<00:00, 22.11it/s]\n",
      "video 11 slice 9: 100%|██████████| 100/100 [00:04<00:00, 21.94it/s]\n",
      "video 11 slice 10: 100%|██████████| 100/100 [00:04<00:00, 22.07it/s]\n",
      "video 11 slice 11: 100%|██████████| 100/100 [00:04<00:00, 21.99it/s]\n",
      "video 11 slice 12: 100%|██████████| 100/100 [00:04<00:00, 22.09it/s]\n",
      "video 11 slice 13: 100%|██████████| 100/100 [00:04<00:00, 22.14it/s]\n",
      "video 11 slice 14: 100%|██████████| 100/100 [00:04<00:00, 22.15it/s]\n",
      "video 11 slice 15: 100%|██████████| 100/100 [00:04<00:00, 21.99it/s]\n",
      "video 11 slice 16: 100%|██████████| 100/100 [00:04<00:00, 22.12it/s]\n",
      "video 11 slice 17: 100%|██████████| 100/100 [00:04<00:00, 22.13it/s]\n",
      "video 11 slice 18: 100%|██████████| 100/100 [00:04<00:00, 22.08it/s]\n",
      "video 11 slice 19: 100%|██████████| 100/100 [00:04<00:00, 22.14it/s]\n",
      "video 11 slice 20: 100%|██████████| 100/100 [00:04<00:00, 22.10it/s]\n",
      "video 11 slice 21: 100%|██████████| 100/100 [00:04<00:00, 21.98it/s]\n"
     ]
    },
    {
     "name": "stdout",
     "output_type": "stream",
     "text": [
      "video: benchpress_raw/60 KG Bench Press 30 reps 15 years old.mp4 label: benchpress total frame number: 2271\n"
     ]
    },
    {
     "name": "stderr",
     "output_type": "stream",
     "text": [
      "video 11 slice 0: 100%|██████████| 120/120 [00:00<00:00, 1386.34it/s]\n",
      "video 11 slice 1: 100%|██████████| 120/120 [00:05<00:00, 22.09it/s]\n",
      "video 11 slice 2: 100%|██████████| 120/120 [00:05<00:00, 22.10it/s]\n",
      "video 11 slice 3: 100%|██████████| 120/120 [00:05<00:00, 22.12it/s]\n",
      "video 11 slice 4: 100%|██████████| 120/120 [00:05<00:00, 22.11it/s]\n",
      "video 11 slice 5: 100%|██████████| 120/120 [00:05<00:00, 21.77it/s]\n",
      "video 11 slice 6: 100%|██████████| 120/120 [00:05<00:00, 22.18it/s]\n",
      "video 11 slice 7: 100%|██████████| 120/120 [00:05<00:00, 22.16it/s]\n",
      "video 11 slice 8: 100%|██████████| 120/120 [00:05<00:00, 22.15it/s]\n",
      "video 11 slice 9: 100%|██████████| 120/120 [00:05<00:00, 22.04it/s]\n",
      "video 11 slice 10: 100%|██████████| 120/120 [00:05<00:00, 22.14it/s]\n",
      "video 11 slice 11: 100%|██████████| 120/120 [00:05<00:00, 22.00it/s]\n",
      "video 11 slice 12: 100%|██████████| 120/120 [00:05<00:00, 22.11it/s]\n",
      "video 11 slice 13: 100%|██████████| 120/120 [00:05<00:00, 22.10it/s]\n",
      "video 11 slice 14: 100%|██████████| 120/120 [00:05<00:00, 22.14it/s]\n",
      "video 11 slice 15: 100%|██████████| 120/120 [00:05<00:00, 22.16it/s]\n",
      "video 11 slice 16: 100%|██████████| 120/120 [00:05<00:00, 22.00it/s]\n",
      "video 11 slice 17: 100%|██████████| 120/120 [00:05<00:00, 22.08it/s]\n"
     ]
    },
    {
     "name": "stdout",
     "output_type": "stream",
     "text": [
      "video: benchpress_raw/60 KG Bench Press 30 reps 15 years old.mp4 label: benchpress total frame number: 2271\n"
     ]
    },
    {
     "name": "stderr",
     "output_type": "stream",
     "text": [
      "video 11 slice 0: 100%|██████████| 150/150 [00:00<00:00, 1289.34it/s]\n",
      "video 11 slice 1: 100%|██████████| 150/150 [00:06<00:00, 22.08it/s]\n",
      "video 11 slice 2: 100%|██████████| 150/150 [00:06<00:00, 22.12it/s]\n",
      "video 11 slice 3: 100%|██████████| 150/150 [00:06<00:00, 22.03it/s]\n",
      "video 11 slice 4: 100%|██████████| 150/150 [00:06<00:00, 22.15it/s]\n",
      "video 11 slice 5: 100%|██████████| 150/150 [00:06<00:00, 22.15it/s]\n",
      "video 11 slice 6: 100%|██████████| 150/150 [00:06<00:00, 22.05it/s]\n",
      "video 11 slice 7: 100%|██████████| 150/150 [00:06<00:00, 22.04it/s]\n",
      "video 11 slice 8: 100%|██████████| 150/150 [00:06<00:00, 22.15it/s]\n",
      "video 11 slice 9: 100%|██████████| 150/150 [00:06<00:00, 22.17it/s]\n",
      "video 11 slice 10: 100%|██████████| 150/150 [00:06<00:00, 22.17it/s]\n",
      "video 11 slice 11: 100%|██████████| 150/150 [00:06<00:00, 22.07it/s]\n",
      "video 11 slice 12: 100%|██████████| 150/150 [00:06<00:00, 22.16it/s]\n",
      "video 11 slice 13: 100%|██████████| 150/150 [00:06<00:00, 22.14it/s]\n",
      "video 11 slice 14: 100%|██████████| 150/150 [00:06<00:00, 22.12it/s]\n"
     ]
    },
    {
     "name": "stdout",
     "output_type": "stream",
     "text": [
      "video: benchpress_raw/585 BENCH FOR 23 REPS!.mp4 label: benchpress total frame number: 936\n"
     ]
    },
    {
     "name": "stderr",
     "output_type": "stream",
     "text": [
      "video 12 slice 0: 100%|██████████| 70/70 [00:00<00:00, 3832.56it/s]\n",
      "video 12 slice 1: 100%|██████████| 70/70 [00:03<00:00, 22.54it/s]\n",
      "video 12 slice 2: 100%|██████████| 70/70 [00:03<00:00, 22.47it/s]\n",
      "video 12 slice 3: 100%|██████████| 70/70 [00:03<00:00, 22.69it/s]\n",
      "video 12 slice 4: 100%|██████████| 70/70 [00:03<00:00, 22.56it/s]\n",
      "video 12 slice 5: 100%|██████████| 70/70 [00:03<00:00, 22.54it/s]\n",
      "video 12 slice 6: 100%|██████████| 70/70 [00:03<00:00, 22.66it/s]\n",
      "video 12 slice 7: 100%|██████████| 70/70 [00:03<00:00, 22.65it/s]\n",
      "video 12 slice 8: 100%|██████████| 70/70 [00:03<00:00, 22.66it/s]\n",
      "video 12 slice 9: 100%|██████████| 70/70 [00:03<00:00, 22.60it/s]\n",
      "video 12 slice 10: 100%|██████████| 70/70 [00:03<00:00, 22.63it/s]\n",
      "video 12 slice 11: 100%|██████████| 70/70 [00:03<00:00, 22.43it/s]\n",
      "video 12 slice 12: 100%|██████████| 70/70 [00:03<00:00, 22.60it/s]\n"
     ]
    },
    {
     "name": "stdout",
     "output_type": "stream",
     "text": [
      "video: benchpress_raw/585 BENCH FOR 23 REPS!.mp4 label: benchpress total frame number: 936\n"
     ]
    },
    {
     "name": "stderr",
     "output_type": "stream",
     "text": [
      "video 12 slice 0: 100%|██████████| 100/100 [00:00<00:00, 5116.94it/s]\n",
      "video 12 slice 1: 100%|██████████| 100/100 [00:04<00:00, 22.55it/s]\n",
      "video 12 slice 2: 100%|██████████| 100/100 [00:04<00:00, 22.56it/s]\n",
      "video 12 slice 3: 100%|██████████| 100/100 [00:04<00:00, 22.65it/s]\n",
      "video 12 slice 4: 100%|██████████| 100/100 [00:04<00:00, 22.60it/s]\n",
      "video 12 slice 5: 100%|██████████| 100/100 [00:04<00:00, 22.67it/s]\n",
      "video 12 slice 6: 100%|██████████| 100/100 [00:04<00:00, 22.34it/s]\n",
      "video 12 slice 7: 100%|██████████| 100/100 [00:04<00:00, 22.62it/s]\n",
      "video 12 slice 8: 100%|██████████| 100/100 [00:04<00:00, 22.59it/s]\n"
     ]
    },
    {
     "name": "stdout",
     "output_type": "stream",
     "text": [
      "video: benchpress_raw/585 BENCH FOR 23 REPS!.mp4 label: benchpress total frame number: 936\n"
     ]
    },
    {
     "name": "stderr",
     "output_type": "stream",
     "text": [
      "video 12 slice 0: 100%|██████████| 120/120 [00:00<00:00, 4284.35it/s]\n",
      "video 12 slice 1: 100%|██████████| 120/120 [00:05<00:00, 22.60it/s]\n",
      "video 12 slice 2: 100%|██████████| 120/120 [00:05<00:00, 22.65it/s]\n",
      "video 12 slice 3: 100%|██████████| 120/120 [00:05<00:00, 22.39it/s]\n",
      "video 12 slice 4: 100%|██████████| 120/120 [00:05<00:00, 22.65it/s]\n",
      "video 12 slice 5: 100%|██████████| 120/120 [00:05<00:00, 22.65it/s]\n",
      "video 12 slice 6: 100%|██████████| 120/120 [00:05<00:00, 22.64it/s]\n"
     ]
    },
    {
     "name": "stdout",
     "output_type": "stream",
     "text": [
      "video: benchpress_raw/585 BENCH FOR 23 REPS!.mp4 label: benchpress total frame number: 936\n"
     ]
    },
    {
     "name": "stderr",
     "output_type": "stream",
     "text": [
      "video 12 slice 0: 100%|██████████| 150/150 [00:00<00:00, 5631.20it/s]\n",
      "video 12 slice 1: 100%|██████████| 150/150 [00:06<00:00, 22.63it/s]\n",
      "video 12 slice 2: 100%|██████████| 150/150 [00:06<00:00, 22.50it/s]\n",
      "video 12 slice 3: 100%|██████████| 150/150 [00:06<00:00, 22.62it/s]\n",
      "video 12 slice 4: 100%|██████████| 150/150 [00:06<00:00, 22.65it/s]\n",
      "video 12 slice 5: 100%|██████████| 150/150 [00:06<00:00, 22.39it/s]\n"
     ]
    },
    {
     "name": "stdout",
     "output_type": "stream",
     "text": [
      "video: benchpress_raw/325 bench 20  reps RAW @ 19yr 250-255.mp4 label: benchpress total frame number: 1334\n"
     ]
    },
    {
     "name": "stderr",
     "output_type": "stream",
     "text": [
      "video 13 slice 0: 100%|██████████| 70/70 [00:00<00:00, 1318.78it/s]\n",
      "video 13 slice 1: 100%|██████████| 70/70 [00:03<00:00, 21.99it/s]\n",
      "video 13 slice 2: 100%|██████████| 70/70 [00:03<00:00, 22.15it/s]\n",
      "video 13 slice 3: 100%|██████████| 70/70 [00:03<00:00, 22.11it/s]\n",
      "video 13 slice 4: 100%|██████████| 70/70 [00:03<00:00, 22.04it/s]\n",
      "video 13 slice 5: 100%|██████████| 70/70 [00:03<00:00, 22.10it/s]\n",
      "video 13 slice 6: 100%|██████████| 70/70 [00:03<00:00, 22.03it/s]\n",
      "video 13 slice 7: 100%|██████████| 70/70 [00:03<00:00, 22.07it/s]\n",
      "video 13 slice 8: 100%|██████████| 70/70 [00:03<00:00, 22.16it/s]\n",
      "video 13 slice 9: 100%|██████████| 70/70 [00:03<00:00, 21.83it/s]\n",
      "video 13 slice 10: 100%|██████████| 70/70 [00:03<00:00, 22.12it/s]\n",
      "video 13 slice 11: 100%|██████████| 70/70 [00:03<00:00, 22.14it/s]\n",
      "video 13 slice 12: 100%|██████████| 70/70 [00:03<00:00, 22.14it/s]\n",
      "video 13 slice 13: 100%|██████████| 70/70 [00:03<00:00, 22.14it/s]\n",
      "video 13 slice 14: 100%|██████████| 70/70 [00:03<00:00, 22.07it/s]\n",
      "video 13 slice 15: 100%|██████████| 70/70 [00:03<00:00, 22.01it/s]\n",
      "video 13 slice 16: 100%|██████████| 70/70 [00:03<00:00, 22.06it/s]\n",
      "video 13 slice 17: 100%|██████████| 70/70 [00:03<00:00, 21.88it/s]\n",
      "video 13 slice 18: 100%|██████████| 70/70 [00:03<00:00, 22.24it/s]\n"
     ]
    },
    {
     "name": "stdout",
     "output_type": "stream",
     "text": [
      "video: benchpress_raw/325 bench 20  reps RAW @ 19yr 250-255.mp4 label: benchpress total frame number: 1334\n"
     ]
    },
    {
     "name": "stderr",
     "output_type": "stream",
     "text": [
      "video 13 slice 0: 100%|██████████| 100/100 [00:00<00:00, 1281.69it/s]\n",
      "video 13 slice 1: 100%|██████████| 100/100 [00:04<00:00, 22.07it/s]\n",
      "video 13 slice 2: 100%|██████████| 100/100 [00:04<00:00, 22.16it/s]\n",
      "video 13 slice 3: 100%|██████████| 100/100 [00:04<00:00, 22.13it/s]\n",
      "video 13 slice 4: 100%|██████████| 100/100 [00:04<00:00, 22.07it/s]\n",
      "video 13 slice 5: 100%|██████████| 100/100 [00:04<00:00, 21.94it/s]\n",
      "video 13 slice 6: 100%|██████████| 100/100 [00:04<00:00, 22.01it/s]\n",
      "video 13 slice 7: 100%|██████████| 100/100 [00:04<00:00, 22.10it/s]\n",
      "video 13 slice 8: 100%|██████████| 100/100 [00:04<00:00, 22.14it/s]\n",
      "video 13 slice 9: 100%|██████████| 100/100 [00:04<00:00, 22.07it/s]\n",
      "video 13 slice 10: 100%|██████████| 100/100 [00:04<00:00, 22.12it/s]\n",
      "video 13 slice 11: 100%|██████████| 100/100 [00:04<00:00, 22.14it/s]\n",
      "video 13 slice 12: 100%|██████████| 100/100 [00:04<00:00, 22.08it/s]\n"
     ]
    },
    {
     "name": "stdout",
     "output_type": "stream",
     "text": [
      "video: benchpress_raw/325 bench 20  reps RAW @ 19yr 250-255.mp4 label: benchpress total frame number: 1334\n"
     ]
    },
    {
     "name": "stderr",
     "output_type": "stream",
     "text": [
      "video 13 slice 0: 100%|██████████| 120/120 [00:00<00:00, 1441.07it/s]\n",
      "video 13 slice 1: 100%|██████████| 120/120 [00:05<00:00, 22.06it/s]\n",
      "video 13 slice 2: 100%|██████████| 120/120 [00:05<00:00, 22.11it/s]\n",
      "video 13 slice 3: 100%|██████████| 120/120 [00:05<00:00, 22.15it/s]\n",
      "video 13 slice 4: 100%|██████████| 120/120 [00:05<00:00, 22.09it/s]\n",
      "video 13 slice 5: 100%|██████████| 120/120 [00:05<00:00, 22.02it/s]\n",
      "video 13 slice 6: 100%|██████████| 120/120 [00:05<00:00, 22.05it/s]\n",
      "video 13 slice 7: 100%|██████████| 120/120 [00:05<00:00, 22.12it/s]\n",
      "video 13 slice 8: 100%|██████████| 120/120 [00:05<00:00, 22.15it/s]\n",
      "video 13 slice 9: 100%|██████████| 120/120 [00:05<00:00, 22.10it/s]\n",
      "video 13 slice 10: 100%|██████████| 120/120 [00:05<00:00, 22.05it/s]\n"
     ]
    },
    {
     "name": "stdout",
     "output_type": "stream",
     "text": [
      "video: benchpress_raw/325 bench 20  reps RAW @ 19yr 250-255.mp4 label: benchpress total frame number: 1334\n"
     ]
    },
    {
     "name": "stderr",
     "output_type": "stream",
     "text": [
      "video 13 slice 0: 100%|██████████| 150/150 [00:00<00:00, 1363.95it/s]\n",
      "video 13 slice 1: 100%|██████████| 150/150 [00:06<00:00, 22.15it/s]\n",
      "video 13 slice 2: 100%|██████████| 150/150 [00:06<00:00, 22.04it/s]\n",
      "video 13 slice 3: 100%|██████████| 150/150 [00:06<00:00, 22.04it/s]\n",
      "video 13 slice 4: 100%|██████████| 150/150 [00:06<00:00, 21.97it/s]\n",
      "video 13 slice 5: 100%|██████████| 150/150 [00:06<00:00, 22.15it/s]\n",
      "video 13 slice 6: 100%|██████████| 150/150 [00:06<00:00, 22.09it/s]\n",
      "video 13 slice 7: 100%|██████████| 150/150 [00:06<00:00, 22.03it/s]\n"
     ]
    },
    {
     "name": "stdout",
     "output_type": "stream",
     "text": [
      "video: benchpress_raw/BENCH PRESS 225 LBS _ 100 KG _ My first time ever.mp4 label: benchpress total frame number: 341\n"
     ]
    },
    {
     "name": "stderr",
     "output_type": "stream",
     "text": [
      "video 14 slice 0: 100%|██████████| 70/70 [00:00<00:00, 3623.99it/s]\n",
      "video 14 slice 1: 100%|██████████| 70/70 [00:03<00:00, 22.58it/s]\n",
      "video 14 slice 2: 100%|██████████| 70/70 [00:03<00:00, 22.38it/s]\n",
      "video 14 slice 3: 100%|██████████| 70/70 [00:03<00:00, 22.60it/s]\n"
     ]
    },
    {
     "name": "stdout",
     "output_type": "stream",
     "text": [
      "video: benchpress_raw/BENCH PRESS 225 LBS _ 100 KG _ My first time ever.mp4 label: benchpress total frame number: 341\n"
     ]
    },
    {
     "name": "stderr",
     "output_type": "stream",
     "text": [
      "video 14 slice 0: 100%|██████████| 100/100 [00:00<00:00, 3723.70it/s]\n",
      "video 14 slice 1: 100%|██████████| 100/100 [00:04<00:00, 22.58it/s]\n",
      "video 14 slice 2: 100%|██████████| 100/100 [00:04<00:00, 22.62it/s]\n"
     ]
    },
    {
     "name": "stdout",
     "output_type": "stream",
     "text": [
      "video: benchpress_raw/BENCH PRESS 225 LBS _ 100 KG _ My first time ever.mp4 label: benchpress total frame number: 341\n"
     ]
    },
    {
     "name": "stderr",
     "output_type": "stream",
     "text": [
      "video 14 slice 0: 100%|██████████| 120/120 [00:00<00:00, 3545.71it/s]\n",
      "video 14 slice 1: 100%|██████████| 120/120 [00:05<00:00, 22.59it/s]\n"
     ]
    },
    {
     "name": "stdout",
     "output_type": "stream",
     "text": [
      "video: benchpress_raw/BENCH PRESS 225 LBS _ 100 KG _ My first time ever.mp4 label: benchpress total frame number: 341\n"
     ]
    },
    {
     "name": "stderr",
     "output_type": "stream",
     "text": [
      "video 14 slice 0: 100%|██████████| 150/150 [00:00<00:00, 4150.56it/s]\n",
      "video 14 slice 1: 100%|██████████| 150/150 [00:06<00:00, 22.48it/s]\n"
     ]
    },
    {
     "name": "stdout",
     "output_type": "stream",
     "text": [
      "video: benchpress_raw/125kg_275lb bench press 5 rep PR.mp4 label: benchpress total frame number: 789\n"
     ]
    },
    {
     "name": "stderr",
     "output_type": "stream",
     "text": [
      "video 15 slice 0: 100%|██████████| 70/70 [00:00<00:00, 1287.03it/s]\n",
      "video 15 slice 1: 100%|██████████| 70/70 [00:03<00:00, 21.64it/s]\n",
      "video 15 slice 2: 100%|██████████| 70/70 [00:03<00:00, 22.32it/s]\n",
      "video 15 slice 3: 100%|██████████| 70/70 [00:03<00:00, 22.88it/s]\n",
      "video 15 slice 4: 100%|██████████| 70/70 [00:03<00:00, 22.03it/s]\n",
      "video 15 slice 5: 100%|██████████| 70/70 [00:03<00:00, 22.43it/s]\n",
      "video 15 slice 6: 100%|██████████| 70/70 [00:03<00:00, 21.79it/s]\n",
      "video 15 slice 7: 100%|██████████| 70/70 [00:03<00:00, 22.49it/s]\n",
      "video 15 slice 8: 100%|██████████| 70/70 [00:03<00:00, 22.07it/s]\n",
      "video 15 slice 9: 100%|██████████| 70/70 [00:03<00:00, 21.30it/s]\n",
      "video 15 slice 10: 100%|██████████| 70/70 [00:03<00:00, 22.08it/s]\n"
     ]
    },
    {
     "name": "stdout",
     "output_type": "stream",
     "text": [
      "video: benchpress_raw/125kg_275lb bench press 5 rep PR.mp4 label: benchpress total frame number: 789\n"
     ]
    },
    {
     "name": "stderr",
     "output_type": "stream",
     "text": [
      "video 15 slice 0: 100%|██████████| 100/100 [00:00<00:00, 1468.77it/s]\n",
      "video 15 slice 1: 100%|██████████| 100/100 [00:04<00:00, 21.68it/s]\n",
      "video 15 slice 2: 100%|██████████| 100/100 [00:04<00:00, 23.19it/s]\n",
      "video 15 slice 3: 100%|██████████| 100/100 [00:04<00:00, 21.70it/s]\n",
      "video 15 slice 4: 100%|██████████| 100/100 [00:04<00:00, 22.25it/s]\n",
      "video 15 slice 5: 100%|██████████| 100/100 [00:04<00:00, 21.99it/s]\n",
      "video 15 slice 6: 100%|██████████| 100/100 [00:04<00:00, 21.59it/s]\n"
     ]
    },
    {
     "name": "stdout",
     "output_type": "stream",
     "text": [
      "video: benchpress_raw/125kg_275lb bench press 5 rep PR.mp4 label: benchpress total frame number: 789\n"
     ]
    },
    {
     "name": "stderr",
     "output_type": "stream",
     "text": [
      "video 15 slice 0: 100%|██████████| 120/120 [00:00<00:00, 850.80it/s]\n",
      "video 15 slice 1: 100%|██████████| 120/120 [00:05<00:00, 22.51it/s]\n",
      "video 15 slice 2: 100%|██████████| 120/120 [00:05<00:00, 22.34it/s]\n",
      "video 15 slice 3: 100%|██████████| 120/120 [00:05<00:00, 22.18it/s]\n",
      "video 15 slice 4: 100%|██████████| 120/120 [00:05<00:00, 22.25it/s]\n",
      "video 15 slice 5: 100%|██████████| 120/120 [00:05<00:00, 21.72it/s]\n"
     ]
    },
    {
     "name": "stdout",
     "output_type": "stream",
     "text": [
      "video: benchpress_raw/125kg_275lb bench press 5 rep PR.mp4 label: benchpress total frame number: 789\n"
     ]
    },
    {
     "name": "stderr",
     "output_type": "stream",
     "text": [
      "video 15 slice 0: 100%|██████████| 150/150 [00:00<00:00, 1521.57it/s]\n",
      "video 15 slice 1: 100%|██████████| 150/150 [00:06<00:00, 22.81it/s]\n",
      "video 15 slice 2: 100%|██████████| 150/150 [00:06<00:00, 21.81it/s]\n",
      "video 15 slice 3: 100%|██████████| 150/150 [00:06<00:00, 22.13it/s]\n",
      "video 15 slice 4: 100%|██████████| 150/150 [00:06<00:00, 21.78it/s]\n"
     ]
    },
    {
     "name": "stdout",
     "output_type": "stream",
     "text": [
      "video: benchpress_raw/335 Bench Press for 5 rep's.mp4 label: benchpress total frame number: 1670\n"
     ]
    },
    {
     "name": "stderr",
     "output_type": "stream",
     "text": [
      "video 16 slice 0: 100%|██████████| 70/70 [00:00<00:00, 1385.66it/s]\n",
      "video 16 slice 1: 100%|██████████| 70/70 [00:03<00:00, 23.09it/s]\n",
      "video 16 slice 2: 100%|██████████| 70/70 [00:03<00:00, 22.08it/s]\n",
      "video 16 slice 3: 100%|██████████| 70/70 [00:03<00:00, 22.20it/s]\n",
      "video 16 slice 4: 100%|██████████| 70/70 [00:03<00:00, 22.21it/s]\n",
      "video 16 slice 5: 100%|██████████| 70/70 [00:03<00:00, 22.00it/s]\n",
      "video 16 slice 6: 100%|██████████| 70/70 [00:03<00:00, 22.11it/s]\n",
      "video 16 slice 7: 100%|██████████| 70/70 [00:03<00:00, 22.07it/s]\n",
      "video 16 slice 8: 100%|██████████| 70/70 [00:03<00:00, 22.13it/s]\n",
      "video 16 slice 9: 100%|██████████| 70/70 [00:03<00:00, 22.11it/s]\n",
      "video 16 slice 10: 100%|██████████| 70/70 [00:03<00:00, 21.82it/s]\n",
      "video 16 slice 11: 100%|██████████| 70/70 [00:03<00:00, 22.15it/s]\n",
      "video 16 slice 12: 100%|██████████| 70/70 [00:03<00:00, 22.05it/s]\n",
      "video 16 slice 13: 100%|██████████| 70/70 [00:03<00:00, 22.04it/s]\n",
      "video 16 slice 14: 100%|██████████| 70/70 [00:03<00:00, 22.05it/s]\n",
      "video 16 slice 15: 100%|██████████| 70/70 [00:03<00:00, 22.03it/s]\n",
      "video 16 slice 16: 100%|██████████| 70/70 [00:03<00:00, 22.04it/s]\n",
      "video 16 slice 17: 100%|██████████| 70/70 [00:03<00:00, 22.13it/s]\n",
      "video 16 slice 18: 100%|██████████| 70/70 [00:03<00:00, 22.08it/s]\n",
      "video 16 slice 19: 100%|██████████| 70/70 [00:03<00:00, 21.86it/s]\n",
      "video 16 slice 20: 100%|██████████| 70/70 [00:03<00:00, 22.13it/s]\n",
      "video 16 slice 21: 100%|██████████| 70/70 [00:03<00:00, 22.02it/s]\n",
      "video 16 slice 22: 100%|██████████| 70/70 [00:02<00:00, 24.31it/s]\n"
     ]
    },
    {
     "name": "stdout",
     "output_type": "stream",
     "text": [
      "video: benchpress_raw/335 Bench Press for 5 rep's.mp4 label: benchpress total frame number: 1670\n"
     ]
    },
    {
     "name": "stderr",
     "output_type": "stream",
     "text": [
      "video 16 slice 0: 100%|██████████| 100/100 [00:00<00:00, 1520.16it/s]\n",
      "video 16 slice 1: 100%|██████████| 100/100 [00:04<00:00, 22.71it/s]\n",
      "video 16 slice 2: 100%|██████████| 100/100 [00:04<00:00, 22.22it/s]\n",
      "video 16 slice 3: 100%|██████████| 100/100 [00:04<00:00, 22.10it/s]\n",
      "video 16 slice 4: 100%|██████████| 100/100 [00:04<00:00, 21.89it/s]\n",
      "video 16 slice 5: 100%|██████████| 100/100 [00:04<00:00, 22.09it/s]\n",
      "video 16 slice 6: 100%|██████████| 100/100 [00:04<00:00, 22.14it/s]\n",
      "video 16 slice 7: 100%|██████████| 100/100 [00:04<00:00, 22.09it/s]\n",
      "video 16 slice 8: 100%|██████████| 100/100 [00:04<00:00, 22.07it/s]\n",
      "video 16 slice 9: 100%|██████████| 100/100 [00:04<00:00, 22.06it/s]\n",
      "video 16 slice 10: 100%|██████████| 100/100 [00:04<00:00, 22.02it/s]\n",
      "video 16 slice 11: 100%|██████████| 100/100 [00:04<00:00, 22.07it/s]\n",
      "video 16 slice 12: 100%|██████████| 100/100 [00:04<00:00, 22.15it/s]\n",
      "video 16 slice 13: 100%|██████████| 100/100 [00:04<00:00, 22.09it/s]\n",
      "video 16 slice 14: 100%|██████████| 100/100 [00:04<00:00, 22.10it/s]\n",
      "video 16 slice 15: 100%|██████████| 100/100 [00:04<00:00, 22.01it/s]\n"
     ]
    },
    {
     "name": "stdout",
     "output_type": "stream",
     "text": [
      "video: benchpress_raw/335 Bench Press for 5 rep's.mp4 label: benchpress total frame number: 1670\n"
     ]
    },
    {
     "name": "stderr",
     "output_type": "stream",
     "text": [
      "video 16 slice 0: 100%|██████████| 120/120 [00:00<00:00, 1553.35it/s]\n",
      "video 16 slice 1: 100%|██████████| 120/120 [00:05<00:00, 22.30it/s]\n",
      "video 16 slice 2: 100%|██████████| 120/120 [00:05<00:00, 22.22it/s]\n",
      "video 16 slice 3: 100%|██████████| 120/120 [00:05<00:00, 22.02it/s]\n",
      "video 16 slice 4: 100%|██████████| 120/120 [00:05<00:00, 22.10it/s]\n",
      "video 16 slice 5: 100%|██████████| 120/120 [00:05<00:00, 22.14it/s]\n",
      "video 16 slice 6: 100%|██████████| 120/120 [00:05<00:00, 21.85it/s]\n",
      "video 16 slice 7: 100%|██████████| 120/120 [00:05<00:00, 22.07it/s]\n",
      "video 16 slice 8: 100%|██████████| 120/120 [00:05<00:00, 22.14it/s]\n",
      "video 16 slice 9: 100%|██████████| 120/120 [00:05<00:00, 22.10it/s]\n",
      "video 16 slice 10: 100%|██████████| 120/120 [00:05<00:00, 22.08it/s]\n",
      "video 16 slice 11: 100%|██████████| 120/120 [00:05<00:00, 21.93it/s]\n",
      "video 16 slice 12: 100%|██████████| 120/120 [00:05<00:00, 22.10it/s]\n"
     ]
    },
    {
     "name": "stdout",
     "output_type": "stream",
     "text": [
      "video: benchpress_raw/335 Bench Press for 5 rep's.mp4 label: benchpress total frame number: 1670\n"
     ]
    },
    {
     "name": "stderr",
     "output_type": "stream",
     "text": [
      "video 16 slice 0: 100%|██████████| 150/150 [00:00<00:00, 1588.76it/s]\n",
      "video 16 slice 1: 100%|██████████| 150/150 [00:06<00:00, 22.15it/s]\n",
      "video 16 slice 2: 100%|██████████| 150/150 [00:06<00:00, 22.05it/s]\n",
      "video 16 slice 3: 100%|██████████| 150/150 [00:06<00:00, 21.97it/s]\n",
      "video 16 slice 4: 100%|██████████| 150/150 [00:06<00:00, 22.06it/s]\n",
      "video 16 slice 5: 100%|██████████| 150/150 [00:06<00:00, 22.10it/s]\n",
      "video 16 slice 6: 100%|██████████| 150/150 [00:06<00:00, 21.97it/s]\n",
      "video 16 slice 7: 100%|██████████| 150/150 [00:06<00:00, 22.03it/s]\n",
      "video 16 slice 8: 100%|██████████| 150/150 [00:06<00:00, 22.13it/s]\n",
      "video 16 slice 9: 100%|██████████| 150/150 [00:06<00:00, 22.14it/s]\n",
      "video 16 slice 10: 100%|██████████| 150/150 [00:05<00:00, 26.47it/s]\n"
     ]
    }
   ],
   "source": [
    "# 設定pose model，影片、鬱值等\n",
    "pose = mp_pose.Pose(static_image_mode = False, min_detection_confidence = 0.4, min_tracking_confidence = 0.4, model_complexity = 2)\n",
    "\n",
    "# 對每個label的資料夾內的影片進行處理\n",
    "for label in labels:\n",
    "    directoryPath = f'{label}_raw'\n",
    "    video_paths = [os.path.join(directoryPath, f) for f in os.listdir(directoryPath) if f.endswith('.mp4')]\n",
    "    \n",
    "    for video in video_paths:\n",
    "        for i in sliceL:\n",
    "            dataPath = \"data\" + str(i)\n",
    "            constructDatasetFromVideo(video, pose, label, dataPath, video_paths.index(video), i)"
   ]
  },
  {
   "cell_type": "markdown",
   "id": "1e0f5ccb",
   "metadata": {},
   "source": [
    "# 處理資料成數據集"
   ]
  },
  {
   "cell_type": "code",
   "execution_count": 14,
   "id": "9b45a415",
   "metadata": {},
   "outputs": [],
   "source": [
    "from sklearn.model_selection import train_test_split\n",
    "from tensorflow.keras.utils import to_categorical\n",
    "import pandas as pd\n",
    "import seaborn as sns"
   ]
  },
  {
   "cell_type": "code",
   "execution_count": 15,
   "id": "076602d0",
   "metadata": {},
   "outputs": [],
   "source": [
    "data_dict = {\n",
    "    70: {\"points\": [], \"labels\": [], \"angles\": []},\n",
    "    100: {\"points\": [], \"labels\": [], \"angles\": []},\n",
    "    120: {\"points\": [], \"labels\": [], \"angles\": []},\n",
    "    150: {\"points\": [], \"labels\": [], \"angles\": []}\n",
    "}\n",
    "\n",
    "for label in labels:\n",
    "    for slice_length in sliceL:\n",
    "        data_path = f\"data{slice_length}\"\n",
    "        \n",
    "        for data_type in [\"points\", \"angles\"]:\n",
    "            files = os.listdir(f\"{data_path}/{label}/{data_type}\")\n",
    "            files.sort()\n",
    "            \n",
    "            for file in files:\n",
    "                data = np.load(f\"{data_path}/{label}/{data_type}/{file}\")\n",
    "                \n",
    "                if data_type == \"points\":\n",
    "                    data_dict[slice_length][\"points\"].append(data)\n",
    "                    data_dict[slice_length][\"labels\"].append(LABEL_DICT[label])\n",
    "                else:\n",
    "                    data_dict[slice_length][\"angles\"].append(data)"
   ]
  },
  {
   "cell_type": "code",
   "execution_count": 22,
   "id": "97fdbb65",
   "metadata": {},
   "outputs": [
    {
     "name": "stdout",
     "output_type": "stream",
     "text": [
      "(761, 70, 132) (761, 70, 6) (761, 3)\n",
      "[[1 0 0]\n",
      " [1 0 0]\n",
      " [1 0 0]\n",
      " ...\n",
      " [0 0 1]\n",
      " [0 0 1]\n",
      " [0 0 1]]\n"
     ]
    }
   ],
   "source": [
    "points_data = np.array(data_dict[70][\"points\"])\n",
    "angles_data = np.array(data_dict[70][\"angles\"])\n",
    "labels_data = to_categorical(data_dict[70][\"labels\"]).astype(int)\n",
    "print(points_data.shape, angles_data.shape, labels_data.shape)\n",
    "\n",
    "print(labels_data)"
   ]
  },
  {
   "cell_type": "code",
   "execution_count": 49,
   "id": "35ea9d02",
   "metadata": {},
   "outputs": [],
   "source": [
    "points_train, points_test,  angles_train, angles_test,  labels_train, labels_test  = train_test_split(points_data, angles_data, labels_data, test_size=0.10)\n",
    "points_train, points_valid, angles_train, angles_valid, labels_train, labels_valid = train_test_split(points_train, angles_train, labels_train, test_size=0.10)"
   ]
  },
  {
   "cell_type": "markdown",
   "id": "19671aff",
   "metadata": {},
   "source": [
    "# LSTM 訓練"
   ]
  },
  {
   "cell_type": "code",
   "execution_count": 24,
   "id": "7fee05e8",
   "metadata": {},
   "outputs": [],
   "source": [
    "from tensorflow.keras.models import Sequential\n",
    "from tensorflow.keras.layers import LSTM, Dense, Dropout, BatchNormalization\n",
    "from tensorflow.keras.callbacks import TensorBoard\n",
    "from tensorflow.keras.optimizers import Adam\n",
    "from sklearn.metrics import accuracy_score, precision_score, recall_score, f1_score\n"
   ]
  },
  {
   "cell_type": "code",
   "execution_count": 25,
   "id": "520909a1",
   "metadata": {},
   "outputs": [
    {
     "name": "stdout",
     "output_type": "stream",
     "text": [
      "(70, 132)\n",
      "(70, 6)\n",
      "(3,)\n"
     ]
    }
   ],
   "source": [
    "if not os.path.exists('Logs'):\n",
    "    os.makedirs('Logs')\n",
    "\n",
    "print(np.shape(points_train[0]))\n",
    "print(np.shape(angles_train[0]))\n",
    "print(np.shape(labels_train[0]))"
   ]
  },
  {
   "cell_type": "code",
   "execution_count": 30,
   "id": "53010761",
   "metadata": {},
   "outputs": [],
   "source": [
    "model = Sequential()\n",
    "model.add(LSTM(256, return_sequences=True, activation='relu', input_shape=(np.shape(points_train[0]))))\n",
    "model.add(LSTM(16, return_sequences=True, activation='relu'))\n",
    "model.add(LSTM(16, return_sequences=True, activation='relu'))\n",
    "model.add(LSTM(16, return_sequences=True, activation='relu'))\n",
    "model.add(LSTM(16, return_sequences=True, activation='relu'))\n",
    "model.add(LSTM(16, return_sequences=True, activation='relu'))\n",
    "model.add(LSTM(16, return_sequences=True, activation='relu'))\n",
    "model.add(LSTM(16, return_sequences=True, activation='relu'))\n",
    "model.add(LSTM(16, return_sequences=True, activation='relu'))\n",
    "model.add(LSTM(16, return_sequences=True, activation='relu'))\n",
    "model.add(LSTM(16, return_sequences=True, activation='relu'))\n",
    "model.add(LSTM(16, return_sequences=True, activation='relu'))\n",
    "model.add(LSTM(32, return_sequences=False, activation='relu'))\n",
    "model.add(Dense(64, activation='relu'))\n",
    "model.add(Dense(32, activation='relu'))\n",
    "model.add(Dense(3, activation='softmax'))"
   ]
  },
  {
   "cell_type": "code",
   "execution_count": 31,
   "id": "9005731c",
   "metadata": {},
   "outputs": [],
   "source": [
    "# optimizer = Adam(learning_rate=0.0001, clipvalue=0.5)\n",
    "optimizer = Adam(learning_rate=0.0001)\n",
    "model.compile(optimizer=optimizer, loss='categorical_crossentropy', metrics=['categorical_accuracy'])"
   ]
  },
  {
   "cell_type": "code",
   "execution_count": 32,
   "id": "5d4cac86",
   "metadata": {},
   "outputs": [],
   "source": [
    "# 設置 TensorBoard \n",
    "tb_callback = TensorBoard(log_dir='./logs', histogram_freq=1, write_graph=True, write_images=True)"
   ]
  },
  {
   "cell_type": "code",
   "execution_count": 33,
   "id": "456203c5",
   "metadata": {},
   "outputs": [
    {
     "name": "stdout",
     "output_type": "stream",
     "text": [
      "Epoch 1/200\n",
      "\u001b[1m31/31\u001b[0m \u001b[32m━━━━━━━━━━━━━━━━━━━━\u001b[0m\u001b[37m\u001b[0m \u001b[1m14s\u001b[0m 156ms/step - categorical_accuracy: 0.3441 - loss: 1.0986 - val_categorical_accuracy: 0.3478 - val_loss: 1.0986\n",
      "Epoch 2/200\n",
      "\u001b[1m31/31\u001b[0m \u001b[32m━━━━━━━━━━━━━━━━━━━━\u001b[0m\u001b[37m\u001b[0m \u001b[1m4s\u001b[0m 129ms/step - categorical_accuracy: 0.3902 - loss: 1.0982 - val_categorical_accuracy: 0.3478 - val_loss: 1.0986\n",
      "Epoch 3/200\n",
      "\u001b[1m31/31\u001b[0m \u001b[32m━━━━━━━━━━━━━━━━━━━━\u001b[0m\u001b[37m\u001b[0m \u001b[1m4s\u001b[0m 128ms/step - categorical_accuracy: 0.3700 - loss: 1.0981 - val_categorical_accuracy: 0.3478 - val_loss: 1.0986\n",
      "Epoch 4/200\n",
      "\u001b[1m31/31\u001b[0m \u001b[32m━━━━━━━━━━━━━━━━━━━━\u001b[0m\u001b[37m\u001b[0m \u001b[1m4s\u001b[0m 136ms/step - categorical_accuracy: 0.3804 - loss: 1.0974 - val_categorical_accuracy: 0.3478 - val_loss: 1.0987\n",
      "Epoch 5/200\n",
      "\u001b[1m31/31\u001b[0m \u001b[32m━━━━━━━━━━━━━━━━━━━━\u001b[0m\u001b[37m\u001b[0m \u001b[1m4s\u001b[0m 133ms/step - categorical_accuracy: 0.3804 - loss: 1.0970 - val_categorical_accuracy: 0.3478 - val_loss: 1.0986\n",
      "Epoch 6/200\n",
      "\u001b[1m31/31\u001b[0m \u001b[32m━━━━━━━━━━━━━━━━━━━━\u001b[0m\u001b[37m\u001b[0m \u001b[1m4s\u001b[0m 128ms/step - categorical_accuracy: 0.3759 - loss: 1.0969 - val_categorical_accuracy: 0.3478 - val_loss: 1.0987\n",
      "Epoch 7/200\n",
      "\u001b[1m31/31\u001b[0m \u001b[32m━━━━━━━━━━━━━━━━━━━━\u001b[0m\u001b[37m\u001b[0m \u001b[1m4s\u001b[0m 134ms/step - categorical_accuracy: 0.3560 - loss: 1.0964 - val_categorical_accuracy: 0.3478 - val_loss: 1.0976\n",
      "Epoch 8/200\n",
      "\u001b[1m31/31\u001b[0m \u001b[32m━━━━━━━━━━━━━━━━━━━━\u001b[0m\u001b[37m\u001b[0m \u001b[1m4s\u001b[0m 130ms/step - categorical_accuracy: 0.4586 - loss: 1.0923 - val_categorical_accuracy: 0.6377 - val_loss: 1.0930\n",
      "Epoch 9/200\n",
      "\u001b[1m31/31\u001b[0m \u001b[32m━━━━━━━━━━━━━━━━━━━━\u001b[0m\u001b[37m\u001b[0m \u001b[1m4s\u001b[0m 135ms/step - categorical_accuracy: 0.6932 - loss: 1.0843 - val_categorical_accuracy: 0.6377 - val_loss: 1.0766\n",
      "Epoch 10/200\n",
      "\u001b[1m31/31\u001b[0m \u001b[32m━━━━━━━━━━━━━━━━━━━━\u001b[0m\u001b[37m\u001b[0m \u001b[1m4s\u001b[0m 144ms/step - categorical_accuracy: 0.6973 - loss: 1.0591 - val_categorical_accuracy: 0.6232 - val_loss: 1.0275\n",
      "Epoch 11/200\n",
      "\u001b[1m31/31\u001b[0m \u001b[32m━━━━━━━━━━━━━━━━━━━━\u001b[0m\u001b[37m\u001b[0m \u001b[1m4s\u001b[0m 131ms/step - categorical_accuracy: 0.6541 - loss: 19.2198 - val_categorical_accuracy: 0.5942 - val_loss: 0.8380\n",
      "Epoch 12/200\n",
      "\u001b[1m31/31\u001b[0m \u001b[32m━━━━━━━━━━━━━━━━━━━━\u001b[0m\u001b[37m\u001b[0m \u001b[1m4s\u001b[0m 132ms/step - categorical_accuracy: 0.6319 - loss: 3.0377 - val_categorical_accuracy: 0.5652 - val_loss: 1.0048\n",
      "Epoch 13/200\n",
      "\u001b[1m31/31\u001b[0m \u001b[32m━━━━━━━━━━━━━━━━━━━━\u001b[0m\u001b[37m\u001b[0m \u001b[1m4s\u001b[0m 129ms/step - categorical_accuracy: 0.6155 - loss: 0.9469 - val_categorical_accuracy: 0.5797 - val_loss: 0.9284\n",
      "Epoch 14/200\n",
      "\u001b[1m31/31\u001b[0m \u001b[32m━━━━━━━━━━━━━━━━━━━━\u001b[0m\u001b[37m\u001b[0m \u001b[1m4s\u001b[0m 128ms/step - categorical_accuracy: 0.6602 - loss: 0.8609 - val_categorical_accuracy: 0.5942 - val_loss: 0.7911\n",
      "Epoch 15/200\n",
      "\u001b[1m31/31\u001b[0m \u001b[32m━━━━━━━━━━━━━━━━━━━━\u001b[0m\u001b[37m\u001b[0m \u001b[1m4s\u001b[0m 128ms/step - categorical_accuracy: 0.6409 - loss: 0.8039 - val_categorical_accuracy: 0.5942 - val_loss: 0.7208\n",
      "Epoch 16/200\n",
      "\u001b[1m31/31\u001b[0m \u001b[32m━━━━━━━━━━━━━━━━━━━━\u001b[0m\u001b[37m\u001b[0m \u001b[1m4s\u001b[0m 127ms/step - categorical_accuracy: 0.6370 - loss: 3.3329 - val_categorical_accuracy: 0.5652 - val_loss: 0.8716\n",
      "Epoch 17/200\n",
      "\u001b[1m31/31\u001b[0m \u001b[32m━━━━━━━━━━━━━━━━━━━━\u001b[0m\u001b[37m\u001b[0m \u001b[1m4s\u001b[0m 129ms/step - categorical_accuracy: 0.5741 - loss: 0.9168 - val_categorical_accuracy: 0.5652 - val_loss: 0.8818\n",
      "Epoch 18/200\n",
      "\u001b[1m31/31\u001b[0m \u001b[32m━━━━━━━━━━━━━━━━━━━━\u001b[0m\u001b[37m\u001b[0m \u001b[1m4s\u001b[0m 127ms/step - categorical_accuracy: 0.5773 - loss: 0.8898 - val_categorical_accuracy: 0.5652 - val_loss: 0.8510\n",
      "Epoch 19/200\n",
      "\u001b[1m31/31\u001b[0m \u001b[32m━━━━━━━━━━━━━━━━━━━━\u001b[0m\u001b[37m\u001b[0m \u001b[1m4s\u001b[0m 128ms/step - categorical_accuracy: 0.6019 - loss: 0.8671 - val_categorical_accuracy: 0.5942 - val_loss: 0.8339\n",
      "Epoch 20/200\n",
      "\u001b[1m31/31\u001b[0m \u001b[32m━━━━━━━━━━━━━━━━━━━━\u001b[0m\u001b[37m\u001b[0m \u001b[1m4s\u001b[0m 139ms/step - categorical_accuracy: 0.6050 - loss: 0.8618 - val_categorical_accuracy: 0.5942 - val_loss: 0.8154\n",
      "Epoch 21/200\n",
      "\u001b[1m31/31\u001b[0m \u001b[32m━━━━━━━━━━━━━━━━━━━━\u001b[0m\u001b[37m\u001b[0m \u001b[1m4s\u001b[0m 128ms/step - categorical_accuracy: 0.6577 - loss: 0.7783 - val_categorical_accuracy: 0.5942 - val_loss: 0.7714\n",
      "Epoch 22/200\n",
      "\u001b[1m31/31\u001b[0m \u001b[32m━━━━━━━━━━━━━━━━━━━━\u001b[0m\u001b[37m\u001b[0m \u001b[1m4s\u001b[0m 127ms/step - categorical_accuracy: 0.6666 - loss: 0.7661 - val_categorical_accuracy: 0.6377 - val_loss: 0.7457\n",
      "Epoch 23/200\n",
      "\u001b[1m31/31\u001b[0m \u001b[32m━━━━━━━━━━━━━━━━━━━━\u001b[0m\u001b[37m\u001b[0m \u001b[1m4s\u001b[0m 132ms/step - categorical_accuracy: 0.7126 - loss: 0.6828 - val_categorical_accuracy: 0.6377 - val_loss: 0.7209\n",
      "Epoch 24/200\n",
      "\u001b[1m31/31\u001b[0m \u001b[32m━━━━━━━━━━━━━━━━━━━━\u001b[0m\u001b[37m\u001b[0m \u001b[1m4s\u001b[0m 131ms/step - categorical_accuracy: 0.6847 - loss: 0.7576 - val_categorical_accuracy: 0.7681 - val_loss: 0.6648\n",
      "Epoch 25/200\n",
      "\u001b[1m31/31\u001b[0m \u001b[32m━━━━━━━━━━━━━━━━━━━━\u001b[0m\u001b[37m\u001b[0m \u001b[1m4s\u001b[0m 129ms/step - categorical_accuracy: 0.7677 - loss: 0.6587 - val_categorical_accuracy: 0.8116 - val_loss: 0.6159\n",
      "Epoch 26/200\n",
      "\u001b[1m31/31\u001b[0m \u001b[32m━━━━━━━━━━━━━━━━━━━━\u001b[0m\u001b[37m\u001b[0m \u001b[1m4s\u001b[0m 133ms/step - categorical_accuracy: 0.8184 - loss: 0.5721 - val_categorical_accuracy: 0.8841 - val_loss: 0.5602\n",
      "Epoch 27/200\n",
      "\u001b[1m31/31\u001b[0m \u001b[32m━━━━━━━━━━━━━━━━━━━━\u001b[0m\u001b[37m\u001b[0m \u001b[1m4s\u001b[0m 130ms/step - categorical_accuracy: 0.8581 - loss: 0.5251 - val_categorical_accuracy: 0.8986 - val_loss: 0.4574\n",
      "Epoch 28/200\n",
      "\u001b[1m31/31\u001b[0m \u001b[32m━━━━━━━━━━━━━━━━━━━━\u001b[0m\u001b[37m\u001b[0m \u001b[1m4s\u001b[0m 129ms/step - categorical_accuracy: 0.9023 - loss: 0.4541 - val_categorical_accuracy: 0.9420 - val_loss: 0.3468\n",
      "Epoch 29/200\n",
      "\u001b[1m31/31\u001b[0m \u001b[32m━━━━━━━━━━━━━━━━━━━━\u001b[0m\u001b[37m\u001b[0m \u001b[1m4s\u001b[0m 138ms/step - categorical_accuracy: 0.9090 - loss: 0.4359 - val_categorical_accuracy: 0.9420 - val_loss: 0.3144\n",
      "Epoch 30/200\n",
      "\u001b[1m31/31\u001b[0m \u001b[32m━━━━━━━━━━━━━━━━━━━━\u001b[0m\u001b[37m\u001b[0m \u001b[1m4s\u001b[0m 129ms/step - categorical_accuracy: 0.9308 - loss: 0.3476 - val_categorical_accuracy: 0.9710 - val_loss: 0.2428\n",
      "Epoch 31/200\n",
      "\u001b[1m31/31\u001b[0m \u001b[32m━━━━━━━━━━━━━━━━━━━━\u001b[0m\u001b[37m\u001b[0m \u001b[1m4s\u001b[0m 130ms/step - categorical_accuracy: 0.9195 - loss: 0.3194 - val_categorical_accuracy: 0.9710 - val_loss: 0.2239\n",
      "Epoch 32/200\n",
      "\u001b[1m31/31\u001b[0m \u001b[32m━━━━━━━━━━━━━━━━━━━━\u001b[0m\u001b[37m\u001b[0m \u001b[1m4s\u001b[0m 135ms/step - categorical_accuracy: 0.9424 - loss: 0.2938 - val_categorical_accuracy: 0.9420 - val_loss: 0.3189\n",
      "Epoch 33/200\n",
      "\u001b[1m31/31\u001b[0m \u001b[32m━━━━━━━━━━━━━━━━━━━━\u001b[0m\u001b[37m\u001b[0m \u001b[1m4s\u001b[0m 131ms/step - categorical_accuracy: 0.8942 - loss: 0.4875 - val_categorical_accuracy: 0.9710 - val_loss: 0.2881\n",
      "Epoch 34/200\n",
      "\u001b[1m31/31\u001b[0m \u001b[32m━━━━━━━━━━━━━━━━━━━━\u001b[0m\u001b[37m\u001b[0m \u001b[1m4s\u001b[0m 131ms/step - categorical_accuracy: 0.9539 - loss: 0.2866 - val_categorical_accuracy: 0.9420 - val_loss: 0.2302\n",
      "Epoch 35/200\n",
      "\u001b[1m31/31\u001b[0m \u001b[32m━━━━━━━━━━━━━━━━━━━━\u001b[0m\u001b[37m\u001b[0m \u001b[1m4s\u001b[0m 127ms/step - categorical_accuracy: 0.9416 - loss: 0.2689 - val_categorical_accuracy: 0.9275 - val_loss: 0.2751\n",
      "Epoch 36/200\n",
      "\u001b[1m31/31\u001b[0m \u001b[32m━━━━━━━━━━━━━━━━━━━━\u001b[0m\u001b[37m\u001b[0m \u001b[1m4s\u001b[0m 127ms/step - categorical_accuracy: 0.9485 - loss: 0.2520 - val_categorical_accuracy: 0.9855 - val_loss: 0.1786\n",
      "Epoch 37/200\n",
      "\u001b[1m31/31\u001b[0m \u001b[32m━━━━━━━━━━━━━━━━━━━━\u001b[0m\u001b[37m\u001b[0m \u001b[1m4s\u001b[0m 127ms/step - categorical_accuracy: 0.9469 - loss: 0.2561 - val_categorical_accuracy: 0.9855 - val_loss: 0.1584\n",
      "Epoch 38/200\n",
      "\u001b[1m31/31\u001b[0m \u001b[32m━━━━━━━━━━━━━━━━━━━━\u001b[0m\u001b[37m\u001b[0m \u001b[1m4s\u001b[0m 127ms/step - categorical_accuracy: 0.9464 - loss: 0.2185 - val_categorical_accuracy: 0.9855 - val_loss: 0.1537\n",
      "Epoch 39/200\n",
      "\u001b[1m31/31\u001b[0m \u001b[32m━━━━━━━━━━━━━━━━━━━━\u001b[0m\u001b[37m\u001b[0m \u001b[1m4s\u001b[0m 127ms/step - categorical_accuracy: 0.9290 - loss: 0.2502 - val_categorical_accuracy: 0.9855 - val_loss: 0.1493\n",
      "Epoch 40/200\n",
      "\u001b[1m31/31\u001b[0m \u001b[32m━━━━━━━━━━━━━━━━━━━━\u001b[0m\u001b[37m\u001b[0m \u001b[1m4s\u001b[0m 131ms/step - categorical_accuracy: 0.9492 - loss: 0.2338 - val_categorical_accuracy: 0.9855 - val_loss: 0.1321\n",
      "Epoch 41/200\n",
      "\u001b[1m31/31\u001b[0m \u001b[32m━━━━━━━━━━━━━━━━━━━━\u001b[0m\u001b[37m\u001b[0m \u001b[1m4s\u001b[0m 128ms/step - categorical_accuracy: 0.9599 - loss: 0.1926 - val_categorical_accuracy: 0.9855 - val_loss: 0.1313\n",
      "Epoch 42/200\n",
      "\u001b[1m31/31\u001b[0m \u001b[32m━━━━━━━━━━━━━━━━━━━━\u001b[0m\u001b[37m\u001b[0m \u001b[1m4s\u001b[0m 128ms/step - categorical_accuracy: 0.9421 - loss: 0.2144 - val_categorical_accuracy: 0.9710 - val_loss: 0.1139\n",
      "Epoch 43/200\n",
      "\u001b[1m31/31\u001b[0m \u001b[32m━━━━━━━━━━━━━━━━━━━━\u001b[0m\u001b[37m\u001b[0m \u001b[1m4s\u001b[0m 129ms/step - categorical_accuracy: 0.9421 - loss: 0.2033 - val_categorical_accuracy: 0.9710 - val_loss: 0.0826\n",
      "Epoch 44/200\n",
      "\u001b[1m31/31\u001b[0m \u001b[32m━━━━━━━━━━━━━━━━━━━━\u001b[0m\u001b[37m\u001b[0m \u001b[1m4s\u001b[0m 128ms/step - categorical_accuracy: 0.9352 - loss: 0.2174 - val_categorical_accuracy: 0.9855 - val_loss: 0.0751\n",
      "Epoch 45/200\n",
      "\u001b[1m31/31\u001b[0m \u001b[32m━━━━━━━━━━━━━━━━━━━━\u001b[0m\u001b[37m\u001b[0m \u001b[1m4s\u001b[0m 133ms/step - categorical_accuracy: 0.9467 - loss: 0.1492 - val_categorical_accuracy: 0.9855 - val_loss: 0.0614\n",
      "Epoch 46/200\n",
      "\u001b[1m31/31\u001b[0m \u001b[32m━━━━━━━━━━━━━━━━━━━━\u001b[0m\u001b[37m\u001b[0m \u001b[1m4s\u001b[0m 127ms/step - categorical_accuracy: 0.9512 - loss: 0.1424 - val_categorical_accuracy: 0.9855 - val_loss: 0.0631\n",
      "Epoch 47/200\n",
      "\u001b[1m31/31\u001b[0m \u001b[32m━━━━━━━━━━━━━━━━━━━━\u001b[0m\u001b[37m\u001b[0m \u001b[1m4s\u001b[0m 128ms/step - categorical_accuracy: 0.9495 - loss: 0.1483 - val_categorical_accuracy: 0.9855 - val_loss: 0.0613\n",
      "Epoch 48/200\n",
      "\u001b[1m31/31\u001b[0m \u001b[32m━━━━━━━━━━━━━━━━━━━━\u001b[0m\u001b[37m\u001b[0m \u001b[1m4s\u001b[0m 127ms/step - categorical_accuracy: 0.8777 - loss: 0.3301 - val_categorical_accuracy: 0.9565 - val_loss: 0.2178\n",
      "Epoch 49/200\n",
      "\u001b[1m31/31\u001b[0m \u001b[32m━━━━━━━━━━━━━━━━━━━━\u001b[0m\u001b[37m\u001b[0m \u001b[1m4s\u001b[0m 127ms/step - categorical_accuracy: 0.9452 - loss: 0.2153 - val_categorical_accuracy: 0.9565 - val_loss: 0.1140\n",
      "Epoch 50/200\n",
      "\u001b[1m31/31\u001b[0m \u001b[32m━━━━━━━━━━━━━━━━━━━━\u001b[0m\u001b[37m\u001b[0m \u001b[1m4s\u001b[0m 128ms/step - categorical_accuracy: 0.9487 - loss: 0.1818 - val_categorical_accuracy: 0.9565 - val_loss: 0.1451\n",
      "Epoch 51/200\n",
      "\u001b[1m31/31\u001b[0m \u001b[32m━━━━━━━━━━━━━━━━━━━━\u001b[0m\u001b[37m\u001b[0m \u001b[1m4s\u001b[0m 126ms/step - categorical_accuracy: 0.9583 - loss: 0.1397 - val_categorical_accuracy: 0.9855 - val_loss: 0.0945\n",
      "Epoch 52/200\n",
      "\u001b[1m31/31\u001b[0m \u001b[32m━━━━━━━━━━━━━━━━━━━━\u001b[0m\u001b[37m\u001b[0m \u001b[1m4s\u001b[0m 129ms/step - categorical_accuracy: 0.9629 - loss: 0.1607 - val_categorical_accuracy: 0.9710 - val_loss: 0.0893\n",
      "Epoch 53/200\n",
      "\u001b[1m31/31\u001b[0m \u001b[32m━━━━━━━━━━━━━━━━━━━━\u001b[0m\u001b[37m\u001b[0m \u001b[1m4s\u001b[0m 129ms/step - categorical_accuracy: 0.9612 - loss: 0.1217 - val_categorical_accuracy: 0.9855 - val_loss: 0.0615\n",
      "Epoch 54/200\n",
      "\u001b[1m31/31\u001b[0m \u001b[32m━━━━━━━━━━━━━━━━━━━━\u001b[0m\u001b[37m\u001b[0m \u001b[1m4s\u001b[0m 127ms/step - categorical_accuracy: 0.9726 - loss: 0.1264 - val_categorical_accuracy: 0.9855 - val_loss: 0.1135\n",
      "Epoch 55/200\n",
      "\u001b[1m31/31\u001b[0m \u001b[32m━━━━━━━━━━━━━━━━━━━━\u001b[0m\u001b[37m\u001b[0m \u001b[1m4s\u001b[0m 128ms/step - categorical_accuracy: 0.9788 - loss: 0.0851 - val_categorical_accuracy: 0.9855 - val_loss: 0.0598\n",
      "Epoch 56/200\n",
      "\u001b[1m31/31\u001b[0m \u001b[32m━━━━━━━━━━━━━━━━━━━━\u001b[0m\u001b[37m\u001b[0m \u001b[1m4s\u001b[0m 127ms/step - categorical_accuracy: 0.9668 - loss: 0.1277 - val_categorical_accuracy: 0.9855 - val_loss: 0.0744\n",
      "Epoch 57/200\n",
      "\u001b[1m31/31\u001b[0m \u001b[32m━━━━━━━━━━━━━━━━━━━━\u001b[0m\u001b[37m\u001b[0m \u001b[1m4s\u001b[0m 127ms/step - categorical_accuracy: 0.9707 - loss: 0.1055 - val_categorical_accuracy: 0.9855 - val_loss: 0.1034\n",
      "Epoch 58/200\n",
      "\u001b[1m31/31\u001b[0m \u001b[32m━━━━━━━━━━━━━━━━━━━━\u001b[0m\u001b[37m\u001b[0m \u001b[1m4s\u001b[0m 127ms/step - categorical_accuracy: 0.9630 - loss: 0.1267 - val_categorical_accuracy: 0.9855 - val_loss: 0.0811\n",
      "Epoch 59/200\n",
      "\u001b[1m31/31\u001b[0m \u001b[32m━━━━━━━━━━━━━━━━━━━━\u001b[0m\u001b[37m\u001b[0m \u001b[1m4s\u001b[0m 128ms/step - categorical_accuracy: 0.9680 - loss: 0.1076 - val_categorical_accuracy: 0.9855 - val_loss: 0.0672\n",
      "Epoch 60/200\n",
      "\u001b[1m31/31\u001b[0m \u001b[32m━━━━━━━━━━━━━━━━━━━━\u001b[0m\u001b[37m\u001b[0m \u001b[1m4s\u001b[0m 131ms/step - categorical_accuracy: 0.9848 - loss: 0.0801 - val_categorical_accuracy: 0.9855 - val_loss: 0.1150\n",
      "Epoch 61/200\n",
      "\u001b[1m31/31\u001b[0m \u001b[32m━━━━━━━━━━━━━━━━━━━━\u001b[0m\u001b[37m\u001b[0m \u001b[1m4s\u001b[0m 128ms/step - categorical_accuracy: 0.9775 - loss: 0.0876 - val_categorical_accuracy: 0.9855 - val_loss: 0.0499\n",
      "Epoch 62/200\n",
      "\u001b[1m31/31\u001b[0m \u001b[32m━━━━━━━━━━━━━━━━━━━━\u001b[0m\u001b[37m\u001b[0m \u001b[1m4s\u001b[0m 144ms/step - categorical_accuracy: 0.9890 - loss: 0.0659 - val_categorical_accuracy: 0.9855 - val_loss: 0.0843\n",
      "Epoch 63/200\n",
      "\u001b[1m31/31\u001b[0m \u001b[32m━━━━━━━━━━━━━━━━━━━━\u001b[0m\u001b[37m\u001b[0m \u001b[1m4s\u001b[0m 130ms/step - categorical_accuracy: 0.9733 - loss: 0.1007 - val_categorical_accuracy: 0.9855 - val_loss: 0.0753\n",
      "Epoch 64/200\n",
      "\u001b[1m31/31\u001b[0m \u001b[32m━━━━━━━━━━━━━━━━━━━━\u001b[0m\u001b[37m\u001b[0m \u001b[1m4s\u001b[0m 133ms/step - categorical_accuracy: 0.9602 - loss: 0.1287 - val_categorical_accuracy: 0.9855 - val_loss: 0.0558\n",
      "Epoch 65/200\n",
      "\u001b[1m31/31\u001b[0m \u001b[32m━━━━━━━━━━━━━━━━━━━━\u001b[0m\u001b[37m\u001b[0m \u001b[1m4s\u001b[0m 130ms/step - categorical_accuracy: 0.9808 - loss: 0.0994 - val_categorical_accuracy: 0.9855 - val_loss: 0.0515\n",
      "Epoch 66/200\n",
      "\u001b[1m31/31\u001b[0m \u001b[32m━━━━━━━━━━━━━━━━━━━━\u001b[0m\u001b[37m\u001b[0m \u001b[1m4s\u001b[0m 135ms/step - categorical_accuracy: 0.9789 - loss: 0.0814 - val_categorical_accuracy: 0.9855 - val_loss: 0.0467\n",
      "Epoch 67/200\n",
      "\u001b[1m31/31\u001b[0m \u001b[32m━━━━━━━━━━━━━━━━━━━━\u001b[0m\u001b[37m\u001b[0m \u001b[1m4s\u001b[0m 131ms/step - categorical_accuracy: 0.9757 - loss: 0.0986 - val_categorical_accuracy: 0.9855 - val_loss: 0.0549\n",
      "Epoch 68/200\n",
      "\u001b[1m31/31\u001b[0m \u001b[32m━━━━━━━━━━━━━━━━━━━━\u001b[0m\u001b[37m\u001b[0m \u001b[1m4s\u001b[0m 133ms/step - categorical_accuracy: 0.9744 - loss: 0.1107 - val_categorical_accuracy: 0.9855 - val_loss: 0.0494\n",
      "Epoch 69/200\n",
      "\u001b[1m31/31\u001b[0m \u001b[32m━━━━━━━━━━━━━━━━━━━━\u001b[0m\u001b[37m\u001b[0m \u001b[1m4s\u001b[0m 129ms/step - categorical_accuracy: 0.9756 - loss: 0.1023 - val_categorical_accuracy: 0.9420 - val_loss: 0.3751\n",
      "Epoch 70/200\n",
      "\u001b[1m31/31\u001b[0m \u001b[32m━━━━━━━━━━━━━━━━━━━━\u001b[0m\u001b[37m\u001b[0m \u001b[1m4s\u001b[0m 132ms/step - categorical_accuracy: 0.9485 - loss: 0.2261 - val_categorical_accuracy: 0.9855 - val_loss: 0.0478\n",
      "Epoch 71/200\n",
      "\u001b[1m31/31\u001b[0m \u001b[32m━━━━━━━━━━━━━━━━━━━━\u001b[0m\u001b[37m\u001b[0m \u001b[1m4s\u001b[0m 136ms/step - categorical_accuracy: 0.9646 - loss: 0.1048 - val_categorical_accuracy: 0.9855 - val_loss: 0.0476\n",
      "Epoch 72/200\n",
      "\u001b[1m31/31\u001b[0m \u001b[32m━━━━━━━━━━━━━━━━━━━━\u001b[0m\u001b[37m\u001b[0m \u001b[1m4s\u001b[0m 134ms/step - categorical_accuracy: 0.9824 - loss: 0.0809 - val_categorical_accuracy: 0.9855 - val_loss: 0.0363\n",
      "Epoch 73/200\n",
      "\u001b[1m31/31\u001b[0m \u001b[32m━━━━━━━━━━━━━━━━━━━━\u001b[0m\u001b[37m\u001b[0m \u001b[1m4s\u001b[0m 134ms/step - categorical_accuracy: 0.9805 - loss: 0.0855 - val_categorical_accuracy: 0.9855 - val_loss: 0.0610\n",
      "Epoch 74/200\n",
      "\u001b[1m31/31\u001b[0m \u001b[32m━━━━━━━━━━━━━━━━━━━━\u001b[0m\u001b[37m\u001b[0m \u001b[1m4s\u001b[0m 134ms/step - categorical_accuracy: 0.9692 - loss: 0.1115 - val_categorical_accuracy: 0.9855 - val_loss: 0.0474\n",
      "Epoch 75/200\n",
      "\u001b[1m31/31\u001b[0m \u001b[32m━━━━━━━━━━━━━━━━━━━━\u001b[0m\u001b[37m\u001b[0m \u001b[1m4s\u001b[0m 136ms/step - categorical_accuracy: 0.9770 - loss: 0.0887 - val_categorical_accuracy: 0.9855 - val_loss: 0.0601\n",
      "Epoch 76/200\n",
      "\u001b[1m31/31\u001b[0m \u001b[32m━━━━━━━━━━━━━━━━━━━━\u001b[0m\u001b[37m\u001b[0m \u001b[1m4s\u001b[0m 129ms/step - categorical_accuracy: 0.9772 - loss: 0.1115 - val_categorical_accuracy: 0.9855 - val_loss: 0.0546\n",
      "Epoch 77/200\n",
      "\u001b[1m31/31\u001b[0m \u001b[32m━━━━━━━━━━━━━━━━━━━━\u001b[0m\u001b[37m\u001b[0m \u001b[1m4s\u001b[0m 131ms/step - categorical_accuracy: 0.9862 - loss: 0.0780 - val_categorical_accuracy: 1.0000 - val_loss: 0.0340\n",
      "Epoch 78/200\n",
      "\u001b[1m31/31\u001b[0m \u001b[32m━━━━━━━━━━━━━━━━━━━━\u001b[0m\u001b[37m\u001b[0m \u001b[1m4s\u001b[0m 130ms/step - categorical_accuracy: 0.9835 - loss: 0.0765 - val_categorical_accuracy: 0.9710 - val_loss: 0.1366\n",
      "Epoch 79/200\n",
      "\u001b[1m31/31\u001b[0m \u001b[32m━━━━━━━━━━━━━━━━━━━━\u001b[0m\u001b[37m\u001b[0m \u001b[1m4s\u001b[0m 129ms/step - categorical_accuracy: 0.9835 - loss: 0.0832 - val_categorical_accuracy: 0.9855 - val_loss: 0.0377\n",
      "Epoch 80/200\n",
      "\u001b[1m31/31\u001b[0m \u001b[32m━━━━━━━━━━━━━━━━━━━━\u001b[0m\u001b[37m\u001b[0m \u001b[1m4s\u001b[0m 129ms/step - categorical_accuracy: 0.9789 - loss: 0.0868 - val_categorical_accuracy: 0.9710 - val_loss: 0.0414\n",
      "Epoch 81/200\n",
      "\u001b[1m31/31\u001b[0m \u001b[32m━━━━━━━━━━━━━━━━━━━━\u001b[0m\u001b[37m\u001b[0m \u001b[1m4s\u001b[0m 130ms/step - categorical_accuracy: 0.9831 - loss: 0.0804 - val_categorical_accuracy: 0.9855 - val_loss: 0.0355\n",
      "Epoch 82/200\n",
      "\u001b[1m31/31\u001b[0m \u001b[32m━━━━━━━━━━━━━━━━━━━━\u001b[0m\u001b[37m\u001b[0m \u001b[1m4s\u001b[0m 128ms/step - categorical_accuracy: 0.9855 - loss: 0.0735 - val_categorical_accuracy: 0.9855 - val_loss: 0.0336\n",
      "Epoch 83/200\n",
      "\u001b[1m31/31\u001b[0m \u001b[32m━━━━━━━━━━━━━━━━━━━━\u001b[0m\u001b[37m\u001b[0m \u001b[1m4s\u001b[0m 129ms/step - categorical_accuracy: 0.9787 - loss: 0.1022 - val_categorical_accuracy: 0.9855 - val_loss: 0.0383\n",
      "Epoch 84/200\n",
      "\u001b[1m31/31\u001b[0m \u001b[32m━━━━━━━━━━━━━━━━━━━━\u001b[0m\u001b[37m\u001b[0m \u001b[1m4s\u001b[0m 135ms/step - categorical_accuracy: 0.9845 - loss: 0.0701 - val_categorical_accuracy: 0.9855 - val_loss: 0.0491\n",
      "Epoch 85/200\n",
      "\u001b[1m31/31\u001b[0m \u001b[32m━━━━━━━━━━━━━━━━━━━━\u001b[0m\u001b[37m\u001b[0m \u001b[1m4s\u001b[0m 129ms/step - categorical_accuracy: 0.9824 - loss: 0.0745 - val_categorical_accuracy: 0.9855 - val_loss: 0.0398\n",
      "Epoch 86/200\n",
      "\u001b[1m31/31\u001b[0m \u001b[32m━━━━━━━━━━━━━━━━━━━━\u001b[0m\u001b[37m\u001b[0m \u001b[1m4s\u001b[0m 133ms/step - categorical_accuracy: 0.9862 - loss: 0.0728 - val_categorical_accuracy: 0.9710 - val_loss: 0.0428\n",
      "Epoch 87/200\n",
      "\u001b[1m31/31\u001b[0m \u001b[32m━━━━━━━━━━━━━━━━━━━━\u001b[0m\u001b[37m\u001b[0m \u001b[1m4s\u001b[0m 128ms/step - categorical_accuracy: 0.9779 - loss: 0.0902 - val_categorical_accuracy: 0.9855 - val_loss: 0.0358\n",
      "Epoch 88/200\n",
      "\u001b[1m31/31\u001b[0m \u001b[32m━━━━━━━━━━━━━━━━━━━━\u001b[0m\u001b[37m\u001b[0m \u001b[1m4s\u001b[0m 130ms/step - categorical_accuracy: 0.9911 - loss: 0.0528 - val_categorical_accuracy: 0.9855 - val_loss: 0.0591\n",
      "Epoch 89/200\n",
      "\u001b[1m31/31\u001b[0m \u001b[32m━━━━━━━━━━━━━━━━━━━━\u001b[0m\u001b[37m\u001b[0m \u001b[1m4s\u001b[0m 130ms/step - categorical_accuracy: 0.9880 - loss: 0.0607 - val_categorical_accuracy: 0.9855 - val_loss: 0.0934\n",
      "Epoch 90/200\n",
      "\u001b[1m31/31\u001b[0m \u001b[32m━━━━━━━━━━━━━━━━━━━━\u001b[0m\u001b[37m\u001b[0m \u001b[1m4s\u001b[0m 130ms/step - categorical_accuracy: 0.9908 - loss: 0.0547 - val_categorical_accuracy: 1.0000 - val_loss: 0.0312\n",
      "Epoch 91/200\n",
      "\u001b[1m31/31\u001b[0m \u001b[32m━━━━━━━━━━━━━━━━━━━━\u001b[0m\u001b[37m\u001b[0m \u001b[1m4s\u001b[0m 136ms/step - categorical_accuracy: 0.9845 - loss: 0.0753 - val_categorical_accuracy: 0.9855 - val_loss: 0.0602\n",
      "Epoch 92/200\n",
      "\u001b[1m31/31\u001b[0m \u001b[32m━━━━━━━━━━━━━━━━━━━━\u001b[0m\u001b[37m\u001b[0m \u001b[1m4s\u001b[0m 131ms/step - categorical_accuracy: 0.9806 - loss: 0.0900 - val_categorical_accuracy: 0.9855 - val_loss: 0.0413\n",
      "Epoch 93/200\n",
      "\u001b[1m31/31\u001b[0m \u001b[32m━━━━━━━━━━━━━━━━━━━━\u001b[0m\u001b[37m\u001b[0m \u001b[1m4s\u001b[0m 129ms/step - categorical_accuracy: 0.9787 - loss: 0.0828 - val_categorical_accuracy: 0.9855 - val_loss: 0.0398\n",
      "Epoch 94/200\n",
      "\u001b[1m31/31\u001b[0m \u001b[32m━━━━━━━━━━━━━━━━━━━━\u001b[0m\u001b[37m\u001b[0m \u001b[1m4s\u001b[0m 128ms/step - categorical_accuracy: 0.9860 - loss: 0.0642 - val_categorical_accuracy: 0.9855 - val_loss: 0.1202\n",
      "Epoch 95/200\n",
      "\u001b[1m31/31\u001b[0m \u001b[32m━━━━━━━━━━━━━━━━━━━━\u001b[0m\u001b[37m\u001b[0m \u001b[1m4s\u001b[0m 130ms/step - categorical_accuracy: 0.9869 - loss: 0.0630 - val_categorical_accuracy: 0.9565 - val_loss: 0.1416\n",
      "Epoch 96/200\n",
      "\u001b[1m31/31\u001b[0m \u001b[32m━━━━━━━━━━━━━━━━━━━━\u001b[0m\u001b[37m\u001b[0m \u001b[1m4s\u001b[0m 127ms/step - categorical_accuracy: 0.9316 - loss: 0.2533 - val_categorical_accuracy: 0.7246 - val_loss: 0.4595\n",
      "Epoch 97/200\n",
      "\u001b[1m31/31\u001b[0m \u001b[32m━━━━━━━━━━━━━━━━━━━━\u001b[0m\u001b[37m\u001b[0m \u001b[1m4s\u001b[0m 129ms/step - categorical_accuracy: 0.8853 - loss: 0.3069 - val_categorical_accuracy: 1.0000 - val_loss: 0.0955\n",
      "Epoch 98/200\n",
      "\u001b[1m31/31\u001b[0m \u001b[32m━━━━━━━━━━━━━━━━━━━━\u001b[0m\u001b[37m\u001b[0m \u001b[1m4s\u001b[0m 128ms/step - categorical_accuracy: 0.9882 - loss: 0.0980 - val_categorical_accuracy: 0.9855 - val_loss: 0.0650\n",
      "Epoch 99/200\n",
      "\u001b[1m31/31\u001b[0m \u001b[32m━━━━━━━━━━━━━━━━━━━━\u001b[0m\u001b[37m\u001b[0m \u001b[1m4s\u001b[0m 130ms/step - categorical_accuracy: 0.9830 - loss: 0.0939 - val_categorical_accuracy: 0.9710 - val_loss: 0.0607\n",
      "Epoch 100/200\n",
      "\u001b[1m31/31\u001b[0m \u001b[32m━━━━━━━━━━━━━━━━━━━━\u001b[0m\u001b[37m\u001b[0m \u001b[1m4s\u001b[0m 130ms/step - categorical_accuracy: 0.9798 - loss: 0.0936 - val_categorical_accuracy: 0.9710 - val_loss: 0.0444\n",
      "Epoch 101/200\n",
      "\u001b[1m31/31\u001b[0m \u001b[32m━━━━━━━━━━━━━━━━━━━━\u001b[0m\u001b[37m\u001b[0m \u001b[1m4s\u001b[0m 131ms/step - categorical_accuracy: 0.9878 - loss: 0.0582 - val_categorical_accuracy: 0.9710 - val_loss: 0.0462\n",
      "Epoch 102/200\n",
      "\u001b[1m31/31\u001b[0m \u001b[32m━━━━━━━━━━━━━━━━━━━━\u001b[0m\u001b[37m\u001b[0m \u001b[1m4s\u001b[0m 129ms/step - categorical_accuracy: 0.9768 - loss: 0.1014 - val_categorical_accuracy: 0.9855 - val_loss: 0.0517\n",
      "Epoch 103/200\n",
      "\u001b[1m31/31\u001b[0m \u001b[32m━━━━━━━━━━━━━━━━━━━━\u001b[0m\u001b[37m\u001b[0m \u001b[1m4s\u001b[0m 129ms/step - categorical_accuracy: 0.9838 - loss: 0.0790 - val_categorical_accuracy: 0.9855 - val_loss: 0.0570\n",
      "Epoch 104/200\n",
      "\u001b[1m31/31\u001b[0m \u001b[32m━━━━━━━━━━━━━━━━━━━━\u001b[0m\u001b[37m\u001b[0m \u001b[1m4s\u001b[0m 128ms/step - categorical_accuracy: 0.9748 - loss: 0.1075 - val_categorical_accuracy: 0.9855 - val_loss: 0.0346\n",
      "Epoch 105/200\n",
      "\u001b[1m31/31\u001b[0m \u001b[32m━━━━━━━━━━━━━━━━━━━━\u001b[0m\u001b[37m\u001b[0m \u001b[1m4s\u001b[0m 130ms/step - categorical_accuracy: 0.9799 - loss: 0.0926 - val_categorical_accuracy: 0.9855 - val_loss: 0.0665\n",
      "Epoch 106/200\n",
      "\u001b[1m31/31\u001b[0m \u001b[32m━━━━━━━━━━━━━━━━━━━━\u001b[0m\u001b[37m\u001b[0m \u001b[1m4s\u001b[0m 129ms/step - categorical_accuracy: 0.9891 - loss: 0.0546 - val_categorical_accuracy: 0.9855 - val_loss: 0.0238\n",
      "Epoch 107/200\n",
      "\u001b[1m31/31\u001b[0m \u001b[32m━━━━━━━━━━━━━━━━━━━━\u001b[0m\u001b[37m\u001b[0m \u001b[1m4s\u001b[0m 133ms/step - categorical_accuracy: 0.9761 - loss: 0.1002 - val_categorical_accuracy: 0.9855 - val_loss: 0.0258\n",
      "Epoch 108/200\n",
      "\u001b[1m31/31\u001b[0m \u001b[32m━━━━━━━━━━━━━━━━━━━━\u001b[0m\u001b[37m\u001b[0m \u001b[1m4s\u001b[0m 133ms/step - categorical_accuracy: 0.9825 - loss: 0.0757 - val_categorical_accuracy: 0.9855 - val_loss: 0.0375\n",
      "Epoch 109/200\n",
      "\u001b[1m31/31\u001b[0m \u001b[32m━━━━━━━━━━━━━━━━━━━━\u001b[0m\u001b[37m\u001b[0m \u001b[1m4s\u001b[0m 131ms/step - categorical_accuracy: 0.9890 - loss: 0.0588 - val_categorical_accuracy: 0.9855 - val_loss: 0.0319\n",
      "Epoch 110/200\n",
      "\u001b[1m31/31\u001b[0m \u001b[32m━━━━━━━━━━━━━━━━━━━━\u001b[0m\u001b[37m\u001b[0m \u001b[1m4s\u001b[0m 130ms/step - categorical_accuracy: 0.9919 - loss: 0.0469 - val_categorical_accuracy: 0.9855 - val_loss: 0.0270\n",
      "Epoch 111/200\n",
      "\u001b[1m31/31\u001b[0m \u001b[32m━━━━━━━━━━━━━━━━━━━━\u001b[0m\u001b[37m\u001b[0m \u001b[1m4s\u001b[0m 130ms/step - categorical_accuracy: 0.9885 - loss: 0.0582 - val_categorical_accuracy: 0.9855 - val_loss: 0.0314\n",
      "Epoch 112/200\n",
      "\u001b[1m31/31\u001b[0m \u001b[32m━━━━━━━━━━━━━━━━━━━━\u001b[0m\u001b[37m\u001b[0m \u001b[1m4s\u001b[0m 131ms/step - categorical_accuracy: 0.9773 - loss: 0.0983 - val_categorical_accuracy: 0.9855 - val_loss: 0.0495\n",
      "Epoch 113/200\n",
      "\u001b[1m31/31\u001b[0m \u001b[32m━━━━━━━━━━━━━━━━━━━━\u001b[0m\u001b[37m\u001b[0m \u001b[1m4s\u001b[0m 135ms/step - categorical_accuracy: 0.9872 - loss: 0.0610 - val_categorical_accuracy: 0.9855 - val_loss: 0.0376\n",
      "Epoch 114/200\n",
      "\u001b[1m31/31\u001b[0m \u001b[32m━━━━━━━━━━━━━━━━━━━━\u001b[0m\u001b[37m\u001b[0m \u001b[1m4s\u001b[0m 131ms/step - categorical_accuracy: 0.9796 - loss: 0.0832 - val_categorical_accuracy: 0.9855 - val_loss: 0.0380\n",
      "Epoch 115/200\n",
      "\u001b[1m31/31\u001b[0m \u001b[32m━━━━━━━━━━━━━━━━━━━━\u001b[0m\u001b[37m\u001b[0m \u001b[1m4s\u001b[0m 129ms/step - categorical_accuracy: 0.9839 - loss: 0.0756 - val_categorical_accuracy: 0.9855 - val_loss: 0.0542\n",
      "Epoch 116/200\n",
      "\u001b[1m31/31\u001b[0m \u001b[32m━━━━━━━━━━━━━━━━━━━━\u001b[0m\u001b[37m\u001b[0m \u001b[1m4s\u001b[0m 130ms/step - categorical_accuracy: 0.9885 - loss: 0.0558 - val_categorical_accuracy: 0.9855 - val_loss: 0.0397\n",
      "Epoch 117/200\n",
      "\u001b[1m31/31\u001b[0m \u001b[32m━━━━━━━━━━━━━━━━━━━━\u001b[0m\u001b[37m\u001b[0m \u001b[1m4s\u001b[0m 130ms/step - categorical_accuracy: 0.9857 - loss: 0.0629 - val_categorical_accuracy: 0.9855 - val_loss: 0.0319\n",
      "Epoch 118/200\n",
      "\u001b[1m31/31\u001b[0m \u001b[32m━━━━━━━━━━━━━━━━━━━━\u001b[0m\u001b[37m\u001b[0m \u001b[1m4s\u001b[0m 129ms/step - categorical_accuracy: 0.9843 - loss: 0.0695 - val_categorical_accuracy: 0.9855 - val_loss: 0.0403\n",
      "Epoch 119/200\n",
      "\u001b[1m31/31\u001b[0m \u001b[32m━━━━━━━━━━━━━━━━━━━━\u001b[0m\u001b[37m\u001b[0m \u001b[1m4s\u001b[0m 130ms/step - categorical_accuracy: 0.9857 - loss: 0.0646 - val_categorical_accuracy: 0.9855 - val_loss: 0.0419\n",
      "Epoch 120/200\n",
      "\u001b[1m31/31\u001b[0m \u001b[32m━━━━━━━━━━━━━━━━━━━━\u001b[0m\u001b[37m\u001b[0m \u001b[1m4s\u001b[0m 130ms/step - categorical_accuracy: 0.9761 - loss: 0.0902 - val_categorical_accuracy: 0.9710 - val_loss: 0.1737\n",
      "Epoch 121/200\n",
      "\u001b[1m31/31\u001b[0m \u001b[32m━━━━━━━━━━━━━━━━━━━━\u001b[0m\u001b[37m\u001b[0m \u001b[1m4s\u001b[0m 130ms/step - categorical_accuracy: 0.9814 - loss: 0.0909 - val_categorical_accuracy: 0.9855 - val_loss: 0.0311\n",
      "Epoch 122/200\n",
      "\u001b[1m31/31\u001b[0m \u001b[32m━━━━━━━━━━━━━━━━━━━━\u001b[0m\u001b[37m\u001b[0m \u001b[1m4s\u001b[0m 130ms/step - categorical_accuracy: 0.9860 - loss: 0.0634 - val_categorical_accuracy: 0.9855 - val_loss: 0.0860\n",
      "Epoch 123/200\n",
      "\u001b[1m31/31\u001b[0m \u001b[32m━━━━━━━━━━━━━━━━━━━━\u001b[0m\u001b[37m\u001b[0m \u001b[1m4s\u001b[0m 128ms/step - categorical_accuracy: 0.9861 - loss: 0.0593 - val_categorical_accuracy: 0.9855 - val_loss: 0.0622\n",
      "Epoch 124/200\n",
      "\u001b[1m31/31\u001b[0m \u001b[32m━━━━━━━━━━━━━━━━━━━━\u001b[0m\u001b[37m\u001b[0m \u001b[1m4s\u001b[0m 129ms/step - categorical_accuracy: 0.9840 - loss: 0.0689 - val_categorical_accuracy: 0.9855 - val_loss: 0.0431\n",
      "Epoch 125/200\n",
      "\u001b[1m31/31\u001b[0m \u001b[32m━━━━━━━━━━━━━━━━━━━━\u001b[0m\u001b[37m\u001b[0m \u001b[1m4s\u001b[0m 132ms/step - categorical_accuracy: 0.9916 - loss: 0.0409 - val_categorical_accuracy: 0.9855 - val_loss: 0.0328\n",
      "Epoch 126/200\n",
      "\u001b[1m31/31\u001b[0m \u001b[32m━━━━━━━━━━━━━━━━━━━━\u001b[0m\u001b[37m\u001b[0m \u001b[1m4s\u001b[0m 142ms/step - categorical_accuracy: 0.9893 - loss: 0.0464 - val_categorical_accuracy: 0.9855 - val_loss: 0.0332\n",
      "Epoch 127/200\n",
      "\u001b[1m31/31\u001b[0m \u001b[32m━━━━━━━━━━━━━━━━━━━━\u001b[0m\u001b[37m\u001b[0m \u001b[1m4s\u001b[0m 135ms/step - categorical_accuracy: 0.9920 - loss: 0.0418 - val_categorical_accuracy: 1.0000 - val_loss: 0.0173\n",
      "Epoch 128/200\n",
      "\u001b[1m31/31\u001b[0m \u001b[32m━━━━━━━━━━━━━━━━━━━━\u001b[0m\u001b[37m\u001b[0m \u001b[1m4s\u001b[0m 130ms/step - categorical_accuracy: 0.9927 - loss: 0.0397 - val_categorical_accuracy: 0.9855 - val_loss: 0.0184\n",
      "Epoch 129/200\n",
      "\u001b[1m31/31\u001b[0m \u001b[32m━━━━━━━━━━━━━━━━━━━━\u001b[0m\u001b[37m\u001b[0m \u001b[1m4s\u001b[0m 140ms/step - categorical_accuracy: 0.9893 - loss: 0.0536 - val_categorical_accuracy: 1.0000 - val_loss: 0.0149\n",
      "Epoch 130/200\n",
      "\u001b[1m31/31\u001b[0m \u001b[32m━━━━━━━━━━━━━━━━━━━━\u001b[0m\u001b[37m\u001b[0m \u001b[1m4s\u001b[0m 144ms/step - categorical_accuracy: 0.9912 - loss: 0.0426 - val_categorical_accuracy: 1.0000 - val_loss: 0.0128\n",
      "Epoch 131/200\n",
      "\u001b[1m31/31\u001b[0m \u001b[32m━━━━━━━━━━━━━━━━━━━━\u001b[0m\u001b[37m\u001b[0m \u001b[1m4s\u001b[0m 138ms/step - categorical_accuracy: 0.9837 - loss: 0.0580 - val_categorical_accuracy: 1.0000 - val_loss: 0.0247\n",
      "Epoch 132/200\n",
      "\u001b[1m31/31\u001b[0m \u001b[32m━━━━━━━━━━━━━━━━━━━━\u001b[0m\u001b[37m\u001b[0m \u001b[1m4s\u001b[0m 133ms/step - categorical_accuracy: 0.9745 - loss: 0.0734 - val_categorical_accuracy: 0.9710 - val_loss: 0.1079\n",
      "Epoch 133/200\n",
      "\u001b[1m31/31\u001b[0m \u001b[32m━━━━━━━━━━━━━━━━━━━━\u001b[0m\u001b[37m\u001b[0m \u001b[1m4s\u001b[0m 132ms/step - categorical_accuracy: 0.9817 - loss: 0.0620 - val_categorical_accuracy: 1.0000 - val_loss: 0.0134\n",
      "Epoch 134/200\n",
      "\u001b[1m31/31\u001b[0m \u001b[32m━━━━━━━━━━━━━━━━━━━━\u001b[0m\u001b[37m\u001b[0m \u001b[1m4s\u001b[0m 134ms/step - categorical_accuracy: 0.9832 - loss: 0.0612 - val_categorical_accuracy: 0.9855 - val_loss: 0.0390\n",
      "Epoch 135/200\n",
      "\u001b[1m31/31\u001b[0m \u001b[32m━━━━━━━━━━━━━━━━━━━━\u001b[0m\u001b[37m\u001b[0m \u001b[1m4s\u001b[0m 136ms/step - categorical_accuracy: 0.9852 - loss: 0.0512 - val_categorical_accuracy: 0.9855 - val_loss: 0.0281\n",
      "Epoch 136/200\n",
      "\u001b[1m31/31\u001b[0m \u001b[32m━━━━━━━━━━━━━━━━━━━━\u001b[0m\u001b[37m\u001b[0m \u001b[1m5s\u001b[0m 145ms/step - categorical_accuracy: 0.9868 - loss: 0.0472 - val_categorical_accuracy: 0.9855 - val_loss: 0.0515\n",
      "Epoch 137/200\n",
      "\u001b[1m31/31\u001b[0m \u001b[32m━━━━━━━━━━━━━━━━━━━━\u001b[0m\u001b[37m\u001b[0m \u001b[1m4s\u001b[0m 140ms/step - categorical_accuracy: 0.9885 - loss: 0.0444 - val_categorical_accuracy: 1.0000 - val_loss: 0.0181\n",
      "Epoch 138/200\n",
      "\u001b[1m31/31\u001b[0m \u001b[32m━━━━━━━━━━━━━━━━━━━━\u001b[0m\u001b[37m\u001b[0m \u001b[1m4s\u001b[0m 138ms/step - categorical_accuracy: 0.9865 - loss: 0.0589 - val_categorical_accuracy: 0.9855 - val_loss: 0.0310\n",
      "Epoch 139/200\n",
      "\u001b[1m31/31\u001b[0m \u001b[32m━━━━━━━━━━━━━━━━━━━━\u001b[0m\u001b[37m\u001b[0m \u001b[1m4s\u001b[0m 139ms/step - categorical_accuracy: 0.9922 - loss: 0.0376 - val_categorical_accuracy: 1.0000 - val_loss: 0.0166\n",
      "Epoch 140/200\n",
      "\u001b[1m31/31\u001b[0m \u001b[32m━━━━━━━━━━━━━━━━━━━━\u001b[0m\u001b[37m\u001b[0m \u001b[1m4s\u001b[0m 141ms/step - categorical_accuracy: 0.9832 - loss: 0.0599 - val_categorical_accuracy: 0.9855 - val_loss: 0.0213\n",
      "Epoch 141/200\n",
      "\u001b[1m31/31\u001b[0m \u001b[32m━━━━━━━━━━━━━━━━━━━━\u001b[0m\u001b[37m\u001b[0m \u001b[1m4s\u001b[0m 140ms/step - categorical_accuracy: 0.9930 - loss: 0.0306 - val_categorical_accuracy: 0.9855 - val_loss: 0.0403\n",
      "Epoch 142/200\n",
      "\u001b[1m31/31\u001b[0m \u001b[32m━━━━━━━━━━━━━━━━━━━━\u001b[0m\u001b[37m\u001b[0m \u001b[1m4s\u001b[0m 138ms/step - categorical_accuracy: 0.9923 - loss: 0.0320 - val_categorical_accuracy: 1.0000 - val_loss: 0.0141\n",
      "Epoch 143/200\n",
      "\u001b[1m31/31\u001b[0m \u001b[32m━━━━━━━━━━━━━━━━━━━━\u001b[0m\u001b[37m\u001b[0m \u001b[1m4s\u001b[0m 130ms/step - categorical_accuracy: 0.9864 - loss: 0.0472 - val_categorical_accuracy: 1.0000 - val_loss: 0.0111\n",
      "Epoch 144/200\n",
      "\u001b[1m31/31\u001b[0m \u001b[32m━━━━━━━━━━━━━━━━━━━━\u001b[0m\u001b[37m\u001b[0m \u001b[1m4s\u001b[0m 130ms/step - categorical_accuracy: 0.9812 - loss: 0.0719 - val_categorical_accuracy: 1.0000 - val_loss: 0.0145\n",
      "Epoch 145/200\n",
      "\u001b[1m31/31\u001b[0m \u001b[32m━━━━━━━━━━━━━━━━━━━━\u001b[0m\u001b[37m\u001b[0m \u001b[1m4s\u001b[0m 141ms/step - categorical_accuracy: 0.9869 - loss: 0.0457 - val_categorical_accuracy: 0.9855 - val_loss: 0.0258\n",
      "Epoch 146/200\n",
      "\u001b[1m31/31\u001b[0m \u001b[32m━━━━━━━━━━━━━━━━━━━━\u001b[0m\u001b[37m\u001b[0m \u001b[1m4s\u001b[0m 130ms/step - categorical_accuracy: 0.9768 - loss: 0.0902 - val_categorical_accuracy: 1.0000 - val_loss: 0.0565\n",
      "Epoch 147/200\n",
      "\u001b[1m31/31\u001b[0m \u001b[32m━━━━━━━━━━━━━━━━━━━━\u001b[0m\u001b[37m\u001b[0m \u001b[1m4s\u001b[0m 130ms/step - categorical_accuracy: 0.9573 - loss: 0.1636 - val_categorical_accuracy: 0.9565 - val_loss: 0.0879\n",
      "Epoch 148/200\n",
      "\u001b[1m31/31\u001b[0m \u001b[32m━━━━━━━━━━━━━━━━━━━━\u001b[0m\u001b[37m\u001b[0m \u001b[1m4s\u001b[0m 131ms/step - categorical_accuracy: 0.9758 - loss: 0.1037 - val_categorical_accuracy: 0.9420 - val_loss: 0.2081\n",
      "Epoch 149/200\n",
      "\u001b[1m31/31\u001b[0m \u001b[32m━━━━━━━━━━━━━━━━━━━━\u001b[0m\u001b[37m\u001b[0m \u001b[1m4s\u001b[0m 136ms/step - categorical_accuracy: 0.9506 - loss: 0.1426 - val_categorical_accuracy: 0.9855 - val_loss: 0.1167\n",
      "Epoch 150/200\n",
      "\u001b[1m31/31\u001b[0m \u001b[32m━━━━━━━━━━━━━━━━━━━━\u001b[0m\u001b[37m\u001b[0m \u001b[1m4s\u001b[0m 135ms/step - categorical_accuracy: 0.9802 - loss: 0.0603 - val_categorical_accuracy: 0.9855 - val_loss: 0.0520\n",
      "Epoch 151/200\n",
      "\u001b[1m31/31\u001b[0m \u001b[32m━━━━━━━━━━━━━━━━━━━━\u001b[0m\u001b[37m\u001b[0m \u001b[1m4s\u001b[0m 135ms/step - categorical_accuracy: 0.9734 - loss: 0.0699 - val_categorical_accuracy: 0.9855 - val_loss: 0.0753\n",
      "Epoch 152/200\n",
      "\u001b[1m31/31\u001b[0m \u001b[32m━━━━━━━━━━━━━━━━━━━━\u001b[0m\u001b[37m\u001b[0m \u001b[1m4s\u001b[0m 129ms/step - categorical_accuracy: 0.9855 - loss: 0.0450 - val_categorical_accuracy: 0.9855 - val_loss: 0.1335\n",
      "Epoch 153/200\n",
      "\u001b[1m31/31\u001b[0m \u001b[32m━━━━━━━━━━━━━━━━━━━━\u001b[0m\u001b[37m\u001b[0m \u001b[1m4s\u001b[0m 133ms/step - categorical_accuracy: 0.9740 - loss: 0.0699 - val_categorical_accuracy: 0.9855 - val_loss: 0.1055\n",
      "Epoch 154/200\n",
      "\u001b[1m31/31\u001b[0m \u001b[32m━━━━━━━━━━━━━━━━━━━━\u001b[0m\u001b[37m\u001b[0m \u001b[1m4s\u001b[0m 132ms/step - categorical_accuracy: 0.9796 - loss: 0.0502 - val_categorical_accuracy: 0.9855 - val_loss: 0.0492\n",
      "Epoch 155/200\n",
      "\u001b[1m31/31\u001b[0m \u001b[32m━━━━━━━━━━━━━━━━━━━━\u001b[0m\u001b[37m\u001b[0m \u001b[1m4s\u001b[0m 132ms/step - categorical_accuracy: 0.9853 - loss: 0.0410 - val_categorical_accuracy: 0.9855 - val_loss: 0.0600\n",
      "Epoch 156/200\n",
      "\u001b[1m31/31\u001b[0m \u001b[32m━━━━━━━━━━━━━━━━━━━━\u001b[0m\u001b[37m\u001b[0m \u001b[1m4s\u001b[0m 133ms/step - categorical_accuracy: 0.9839 - loss: 0.0592 - val_categorical_accuracy: 0.9855 - val_loss: 0.0373\n",
      "Epoch 157/200\n",
      "\u001b[1m31/31\u001b[0m \u001b[32m━━━━━━━━━━━━━━━━━━━━\u001b[0m\u001b[37m\u001b[0m \u001b[1m4s\u001b[0m 130ms/step - categorical_accuracy: 0.9898 - loss: 0.0276 - val_categorical_accuracy: 1.0000 - val_loss: 0.0169\n",
      "Epoch 158/200\n",
      "\u001b[1m31/31\u001b[0m \u001b[32m━━━━━━━━━━━━━━━━━━━━\u001b[0m\u001b[37m\u001b[0m \u001b[1m4s\u001b[0m 133ms/step - categorical_accuracy: 0.9769 - loss: 0.0581 - val_categorical_accuracy: 0.9855 - val_loss: 0.0983\n",
      "Epoch 159/200\n",
      "\u001b[1m31/31\u001b[0m \u001b[32m━━━━━━━━━━━━━━━━━━━━\u001b[0m\u001b[37m\u001b[0m \u001b[1m4s\u001b[0m 131ms/step - categorical_accuracy: 0.9910 - loss: 0.0293 - val_categorical_accuracy: 0.9855 - val_loss: 0.1166\n",
      "Epoch 160/200\n",
      "\u001b[1m31/31\u001b[0m \u001b[32m━━━━━━━━━━━━━━━━━━━━\u001b[0m\u001b[37m\u001b[0m \u001b[1m4s\u001b[0m 133ms/step - categorical_accuracy: 0.9888 - loss: 0.0431 - val_categorical_accuracy: 0.9855 - val_loss: 0.1078\n",
      "Epoch 161/200\n",
      "\u001b[1m31/31\u001b[0m \u001b[32m━━━━━━━━━━━━━━━━━━━━\u001b[0m\u001b[37m\u001b[0m \u001b[1m4s\u001b[0m 130ms/step - categorical_accuracy: 0.9875 - loss: 0.0452 - val_categorical_accuracy: 0.9855 - val_loss: 0.0330\n",
      "Epoch 162/200\n",
      "\u001b[1m31/31\u001b[0m \u001b[32m━━━━━━━━━━━━━━━━━━━━\u001b[0m\u001b[37m\u001b[0m \u001b[1m4s\u001b[0m 132ms/step - categorical_accuracy: 0.9876 - loss: 0.0414 - val_categorical_accuracy: 0.9855 - val_loss: 0.0250\n",
      "Epoch 163/200\n",
      "\u001b[1m31/31\u001b[0m \u001b[32m━━━━━━━━━━━━━━━━━━━━\u001b[0m\u001b[37m\u001b[0m \u001b[1m4s\u001b[0m 133ms/step - categorical_accuracy: 0.9901 - loss: 0.0296 - val_categorical_accuracy: 0.9855 - val_loss: 0.0791\n",
      "Epoch 164/200\n",
      "\u001b[1m31/31\u001b[0m \u001b[32m━━━━━━━━━━━━━━━━━━━━\u001b[0m\u001b[37m\u001b[0m \u001b[1m4s\u001b[0m 133ms/step - categorical_accuracy: 0.9897 - loss: 0.0316 - val_categorical_accuracy: 0.9855 - val_loss: 0.0712\n",
      "Epoch 165/200\n",
      "\u001b[1m31/31\u001b[0m \u001b[32m━━━━━━━━━━━━━━━━━━━━\u001b[0m\u001b[37m\u001b[0m \u001b[1m4s\u001b[0m 132ms/step - categorical_accuracy: 0.9842 - loss: 0.0367 - val_categorical_accuracy: 0.9855 - val_loss: 0.0645\n",
      "Epoch 166/200\n",
      "\u001b[1m31/31\u001b[0m \u001b[32m━━━━━━━━━━━━━━━━━━━━\u001b[0m\u001b[37m\u001b[0m \u001b[1m4s\u001b[0m 128ms/step - categorical_accuracy: 0.9897 - loss: 0.0249 - val_categorical_accuracy: 0.9855 - val_loss: 0.0937\n",
      "Epoch 167/200\n",
      "\u001b[1m31/31\u001b[0m \u001b[32m━━━━━━━━━━━━━━━━━━━━\u001b[0m\u001b[37m\u001b[0m \u001b[1m4s\u001b[0m 129ms/step - categorical_accuracy: 0.9958 - loss: 0.0143 - val_categorical_accuracy: 0.9855 - val_loss: 0.0976\n",
      "Epoch 168/200\n",
      "\u001b[1m31/31\u001b[0m \u001b[32m━━━━━━━━━━━━━━━━━━━━\u001b[0m\u001b[37m\u001b[0m \u001b[1m4s\u001b[0m 129ms/step - categorical_accuracy: 0.9872 - loss: 0.0274 - val_categorical_accuracy: 0.9855 - val_loss: 0.0597\n",
      "Epoch 169/200\n",
      "\u001b[1m31/31\u001b[0m \u001b[32m━━━━━━━━━━━━━━━━━━━━\u001b[0m\u001b[37m\u001b[0m \u001b[1m4s\u001b[0m 129ms/step - categorical_accuracy: 0.9920 - loss: 0.0183 - val_categorical_accuracy: 0.9710 - val_loss: 0.0535\n",
      "Epoch 170/200\n",
      "\u001b[1m31/31\u001b[0m \u001b[32m━━━━━━━━━━━━━━━━━━━━\u001b[0m\u001b[37m\u001b[0m \u001b[1m4s\u001b[0m 131ms/step - categorical_accuracy: 0.9040 - loss: 0.3094 - val_categorical_accuracy: 1.0000 - val_loss: 0.1374\n",
      "Epoch 171/200\n",
      "\u001b[1m31/31\u001b[0m \u001b[32m━━━━━━━━━━━━━━━━━━━━\u001b[0m\u001b[37m\u001b[0m \u001b[1m4s\u001b[0m 130ms/step - categorical_accuracy: 0.9752 - loss: 0.1400 - val_categorical_accuracy: 1.0000 - val_loss: 0.0625\n",
      "Epoch 172/200\n",
      "\u001b[1m31/31\u001b[0m \u001b[32m━━━━━━━━━━━━━━━━━━━━\u001b[0m\u001b[37m\u001b[0m \u001b[1m4s\u001b[0m 128ms/step - categorical_accuracy: 0.9857 - loss: 0.0597 - val_categorical_accuracy: 0.9855 - val_loss: 0.0834\n",
      "Epoch 173/200\n",
      "\u001b[1m31/31\u001b[0m \u001b[32m━━━━━━━━━━━━━━━━━━━━\u001b[0m\u001b[37m\u001b[0m \u001b[1m4s\u001b[0m 129ms/step - categorical_accuracy: 0.9846 - loss: 0.0504 - val_categorical_accuracy: 0.9855 - val_loss: 0.0611\n",
      "Epoch 174/200\n",
      "\u001b[1m31/31\u001b[0m \u001b[32m━━━━━━━━━━━━━━━━━━━━\u001b[0m\u001b[37m\u001b[0m \u001b[1m4s\u001b[0m 130ms/step - categorical_accuracy: 0.9800 - loss: 0.0502 - val_categorical_accuracy: 0.9855 - val_loss: 0.0582\n",
      "Epoch 175/200\n",
      "\u001b[1m31/31\u001b[0m \u001b[32m━━━━━━━━━━━━━━━━━━━━\u001b[0m\u001b[37m\u001b[0m \u001b[1m4s\u001b[0m 128ms/step - categorical_accuracy: 0.9846 - loss: 0.0384 - val_categorical_accuracy: 0.9855 - val_loss: 0.0487\n",
      "Epoch 176/200\n",
      "\u001b[1m31/31\u001b[0m \u001b[32m━━━━━━━━━━━━━━━━━━━━\u001b[0m\u001b[37m\u001b[0m \u001b[1m4s\u001b[0m 129ms/step - categorical_accuracy: 0.9942 - loss: 0.0211 - val_categorical_accuracy: 1.0000 - val_loss: 0.0240\n",
      "Epoch 177/200\n",
      "\u001b[1m31/31\u001b[0m \u001b[32m━━━━━━━━━━━━━━━━━━━━\u001b[0m\u001b[37m\u001b[0m \u001b[1m4s\u001b[0m 128ms/step - categorical_accuracy: 0.9920 - loss: 0.0212 - val_categorical_accuracy: 0.9855 - val_loss: 0.0603\n",
      "Epoch 178/200\n",
      "\u001b[1m31/31\u001b[0m \u001b[32m━━━━━━━━━━━━━━━━━━━━\u001b[0m\u001b[37m\u001b[0m \u001b[1m4s\u001b[0m 129ms/step - categorical_accuracy: 0.9939 - loss: 0.0195 - val_categorical_accuracy: 0.9855 - val_loss: 0.0485\n",
      "Epoch 179/200\n",
      "\u001b[1m31/31\u001b[0m \u001b[32m━━━━━━━━━━━━━━━━━━━━\u001b[0m\u001b[37m\u001b[0m \u001b[1m4s\u001b[0m 129ms/step - categorical_accuracy: 0.9943 - loss: 0.0159 - val_categorical_accuracy: 0.9855 - val_loss: 0.0443\n",
      "Epoch 180/200\n",
      "\u001b[1m31/31\u001b[0m \u001b[32m━━━━━━━━━━━━━━━━━━━━\u001b[0m\u001b[37m\u001b[0m \u001b[1m4s\u001b[0m 132ms/step - categorical_accuracy: 0.9907 - loss: 0.0221 - val_categorical_accuracy: 0.9855 - val_loss: 0.0304\n",
      "Epoch 181/200\n",
      "\u001b[1m31/31\u001b[0m \u001b[32m━━━━━━━━━━━━━━━━━━━━\u001b[0m\u001b[37m\u001b[0m \u001b[1m4s\u001b[0m 128ms/step - categorical_accuracy: 0.9926 - loss: 0.0144 - val_categorical_accuracy: 0.9855 - val_loss: 0.0597\n",
      "Epoch 182/200\n",
      "\u001b[1m31/31\u001b[0m \u001b[32m━━━━━━━━━━━━━━━━━━━━\u001b[0m\u001b[37m\u001b[0m \u001b[1m4s\u001b[0m 130ms/step - categorical_accuracy: 0.9928 - loss: 0.0150 - val_categorical_accuracy: 1.0000 - val_loss: 0.0083\n",
      "Epoch 183/200\n",
      "\u001b[1m31/31\u001b[0m \u001b[32m━━━━━━━━━━━━━━━━━━━━\u001b[0m\u001b[37m\u001b[0m \u001b[1m4s\u001b[0m 129ms/step - categorical_accuracy: 0.9955 - loss: 0.0106 - val_categorical_accuracy: 1.0000 - val_loss: 0.0058\n",
      "Epoch 184/200\n",
      "\u001b[1m31/31\u001b[0m \u001b[32m━━━━━━━━━━━━━━━━━━━━\u001b[0m\u001b[37m\u001b[0m \u001b[1m4s\u001b[0m 130ms/step - categorical_accuracy: 0.9911 - loss: 0.0177 - val_categorical_accuracy: 1.0000 - val_loss: 0.0097\n",
      "Epoch 185/200\n",
      "\u001b[1m31/31\u001b[0m \u001b[32m━━━━━━━━━━━━━━━━━━━━\u001b[0m\u001b[37m\u001b[0m \u001b[1m4s\u001b[0m 129ms/step - categorical_accuracy: 0.9833 - loss: 0.0332 - val_categorical_accuracy: 1.0000 - val_loss: 0.0027\n",
      "Epoch 186/200\n",
      "\u001b[1m31/31\u001b[0m \u001b[32m━━━━━━━━━━━━━━━━━━━━\u001b[0m\u001b[37m\u001b[0m \u001b[1m4s\u001b[0m 130ms/step - categorical_accuracy: 0.9875 - loss: 0.0226 - val_categorical_accuracy: 0.9855 - val_loss: 0.1125\n",
      "Epoch 187/200\n",
      "\u001b[1m31/31\u001b[0m \u001b[32m━━━━━━━━━━━━━━━━━━━━\u001b[0m\u001b[37m\u001b[0m \u001b[1m4s\u001b[0m 128ms/step - categorical_accuracy: 0.9803 - loss: 0.0416 - val_categorical_accuracy: 1.0000 - val_loss: 0.0165\n",
      "Epoch 188/200\n",
      "\u001b[1m31/31\u001b[0m \u001b[32m━━━━━━━━━━━━━━━━━━━━\u001b[0m\u001b[37m\u001b[0m \u001b[1m4s\u001b[0m 128ms/step - categorical_accuracy: 0.9881 - loss: 0.0333 - val_categorical_accuracy: 0.9855 - val_loss: 0.0383\n",
      "Epoch 189/200\n",
      "\u001b[1m31/31\u001b[0m \u001b[32m━━━━━━━━━━━━━━━━━━━━\u001b[0m\u001b[37m\u001b[0m \u001b[1m4s\u001b[0m 128ms/step - categorical_accuracy: 0.9918 - loss: 0.0326 - val_categorical_accuracy: 0.9855 - val_loss: 0.0652\n",
      "Epoch 190/200\n",
      "\u001b[1m31/31\u001b[0m \u001b[32m━━━━━━━━━━━━━━━━━━━━\u001b[0m\u001b[37m\u001b[0m \u001b[1m4s\u001b[0m 128ms/step - categorical_accuracy: 0.9916 - loss: 0.0164 - val_categorical_accuracy: 0.9855 - val_loss: 0.0502\n",
      "Epoch 191/200\n",
      "\u001b[1m31/31\u001b[0m \u001b[32m━━━━━━━━━━━━━━━━━━━━\u001b[0m\u001b[37m\u001b[0m \u001b[1m4s\u001b[0m 130ms/step - categorical_accuracy: 0.9963 - loss: 0.0073 - val_categorical_accuracy: 0.9855 - val_loss: 0.0540\n",
      "Epoch 192/200\n",
      "\u001b[1m31/31\u001b[0m \u001b[32m━━━━━━━━━━━━━━━━━━━━\u001b[0m\u001b[37m\u001b[0m \u001b[1m4s\u001b[0m 128ms/step - categorical_accuracy: 0.9899 - loss: 0.0155 - val_categorical_accuracy: 0.9855 - val_loss: 0.0744\n",
      "Epoch 193/200\n",
      "\u001b[1m31/31\u001b[0m \u001b[32m━━━━━━━━━━━━━━━━━━━━\u001b[0m\u001b[37m\u001b[0m \u001b[1m4s\u001b[0m 130ms/step - categorical_accuracy: 0.9897 - loss: 0.0123 - val_categorical_accuracy: 0.9855 - val_loss: 0.0677\n",
      "Epoch 194/200\n",
      "\u001b[1m31/31\u001b[0m \u001b[32m━━━━━━━━━━━━━━━━━━━━\u001b[0m\u001b[37m\u001b[0m \u001b[1m4s\u001b[0m 130ms/step - categorical_accuracy: 0.9918 - loss: 0.0095 - val_categorical_accuracy: 0.9855 - val_loss: 0.0512\n",
      "Epoch 195/200\n",
      "\u001b[1m31/31\u001b[0m \u001b[32m━━━━━━━━━━━━━━━━━━━━\u001b[0m\u001b[37m\u001b[0m \u001b[1m4s\u001b[0m 129ms/step - categorical_accuracy: 0.9944 - loss: 0.0093 - val_categorical_accuracy: 0.9855 - val_loss: 0.0913\n",
      "Epoch 196/200\n",
      "\u001b[1m31/31\u001b[0m \u001b[32m━━━━━━━━━━━━━━━━━━━━\u001b[0m\u001b[37m\u001b[0m \u001b[1m4s\u001b[0m 128ms/step - categorical_accuracy: 0.9962 - loss: 0.0140 - val_categorical_accuracy: 0.9855 - val_loss: 0.0368\n",
      "Epoch 197/200\n",
      "\u001b[1m31/31\u001b[0m \u001b[32m━━━━━━━━━━━━━━━━━━━━\u001b[0m\u001b[37m\u001b[0m \u001b[1m4s\u001b[0m 128ms/step - categorical_accuracy: 0.9955 - loss: 0.0062 - val_categorical_accuracy: 0.9855 - val_loss: 0.1040\n",
      "Epoch 198/200\n",
      "\u001b[1m31/31\u001b[0m \u001b[32m━━━━━━━━━━━━━━━━━━━━\u001b[0m\u001b[37m\u001b[0m \u001b[1m4s\u001b[0m 128ms/step - categorical_accuracy: 0.9996 - loss: 0.0140 - val_categorical_accuracy: 1.0000 - val_loss: 0.0160\n",
      "Epoch 199/200\n",
      "\u001b[1m31/31\u001b[0m \u001b[32m━━━━━━━━━━━━━━━━━━━━\u001b[0m\u001b[37m\u001b[0m \u001b[1m4s\u001b[0m 128ms/step - categorical_accuracy: 0.9993 - loss: 0.0103 - val_categorical_accuracy: 0.9855 - val_loss: 0.0821\n",
      "Epoch 200/200\n",
      "\u001b[1m31/31\u001b[0m \u001b[32m━━━━━━━━━━━━━━━━━━━━\u001b[0m\u001b[37m\u001b[0m \u001b[1m4s\u001b[0m 128ms/step - categorical_accuracy: 0.9890 - loss: 0.0530 - val_categorical_accuracy: 0.8261 - val_loss: 0.4847\n",
      "\u001b[1m3/3\u001b[0m \u001b[32m━━━━━━━━━━━━━━━━━━━━\u001b[0m\u001b[37m\u001b[0m \u001b[1m0s\u001b[0m 30ms/step - categorical_accuracy: 0.8088 - loss: 0.5143\n",
      "Test Loss: 0.4708\n",
      "Test Accuracy: 0.8052\n"
     ]
    }
   ],
   "source": [
    "# 訓練模型並進行驗證集驗證\n",
    "batch_size = 20\n",
    "epochs = 200\n",
    "\n",
    "model.fit(points_train, labels_train,\n",
    "          batch_size=batch_size,\n",
    "          epochs=epochs,\n",
    "          validation_data=(points_valid, labels_valid),\n",
    "          callbacks=[tb_callback])\n",
    "\n"
   ]
  },
  {
   "cell_type": "code",
   "execution_count": 34,
   "id": "83f60023",
   "metadata": {},
   "outputs": [
    {
     "data": {
      "text/html": [
       "<pre style=\"white-space:pre;overflow-x:auto;line-height:normal;font-family:Menlo,'DejaVu Sans Mono',consolas,'Courier New',monospace\"><span style=\"font-weight: bold\">Model: \"sequential_4\"</span>\n",
       "</pre>\n"
      ],
      "text/plain": [
       "\u001b[1mModel: \"sequential_4\"\u001b[0m\n"
      ]
     },
     "metadata": {},
     "output_type": "display_data"
    },
    {
     "data": {
      "text/html": [
       "<pre style=\"white-space:pre;overflow-x:auto;line-height:normal;font-family:Menlo,'DejaVu Sans Mono',consolas,'Courier New',monospace\">┏━━━━━━━━━━━━━━━━━━━━━━━━━━━━━━━━━┳━━━━━━━━━━━━━━━━━━━━━━━━┳━━━━━━━━━━━━━━━┓\n",
       "┃<span style=\"font-weight: bold\"> Layer (type)                    </span>┃<span style=\"font-weight: bold\"> Output Shape           </span>┃<span style=\"font-weight: bold\">       Param # </span>┃\n",
       "┡━━━━━━━━━━━━━━━━━━━━━━━━━━━━━━━━━╇━━━━━━━━━━━━━━━━━━━━━━━━╇━━━━━━━━━━━━━━━┩\n",
       "│ lstm_52 (<span style=\"color: #0087ff; text-decoration-color: #0087ff\">LSTM</span>)                  │ (<span style=\"color: #00d7ff; text-decoration-color: #00d7ff\">None</span>, <span style=\"color: #00af00; text-decoration-color: #00af00\">70</span>, <span style=\"color: #00af00; text-decoration-color: #00af00\">256</span>)        │       <span style=\"color: #00af00; text-decoration-color: #00af00\">398,336</span> │\n",
       "├─────────────────────────────────┼────────────────────────┼───────────────┤\n",
       "│ lstm_53 (<span style=\"color: #0087ff; text-decoration-color: #0087ff\">LSTM</span>)                  │ (<span style=\"color: #00d7ff; text-decoration-color: #00d7ff\">None</span>, <span style=\"color: #00af00; text-decoration-color: #00af00\">70</span>, <span style=\"color: #00af00; text-decoration-color: #00af00\">16</span>)         │        <span style=\"color: #00af00; text-decoration-color: #00af00\">17,472</span> │\n",
       "├─────────────────────────────────┼────────────────────────┼───────────────┤\n",
       "│ lstm_54 (<span style=\"color: #0087ff; text-decoration-color: #0087ff\">LSTM</span>)                  │ (<span style=\"color: #00d7ff; text-decoration-color: #00d7ff\">None</span>, <span style=\"color: #00af00; text-decoration-color: #00af00\">70</span>, <span style=\"color: #00af00; text-decoration-color: #00af00\">16</span>)         │         <span style=\"color: #00af00; text-decoration-color: #00af00\">2,112</span> │\n",
       "├─────────────────────────────────┼────────────────────────┼───────────────┤\n",
       "│ lstm_55 (<span style=\"color: #0087ff; text-decoration-color: #0087ff\">LSTM</span>)                  │ (<span style=\"color: #00d7ff; text-decoration-color: #00d7ff\">None</span>, <span style=\"color: #00af00; text-decoration-color: #00af00\">70</span>, <span style=\"color: #00af00; text-decoration-color: #00af00\">16</span>)         │         <span style=\"color: #00af00; text-decoration-color: #00af00\">2,112</span> │\n",
       "├─────────────────────────────────┼────────────────────────┼───────────────┤\n",
       "│ lstm_56 (<span style=\"color: #0087ff; text-decoration-color: #0087ff\">LSTM</span>)                  │ (<span style=\"color: #00d7ff; text-decoration-color: #00d7ff\">None</span>, <span style=\"color: #00af00; text-decoration-color: #00af00\">70</span>, <span style=\"color: #00af00; text-decoration-color: #00af00\">16</span>)         │         <span style=\"color: #00af00; text-decoration-color: #00af00\">2,112</span> │\n",
       "├─────────────────────────────────┼────────────────────────┼───────────────┤\n",
       "│ lstm_57 (<span style=\"color: #0087ff; text-decoration-color: #0087ff\">LSTM</span>)                  │ (<span style=\"color: #00d7ff; text-decoration-color: #00d7ff\">None</span>, <span style=\"color: #00af00; text-decoration-color: #00af00\">70</span>, <span style=\"color: #00af00; text-decoration-color: #00af00\">16</span>)         │         <span style=\"color: #00af00; text-decoration-color: #00af00\">2,112</span> │\n",
       "├─────────────────────────────────┼────────────────────────┼───────────────┤\n",
       "│ lstm_58 (<span style=\"color: #0087ff; text-decoration-color: #0087ff\">LSTM</span>)                  │ (<span style=\"color: #00d7ff; text-decoration-color: #00d7ff\">None</span>, <span style=\"color: #00af00; text-decoration-color: #00af00\">70</span>, <span style=\"color: #00af00; text-decoration-color: #00af00\">16</span>)         │         <span style=\"color: #00af00; text-decoration-color: #00af00\">2,112</span> │\n",
       "├─────────────────────────────────┼────────────────────────┼───────────────┤\n",
       "│ lstm_59 (<span style=\"color: #0087ff; text-decoration-color: #0087ff\">LSTM</span>)                  │ (<span style=\"color: #00d7ff; text-decoration-color: #00d7ff\">None</span>, <span style=\"color: #00af00; text-decoration-color: #00af00\">70</span>, <span style=\"color: #00af00; text-decoration-color: #00af00\">16</span>)         │         <span style=\"color: #00af00; text-decoration-color: #00af00\">2,112</span> │\n",
       "├─────────────────────────────────┼────────────────────────┼───────────────┤\n",
       "│ lstm_60 (<span style=\"color: #0087ff; text-decoration-color: #0087ff\">LSTM</span>)                  │ (<span style=\"color: #00d7ff; text-decoration-color: #00d7ff\">None</span>, <span style=\"color: #00af00; text-decoration-color: #00af00\">70</span>, <span style=\"color: #00af00; text-decoration-color: #00af00\">16</span>)         │         <span style=\"color: #00af00; text-decoration-color: #00af00\">2,112</span> │\n",
       "├─────────────────────────────────┼────────────────────────┼───────────────┤\n",
       "│ lstm_61 (<span style=\"color: #0087ff; text-decoration-color: #0087ff\">LSTM</span>)                  │ (<span style=\"color: #00d7ff; text-decoration-color: #00d7ff\">None</span>, <span style=\"color: #00af00; text-decoration-color: #00af00\">70</span>, <span style=\"color: #00af00; text-decoration-color: #00af00\">16</span>)         │         <span style=\"color: #00af00; text-decoration-color: #00af00\">2,112</span> │\n",
       "├─────────────────────────────────┼────────────────────────┼───────────────┤\n",
       "│ lstm_62 (<span style=\"color: #0087ff; text-decoration-color: #0087ff\">LSTM</span>)                  │ (<span style=\"color: #00d7ff; text-decoration-color: #00d7ff\">None</span>, <span style=\"color: #00af00; text-decoration-color: #00af00\">70</span>, <span style=\"color: #00af00; text-decoration-color: #00af00\">16</span>)         │         <span style=\"color: #00af00; text-decoration-color: #00af00\">2,112</span> │\n",
       "├─────────────────────────────────┼────────────────────────┼───────────────┤\n",
       "│ lstm_63 (<span style=\"color: #0087ff; text-decoration-color: #0087ff\">LSTM</span>)                  │ (<span style=\"color: #00d7ff; text-decoration-color: #00d7ff\">None</span>, <span style=\"color: #00af00; text-decoration-color: #00af00\">70</span>, <span style=\"color: #00af00; text-decoration-color: #00af00\">16</span>)         │         <span style=\"color: #00af00; text-decoration-color: #00af00\">2,112</span> │\n",
       "├─────────────────────────────────┼────────────────────────┼───────────────┤\n",
       "│ lstm_64 (<span style=\"color: #0087ff; text-decoration-color: #0087ff\">LSTM</span>)                  │ (<span style=\"color: #00d7ff; text-decoration-color: #00d7ff\">None</span>, <span style=\"color: #00af00; text-decoration-color: #00af00\">32</span>)             │         <span style=\"color: #00af00; text-decoration-color: #00af00\">6,272</span> │\n",
       "├─────────────────────────────────┼────────────────────────┼───────────────┤\n",
       "│ dense_12 (<span style=\"color: #0087ff; text-decoration-color: #0087ff\">Dense</span>)                │ (<span style=\"color: #00d7ff; text-decoration-color: #00d7ff\">None</span>, <span style=\"color: #00af00; text-decoration-color: #00af00\">64</span>)             │         <span style=\"color: #00af00; text-decoration-color: #00af00\">2,112</span> │\n",
       "├─────────────────────────────────┼────────────────────────┼───────────────┤\n",
       "│ dense_13 (<span style=\"color: #0087ff; text-decoration-color: #0087ff\">Dense</span>)                │ (<span style=\"color: #00d7ff; text-decoration-color: #00d7ff\">None</span>, <span style=\"color: #00af00; text-decoration-color: #00af00\">32</span>)             │         <span style=\"color: #00af00; text-decoration-color: #00af00\">2,080</span> │\n",
       "├─────────────────────────────────┼────────────────────────┼───────────────┤\n",
       "│ dense_14 (<span style=\"color: #0087ff; text-decoration-color: #0087ff\">Dense</span>)                │ (<span style=\"color: #00d7ff; text-decoration-color: #00d7ff\">None</span>, <span style=\"color: #00af00; text-decoration-color: #00af00\">3</span>)              │            <span style=\"color: #00af00; text-decoration-color: #00af00\">99</span> │\n",
       "└─────────────────────────────────┴────────────────────────┴───────────────┘\n",
       "</pre>\n"
      ],
      "text/plain": [
       "┏━━━━━━━━━━━━━━━━━━━━━━━━━━━━━━━━━┳━━━━━━━━━━━━━━━━━━━━━━━━┳━━━━━━━━━━━━━━━┓\n",
       "┃\u001b[1m \u001b[0m\u001b[1mLayer (type)                   \u001b[0m\u001b[1m \u001b[0m┃\u001b[1m \u001b[0m\u001b[1mOutput Shape          \u001b[0m\u001b[1m \u001b[0m┃\u001b[1m \u001b[0m\u001b[1m      Param #\u001b[0m\u001b[1m \u001b[0m┃\n",
       "┡━━━━━━━━━━━━━━━━━━━━━━━━━━━━━━━━━╇━━━━━━━━━━━━━━━━━━━━━━━━╇━━━━━━━━━━━━━━━┩\n",
       "│ lstm_52 (\u001b[38;5;33mLSTM\u001b[0m)                  │ (\u001b[38;5;45mNone\u001b[0m, \u001b[38;5;34m70\u001b[0m, \u001b[38;5;34m256\u001b[0m)        │       \u001b[38;5;34m398,336\u001b[0m │\n",
       "├─────────────────────────────────┼────────────────────────┼───────────────┤\n",
       "│ lstm_53 (\u001b[38;5;33mLSTM\u001b[0m)                  │ (\u001b[38;5;45mNone\u001b[0m, \u001b[38;5;34m70\u001b[0m, \u001b[38;5;34m16\u001b[0m)         │        \u001b[38;5;34m17,472\u001b[0m │\n",
       "├─────────────────────────────────┼────────────────────────┼───────────────┤\n",
       "│ lstm_54 (\u001b[38;5;33mLSTM\u001b[0m)                  │ (\u001b[38;5;45mNone\u001b[0m, \u001b[38;5;34m70\u001b[0m, \u001b[38;5;34m16\u001b[0m)         │         \u001b[38;5;34m2,112\u001b[0m │\n",
       "├─────────────────────────────────┼────────────────────────┼───────────────┤\n",
       "│ lstm_55 (\u001b[38;5;33mLSTM\u001b[0m)                  │ (\u001b[38;5;45mNone\u001b[0m, \u001b[38;5;34m70\u001b[0m, \u001b[38;5;34m16\u001b[0m)         │         \u001b[38;5;34m2,112\u001b[0m │\n",
       "├─────────────────────────────────┼────────────────────────┼───────────────┤\n",
       "│ lstm_56 (\u001b[38;5;33mLSTM\u001b[0m)                  │ (\u001b[38;5;45mNone\u001b[0m, \u001b[38;5;34m70\u001b[0m, \u001b[38;5;34m16\u001b[0m)         │         \u001b[38;5;34m2,112\u001b[0m │\n",
       "├─────────────────────────────────┼────────────────────────┼───────────────┤\n",
       "│ lstm_57 (\u001b[38;5;33mLSTM\u001b[0m)                  │ (\u001b[38;5;45mNone\u001b[0m, \u001b[38;5;34m70\u001b[0m, \u001b[38;5;34m16\u001b[0m)         │         \u001b[38;5;34m2,112\u001b[0m │\n",
       "├─────────────────────────────────┼────────────────────────┼───────────────┤\n",
       "│ lstm_58 (\u001b[38;5;33mLSTM\u001b[0m)                  │ (\u001b[38;5;45mNone\u001b[0m, \u001b[38;5;34m70\u001b[0m, \u001b[38;5;34m16\u001b[0m)         │         \u001b[38;5;34m2,112\u001b[0m │\n",
       "├─────────────────────────────────┼────────────────────────┼───────────────┤\n",
       "│ lstm_59 (\u001b[38;5;33mLSTM\u001b[0m)                  │ (\u001b[38;5;45mNone\u001b[0m, \u001b[38;5;34m70\u001b[0m, \u001b[38;5;34m16\u001b[0m)         │         \u001b[38;5;34m2,112\u001b[0m │\n",
       "├─────────────────────────────────┼────────────────────────┼───────────────┤\n",
       "│ lstm_60 (\u001b[38;5;33mLSTM\u001b[0m)                  │ (\u001b[38;5;45mNone\u001b[0m, \u001b[38;5;34m70\u001b[0m, \u001b[38;5;34m16\u001b[0m)         │         \u001b[38;5;34m2,112\u001b[0m │\n",
       "├─────────────────────────────────┼────────────────────────┼───────────────┤\n",
       "│ lstm_61 (\u001b[38;5;33mLSTM\u001b[0m)                  │ (\u001b[38;5;45mNone\u001b[0m, \u001b[38;5;34m70\u001b[0m, \u001b[38;5;34m16\u001b[0m)         │         \u001b[38;5;34m2,112\u001b[0m │\n",
       "├─────────────────────────────────┼────────────────────────┼───────────────┤\n",
       "│ lstm_62 (\u001b[38;5;33mLSTM\u001b[0m)                  │ (\u001b[38;5;45mNone\u001b[0m, \u001b[38;5;34m70\u001b[0m, \u001b[38;5;34m16\u001b[0m)         │         \u001b[38;5;34m2,112\u001b[0m │\n",
       "├─────────────────────────────────┼────────────────────────┼───────────────┤\n",
       "│ lstm_63 (\u001b[38;5;33mLSTM\u001b[0m)                  │ (\u001b[38;5;45mNone\u001b[0m, \u001b[38;5;34m70\u001b[0m, \u001b[38;5;34m16\u001b[0m)         │         \u001b[38;5;34m2,112\u001b[0m │\n",
       "├─────────────────────────────────┼────────────────────────┼───────────────┤\n",
       "│ lstm_64 (\u001b[38;5;33mLSTM\u001b[0m)                  │ (\u001b[38;5;45mNone\u001b[0m, \u001b[38;5;34m32\u001b[0m)             │         \u001b[38;5;34m6,272\u001b[0m │\n",
       "├─────────────────────────────────┼────────────────────────┼───────────────┤\n",
       "│ dense_12 (\u001b[38;5;33mDense\u001b[0m)                │ (\u001b[38;5;45mNone\u001b[0m, \u001b[38;5;34m64\u001b[0m)             │         \u001b[38;5;34m2,112\u001b[0m │\n",
       "├─────────────────────────────────┼────────────────────────┼───────────────┤\n",
       "│ dense_13 (\u001b[38;5;33mDense\u001b[0m)                │ (\u001b[38;5;45mNone\u001b[0m, \u001b[38;5;34m32\u001b[0m)             │         \u001b[38;5;34m2,080\u001b[0m │\n",
       "├─────────────────────────────────┼────────────────────────┼───────────────┤\n",
       "│ dense_14 (\u001b[38;5;33mDense\u001b[0m)                │ (\u001b[38;5;45mNone\u001b[0m, \u001b[38;5;34m3\u001b[0m)              │            \u001b[38;5;34m99\u001b[0m │\n",
       "└─────────────────────────────────┴────────────────────────┴───────────────┘\n"
      ]
     },
     "metadata": {},
     "output_type": "display_data"
    },
    {
     "data": {
      "text/html": [
       "<pre style=\"white-space:pre;overflow-x:auto;line-height:normal;font-family:Menlo,'DejaVu Sans Mono',consolas,'Courier New',monospace\"><span style=\"font-weight: bold\"> Total params: </span><span style=\"color: #00af00; text-decoration-color: #00af00\">1,342,475</span> (5.12 MB)\n",
       "</pre>\n"
      ],
      "text/plain": [
       "\u001b[1m Total params: \u001b[0m\u001b[38;5;34m1,342,475\u001b[0m (5.12 MB)\n"
      ]
     },
     "metadata": {},
     "output_type": "display_data"
    },
    {
     "data": {
      "text/html": [
       "<pre style=\"white-space:pre;overflow-x:auto;line-height:normal;font-family:Menlo,'DejaVu Sans Mono',consolas,'Courier New',monospace\"><span style=\"font-weight: bold\"> Trainable params: </span><span style=\"color: #00af00; text-decoration-color: #00af00\">447,491</span> (1.71 MB)\n",
       "</pre>\n"
      ],
      "text/plain": [
       "\u001b[1m Trainable params: \u001b[0m\u001b[38;5;34m447,491\u001b[0m (1.71 MB)\n"
      ]
     },
     "metadata": {},
     "output_type": "display_data"
    },
    {
     "data": {
      "text/html": [
       "<pre style=\"white-space:pre;overflow-x:auto;line-height:normal;font-family:Menlo,'DejaVu Sans Mono',consolas,'Courier New',monospace\"><span style=\"font-weight: bold\"> Non-trainable params: </span><span style=\"color: #00af00; text-decoration-color: #00af00\">0</span> (0.00 B)\n",
       "</pre>\n"
      ],
      "text/plain": [
       "\u001b[1m Non-trainable params: \u001b[0m\u001b[38;5;34m0\u001b[0m (0.00 B)\n"
      ]
     },
     "metadata": {},
     "output_type": "display_data"
    },
    {
     "data": {
      "text/html": [
       "<pre style=\"white-space:pre;overflow-x:auto;line-height:normal;font-family:Menlo,'DejaVu Sans Mono',consolas,'Courier New',monospace\"><span style=\"font-weight: bold\"> Optimizer params: </span><span style=\"color: #00af00; text-decoration-color: #00af00\">894,984</span> (3.41 MB)\n",
       "</pre>\n"
      ],
      "text/plain": [
       "\u001b[1m Optimizer params: \u001b[0m\u001b[38;5;34m894,984\u001b[0m (3.41 MB)\n"
      ]
     },
     "metadata": {},
     "output_type": "display_data"
    }
   ],
   "source": [
    "model.summary()\n"
   ]
  },
  {
   "cell_type": "code",
   "execution_count": 35,
   "id": "8be7caf5",
   "metadata": {},
   "outputs": [],
   "source": [
    "model.save('70frame_200epoch.keras')"
   ]
  },
  {
   "cell_type": "code",
   "execution_count": 404,
   "id": "001c5622",
   "metadata": {},
   "outputs": [],
   "source": [
    "# model.load_weights('best_80.keras')"
   ]
  },
  {
   "cell_type": "markdown",
   "id": "76e297ab",
   "metadata": {},
   "source": [
    "# 預測 & 評估\n"
   ]
  },
  {
   "cell_type": "code",
   "execution_count": 39,
   "id": "cd667324",
   "metadata": {},
   "outputs": [],
   "source": [
    "import matplotlib.pyplot as plt\n",
    "import seaborn as sns\n",
    "from sklearn.metrics import multilabel_confusion_matrix, accuracy_score, classification_report, roc_curve, auc"
   ]
  },
  {
   "cell_type": "code",
   "execution_count": 41,
   "id": "c946c1de",
   "metadata": {},
   "outputs": [
    {
     "name": "stdout",
     "output_type": "stream",
     "text": [
      "Test Loss: 0.4708\n",
      "Test Accuracy: 0.8052\n",
      "\u001b[1m3/3\u001b[0m \u001b[32m━━━━━━━━━━━━━━━━━━━━\u001b[0m\u001b[37m\u001b[0m \u001b[1m0s\u001b[0m 27ms/step\n"
     ]
    },
    {
     "data": {
      "image/png": "[encoded data removed]",
      "text/plain": [
       "<Figure size 2000x400 with 6 Axes>"
      ]
     },
     "metadata": {},
     "output_type": "display_data"
    }
   ],
   "source": [
    "import matplotlib.pyplot as plt\n",
    "import seaborn as sns\n",
    "from sklearn.metrics import confusion_matrix, classification_report, roc_curve, auc\n",
    "\n",
    "# 在測試集上評估模型\n",
    "loss, accuracy = model.evaluate(points_test, labels_test, verbose=0)\n",
    "print(f'Test Loss: {loss:.4f}')\n",
    "print(f'Test Accuracy: {accuracy:.4f}')\n",
    "\n",
    "# 獲取測試集的預測結果\n",
    "y_pred = model.predict(points_test)\n",
    "y_pred_labels = np.argmax(y_pred, axis=1)\n",
    "y_true_labels = np.argmax(labels_test, axis=1)\n",
    "\n",
    "# 創建一個包含5個子圖的圖形\n",
    "fig, axes = plt.subplots(1, 5, figsize=(20, 4))\n",
    "\n",
    "# 計算混淆矩陣並繪製圖形\n",
    "cm = confusion_matrix(y_true_labels, y_pred_labels)\n",
    "sns.heatmap(cm, annot=True, fmt='d', cmap='Blues', ax=axes[0])\n",
    "axes[0].set_xlabel('Predicted Labels')\n",
    "axes[0].set_ylabel('True Labels')\n",
    "axes[0].set_title('Confusion Matrix')\n",
    "\n",
    "# 計算精確率、召回率、F1分數並繪製圖形\n",
    "report = classification_report(y_true_labels, y_pred_labels, output_dict=True)\n",
    "sns.barplot(x=list(report.keys())[:-3], y=[report[k]['precision'] for k in list(report.keys())[:-3]], ax=axes[1])\n",
    "axes[1].set_xlabel('Classes')\n",
    "axes[1].set_ylabel('Precision')\n",
    "axes[1].set_title('Precision')\n",
    "\n",
    "sns.barplot(x=list(report.keys())[:-3], y=[report[k]['recall'] for k in list(report.keys())[:-3]], ax=axes[2])\n",
    "axes[2].set_xlabel('Classes')\n",
    "axes[2].set_ylabel('Recall')\n",
    "axes[2].set_title('Recall')\n",
    "\n",
    "sns.barplot(x=list(report.keys())[:-3], y=[report[k]['f1-score'] for k in list(report.keys())[:-3]], ax=axes[3])\n",
    "axes[3].set_xlabel('Classes')\n",
    "axes[3].set_ylabel('F1 Score')\n",
    "axes[3].set_title('F1 Score')\n",
    "\n",
    "# 計算ROC曲線並繪製圖形\n",
    "fpr = {}\n",
    "tpr = {}\n",
    "roc_auc = {}\n",
    "for i in range(len(np.unique(y_true_labels))):\n",
    "    fpr[i], tpr[i], _ = roc_curve(labels_test[:, i], y_pred[:, i])\n",
    "    roc_auc[i] = auc(fpr[i], tpr[i])\n",
    "\n",
    "for i in range(len(np.unique(y_true_labels))):\n",
    "    axes[4].plot(fpr[i], tpr[i], label=f'Class {i} (AUC = {roc_auc[i]:.2f})')\n",
    "axes[4].plot([0, 1], [0, 1], 'k--')\n",
    "axes[4].set_xlabel('False Positive Rate')\n",
    "axes[4].set_ylabel('True Positive Rate')\n",
    "axes[4].set_title('ROC Curve')\n",
    "axes[4].legend(loc='lower right')\n",
    "\n",
    "# 調整子圖之間的間距\n",
    "plt.tight_layout()\n",
    "\n",
    "# 顯示圖形\n",
    "plt.show()"
   ]
  },
  {
   "cell_type": "markdown",
   "id": "60ab0bc3",
   "metadata": {},
   "source": [
    "# 建立隨機森林模型（使用關鍵點的角度、不使用關鍵點本身）"
   ]
  },
  {
   "cell_type": "code",
   "execution_count": 45,
   "id": "8455d4d9",
   "metadata": {},
   "outputs": [],
   "source": [
    "from sklearn.ensemble import RandomForestClassifier"
   ]
  },
  {
   "cell_type": "code",
   "execution_count": 67,
   "id": "a65fbb7b",
   "metadata": {},
   "outputs": [
    {
     "name": "stdout",
     "output_type": "stream",
     "text": [
      "(761, 420) (761,)\n"
     ]
    }
   ],
   "source": [
    "angles_data = np.array(data_dict[70][\"angles\"])\n",
    "labels_data = np.array(data_dict[70][\"labels\"]).astype(int)\n",
    "angles_data_2d = angles_data.reshape(angles_data.shape[0], -1)\n",
    "\n",
    "print(angles_data_2d.shape, labels_data.shape)\n",
    "\n",
    "angles_train, angles_test,  labels_train, labels_test  =  train_test_split(angles_data_2d, labels_data,  test_size=0.10)\n",
    "angles_train, angles_valid, labels_train, labels_valid =  train_test_split(angles_train,   labels_train, test_size=0.10)"
   ]
  },
  {
   "cell_type": "code",
   "execution_count": 124,
   "id": "0e05d950",
   "metadata": {},
   "outputs": [],
   "source": [
    "# 創建隨機森林分類器\n",
    "rf_model = RandomForestClassifier(n_estimators=100)\n",
    "\n",
    "# 訓練模型\n",
    "rf_model.fit(angles_train, labels_train)\n",
    "\n",
    "# 在驗證集上進行預測\n",
    "y_pred_valid = rf_model.predict(angles_valid)\n",
    "\n",
    "# 在測試集上進行預測\n",
    "y_pred_test = rf_model.predict(angles_test)"
   ]
  },
  {
   "cell_type": "code",
   "execution_count": 80,
   "id": "938166bf",
   "metadata": {},
   "outputs": [
    {
     "name": "stdout",
     "output_type": "stream",
     "text": [
      "Test Accuracy: 0.8831\n"
     ]
    },
    {
     "data": {
      "image/png": "[encoded data removed]",
      "text/plain": [
       "<Figure size 2000x400 with 6 Axes>"
      ]
     },
     "metadata": {},
     "output_type": "display_data"
    }
   ],
   "source": [
    "# 創建一個包含5個子圖的圖形\n",
    "fig, axes = plt.subplots(1, 5, figsize=(20, 4))\n",
    "\n",
    "accuracy_test = accuracy_score(labels_test, y_pred_test)\n",
    "print(f'Test Accuracy: {accuracy_test:.4f}')\n",
    "\n",
    "# 計算混淆矩陣並繪製圖形\n",
    "cm = confusion_matrix(labels_test, y_pred_test)\n",
    "sns.heatmap(cm, annot=True, fmt='d', cmap='Blues', ax=axes[0])\n",
    "axes[0].set_xlabel('Predicted Labels')\n",
    "axes[0].set_ylabel('True Labels')\n",
    "axes[0].set_title('Confusion Matrix')\n",
    "\n",
    "# 計算精確率、召回率、F1分數並繪製圖形\n",
    "report = classification_report(labels_test, y_pred_test, output_dict=True)\n",
    "sns.barplot(x=list(report.keys())[:-3], y=[report[k]['precision'] for k in list(report.keys())[:-3]], ax=axes[1])\n",
    "axes[1].set_xlabel('Classes')\n",
    "axes[1].set_ylabel('Precision')\n",
    "axes[1].set_title('Precision')\n",
    "\n",
    "sns.barplot(x=list(report.keys())[:-3], y=[report[k]['recall'] for k in list(report.keys())[:-3]], ax=axes[2])\n",
    "axes[2].set_xlabel('Classes')\n",
    "axes[2].set_ylabel('Recall')\n",
    "axes[2].set_title('Recall')\n",
    "\n",
    "sns.barplot(x=list(report.keys())[:-3], y=[report[k]['f1-score'] for k in list(report.keys())[:-3]], ax=axes[3])\n",
    "axes[3].set_xlabel('Classes')\n",
    "axes[3].set_ylabel('F1 Score')\n",
    "axes[3].set_title('F1 Score')\n",
    "\n",
    "# 計算ROC曲線並繪製圖形\n",
    "fpr = {}\n",
    "tpr = {}\n",
    "roc_auc = {}\n",
    "for i in range(len(np.unique(labels_test))):\n",
    "    fpr[i], tpr[i], _ = roc_curve(labels_test, y_pred_test, pos_label=i)\n",
    "    roc_auc[i] = auc(fpr[i], tpr[i])\n",
    "\n",
    "for i in range(len(np.unique(labels_test))):\n",
    "    axes[4].plot(fpr[i], tpr[i], label=f'Class {i} (AUC = {roc_auc[i]:.2f})')\n",
    "axes[4].plot([0, 1], [0, 1], 'k--')\n",
    "axes[4].set_xlabel('False Positive Rate')\n",
    "axes[4].set_ylabel('True Positive Rate')\n",
    "axes[4].set_title('ROC Curve')\n",
    "axes[4].legend(loc='lower right')\n",
    "\n",
    "# 調整子圖之間的間距\n",
    "plt.tight_layout()\n",
    "\n",
    "# 顯示圖形\n",
    "plt.show()"
   ]
  },
  {
   "cell_type": "markdown",
   "id": "53df103a",
   "metadata": {},
   "source": [
    "# 非監督式學習 使用 K-Means"
   ]
  },
  {
   "cell_type": "code",
   "execution_count": 92,
   "id": "e544e67d",
   "metadata": {},
   "outputs": [],
   "source": [
    "from sklearn.cluster import KMeans\n",
    "from sklearn.metrics import silhouette_score"
   ]
  },
  {
   "cell_type": "code",
   "execution_count": 136,
   "id": "6eedc95e",
   "metadata": {},
   "outputs": [
    {
     "name": "stdout",
     "output_type": "stream",
     "text": [
      "Silhouette Score: 0.1122\n"
     ]
    },
    {
     "data": {
      "image/png": "[encoded data removed]",
      "text/plain": [
       "<Figure size 800x600 with 1 Axes>"
      ]
     },
     "metadata": {},
     "output_type": "display_data"
    },
    {
     "name": "stdout",
     "output_type": "stream",
     "text": [
      "Clustering Accuracy: 0.4954\n"
     ]
    }
   ],
   "source": [
    "# 創建 KMeans 聚類模型\n",
    "n_clusters = len(np.unique(labels_data))  # 設置聚類數量為標籤的唯一值數量\n",
    "kmeans = KMeans(n_clusters=n_clusters)\n",
    "\n",
    "# 訓練模型\n",
    "kmeans.fit(angles_data_2d)\n",
    "\n",
    "# 獲取聚類標籤\n",
    "labels_pred = kmeans.labels_\n",
    "\n",
    "# 評估聚類質量\n",
    "silhouette_avg = silhouette_score(angles_data_2d, labels_pred)\n",
    "print(f\"Silhouette Score: {silhouette_avg:.4f}\")\n",
    "\n",
    "# 可視化聚類結果\n",
    "fig, ax = plt.subplots(figsize=(8, 6))\n",
    "\n",
    "# 繪製散點圖，根據聚類標籤設置顏色\n",
    "unique_labels = np.unique(labels_pred)\n",
    "colors = plt.cm.Spectral(np.linspace(0, 1, len(unique_labels)))\n",
    "for label, color in zip(unique_labels, colors):\n",
    "    mask = labels_pred == label\n",
    "    ax.scatter(angles_data_2d[mask, 0], angles_data_2d[mask, 1], c=[color], label=f\"Cluster {label}\", alpha=0.8)\n",
    "\n",
    "# 繪製聚類中心\n",
    "centers = kmeans.cluster_centers_\n",
    "ax.scatter(centers[:, 0], centers[:, 1], c='black', s=200, alpha=0.5, marker='x', label='Cluster Centers')\n",
    "\n",
    "ax.set_xlabel('Feature 1')\n",
    "ax.set_ylabel('Feature 2')\n",
    "ax.set_title('K-means Clustering')\n",
    "ax.legend()\n",
    "\n",
    "plt.tight_layout()\n",
    "plt.show()\n",
    "\n",
    "# 計算聚類標籤與真實標籤的匹配情況\n",
    "from sklearn.metrics import accuracy_score\n",
    "from scipy.optimize import linear_sum_assignment\n",
    "\n",
    "# 計算聚類標籤與真實標籤的混淆矩陣\n",
    "cm = np.zeros((n_clusters, n_clusters))\n",
    "for i in range(n_clusters):\n",
    "    for j in range(n_clusters):\n",
    "        cm[i, j] = np.sum((labels_pred == i) & (labels_data == j))\n",
    "\n",
    "# 使用匈牙利算法找到最佳的聚類標籤與真實標籤的匹配\n",
    "row_ind, col_ind = linear_sum_assignment(-cm)\n",
    "labels_pred_matched = np.zeros_like(labels_pred)\n",
    "for i in range(n_clusters):\n",
    "    labels_pred_matched[labels_pred == row_ind[i]] = col_ind[i]\n",
    "\n",
    "# 計算匹配後的準確率\n",
    "accuracy = accuracy_score(labels_data, labels_pred_matched)\n",
    "print(f\"Clustering Accuracy: {accuracy:.4f}\")"
   ]
  },
  {
   "cell_type": "code",
   "execution_count": 126,
   "id": "3e8f2f6e",
   "metadata": {},
   "outputs": [],
   "source": [
    "from sklearn.preprocessing import StandardScaler\n",
    "from sklearn.decomposition import PCA"
   ]
  },
  {
   "cell_type": "code",
   "execution_count": 138,
   "id": "a78d98d8",
   "metadata": {},
   "outputs": [
    {
     "name": "stdout",
     "output_type": "stream",
     "text": [
      "Silhouette Score: 0.1457\n"
     ]
    },
    {
     "data": {
      "image/png": "[encoded data removed]",
      "text/plain": [
       "<Figure size 800x600 with 1 Axes>"
      ]
     },
     "metadata": {},
     "output_type": "display_data"
    },
    {
     "name": "stdout",
     "output_type": "stream",
     "text": [
      "Clustering Accuracy: 0.5230\n"
     ]
    }
   ],
   "source": [
    "# 對特徵進行標準化\n",
    "scaler = StandardScaler()\n",
    "angles_data_scaled = scaler.fit_transform(angles_data_2d)\n",
    "\n",
    "# 使用 PCA 進行降維\n",
    "pca = PCA(n_components=0.95)  # 保留 95% 的方差\n",
    "angles_data_pca = pca.fit_transform(angles_data_scaled)\n",
    "\n",
    "# 創建 KMeans 聚類模型\n",
    "n_clusters = len(np.unique(labels_data))  # 設置聚類數量為標籤的唯一值數量\n",
    "kmeans = KMeans(n_clusters=n_clusters)\n",
    "\n",
    "# 訓練模型\n",
    "kmeans.fit(angles_data_pca)\n",
    "\n",
    "# 獲取聚類標籤\n",
    "labels_pred = kmeans.labels_\n",
    "\n",
    "# 評估聚類質量\n",
    "silhouette_avg = silhouette_score(angles_data_pca, labels_pred)\n",
    "print(f\"Silhouette Score: {silhouette_avg:.4f}\")\n",
    "\n",
    "# 可視化聚類結果\n",
    "fig, ax = plt.subplots(figsize=(8, 6))\n",
    "\n",
    "# 繪製散點圖，根據聚類標籤設置顏色\n",
    "unique_labels = np.unique(labels_pred)\n",
    "colors = plt.cm.Spectral(np.linspace(0, 1, len(unique_labels)))\n",
    "for label, color in zip(unique_labels, colors):\n",
    "    mask = labels_pred == label\n",
    "    ax.scatter(angles_data_pca[mask, 0], angles_data_pca[mask, 1], c=[color], label=f\"Cluster {label}\", alpha=0.8)\n",
    "\n",
    "# 繪製聚類中心\n",
    "centers = kmeans.cluster_centers_\n",
    "ax.scatter(centers[:, 0], centers[:, 1], c='black', s=200, alpha=0.5, marker='x', label='Cluster Centers')\n",
    "\n",
    "ax.set_xlabel('PCA Component 1')\n",
    "ax.set_ylabel('PCA Component 2')\n",
    "ax.set_title('K-means Clustering (with PCA)')\n",
    "ax.legend()\n",
    "\n",
    "plt.tight_layout()\n",
    "plt.show()\n",
    "\n",
    "# 計算聚類標籤與真實標籤的匹配情況\n",
    "from sklearn.metrics import accuracy_score\n",
    "from scipy.optimize import linear_sum_assignment\n",
    "\n",
    "# 計算聚類標籤與真實標籤的混淆矩陣\n",
    "cm = np.zeros((n_clusters, n_clusters))\n",
    "for i in range(n_clusters):\n",
    "    for j in range(n_clusters):\n",
    "        cm[i, j] = np.sum((labels_pred == i) & (labels_data == j))\n",
    "\n",
    "# 使用匈牙利算法找到最佳的聚類標籤與真實標籤的匹配\n",
    "row_ind, col_ind = linear_sum_assignment(-cm)\n",
    "labels_pred_matched = np.zeros_like(labels_pred)\n",
    "for i in range(n_clusters):\n",
    "    labels_pred_matched[labels_pred == row_ind[i]] = col_ind[i]\n",
    "\n",
    "# 計算匹配後的準確率\n",
    "accuracy = accuracy_score(labels_data, labels_pred_matched)\n",
    "print(f\"Clustering Accuracy: {accuracy:.4f}\")"
   ]
  },
  {
   "cell_type": "code",
   "execution_count": 6,
   "id": "b24de492",
   "metadata": {},
   "outputs": [
    {
     "name": "stdout",
     "output_type": "stream",
     "text": [
      "The tensorboard extension is already loaded. To reload it, use:\n",
      "  %reload_ext tensorboard\n"
     ]
    },
    {
     "data": {
      "text/plain": [
       "Reusing TensorBoard on port 12345 (pid 33548), started 0:01:23 ago. (Use '!kill 33548' to kill it.)"
      ]
     },
     "metadata": {},
     "output_type": "display_data"
    },
    {
     "data": {
      "text/html": [
       "\n",
       "      <iframe id=\"tensorboard-frame-d7c41ac3fa93be8d\" width=\"100%\" height=\"800\" frameborder=\"0\">\n",
       "      </iframe>\n",
       "      <script>\n",
       "        (function() {\n",
       "          const frame = document.getElementById(\"tensorboard-frame-d7c41ac3fa93be8d\");\n",
       "          const url = new URL(\"http://localhost\");\n",
       "          const port = 12345;\n",
       "          if (port) {\n",
       "            url.port = port;\n",
       "          }\n",
       "          frame.src = url;\n",
       "        })();\n",
       "      </script>\n",
       "    "
      ],
      "text/plain": [
       "<IPython.core.display.HTML object>"
      ]
     },
     "metadata": {},
     "output_type": "display_data"
    }
   ],
   "source": [
    "%load_ext tensorboard\n",
    "%tensorboard --logdir logs --port=12345\n"
   ]
  },
  {
   "cell_type": "code",
   "execution_count": null,
   "id": "6c32e043",
   "metadata": {},
   "outputs": [],
   "source": []
  }
 ],
 "metadata": {
  "kernelspec": {
   "display_name": "pytorch3.9",
   "language": "python",
   "name": "python3"
  },
  "language_info": {
   "codemirror_mode": {
    "name": "ipython",
    "version": 3
   },
   "file_extension": ".py",
   "mimetype": "text/x-python",
   "name": "python",
   "nbconvert_exporter": "python",
   "pygments_lexer": "ipython3",
   "version": "3.9.18"
  }
 },
 "nbformat": 4,
 "nbformat_minor": 5
}
